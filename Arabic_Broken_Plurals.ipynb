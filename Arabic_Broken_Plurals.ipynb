{
  "cells": [
    {
      "cell_type": "markdown",
      "metadata": {
        "id": "view-in-github",
        "colab_type": "text"
      },
      "source": [
        "<a href=\"https://colab.research.google.com/github/amirkasaei/Arabic_Broken_Plurals/blob/main/Arabic_Broken_Plurals.ipynb\" target=\"_parent\"><img src=\"https://colab.research.google.com/assets/colab-badge.svg\" alt=\"Open In Colab\"/></a>"
      ]
    },
    {
      "cell_type": "markdown",
      "metadata": {
        "id": "rgbi7F8b_x30"
      },
      "source": [
        "# **Libraries & Constants**"
      ]
    },
    {
      "cell_type": "code",
      "execution_count": null,
      "metadata": {
        "id": "lvARVj-B2jPW",
        "colab": {
          "base_uri": "https://localhost:8080/"
        },
        "outputId": "909c40ae-22d8-4968-e805-c807ba8d9075"
      },
      "outputs": [
        {
          "output_type": "stream",
          "name": "stdout",
          "text": [
            "Looking in indexes: https://pypi.org/simple, https://us-python.pkg.dev/colab-wheels/public/simple/\n",
            "Collecting transformers\n",
            "  Downloading transformers-4.26.1-py3-none-any.whl (6.3 MB)\n",
            "\u001b[2K     \u001b[90m━━━━━━━━━━━━━━━━━━━━━━━━━━━━━━━━━━━━━━━━\u001b[0m \u001b[32m6.3/6.3 MB\u001b[0m \u001b[31m44.5 MB/s\u001b[0m eta \u001b[36m0:00:00\u001b[0m\n",
            "\u001b[?25hCollecting huggingface-hub<1.0,>=0.11.0\n",
            "  Downloading huggingface_hub-0.12.1-py3-none-any.whl (190 kB)\n",
            "\u001b[2K     \u001b[90m━━━━━━━━━━━━━━━━━━━━━━━━━━━━━━━━━━━━━━\u001b[0m \u001b[32m190.3/190.3 KB\u001b[0m \u001b[31m15.8 MB/s\u001b[0m eta \u001b[36m0:00:00\u001b[0m\n",
            "\u001b[?25hRequirement already satisfied: requests in /usr/local/lib/python3.8/dist-packages (from transformers) (2.25.1)\n",
            "Requirement already satisfied: filelock in /usr/local/lib/python3.8/dist-packages (from transformers) (3.9.0)\n",
            "Requirement already satisfied: packaging>=20.0 in /usr/local/lib/python3.8/dist-packages (from transformers) (23.0)\n",
            "Requirement already satisfied: tqdm>=4.27 in /usr/local/lib/python3.8/dist-packages (from transformers) (4.64.1)\n",
            "Collecting tokenizers!=0.11.3,<0.14,>=0.11.1\n",
            "  Downloading tokenizers-0.13.2-cp38-cp38-manylinux_2_17_x86_64.manylinux2014_x86_64.whl (7.6 MB)\n",
            "\u001b[2K     \u001b[90m━━━━━━━━━━━━━━━━━━━━━━━━━━━━━━━━━━━━━━━━\u001b[0m \u001b[32m7.6/7.6 MB\u001b[0m \u001b[31m37.0 MB/s\u001b[0m eta \u001b[36m0:00:00\u001b[0m\n",
            "\u001b[?25hRequirement already satisfied: numpy>=1.17 in /usr/local/lib/python3.8/dist-packages (from transformers) (1.22.4)\n",
            "Requirement already satisfied: regex!=2019.12.17 in /usr/local/lib/python3.8/dist-packages (from transformers) (2022.6.2)\n",
            "Requirement already satisfied: pyyaml>=5.1 in /usr/local/lib/python3.8/dist-packages (from transformers) (6.0)\n",
            "Requirement already satisfied: typing-extensions>=3.7.4.3 in /usr/local/lib/python3.8/dist-packages (from huggingface-hub<1.0,>=0.11.0->transformers) (4.5.0)\n",
            "Requirement already satisfied: idna<3,>=2.5 in /usr/local/lib/python3.8/dist-packages (from requests->transformers) (2.10)\n",
            "Requirement already satisfied: certifi>=2017.4.17 in /usr/local/lib/python3.8/dist-packages (from requests->transformers) (2022.12.7)\n",
            "Requirement already satisfied: chardet<5,>=3.0.2 in /usr/local/lib/python3.8/dist-packages (from requests->transformers) (4.0.0)\n",
            "Requirement already satisfied: urllib3<1.27,>=1.21.1 in /usr/local/lib/python3.8/dist-packages (from requests->transformers) (1.26.14)\n",
            "Installing collected packages: tokenizers, huggingface-hub, transformers\n",
            "Successfully installed huggingface-hub-0.12.1 tokenizers-0.13.2 transformers-4.26.1\n"
          ]
        }
      ],
      "source": [
        "!pip install transformers"
      ]
    },
    {
      "cell_type": "code",
      "execution_count": null,
      "metadata": {
        "id": "D2-wlVMZYEkZ"
      },
      "outputs": [],
      "source": [
        "import pandas as pd\n",
        "import tensorflow as tf\n",
        "import numpy as np\n",
        "from keras.models import Sequential, load_model\n",
        "from keras.layers import Dense, Input, Softmax, BatchNormalization, Dropout, Conv2D, MaxPool2D, Embedding, Reshape, Flatten, LSTM, GRU, SimpleRNN, Concatenate, concatenate, RepeatVector, TimeDistributed, Bidirectional\n",
        "# from keras.layers.merge import concatenate\n",
        "from keras.losses import CategoricalCrossentropy\n",
        "from keras.metrics import CategoricalAccuracy\n",
        "from keras.preprocessing.text import Tokenizer\n",
        "from tensorflow.keras.optimizers import RMSprop, Adam, Adamax, Nadam, SGD\n",
        "from tensorflow.keras import Model\n",
        "from tensorflow.keras.optimizers.schedules import InverseTimeDecay, ExponentialDecay\n",
        "from tensorflow.keras.utils import to_categorical\n",
        "from keras.utils.vis_utils import plot_model\n",
        "from keras.callbacks import ModelCheckpoint\n",
        "from tensorflow.keras.preprocessing.sequence import pad_sequences #from keras.preprocessing.sequence import pad_sequences\n",
        "from sklearn.preprocessing import LabelEncoder\n",
        "from sklearn.model_selection import train_test_split, KFold\n",
        "from sklearn import metrics\n",
        "from matplotlib import pyplot as plt\n",
        "from sklearn.model_selection import KFold\n",
        "import os\n",
        "import string\n",
        "from google.colab import drive\n",
        "import json\n",
        "\n",
        "from transformers import AutoTokenizer,BertTokenizer,TFBertModel\n",
        "\n",
        "import copy"
      ]
    },
    {
      "cell_type": "markdown",
      "source": [
        "# **Declaring And Initializing Global Variables**"
      ],
      "metadata": {
        "id": "Z8EaaCpl4vRw"
      }
    },
    {
      "cell_type": "markdown",
      "source": [
        "## **Paths**"
      ],
      "metadata": {
        "id": "AE4iDRzh47E-"
      }
    },
    {
      "cell_type": "code",
      "execution_count": null,
      "metadata": {
        "id": "srVvFhQrdymB"
      },
      "outputs": [],
      "source": [
        "drive.mount('/content/drive')\n",
        "# dataPath=\"/content/drive/MyDrive/AI Projects/Arabic Broken Plural/data\"\n",
        "dataPath = '/content/drive/MyDrive/AI/Deep Learning/Arabic Broken Plural/data'\n",
        "\n",
        "data_analysis_path = '/content/drive/MyDrive/AI Projects/Arabic Broken Plural/Datasets analysis/'"
      ]
    },
    {
      "cell_type": "markdown",
      "source": [
        "## **Global Variables Used For Encoding Data**"
      ],
      "metadata": {
        "id": "bh5sOf1t5B2h"
      }
    },
    {
      "cell_type": "code",
      "source": [
        "# generate character encoding\n",
        "oov_token = 'not available char'\n",
        "char_index = {oov_token: 0}\n",
        "char_index_key_list = list(char_index.keys())\n",
        "char_index_val_list = list(char_index.values())"
      ],
      "metadata": {
        "id": "u8QvtGou5UTp"
      },
      "execution_count": null,
      "outputs": []
    },
    {
      "cell_type": "markdown",
      "metadata": {
        "id": "g4MC1JT3TSec"
      },
      "source": [
        "# **Helper Functions**"
      ]
    },
    {
      "cell_type": "code",
      "execution_count": null,
      "metadata": {
        "id": "PYqxULkbTSed"
      },
      "outputs": [],
      "source": [
        "def oneHot2D(arr):\n",
        "    tmp = np.zeros_like(arr)\n",
        "    tmp[np.arange(len(arr)), arr.argmax(1)] = 1\n",
        "    return tmp\n",
        "\n",
        "def oneHot3D(arr):\n",
        "    tmp = np.array([oneHot2D(x) for x in arr])\n",
        "    return tmp"
      ]
    },
    {
      "cell_type": "code",
      "execution_count": null,
      "metadata": {
        "id": "lR89g_k_7dYp"
      },
      "outputs": [],
      "source": [
        "def updateCharIndex(data):\n",
        "  global char_index , char_index_key_list , char_index_val_list\n",
        "  # encode input with encoding character set\n",
        "  for i in range(len(data[0])):\n",
        "      chars = data[0][i] + data[1][i] + data[3][i] + data[4][i]\n",
        "      for c in chars:\n",
        "          if c not in char_index:\n",
        "              char_index[c] = len(char_index)\n",
        "  char_index_key_list = list(char_index.keys())\n",
        "  char_index_val_list = list(char_index.values())\n",
        "\n",
        "def getCharFromIdx(idx):\n",
        "  position = char_index_val_list.index(idx)\n",
        "  return char_index_key_list[position]\n",
        "\n",
        "def getWordFromOnehot(onehot):\n",
        "  encoded=np.argmax(onehot, axis=1)\n",
        "  word=[]\n",
        "  for x in encoded:\n",
        "    if x==0:break\n",
        "    word.append(getCharFromIdx(x))\n",
        "  return ''.join(word)"
      ]
    },
    {
      "cell_type": "code",
      "execution_count": null,
      "metadata": {
        "id": "PtI4-1PCuFcB"
      },
      "outputs": [],
      "source": [
        "# find duplicates and create dictionaries\n",
        "def getDuplicateIndexes(data):\n",
        "  dupindex={}\n",
        "  for i in range(len(data[0])):\n",
        "    lemma = data[0][i]\n",
        "    if dupindex.get(lemma)==None :\n",
        "      dupindex[lemma]=[]\n",
        "      dupindex[lemma].append(i)\n",
        "    elif len(data)<9:\n",
        "      dupindex[lemma].append(i)\n",
        "    else:\n",
        "      f=False\n",
        "      for k in range(len(dupindex[lemma])):\n",
        "        if data[8][i] > data[8][dupindex[lemma][k]]:\n",
        "          dupindex[lemma].insert(0,i)\n",
        "          f=True\n",
        "      if not f : dupindex[lemma].append(i)\n",
        "\n",
        "\n",
        "  return dupindex\n",
        "\n",
        "def reportErrorAnalysis_duplicates(dataframe,dicDup,path):\n",
        "  df=dataframe.loc[[]]\n",
        "\n",
        "  indexes=[]\n",
        "  for key, value in dicDup.items():\n",
        "    if len(value)>1 :\n",
        "      for x in value:\n",
        "        n=len(df)\n",
        "        indexes.append(x)\n",
        "        df.loc[n]=dataframe.loc[x]\n",
        "  df.insert(0, \"index\", indexes, True)\n",
        "  df.to_csv(path)\n",
        "  return df\n",
        "\n",
        "#Generate lemma-inflection reference\n",
        "def updateDic_lemmaInflection(data,inflection_index,dupIndex,dic_lemmaInflection):\n",
        "  for key, value in dupIndex.items():\n",
        "    if dic_lemmaInflection.get(key)==None:\n",
        "      dic_lemmaInflection[key]=[]\n",
        "    for x in value :\n",
        "      if not data[inflection_index][x] in dic_lemmaInflection[key]: dic_lemmaInflection[key].append(data[inflection_index][x])\n",
        "  return dic_lemmaInflection\n",
        "\n",
        "\n",
        "def report_similarLemmas(lemma, inflection, dic, path, name):\n",
        "  '''\n",
        "  Get a csv report on similar lemmas comparing to a dictionary\n",
        "  inputs = list of lemmas, list inflections,\n",
        "    reference dictionary, saving path for the report,\n",
        "    name of the report\n",
        "  output = report in csv format\n",
        "  '''\n",
        "  report={'index':[], 'lemma':[], 'new inflection':[], 'old inflection':[],'is_similar':[]}\n",
        "\n",
        "  for i in range(len(lemma)):\n",
        "    if dic.get(lemma[i])==None:\n",
        "      continue\n",
        "    else:\n",
        "      report['index'].append(i)\n",
        "      report['lemma'].append(lemma[i])\n",
        "      report['new inflection'].append(inflection[i])\n",
        "      report['old inflection'].append(dic.get(lemma[i])[0])\n",
        "      report['is_similar'].append(dic.get(lemma[i])[0]==inflection[i])\n",
        "  df = pd.DataFrame(report)\n",
        "  df.to_csv(path+\"/\"+name+\".csv\")\n",
        "  return df\n"
      ]
    },
    {
      "cell_type": "code",
      "source": [
        "#Drop unnecessary duplicates\n",
        "def getUniqueData(data,dupIndex):\n",
        "  out=[]\n",
        "  #init nested lists\n",
        "  for x in data: out.append([])\n",
        "  #fill out with most frequent lemma-inflection pairs\n",
        "  for key, value in dupIndex.items():\n",
        "    for k in range(len(data)):\n",
        "      out[k].append(data[k][value[0]])\n",
        "  return out\n",
        "\n",
        "#Fix defferent inflection comparing to a dictionary of lemma-inflection pairs\n",
        "def fixInflections(data,inflection_index,dic):\n",
        "  out = copy.deepcopy(data)\n",
        "  c=0\n",
        "  for i in range(len(data[0])):\n",
        "    if dic.get(data[0][i])==None:\n",
        "      continue\n",
        "    else:\n",
        "      inf = dic.get(data[0][i])[0]\n",
        "      if not data[inflection_index][i] == inf:\n",
        "        out[inflection_index][i]=inf\n",
        "        c+=1\n",
        "  return out,c"
      ],
      "metadata": {
        "id": "frDAdHFw6ZP_"
      },
      "execution_count": null,
      "outputs": []
    },
    {
      "cell_type": "code",
      "execution_count": null,
      "metadata": {
        "id": "M6wNFevTTSee"
      },
      "outputs": [],
      "source": [
        "def binaryConversion(arr, threshold=0.5):\n",
        "  tmp = np.zeros_like(arr)\n",
        "  tmp[arr > threshold] = 1\n",
        "  return tmp\n",
        "\n",
        "def reportResult(model, history, X_test, y_test):\n",
        "\n",
        "    # best models based on acc or loss in tarin set or test set\n",
        "    testHistory = list(\n",
        "        map(lambda x, y: [x, y], history['val_accuracy'], history['val_loss']))\n",
        "    print(\n",
        "        f\"best model based on min test set loss:  acc= {min(testHistory, key = lambda k: k[1])[0]}  loss= {min(testHistory, key = lambda k: k[1])[1]}\")\n",
        "    print(\n",
        "        f\"best model based on max test set accuracy:  acc= {max(testHistory, key = lambda k: k[0])[0]}  loss= {max(testHistory, key = lambda k: k[0])[1]}\")\n",
        "\n",
        "    print(\"\\nevaluate dataset with best model based on maximum test set accuracy\")\n",
        "    print(\"evaluate test set = \", model.evaluate(X_test, y_test, verbose=0))\n",
        "\n",
        "    y_test_pred = model.predict(X_test)\n",
        "    y_test_pred = binaryConversion(y_test_pred)\n",
        "\n",
        "    # confusion matrix and precision, recall and f1 report\n",
        "    print('-'*30, 'metrics for test set', '-'*30)\n",
        "    print(\"confusion matrix: \\n\", metrics.confusion_matrix(y_test, y_test_pred))\n",
        "    print(metrics.classification_report(y_test,\n",
        "          y_test_pred, digits=3, target_names=['Broken', 'Sound']))\n",
        "\n",
        "def argmaxKeepDimensions(arr):\n",
        "  tmp = np.zeros_like(arr)\n",
        "  tmp[np.arange(len(arr)), arr.argmax(1)] = 1\n",
        "  return tmp\n",
        "\n",
        "def checkAccuracy(pred, true):\n",
        "  size = pred.shape[0]\n",
        "  numOfTrue = 0\n",
        "  for (x, y) in zip(pred, true):\n",
        "    if np.array_equal(x, y):\n",
        "      numOfTrue += 1\n",
        "\n",
        "  return size-numOfTrue, numOfTrue/size\n",
        "\n",
        "def checkAccuracy_anyAcceptableInflectionInDataset(lemma, pred, dic_refrence):\n",
        "  size = pred.shape[0]\n",
        "  numOfTrue = 0\n",
        "  for i in range (len(pred)):\n",
        "    w=getWordFromOnehot(pred[i])\n",
        "    if w in dic_refrence[lemma[i]]:\n",
        "      numOfTrue += 1\n",
        "\n",
        "  return size-numOfTrue, numOfTrue/size\n",
        "\n",
        "def reportErrorAnalysis(lemma, bs, pred_OH, inflection_OH, path):\n",
        "  size = pred_OH.shape[0]\n",
        "  report={'index':[], 'lemma':[], 'b/s':[], 'inflection':[], 'predict':[]}\n",
        "  i=0\n",
        "  for (x, y) in zip(pred_OH, inflection_OH):\n",
        "    if not np.array_equal(x, y):\n",
        "      report['index'].append(i)\n",
        "      report['lemma'].append(lemma[i])\n",
        "      if bs==None:\n",
        "        report['b/s'].append(\"NAN\")\n",
        "      else:\n",
        "        report['b/s'].append(bs[i])\n",
        "      report['inflection'].append(getWordFromOnehot(inflection_OH[i]))\n",
        "      report['predict'].append(getWordFromOnehot(pred_OH[i]))\n",
        "    i+=1\n",
        "\n",
        "  df = pd.DataFrame(report)\n",
        "  df.to_csv(path)\n",
        "  return df\n",
        "\n",
        "def reportErrorAnalysis_inflectionWithBS(lemma, bs,bs_pred, pred_OH, inflection_OH, path):\n",
        "  size = pred_OH.shape[0]\n",
        "  report={'index':[], 'lemma':[], 'b/s':[], 'b/s predict':[], 'inflection':[], 'predict':[]}\n",
        "  bs_pred = binaryConversion(bs_pred)\n",
        "  i=0\n",
        "  for (x, y) in zip(pred_OH, inflection_OH):\n",
        "    if not np.array_equal(x, y):\n",
        "      report['index'].append(i)\n",
        "      report['lemma'].append(lemma[i])\n",
        "      report['b/s'].append(bs[i])\n",
        "      report['b/s predict'].append(bs_pred[i])\n",
        "      report['inflection'].append(getWordFromOnehot(inflection_OH[i]))\n",
        "      report['predict'].append(getWordFromOnehot(pred_OH[i]))\n",
        "    i+=1\n",
        "\n",
        "  df = pd.DataFrame(report)\n",
        "  df.to_csv(path)\n",
        "  return df\n",
        "\n",
        "def reportErrorAnalysis_classification(lemma, inflection_OH, bs, bs_pred, path):\n",
        "  size = bs.shape[0]\n",
        "  report={'index':[], 'lemma':[], 'inflection':[],'b/s':[], 'b/s predict':[] }\n",
        "  bs_pred = binaryConversion(bs_pred, 0.5)\n",
        "  i=0\n",
        "  for (x, y) in zip(bs, bs_pred):\n",
        "    if not x==y:\n",
        "      report['index'].append(i)\n",
        "      report['lemma'].append(lemma[i])\n",
        "      report['b/s'].append(x)\n",
        "      report['inflection'].append(getWordFromOnehot(inflection_OH[i]))\n",
        "      report['b/s predict'].append(y)\n",
        "    i+=1\n",
        "\n",
        "  df = pd.DataFrame(report)\n",
        "  df.to_csv(path)\n",
        "  return df"
      ]
    },
    {
      "cell_type": "code",
      "execution_count": null,
      "metadata": {
        "id": "jPbJ_pHqmsyV"
      },
      "outputs": [],
      "source": [
        "def reportPercentageOfBrokenSoundErrors(dataset_errorAnalysis):\n",
        "  total_errors_num = dataset_errorAnalysis.shape[0]\n",
        "  train_sound_error = np.sum(dataset_errorAnalysis['b/s'])\n",
        "  train_broken_error = total_errors_num - train_sound_error\n",
        "  return train_broken_error/total_errors_num * 100, train_sound_error/total_errors_num * 100\n",
        "\n",
        "def reportPercentageOfUnseenErrors(errorIndices, unseenIndices):\n",
        "  isInUnseen = np.array([index in unseenIndices for index in errorIndices])\n",
        "  return np.count_nonzero(isInUnseen==True) / len(errorIndices) * 100, np.count_nonzero(isInUnseen==True) / len(unseenIndices) * 100"
      ]
    },
    {
      "cell_type": "markdown",
      "metadata": {
        "id": "XOX50iU1Kha1"
      },
      "source": [
        "## **Encoding Schemes**"
      ]
    },
    {
      "cell_type": "code",
      "execution_count": null,
      "metadata": {
        "id": "ZDoScnOfGIiX"
      },
      "outputs": [],
      "source": [
        "encoding_schemes = pd.read_excel(dataPath+\"/Encoding Schemes.xlsx\")"
      ]
    },
    {
      "cell_type": "code",
      "execution_count": null,
      "metadata": {
        "colab": {
          "base_uri": "https://localhost:8080/"
        },
        "id": "twMF1Mw5JXe_",
        "outputId": "ef892fcc-e216-4ffc-a798-acec92fd7861"
      },
      "outputs": [
        {
          "output_type": "execute_result",
          "data": {
            "text/plain": [
              "51"
            ]
          },
          "metadata": {},
          "execution_count": 12
        }
      ],
      "source": [
        "arabic_bw = encoding_schemes[['Arabic', 'BW']]\n",
        "arabic_bw.shape[0]"
      ]
    },
    {
      "cell_type": "code",
      "execution_count": null,
      "metadata": {
        "id": "pvjYOWufI8-X"
      },
      "outputs": [],
      "source": [
        "bw_to_arabic, arabic_to_bw = {}, {}\n",
        "for i in range(arabic_bw.shape[0]):\n",
        "  bw_to_arabic[arabic_bw['BW'][i]] = arabic_bw['Arabic'][i]\n",
        "  arabic_to_bw[arabic_bw['Arabic'][i]] = arabic_bw['BW'][i]"
      ]
    },
    {
      "cell_type": "code",
      "execution_count": null,
      "metadata": {
        "colab": {
          "base_uri": "https://localhost:8080/"
        },
        "id": "8dCiVrv2xwDU",
        "outputId": "dddd169c-ef37-43dc-d9f9-03e121672023"
      },
      "outputs": [
        {
          "output_type": "stream",
          "name": "stdout",
          "text": [
            "{\"'\": 'ء', '|': 'آ', '>': 'أ', '&': 'ؤ', '<': 'إ', '}': 'ئ', 'A': 'ا', 'b': 'ب', 'p': 'ة', 't': 'ت', 'v': 'ث', 'j': 'ج', 'H': 'ح', 'x': 'خ', 'd': 'د', '*': 'ذ', 'r': 'ر', 'z': 'ز', 's': 'س', '$': 'ش', 'S': 'ص', 'D': 'ض', 'T': 'ط', 'Z': 'ظ', 'E': 'ع', 'g': 'غ', '_': 'ـ', 'f': 'ف', 'q': 'ق', 'k': 'ك', 'l': 'ل', 'm': 'م', 'n': 'ن', 'h': 'ه', 'w': 'و', 'Y': 'ى', 'y': 'ي', 'F': 'ً', 'N': 'ٌ', 'K': 'ٍ', 'a': 'َ', 'u': 'ُ', 'i': 'ِ', '~': 'ّ', 'o': 'ْ', '`': 'ٰ', '{': 'ٱ', 'P': 'پ', 'J': 'چ', 'V': 'ڤ', 'G': 'گ'}\n"
          ]
        }
      ],
      "source": [
        "print(bw_to_arabic)"
      ]
    },
    {
      "cell_type": "code",
      "execution_count": null,
      "metadata": {
        "id": "NwhxwGI3LsSJ"
      },
      "outputs": [],
      "source": [
        "def getArabicForm(bwForm):\n",
        "  global bw_to_arabic\n",
        "  arabicForm = []\n",
        "  for x in bwForm:\n",
        "    arabicForm.append(\"\".join([bw_to_arabic[char] for char in x]))\n",
        "  return arabicForm\n",
        "\n",
        "def getBWForm(arabicForm):\n",
        "  global arabic_to_bw\n",
        "  bwForm = []\n",
        "  for x in arabicForm:\n",
        "    bwForm.append(\"\".join([arabic_to_bw[char] for char in x]))\n",
        "  return bwForm"
      ]
    },
    {
      "cell_type": "markdown",
      "metadata": {
        "id": "pGFwazuJClaC"
      },
      "source": [
        "# **Preprocessing**"
      ]
    },
    {
      "cell_type": "markdown",
      "metadata": {
        "id": "9ZQvZUkdGb9Z"
      },
      "source": [
        "## **Hugging face Arabic Bert Config**"
      ]
    },
    {
      "cell_type": "code",
      "execution_count": null,
      "metadata": {
        "id": "EWufMcZMHDgY",
        "colab": {
          "base_uri": "https://localhost:8080/",
          "referenced_widgets": [
            "85c3101674f347caa72eee010d24eedb",
            "c04b25fc430645bd939ec4eb52f8f8db",
            "abf32788220c4fb2b16e8b482e0c870e",
            "6278d00cf417468eb50b8c9e7068165a",
            "1e792a88e5e045ce90469654e00bde4b",
            "148027a171fa44b197e004130718017f",
            "74693549fe514ddbafb3f2ed85d64dd9",
            "419954c6d41b428d83da71012a91af25",
            "825c08457fb94078bccece7f6071f0da",
            "acf425e1827249d6af2675c3bacc1436",
            "d7ae8b582e114931bfc30e5d4517f07a",
            "d854f000b86d4d67b73d1671ff93daa6",
            "40f1b504c12847f98e5a2714912b8cbd",
            "faab7725ab7c49ec9b602d932a3b8ead",
            "2f96b9f56ed3478fb681ff05c7fc1d28",
            "0bd0148e87634808bcc636ea36df8872",
            "e95f35f9dce542babe89d2829788d3e5",
            "22b56a2e1e7d4071b2c32931d9b31011",
            "3bfc04cf6be542bda61f41d376f15a79",
            "c8271996095a4df59a14c1b6d79996de",
            "a5fa8249427d49789a07f8f6c53b01f2",
            "63c5161799174638a8dfc8e502c74005",
            "a7711aaa54a440fb8122c5df7effb622",
            "76da0eb01246467e811b303cbf46c7e7",
            "8f05131f038c4d4bb9cdcdb03d5294e5",
            "fe87643510654e1aa0c09d4baef92381",
            "fdca15bcd211492280b7077e598dc1b4",
            "3b770ff70642488cac77ff2792b57991",
            "1d0b1ebe181c47519838db8a426df911",
            "f31e29ffb103407697dd9d97e8ba5b6c",
            "9e2fc253a5c645af85a7e73b6297f2bb",
            "7e201bc3771f4160a0a44ddf1f0c6a28",
            "0db2eed6b90d4361bc52548ac269397c",
            "5e0aadfea0434455a3c0a1dbeee8e249",
            "8e67cd4429dd453e8e4e0ad11a92059a",
            "1b6eec996d8344138c19ca57b67ef4cb",
            "ddac87b0353f4f3096f34d469e2e3505",
            "4f16a3956b9d4ae18e67130ef325d55f",
            "6ef0456aa30e42ac861b86b0553800d4",
            "dc09fef1eec24d4099b9be1d037f69e9",
            "a48c1cff4b394cac81fc054cda741d9d",
            "bcf58682e77a4b1d8339fc9a08c7468a",
            "169c26dcd2ac48cb9e39f965f3bbf3c3",
            "b14fbb63ff9046089e45b14b423384d3"
          ]
        },
        "outputId": "18b1e09b-7746-4e48-b0a0-16cc54aed3ef"
      },
      "outputs": [
        {
          "output_type": "display_data",
          "data": {
            "text/plain": [
              "Downloading (…)solve/main/vocab.txt:   0%|          | 0.00/334k [00:00<?, ?B/s]"
            ],
            "application/vnd.jupyter.widget-view+json": {
              "version_major": 2,
              "version_minor": 0,
              "model_id": "85c3101674f347caa72eee010d24eedb"
            }
          },
          "metadata": {}
        },
        {
          "output_type": "display_data",
          "data": {
            "text/plain": [
              "Downloading (…)cial_tokens_map.json:   0%|          | 0.00/112 [00:00<?, ?B/s]"
            ],
            "application/vnd.jupyter.widget-view+json": {
              "version_major": 2,
              "version_minor": 0,
              "model_id": "d854f000b86d4d67b73d1671ff93daa6"
            }
          },
          "metadata": {}
        },
        {
          "output_type": "display_data",
          "data": {
            "text/plain": [
              "Downloading (…)okenizer_config.json:   0%|          | 0.00/62.0 [00:00<?, ?B/s]"
            ],
            "application/vnd.jupyter.widget-view+json": {
              "version_major": 2,
              "version_minor": 0,
              "model_id": "a7711aaa54a440fb8122c5df7effb622"
            }
          },
          "metadata": {}
        },
        {
          "output_type": "display_data",
          "data": {
            "text/plain": [
              "Downloading (…)lve/main/config.json:   0%|          | 0.00/491 [00:00<?, ?B/s]"
            ],
            "application/vnd.jupyter.widget-view+json": {
              "version_major": 2,
              "version_minor": 0,
              "model_id": "5e0aadfea0434455a3c0a1dbeee8e249"
            }
          },
          "metadata": {}
        }
      ],
      "source": [
        "#bert_tokenizer = AutoTokenizer.from_pretrained(\"asafaya/bert-base-arabic\")\n",
        "bert_tokenizer = BertTokenizer.from_pretrained(\"asafaya/bert-base-arabic\")"
      ]
    },
    {
      "cell_type": "code",
      "execution_count": null,
      "metadata": {
        "id": "9Vc8mS4CFfoe"
      },
      "outputs": [],
      "source": [
        "encoding = bert_tokenizer.encode_plus(\n",
        "      'علم',\n",
        "      max_length=18,\n",
        "      add_special_tokens=True, # Add '[CLS]' and '[SEP]'\n",
        "      return_token_type_ids=True,\n",
        "      padding = 'max_length',  # Pad to longest in batch.\n",
        "      truncation=True,\n",
        "      return_attention_mask=True,\n",
        "      return_tensors='tf'  # Return PyTorch tensors\n",
        "    )\n",
        "#print(len(encoding['token_type_ids'][0]))"
      ]
    },
    {
      "cell_type": "code",
      "execution_count": null,
      "metadata": {
        "id": "Q7hXWVrepQgl"
      },
      "outputs": [],
      "source": [
        "bert_test=bert_tokenizer(\"عِلمة\")"
      ]
    },
    {
      "cell_type": "code",
      "execution_count": null,
      "metadata": {
        "colab": {
          "base_uri": "https://localhost:8080/"
        },
        "id": "ultG0eVNnUfG",
        "outputId": "9363ee34-43e1-4230-bda2-637d71550a61"
      },
      "outputs": [
        {
          "output_type": "stream",
          "name": "stdout",
          "text": [
            "{'input_ids': [2, 2816, 1012, 3], 'token_type_ids': [0, 0, 0, 0], 'attention_mask': [1, 1, 1, 1]}\n"
          ]
        }
      ],
      "source": [
        "print(bert_test)"
      ]
    },
    {
      "cell_type": "markdown",
      "metadata": {
        "id": "ubE6nCh4ClaD"
      },
      "source": [
        "## **Get dataset files and Organizing**"
      ]
    },
    {
      "cell_type": "code",
      "execution_count": null,
      "metadata": {
        "id": "_uBC6rVkClaD"
      },
      "outputs": [],
      "source": [
        "train_csv = pd.read_csv(dataPath+\"/train_pairs_all.csv\")\n",
        "dev_csv = pd.read_csv(dataPath+\"/dev_pairs_all.csv\")\n",
        "test_csv = pd.read_csv(dataPath+\"/test_pairs_all.csv\")\n",
        "\n",
        "train_csv.head()"
      ]
    },
    {
      "cell_type": "code",
      "execution_count": null,
      "metadata": {
        "id": "SdFejowuClaD"
      },
      "outputs": [],
      "source": [
        "train_csv_filtered = train_csv[train_csv['ROOT'] != 'NTWS']\n",
        "dev_csv_filtered = dev_csv[dev_csv['ROOT'] != 'NTWS']\n",
        "test_csv_filtered = test_csv[test_csv['ROOT'] != 'NTWS']"
      ]
    },
    {
      "cell_type": "code",
      "execution_count": null,
      "metadata": {
        "colab": {
          "base_uri": "https://localhost:8080/"
        },
        "id": "aMrYNnyDClaD",
        "outputId": "9435825a-5692-4f4d-9fb0-b17e76b8939d"
      },
      "outputs": [
        {
          "output_type": "stream",
          "name": "stdout",
          "text": [
            "114\n",
            "38\n",
            "27\n"
          ]
        }
      ],
      "source": [
        "print(train_csv.shape[0] - train_csv_filtered.shape[0])\n",
        "print(dev_csv.shape[0] - dev_csv_filtered.shape[0])\n",
        "print(test_csv.shape[0] - test_csv_filtered.shape[0])"
      ]
    },
    {
      "cell_type": "code",
      "execution_count": null,
      "metadata": {
        "colab": {
          "base_uri": "https://localhost:8080/"
        },
        "id": "yD10TibJClaD",
        "outputId": "f065e8eb-cd96-4cc2-ddf2-ea656cdee3fc"
      },
      "outputs": [
        {
          "output_type": "execute_result",
          "data": {
            "text/plain": [
              "        lemma  inflection NUM  GEN  RAT  lex_freq  B/S   SING_PATT  \\\n",
              "0       Eamal     >aEomAl  PL    1    0        23    0       1a2a3   \n",
              "1       hadaf     >ahodAf  PL    1    0        16    0       1a2a3   \n",
              "2     EalAqap     EalAqAt  PL    0    0        15    1     1a2A3ap   \n",
              "3  mu&as~asap  mu&as~asAt  PL    0    0        14    1  mu&a2~a3ap   \n",
              "4       EuDow     >aEoDA'  PL    1    1        15    0       1u2ow   \n",
              "\n",
              "      PL_PATT   ROOT  FREQ  \n",
              "0     >a1o2A3  E.m.l    23  \n",
              "1     >a1o2A3  h.d.f    16  \n",
              "2     1a2A3At  E.l.q    15  \n",
              "3  mu&a2~a3At  #.s.s    14  \n",
              "4     >a1o2A'  E.D.#    13  "
            ],
            "text/html": [
              "\n",
              "  <div id=\"df-a628052c-3c0f-4658-a4bb-c977bd10b85d\">\n",
              "    <div class=\"colab-df-container\">\n",
              "      <div>\n",
              "<style scoped>\n",
              "    .dataframe tbody tr th:only-of-type {\n",
              "        vertical-align: middle;\n",
              "    }\n",
              "\n",
              "    .dataframe tbody tr th {\n",
              "        vertical-align: top;\n",
              "    }\n",
              "\n",
              "    .dataframe thead th {\n",
              "        text-align: right;\n",
              "    }\n",
              "</style>\n",
              "<table border=\"1\" class=\"dataframe\">\n",
              "  <thead>\n",
              "    <tr style=\"text-align: right;\">\n",
              "      <th></th>\n",
              "      <th>lemma</th>\n",
              "      <th>inflection</th>\n",
              "      <th>NUM</th>\n",
              "      <th>GEN</th>\n",
              "      <th>RAT</th>\n",
              "      <th>lex_freq</th>\n",
              "      <th>B/S</th>\n",
              "      <th>SING_PATT</th>\n",
              "      <th>PL_PATT</th>\n",
              "      <th>ROOT</th>\n",
              "      <th>FREQ</th>\n",
              "    </tr>\n",
              "  </thead>\n",
              "  <tbody>\n",
              "    <tr>\n",
              "      <th>0</th>\n",
              "      <td>Eamal</td>\n",
              "      <td>&gt;aEomAl</td>\n",
              "      <td>PL</td>\n",
              "      <td>1</td>\n",
              "      <td>0</td>\n",
              "      <td>23</td>\n",
              "      <td>0</td>\n",
              "      <td>1a2a3</td>\n",
              "      <td>&gt;a1o2A3</td>\n",
              "      <td>E.m.l</td>\n",
              "      <td>23</td>\n",
              "    </tr>\n",
              "    <tr>\n",
              "      <th>1</th>\n",
              "      <td>hadaf</td>\n",
              "      <td>&gt;ahodAf</td>\n",
              "      <td>PL</td>\n",
              "      <td>1</td>\n",
              "      <td>0</td>\n",
              "      <td>16</td>\n",
              "      <td>0</td>\n",
              "      <td>1a2a3</td>\n",
              "      <td>&gt;a1o2A3</td>\n",
              "      <td>h.d.f</td>\n",
              "      <td>16</td>\n",
              "    </tr>\n",
              "    <tr>\n",
              "      <th>2</th>\n",
              "      <td>EalAqap</td>\n",
              "      <td>EalAqAt</td>\n",
              "      <td>PL</td>\n",
              "      <td>0</td>\n",
              "      <td>0</td>\n",
              "      <td>15</td>\n",
              "      <td>1</td>\n",
              "      <td>1a2A3ap</td>\n",
              "      <td>1a2A3At</td>\n",
              "      <td>E.l.q</td>\n",
              "      <td>15</td>\n",
              "    </tr>\n",
              "    <tr>\n",
              "      <th>3</th>\n",
              "      <td>mu&amp;as~asap</td>\n",
              "      <td>mu&amp;as~asAt</td>\n",
              "      <td>PL</td>\n",
              "      <td>0</td>\n",
              "      <td>0</td>\n",
              "      <td>14</td>\n",
              "      <td>1</td>\n",
              "      <td>mu&amp;a2~a3ap</td>\n",
              "      <td>mu&amp;a2~a3At</td>\n",
              "      <td>#.s.s</td>\n",
              "      <td>14</td>\n",
              "    </tr>\n",
              "    <tr>\n",
              "      <th>4</th>\n",
              "      <td>EuDow</td>\n",
              "      <td>&gt;aEoDA'</td>\n",
              "      <td>PL</td>\n",
              "      <td>1</td>\n",
              "      <td>1</td>\n",
              "      <td>15</td>\n",
              "      <td>0</td>\n",
              "      <td>1u2ow</td>\n",
              "      <td>&gt;a1o2A'</td>\n",
              "      <td>E.D.#</td>\n",
              "      <td>13</td>\n",
              "    </tr>\n",
              "  </tbody>\n",
              "</table>\n",
              "</div>\n",
              "      <button class=\"colab-df-convert\" onclick=\"convertToInteractive('df-a628052c-3c0f-4658-a4bb-c977bd10b85d')\"\n",
              "              title=\"Convert this dataframe to an interactive table.\"\n",
              "              style=\"display:none;\">\n",
              "        \n",
              "  <svg xmlns=\"http://www.w3.org/2000/svg\" height=\"24px\"viewBox=\"0 0 24 24\"\n",
              "       width=\"24px\">\n",
              "    <path d=\"M0 0h24v24H0V0z\" fill=\"none\"/>\n",
              "    <path d=\"M18.56 5.44l.94 2.06.94-2.06 2.06-.94-2.06-.94-.94-2.06-.94 2.06-2.06.94zm-11 1L8.5 8.5l.94-2.06 2.06-.94-2.06-.94L8.5 2.5l-.94 2.06-2.06.94zm10 10l.94 2.06.94-2.06 2.06-.94-2.06-.94-.94-2.06-.94 2.06-2.06.94z\"/><path d=\"M17.41 7.96l-1.37-1.37c-.4-.4-.92-.59-1.43-.59-.52 0-1.04.2-1.43.59L10.3 9.45l-7.72 7.72c-.78.78-.78 2.05 0 2.83L4 21.41c.39.39.9.59 1.41.59.51 0 1.02-.2 1.41-.59l7.78-7.78 2.81-2.81c.8-.78.8-2.07 0-2.86zM5.41 20L4 18.59l7.72-7.72 1.47 1.35L5.41 20z\"/>\n",
              "  </svg>\n",
              "      </button>\n",
              "      \n",
              "  <style>\n",
              "    .colab-df-container {\n",
              "      display:flex;\n",
              "      flex-wrap:wrap;\n",
              "      gap: 12px;\n",
              "    }\n",
              "\n",
              "    .colab-df-convert {\n",
              "      background-color: #E8F0FE;\n",
              "      border: none;\n",
              "      border-radius: 50%;\n",
              "      cursor: pointer;\n",
              "      display: none;\n",
              "      fill: #1967D2;\n",
              "      height: 32px;\n",
              "      padding: 0 0 0 0;\n",
              "      width: 32px;\n",
              "    }\n",
              "\n",
              "    .colab-df-convert:hover {\n",
              "      background-color: #E2EBFA;\n",
              "      box-shadow: 0px 1px 2px rgba(60, 64, 67, 0.3), 0px 1px 3px 1px rgba(60, 64, 67, 0.15);\n",
              "      fill: #174EA6;\n",
              "    }\n",
              "\n",
              "    [theme=dark] .colab-df-convert {\n",
              "      background-color: #3B4455;\n",
              "      fill: #D2E3FC;\n",
              "    }\n",
              "\n",
              "    [theme=dark] .colab-df-convert:hover {\n",
              "      background-color: #434B5C;\n",
              "      box-shadow: 0px 1px 3px 1px rgba(0, 0, 0, 0.15);\n",
              "      filter: drop-shadow(0px 1px 2px rgba(0, 0, 0, 0.3));\n",
              "      fill: #FFFFFF;\n",
              "    }\n",
              "  </style>\n",
              "\n",
              "      <script>\n",
              "        const buttonEl =\n",
              "          document.querySelector('#df-a628052c-3c0f-4658-a4bb-c977bd10b85d button.colab-df-convert');\n",
              "        buttonEl.style.display =\n",
              "          google.colab.kernel.accessAllowed ? 'block' : 'none';\n",
              "\n",
              "        async function convertToInteractive(key) {\n",
              "          const element = document.querySelector('#df-a628052c-3c0f-4658-a4bb-c977bd10b85d');\n",
              "          const dataTable =\n",
              "            await google.colab.kernel.invokeFunction('convertToInteractive',\n",
              "                                                     [key], {});\n",
              "          if (!dataTable) return;\n",
              "\n",
              "          const docLinkHtml = 'Like what you see? Visit the ' +\n",
              "            '<a target=\"_blank\" href=https://colab.research.google.com/notebooks/data_table.ipynb>data table notebook</a>'\n",
              "            + ' to learn more about interactive tables.';\n",
              "          element.innerHTML = '';\n",
              "          dataTable['output_type'] = 'display_data';\n",
              "          await google.colab.output.renderOutput(dataTable, element);\n",
              "          const docLink = document.createElement('div');\n",
              "          docLink.innerHTML = docLinkHtml;\n",
              "          element.appendChild(docLink);\n",
              "        }\n",
              "      </script>\n",
              "    </div>\n",
              "  </div>\n",
              "  "
            ]
          },
          "metadata": {},
          "execution_count": 23
        }
      ],
      "source": [
        "# Label encoder for encoding gender and rational features\n",
        "# 'B' class: 0      'S' class: 1\n",
        "categorical_attr = ['GEN', 'RAT', 'B/S']\n",
        "\n",
        "le = LabelEncoder()\n",
        "#train_csv_filtered[categorical_attr] = train_csv_filtered[categorical_attr].apply(le.fit_transform, axis=0)\n",
        "train_csv[categorical_attr] = train_csv[categorical_attr].apply(le.fit_transform, axis=0)\n",
        "\n",
        "le = LabelEncoder()\n",
        "#dev_csv_filtered[categorical_attr] = dev_csv_filtered[categorical_attr].apply(le.fit_transform, axis=0)\n",
        "dev_csv[categorical_attr] = dev_csv[categorical_attr].apply(le.fit_transform, axis=0)\n",
        "\n",
        "le = LabelEncoder()\n",
        "#test_csv_filtered[categorical_attr] = test_csv_filtered[categorical_attr].apply(le.fit_transform, axis=0)\n",
        "test_csv[categorical_attr] = test_csv[categorical_attr].apply(le.fit_transform, axis=0)\n",
        "\n",
        "#test_csv_filtered.head()\n",
        "test_csv.head()"
      ]
    },
    {
      "cell_type": "code",
      "execution_count": null,
      "metadata": {
        "id": "vx1uEiSrClaD"
      },
      "outputs": [],
      "source": [
        "def getListOfData(dataFrame):\n",
        "  '''\n",
        "  Output type->List : 0:lamma | 1:singular pattern | 2:root |3:inflection | 4:plural pattern | 5:plural type(B/S) | 6:gender | 7:rational | 8:freq | 9:nmberOfRoot | 10:Arabic Form |\n",
        "  '''\n",
        "  data = [] # 0:lemma | 1:singular pattern | 2:root |3:inflection | 4:plural pattern | 5:plural type(B/S) | 6:gender | 7:rational\n",
        "  data.append(dataFrame['lemma'].tolist())\n",
        "  data.append(dataFrame['SING_PATT'].tolist())\n",
        "\n",
        "  root = dataFrame['ROOT'].tolist()\n",
        "  # delete dot sign(.) in root feature\n",
        "  for i in range(len(root)):\n",
        "    root[i] = root[i].replace(\".\",\"\")\n",
        "    root[i] = root[i].replace(\"#\",\"\")\n",
        "  data.append(root)\n",
        "\n",
        "  data.append(dataFrame['inflection'].tolist())\n",
        "  data.append(dataFrame['PL_PATT'].tolist())\n",
        "  data.append(dataFrame['B/S'].tolist())\n",
        "  data.append(dataFrame['GEN'].tolist())\n",
        "  data.append(dataFrame['RAT'].tolist())\n",
        "  data.append(dataFrame['FREQ'].tolist())\n",
        "\n",
        "  numOfRoot = [len(x) for x in root]\n",
        "  data.append(numOfRoot)\n",
        "\n",
        "  data.append(getArabicForm(dataFrame['lemma'].tolist()))\n",
        "\n",
        "  return data\n",
        "\n",
        "trainData = getListOfData(train_csv)\n",
        "devData = getListOfData(dev_csv)\n",
        "testData = getListOfData(test_csv)\n",
        "is_dataOrginal=True"
      ]
    },
    {
      "cell_type": "markdown",
      "metadata": {
        "id": "u_hpLQfwE5B2"
      },
      "source": [
        "## **Work On Duplicates**"
      ]
    },
    {
      "cell_type": "code",
      "execution_count": null,
      "metadata": {
        "id": "wjehYdq8FCGg",
        "colab": {
          "base_uri": "https://localhost:8080/"
        },
        "outputId": "a5d3e74d-da1f-4872-b3bc-24bddb4525a4"
      },
      "outputs": [
        {
          "output_type": "stream",
          "name": "stdout",
          "text": [
            "duplicate indexes has been updated\n",
            "{'Eamal': [0], 'hadaf': [1], 'EuDow': [2, 815, 1619], 'jihAz': [3, 689], 'Hukom': [4], 'EunoSur': [5], 'Haq~': [6], 'maSolaHap': [7], 'Eamaliy~ap': [8], 'farod': [9], 'siEor': [10], '<imokAn': [11], \"<ijorA'\": [12], 'mawoqif': [13], 'jahod': [14], 'quw~ap': [15, 292, 933, 1650, 1827, 1835, 1845], 'EalAqap': [16], 'sabab': [17], 'Sawot': [18], 'qarAr': [19], 'silAH': [20, 394], '>avar': [21], 'Tifol': [22], 'Hadav': [23], 'balad': [24, 102], 'natiyjap': [25], 'Zarof': [26], '{it~iSAl': [27], 'waDoE': [28], 'mu&as~asap': [29], 'TAlib': [30, 674, 1119, 1345, 2715, 2716], 'fikor': [31], 'niZAm': [32, 888, 1138], 'taSoriyH': [33, 1208], '>aroD': [34, 1204], 'tahodiyd': [35], 'dawolap': [36, 453], 'walad': [37], 'mAl': [38], 'baronAmaj': [39], 'yawom': [40], 'ma$oruwE': [41, 1375], 'Had~': [42], 'Taraf': [43], 'mAd~ap': [44], 'SAHib': [45, 2573], '{inotixAb': [46], '$aEob': [47], 'jaw~': [48, 2405], 'maTolab': [49], 'TA}irap': [50], 'HuDuwr': [51], 'minoTaqap': [52], '>ax': [53, 532, 1199], '>usoluwb': [54], 'siyAsap': [55], '$aroT': [56], 'jariymap': [57], '$arikap': [58], 'hajomap': [59], \"mA'\": [60, 1359], 'nA}ib': [61], 'qAEidap': [62], 'HAjap': [63], '>amor': [64, 383], 'Suwrap': [65, 654], 'waraq': [66], 'xidomap': [67], 'qiymap': [68], '{ibon': [69, 437, 735], 'muHAdavap': [70], '$axoS': [71, 1298], '|liy~ap': [72], 'muno$a>ap': [73], 'say~Arap': [74], 'maSodar': [75], 'waziyr': [76, 2040], 'qaDiy~ap': [77], 'xasArap': [78], 'suwq': [79], 'na$AT': [80, 185, 2561], '<isorA}iyliy~': [81], 'maEoluwm': [82], 'tafoSiyl': [83], 'rajul': [84, 1756], 'DAbiT': [85, 553], 'mu$okilap': [86, 183], 'rukon': [87], 'EA}ilap': [88], 'suloTap': [89], 'kitAb': [90], 'qAnuwn': [91], 'taHar~uk': [92], '>amal': [93], 'HAdiv': [94], 'qiboTiy~': [95, 2629], 'Hizob': [96], 'bayAn': [97], '>anoSAr': [98], 'wasaT': [99], 'wilAyap': [100], 'fiylom': [101], 'sAkin': [103], 'kalimap': [104], '{isotivomAr': [105], 'mubArAp': [106], 'dirAsap': [107], 'SAruwx': [108], 'raqom': [109], '{it~ifAq': [110], 'maso&uwl': [111, 969, 971, 1085], 'Earabiy~': [112], 'naba>': [113], '{ijotimAE': [114], \"liqA'\": [115], 'wajoh': [116], 'mufAwaDap': [117], '$ab~': [118], '$a>on': [119, 1350], '{isom': [120, 1260, 1893], '>usotA*': [121, 1463], '>aSol': [122], 'ma$oEar': [123], 'furoSap': [124], 'wasiylap': [125, 1080], 'muhim~ap': [126], 'Hukuwmap': [127], '<irohAbiy~': [128, 1920], 'filasoTiyniy~': [129, 1761, 2503], 'munaZ~amap': [130], 'baHov': [131, 500], 'Eaqod': [132], 'HAkim': [133], 'taZAhurap': [134], 'xabiyr': [135, 1707], 'maxAfap': [136], 'taTaw~ur': [137], 'sabiyl': [138], 'Eadad': [139], 'ra}iys': [140, 1819], 'mawoDuwE': [141, 289], 'qudorap': [142], 'jamoEiy~ap': [143], 'EAmil': [144, 454, 646, 1901, 1904], 'rasom': [145], 'jihap': [146], 'HisAb': [147], 'junodiy~': [148], 'nawoE': [149], 'qiTAE': [150], 'taHoqiyq': [151], 'hayo}ap': [152], 'qA}id': [153, 648, 2676], 'tajoribap': [154], 'tawoSiyap': [155], 'DagoT': [156, 1242], 'maboda>': [157], \"{iEotidA'\": [158], 'maHaT~ap': [159], 'dam': [160, 1606, 2187], 'maxATir': [161], 'xaTowap': [162, 382, 1702], 'madiynap': [163, 2464], 'daEowap': [164], 'manozil': [165], 'muHAwalap': [166, 1781], 'muEad~': [167], 'xabar': [168], 'madorasap': [169], 'yahuwdiy~': [170], 'faSiyl': [171], '$iEAr': [172], 'Tariyq': [173, 1066], 'waHodap': [174, 1932], \"Eibo'\": [175], 'Harakap': [176], '$akol': [177], '<iSolAH': [178], 'taSar~uf': [179], 'sahom': [180], 'xilAf': [181], 'miEoyAr': [182], '>um~ap': [184], 'xaT~': [186], 'nAs': [187], 'daliyl': [188, 838], 'ra>oy': [189, 1623], '$ahiyd': [190, 2093, 2097], 'rAkib': [191], 'masiyHiy~': [192, 952, 2190], 'musolim': [193, 1254], 'ramoz': [194], 'maSoraf': [195], 'marokaz': [196], 'muwATin': [197, 389, 2594], 'mulAHaZap': [198], 'jamAEap': [199], 'sAEap': [200], 'Euquwbap': [201], 'riHolap': [202], 'tadobiyr': [203], 'munAqa$ap': [204], 'qaSiydap': [205], 'ra>os': [206], 'maso&uwliy~ap': [207, 2188], 'yad': [208, 1658, 1706, 2000], 'qalob': [209], 'taSofiyap': [210], '>azomap': [211], 'EAlim': [212], '>asAs': [213], 'xuT~ap': [214], '{it~ihAm': [215], 'firoqap': [216], 'riboH': [217], 'Haliyf': [218, 996, 1398], \"nisA'\": [219, 2653, 2655], 'xaTa>': [220], 'lajonap': [221], 'Harob': [222], 'lawon': [223], 'SAdir': [224], 'Hamolap': [225], 'mujotamaE': [226], '$ajarap': [227], 'banod': [228], \"dawA'\": [229], 'musAEadap': [230], 'dAfiE': [231], 'munotaj': [232], 'muwAjahap': [233], 'EA}id': [234], 'mumArasap': [235], 'EaroD': [236], 'Darar': [237], 'musotawoTanap': [238], 'mutamar~id': [239, 2567], 'Sadiyq': [240, 457, 753], '<isolAmiy~': [241, 1949], '{inotihAk': [242], 'fAEiliy~ap': [243], 'manohaj': [244], 'SaHiyfap': [245], '<iyrAd': [246], 'taZAhur': [247], '>awolawiy~ap': [248, 2070], 'qiyAdap': [249], '<iEolAn': [250], 'tAjir': [251], 'milaf~ap': [252], 'qADiy': [253], '>amoriykiy~': [254, 539, 1505, 1506, 2150], 'nuqoTap': [255], 'baTal': [256, 2304], '$abakap': [257, 368], 'lAji}': [258, 2389], 'muHAmiy': [259, 1040], 'Haqiyqap': [260], 'naS~': [261], 'mawoqiE': [262], 'bAb': [263], 'makAn': [264, 1649], 'waqiyEap': [265], 'taqoriyr': [266], 'maHokamap': [267], 'Darobap': [268], 'ji*or': [269], 'majomuwEap': [270], 'sanap': [271, 790], 'lubonAniy~': [272], 'maqoEad': [273], 'dayon': [274], 'musotavomir': [275, 2808], 'Hulom': [276], 'Tabaqap': [277], 'muwASafap': [278], 'muxay~am': [279], 'muEoTaY': [280], 'katiybap': [281], 'HAlap': [282], 'bayot': [283, 1116, 2335], 'kam~iy~ap': [284], 'mivol': [285], 'maworid': [286], 'mawoEid': [287], 'qaroD': [288], 'Eayon': [290, 637, 2635], 'dab~Abap': [291], 'jiyl': [293], 'jAmiEap': [294], 'Ealam': [295], 'faranosiy~': [296], 'Hal~': [297], 'tadoriyb': [298], \"<iHoSA'\": [299], 'waEod': [300], '>usobuwE': [301], '>ahol': [302, 2165, 2166], '{iqotirAH': [303], 'tanoZiym': [304], 'zaEiym': [305, 1615], 'ta$oriyE': [306], 'taEowiyD': [307], 'tuhomap': [308], 'tilomiy*': [309, 912, 913, 1971], 'tay~Ar': [310], '{ihotimAm': [311], 'maroHalap': [312], 'dA}irap': [313], 'dAr': [314, 388], 'damoE': [315], 'qiToEap': [316], 'Easokariy~': [317, 1815], 'maqAl': [318], 'xiyAr': [319], '$axoSiy~ap': [320], 'majozarap': [321], 'majAl': [322], '{iHotifAl': [323], '>ufuq': [324], '{iHotimAl': [325], '>um~': [326, 2059], '$ugol': [327], 'DaHiy~ap': [328], 'taTal~uE': [329], 'SuEuwbap': [330], 'tawaq~uE': [331, 1954], 'Hay~': [332], 'SaHAfiy~': [333, 2802], 'SalAp': [334], 'mura$~aH': [335, 337, 2852, 2854], 'varowap': [336], 'munotaxab': [338], 'munAwarap': [339], 'mu&a$~ir': [340], 'namaT': [341], 'TA}ifap': [342], 'wafod': [343], '<ilof': [344], 'waviyqap': [345, 2037], 'wikAlap': [346, 1584], 'maEonawiy~': [347], 'mu&otamar': [348], 'risAlap': [349], 'masoEaY': [350, 1084], 'maEolam': [351], \"juzo'\": [352, 1373], 'funoduq': [353], 'sA}iH': [354, 1879], '{isotiTolAE': [355], '{imotiHAn': [356], '{isotiEodAd': [357], '$Ahid': [358], '|lap': [359], '*ikoraY': [360], 'minoHap': [361], 'xuTobap': [362], '<imArap': [363], '>aromaniy~': [364], 'kAtib': [365], 'mubAdarap': [366], 'TumuwH': [367], 'bAHiv': [369], 'muHADarap': [370], 'qanAp': [371, 2622], '<iSobaE': [372], 'mu$Arik': [373, 2346], '<iSAbap': [374], 'muEad~al': [375], 'kitAbap': [376], 'Tabiyb': [377], 'baladiy~ap': [378], 'balodap': [379], 'tadAEiy': [380], 'lAEib': [381, 499, 1299, 1454], 'mu$Awarap': [384], 'muhanodis': [385, 2757], 'say~idap': [386], 'kAhin': [387], 'muwaZ~af': [390, 562, 1443, 1449, 1466], 'siloEap': [391], 'muxaT~aT': [392], 'mutaZAhir': [393], 'nAr': [395], 'jaziyrap': [396], 'musotawaY': [397], 'vAbitap': [398], 'taqoniy~ap': [399], 'Saf~': [400], 'su&Al': [401, 2103], 'Dariybap': [402], 'jA}izap': [403], 'SinAEap': [404, 2828], 'sik~ap': [405], 'wAjib': [406], 'munAsabap': [407], 'nafas': [408], 'sifArap': [409], 'mumotalak': [410], 'mumav~il': [411, 412, 1348], '<inojAz': [413], 'EAm': [414], 'EunowAn': [415], 'qayod': [416], 'ziyArap': [417], 'taHaw~ul': [418], 'diroE': [419], 'diyn': [420], '$ayox': [421, 1394], 'manoSib': [422], 'makotab': [423], 'garaD': [424], 'rAbiTap': [425, 608], 'mafohuwm': [426], '>unomulap': [427], 'EaqAr': [428], 'madaniy~': [429], 'mabolag': [430], 'mabiyE': [431], 'maZohar': [432], 'fi}ap': [433], '{ilotizAm': [434], 'ma>osAp': [435], 'rahiynap': [436], 'maEoriD': [438], 'taEobiyr': [439], 'Eaduw~': [440, 976, 1390], 'maEorakap': [441], 'ruwH': [442], 'taEad~iy': [443], 'rifoqap': [444], 'gAyap': [445], 'taEoziyz': [446], 'tasowiyap': [447], 'zA}ir': [448, 1641], 'maso>alap': [449], '$ahor': [450, 1029], 'masiyrap': [451], 'daqiyqap': [452], '$AEir': [455], '{iHotiyATiy~': [456], 'Sador': [458], '$ariyT': [459, 1420, 2135], 'maSonaE': [460], 'murAqib': [461, 1565], '{iHotikAr': [462], 'faroE': [463], 'SidAm': [464], 'muqad~as': [465], 'faqiyr': [466], '*axiyrap': [467], 'fatorap': [468], 'jumohuwr': [469], 'musotawoTin': [470, 2804, 2805, 2806], '{inotiqAd': [471], 'Hiyn': [472], 'tawojiyh': [473, 1961], \"{inotimA'\": [474], '*A': [475, 1672, 1673], 'muvaq~af': [476, 2596], 'mut~aham': [477], 'Hur~iy~ap': [478], 'mutafaj~ir': [479], '$Ab~': [480], 'mawoTin': [481], 'jalosap': [482], 'mutaTal~ab': [483], 'lAfitap': [484], 'xiborap': [485], 'jAr': [486], 'dibluwmAsiy~': [487, 1010, 2198], 'Sunoduwq': [488], 'maToEam': [489], 'xaSom': [490, 1688], 'muSad~ir': [491], '{inoEikAs': [492], '<idArap': [493], '<iTAr': [494, 1642], 'kabiyr': [495], '{iDoTirAb': [496], 'muEotaqal': [497, 2296, 2297], 'maraD': [498], 'muEaw~iq': [501], 'kurodiy~': [502], 'muDAEafap': [503], 'muEAriD': [504, 583, 2271], 'mubAHavap': [505], '$ak~': [506], 'dawor': [507], 'faE~Aliy~ap': [508], 'kul~iy~ap': [509], 'fan~An': [510, 1684, 2468], 'biDAEap': [511], '<i$Arap': [512], 'zamiyl': [513, 639, 1780], 'TAqap': [514], 'mukaw~in': [515], 'xaTar': [516], 'majolis': [517], 'wadiyEap': [518, 1939], 'fiEol': [519], 'fA}idap': [520], '<i*AEap': [521], 'sir~': [522], 'mirofaq': [523], 'TamaE': [524], 'Eilom': [525], 'taHo*iyr': [526], 'takoliyf': [527, 882], 'taHad~iy': [528], 'taDoHiyap': [529], 'taHaf~uZ': [530], 'qunobulap': [531], '>alam': [533], 'namuw*aj': [534], '>adab': [535], 'qA}imap': [536], 'safiyr': [537], 'nAdiy': [538, 661], 'EibArap': [540], 'taHoDiyr': [541], 'sijon': [542], 'niqAbap': [543], 'nafos': [544, 1419], '>adAp': [545], 'sanad': [546], 'sajiyn': [547], '>aqorab': [548], 'tarotiyb': [549], 'ta>oviyr': [550], 'niy~ap': [551, 892], 'taEoliyq': [552], 'tasA&ul': [554], 'rafiyq': [555], 'raSiyd': [556], '>ugoniyap': [557, 1542, 2063, 2065], '>ajonabiy~': [558], 'rAtib': [559], 'Eamiyl': [560, 1186], 'taEodiyl': [561], 'Dayof': [563], 'siyAsiy~': [564, 1491], 'tagoyiyr': [565], 'Eumor': [566], '<ifAdap': [567], 'tajam~uE': [568], 'muEal~im': [569, 896, 1766], 'kurap': [570], 'miyliy$iyA': [571], 'EASimap': [572], 'misAHap': [573], 'Eumoq': [574], 'muSaw~ir': [575, 2740], 'buEod': [576], 'qadiym': [577], 'muHar~ik': [578], '>amiyr': [579], 'mu$otaq~': [580], 'bArijap': [581], 'kaniysap': [582], 'badiyl': [584], 'kasor': [585], 'gurofap': [586], 'tajAwuz': [587], 'HAjiz': [588], 'wasiyT': [589], 'EASifap': [590], 'muHaq~iq': [591], 'mu*ak~irap': [592], \"{id~iEA'\": [593], 'wizArap': [594], 'HaDArap': [595], 'Eurof': [596], 'HAl': [597], 'miSoriy~': [598, 2327], '$A$ap': [599], 'kutolap': [600], 'xir~iyj': [601, 821], 'sA}iq': [602, 1157, 1915], 'ma$ohad': [603], 'malomaH': [604], 'malobas': [605], 'malik': [606], 'makosab': [607], 'rAhibap': [609], '{iEotiqAl': [610], 'taEoziyap': [611], '>unobuwb': [612], 'madoxuwl': [613], '{iEotirAf': [614], 'rA}id': [615, 1856], 'fan~': [616], 'taEoyiyn': [617], 'taEAmul': [618], 'maTar': [619], 'faraH': [620], 'riwAyap': [621], 'fataY': [622], 'gArap': [623], 'diymuqrATiy~': [624], 'diyAnap': [625], 'dalAlap': [626], 'qamar': [627], 'qaroyap': [628, 974, 2609], 'qawol': [629, 1582], '>usorap': [630], '>usoquf': [631], 'matAEib': [632], 'EirAqiy~': [633], 'lA}iHap': [634], 'lagom': [635], 'darajap': [636], 'daros': [638], 'zar~AE': [640], 'daworap': [641], '$ahAdap': [642], 'liybirAliy~': [643], 'mar~ap': [644], '{i$otibAk': [645], 'muSoTAf': [647], '$AriE': [649], 'SalAHiy~ap': [650], '{it~iHAd': [651], 'wahom': [652], 'Talab': [653], '{isotixobAr': [655], 'tamoriyn': [656], 'jayo$': [657], 'mujorim': [658, 2707], 'mutaTaw~iE': [659], 'jayob': [660], 'mutaEAmil': [662], 'muta$ad~id': [663], 'Hadiyv': [664], 'TAri}ap': [665], 'vugorap': [666, 1923], 'taqoliyd': [667], 'huwiy~ap': [668], 'Safoqap': [669], 'najom': [670], 'SafoHap': [671], '<iyqAE': [672], 'vamar': [673], 'hutAf': [675], 'Hakam': [676], 'musota$ofaY': [677], 'jidAr': [678], 'nafaqap': [679], 'muhAjir': [680], 'juroH': [681, 1302], 'muhAjim': [682, 2760], '<iyjAbiy~': [683], 'TaroH': [684], 'tawAzun': [685], 'nA$iT': [686, 1161], 'jawAb': [687], 'jawolap': [688], '>uwlA}ika': [690], 'jAnib': [691], 'DamAn': [692], 'DamAnap': [693], 'juv~ap': [694], 'Hariyq': [695], 'nihA}iy~': [696], 'Taqos': [697], '{it~ijAh': [698], 'saEuwdiy~': [699, 1861], 'murAsil': [700, 2855, 2857], 'Haqol': [701], 'mAruwniy~': [702], 'maqoTaE': [703], 'taqodiymAt': [704], 'lawoH': [705], 'quTor': [706], 'darob': [707], '>ab': [708, 1407, 2126], 'lawoHap': [709], 'taqodiyr': [710], 'qisoT': [711], 'murotakib': [712, 1545, 2820], 'musal~aH': [713], 'EAqibap': [714], 'marojiE': [715], 'Saqor': [716], '>awojuh': [717], 'jabal': [718], 'musAhamap': [719], 'marosam': [720], 'EiSAbap': [721], 'musAbaqap': [722], 'safiynap': [723], 'musotalozam': [724], '>uwrub~iy~': [725, 1438, 2106], 'naSiyHap': [726], 'faroq': [727], '{ixotibAr': [728], '$ariyk': [729, 1276, 2137], 'muxotabar': [730], 'maSoruwf': [731], 'muxAlafap': [732], 'taEoqiyd': [733], 'EalAmap': [734], 'fatAp': [736], 'Hayoviy~ap': [737], 'taEoliym': [738, 740], 'maHal~': [739, 926], 'maEorifap': [741], 'taEah~ud': [742], 'fayaDAn': [743], 'maEoniy~': [744], 'maEonaY': [745], '{iHotijAj': [746], '>uSuwliy~': [747, 2066], 'Harof': [748, 1155], 'zamAn': [749, 1938], 'duwlAr': [750], 'manoduwb': [751, 935, 2260], 'Earoqalap': [752], 'musotanad': [754], 'taro$iyH': [755], 'turokiy~': [756, 1979], 'sAHap': [757], 'fAtuwrap': [758], 'mutaTar~if': [759, 1484], 'EaSab': [760], 'musotaworid': [761, 1465, 2803], 'musotaxodam': [762, 2778], '{ikoti$Af': [763], '>u*un': [764], 'mahorajAn': [765], 'maham~ap': [766], 'faHoS': [767], '>asiyr': [768, 1567], 'EaZom': [769], '{iqotiSAd': [770], \"<ino$A'\": [771], 'tagay~ur': [772], 'wisAm': [773], 'qAtil': [774, 2679], '<iDorAb': [775], 'banok': [776], 'suwriy~': [777], 'HAfilap': [778], '{iqotiSAdiy~': [779, 2085, 2088], 'mu&omin': [780], 'munAfasap': [781], 'mu&al~af': [782], 'waZiyfap': [783], 'Hafolap': [784], 'qim~ap': [785], 'Euqob': [786], 'Eumuwm': [787], 'biTAqap': [788], 'najAH': [789], 'ham~': [791], 'niEomap': [792], 'baH~Arap': [793], \"nidA'\": [794], 'muSal~iy': [795], 'mubar~ir': [796], 'Zil~': [797], 'mudAfiE': [798], 'nisobap': [799], 'muHal~il': [800], 'hayokal': [801], 'muHAfiZ': [802], 'muHAfaZap': [803], 'kAdir': [804], 'muHADir': [805], 'ba*or': [806], 'nizAE': [807], 'nufAyap': [808], 'muEotaqad': [809], '>ajiyr': [810], 'mu$Ahid': [811, 2348], 'mu&Amarap': [812], 'miydAliyap': [813], 'Haqiybap': [814], '$uEAE': [816], '*At': [817], 'mawoquwf': [818], 'tanAzul': [819], '<i$AEap': [820], 'naZar': [822], 'miHowar': [823], 'salobiy~': [824], 'tasohiyl': [825], 'muqAtil': [826, 829, 2832], 'SirAE': [827], 'matoHaf': [828], 'jisor': [830], \"Dawo'\": [831], 'maziy~ap': [832], 'laHoZap': [833], 'muqiym': [834], 'mitor': [835, 2312], 'wArid': [836, 1929], 'Eumolap': [837], 'milok': [839], 'Daruwrap': [840], 'bi}or': [841], '*ihon': [842], 'jariyH': [843], 'mifotAH': [844], 'midofaE': [845], 'muTorAn': [846], 'munaf~i*': [847, 1523], 'buTuwlap': [848], 'kalob': [849], 'maEomal': [850], '{isotiHoqAq': [851], 'jar~Afap': [852], 'laqab': [853], 'say~id': [854, 1235], '{igotiyAl': [855], \"{ifotirA'\": [856], '{ixotiSAS': [857], 'sulaHofAp': [858], 'ma>orab': [859], 'jumohuwriy~': [860], 'kulowap': [861, 2360], 'jumoruk': [862], 'ma*obaHap': [863], '{inoqisAm': [864], 'junod': [865], '{isoti$Arap': [866], 'maEohad': [867], 'ta$okiyl': [868], 'maEAbid': [869], '{isotinotAj': [870], '{isoti$ohAdiy~': [871], 'kuwayotiy~': [872], 'kuwbiy~': [873], 'sayof': [874], 'muwAzanap': [875], 'rihAn': [876], 'wAfid': [877], 'nagom': [878], 'waHol': [879], 'mulAbasap': [880], 'mukab~ir': [881], 'mujam~aE': [883], 'mufat~i$': [884, 1413], 'mufAwiD': [885, 1416], 'tajohiyz': [886], 'wakiyl': [887, 1982], 'mudAwalap': [889], 'waqof': [890], 'waqot': [891], 'muHAkamap': [893], 'wijohap': [894], 'muEasokar': [895], 'qAr~ap': [897], 'muEAmalap': [898], 'nadowap': [899], 'naZariy~ap': [900], 'muDAd~': [901], 'muqATaEap': [902], 'tawaj~uh': [903], 'muwjib': [904], 'tawat~ur': [905], 'muxAbarap': [906], 'muxotAr': [907, 2535], 'tilofizyuwn': [908], 'mutagay~ir': [909], 'mutafar~ij': [910], 'nASiriy~': [911], 'nAxib': [914, 1410, 1429], 'valAviyn': [915], 'musAhim': [916, 2793], 'vaqAfap': [917], 'muqotaraH': [918], 'taqal~ub': [919], 'muqar~ar': [920], 'muqad~imap': [921], 'muqAwil': [922], 'muqAtilap': [923], 'muEAlajap': [924], 'mu&otamir': [925], 'marokabap': [927], '{i$otirAk': [928], 'mariyD': [929], 'maqohaY': [930, 1686], 'maqoTuwEap': [931], 'maqar~': [932, 2251], '{iEotibAr': [934], 'mano$uwr': [936, 2247], 'taHAluf': [937], '{iEotimAd': [938], 'majoraY': [939, 940, 1662], 'rAqiS': [941, 1177], '{iEotirAD': [942], 'ra$~A$ap': [943], 'raEiy~ap': [944], 'rad~': [945, 1853], '{iHotiyAT': [946, 1417], 'ragobap': [947], 'maHoDar': [948], 'quTob': [949], 'masAr': [950], 'mu$otarik': [951, 2334], 'qa*iyfap': [953], 'tabar~uE': [954], 'miyvAq': [955], 'qadam': [956], 'qalam': [957], 'xalofiy~ap': [958], 'mawojap': [959], 'mawohibap': [960], 'taHowiyl': [961], 'matojar': [962], 'qay~im': [963], 'taHoliyl': [964, 2073], 'masolak': [965], 'masokan': [966], 'masojid': [967], 'zabuwn': [968], 'qinAE': [970, 2648], 'qisom': [972], 'zujAjap': [973], '|yap': [975], '>us~': [977], 'Eamiyd': [978], 'Eahod': [979], 'dar~Ajap': [980], '>aqal~iy~ap': [981], 'bidAyap': [982], '<iSolAHiy~': [983], 'HAxAm': [984], '<iqoliym': [985], 'hinoduwsiy~': [986], 'dAEiy': [987, 1588, 1590], 'HiS~ap': [988], '$akowaY': [989], '<inos': [990], 'Sifap': [991], \"$ayo'\": [992], 'diEomap': [993], 'Hajar': [994, 1143], 'fiyliyb~iyniy~': [995], 'Haloqap': [997], 'EaSor': [998], 'EAzif': [999], '<ijAbap': [1000], '<ijAzap': [1001], 'bunoduqiy~ap': [1002], 'bu&orap': [1003], 'Tariyqap': [1004], 'briyTAniy~': [1005], '<iyrAniy~': [1006], '$atiymap': [1007], '$awoT': [1008], '$ubohap': [1009], 'Hur~': [1011], 'Tabol': [1012], 'fAn': [1013], '>amiyn': [1014, 2152], '$aqiyq': [1015, 1021], 'Eiborap': [1016], 'DiEof': [1017], '$ATi}': [1018], '>uxot': [1019], 'bAqiy': [1020, 1774], '$AHinap': [1022], 'faSol': [1023], '*akar': [1024], 'Eayob': [1025], 'Eaqabap': [1026], 'EA}iq': [1027], '$Ab~ap': [1028], 'HAfiz': [1030], 'HiwAr': [1031], 'bAS': [1032], 'bAkistAniy~': [1033], 'Talaq': [1034], '$Ahidap': [1035], 'Eamuwd': [1036], 'badal': [1037], 'jadowal': [1038], '*ariyEap': [1039], 'muHotarif': [1041, 1388, 1574], 'ZAhirap': [1042], 'tawoZiyf': [1043], 'muHotAj': [1044], 'tasojiyl': [1045], 'taroxiyS': [1046], '<iyTAliy~': [1047], '<iyDAH': [1048], 'Turobiyd': [1049], 'muforadAt': [1050], 'takah~un': [1051], 'mukotasab': [1052], 'mujotamiE': [1053, 2705], 'TaEon': [1054], 'tamoriyrap': [1055], 'mujAhid': [1056, 2734, 2735], 'tanAquD': [1057], 'muhar~ib': [1058], 'Talaqap': [1059], 'mugotarib': [1060, 2762], 'taqodiym': [1061], 'TaloEap': [1062], 'muTAlib': [1063], 'mufak~ir': [1064], '>aEolAm': [1065], 'mufAja>ap': [1067], 'muEotaSim': [1068], 'mud~aEiy': [1069], 'mudiyr': [1070, 1422, 1423, 2772], 'mudar~is': [1071], 'mudar~ib': [1072, 2774], 'mudar~aEap': [1073], 'mudAxalap': [1074], 'tawoqiyf': [1075], \"binA'\": [1076], 'tayosiyr': [1077], 'baSomap': [1078], 'buwroSap': [1079], 'mawokib': [1081], 'buwsoniy~': [1082, 1610], 'watar': [1083], 'marosuwm': [1086], 'marofa>': [1087], 'xA}in': [1088], 'dufoEap': [1089], 'maqoSuwrap': [1090], 'xaTiyb': [1091], 'xaTiy}ap': [1092], 'manosuwj': [1093], '<i$oEAE': [1094], 'manofa*': [1095], 'malomas': [1096], 'xariyTap': [1097], 'maloEab': [1098], 'xaroq': [1099], 'fA}iD': [1100], 'fa>or': [1101], 'xayorap': [1102], 'majod': [1103], 'buwq': [1104], 'buwayoD': [1105], 'mawosim': [1106], \"miynA'\": [1107], '<itoniy~ap': [1108], 'muEal~iq': [1109], '<isotuwdiyuw': [1110], 'timovAl': [1111], 'baqar': [1112], 'muDArabap': [1113], 'variy~': [1114], 'vaworap': [1115], 'biloyuwn': [1117], 'miyzAn': [1118], 'waro$ap': [1120, 2026], 'binot': [1121], 'mivAl': [1122], '<ino*Ar': [1123], 'binoyap': [1124, 1128, 1784, 2315], 'mirowaHiy~ap': [1125, 2314], 'miqoyAs': [1126], 'minobar': [1127], 'wajobap': [1129], 'mazoEamap': [1130], '<ihAnap': [1131], '>afogAniy~': [1132], 'muqAwalap': [1133], 'tajA*ub': [1134], 'Ead~Ad': [1135], \"Ead~A'\": [1136, 1828], 'rawoDap': [1137], 'Hab~': [1139, 1573], 'naqoD': [1140], 'Hadiyqap': [1141], 'nakobap': [1142], 'riyH': [1144], 'ruwsiy~': [1145], 'ruxoSap': [1146], 'Ham~Am': [1147], 'Haraj': [1148], 'Harobap': [1149], 'naHow': [1150], 'naEot': [1151], 'sAbiqap': [1152], 'na$orap': [1153], 'na$iyT': [1154], 'nAziH': [1156], 'HayawAn': [1158], 'nA$ir': [1159], 'saToH': [1160], 'saboEiyn': [1162], 'Ha$od': [1163], 'ramol': [1164], 'muxad~ir': [1165], 'nuxobap': [1166], 'quboruSiy~': [1167], 'rAEiy': [1168, 1834], 'Earabap': [1169], 'EaraD': [1170], 'rAdAr': [1171], 'rAfidap': [1172], 'rAgib': [1173], 'Eaqol': [1174], 'Eaqiydap': [1175], 'qiS~ap': [1176], 'qatiyl': [1178], 'qariynap': [1179], 'EaqArib': [1180], 'Eu$ob': [1181], 'Eu*or': [1182], 'qabiylap': [1183], 'qaDiyb': [1184], 'Eunoq': [1185], 'qA}im': [1187], 'qAsim': [1188], 'HAj~': [1189], 'qAri}': [1190], 'HAmil': [1191], 'qAEap': [1192], 'HAris': [1193], 'muxal~af': [1194], 'HikAyap': [1195], 'tahoni}ap': [1196], 'musAEid': [1197, 1540, 2796, 2797], '>axolAqiy~': [1198], '>atoEAb': [1200], \">arojA'\": [1201, 2076], 'taHosiyn': [1202], 'murAfiq': [1203, 2841], 'muqotaDaY': [1205], 'muqaw~im': [1206], 'muqar~ab': [1207], 'Silap': [1209], 'muqAwim': [1210], 'taTobiyq': [1211], 'faHol': [1212], 'muqAranap': [1213], 'muqAbalap': [1214], 'Siygap': [1215], 'munotij': [1216, 1217], 'munotaqid': [1218, 1430], 'tadaf~uq': [1219], 'tadax~ul': [1220], 'munaZ~im': [1221, 2718, 2719], 'tafAEul': [1222], 'tafojiyr': [1223], 'tafosiyr': [1224, 1336], '>uToruwHap': [1225], 'musAfir': [1226, 2794, 2795], 'sam~': [1227], 'ta>o$iyr': [1228], 'EATifap': [1229], 'EA$iq': [1230, 1818, 1837], 'HizAm': [1231], 'Huforap': [1232], 'Huj~ap': [1233], 'sariqap': [1234], 'DiloE': [1236], 'mutanAfis': [1237], 'sijil~': [1238], 'DayoEap': [1239], 'Huwt': [1240], 'sik~iyn': [1241], 'mutaEav~ir': [1243], 'mutaEAqid': [1244], 'musotawodaE': [1245], 'suHub': [1246], 'SaHon': [1247], 'musotawoEib': [1248], 'suk~An': [1249], 'SadaY': [1250], 'musotaholik': [1251, 2816], 'tAbiE': [1252], 'musota$Ar': [1253, 1450], 'musin~': [1255, 1453, 2784], 'mahArap': [1256], 'Eatabap': [1257], '$ahowap': [1258], '$iy$Aniy~': [1259, 1936], 'madofuwE': [1261], 'kas~Arap': [1262], 'jaras': [1263], 'gariyzap': [1264], 'jAniy': [1265], 'lamosap': [1266], 'ziy~': [1267], 'junayoh': [1268], 'hAjis': [1269], 'maTAr': [1270], 'haziymap': [1271], '{irotibAT': [1272], 'jumuwE': [1273], 'jinosiy~ap': [1274], 'jasad': [1275], '{imotiyAz': [1277], 'laHom': [1278], '{isotifozAz': [1279], 'kaniys': [1280], '$uhuwd': [1281], 'had~Af': [1282, 1445], 'yanobuwE': [1283], 'jumolap': [1284], 'zaworaq': [1285], '$ilow': [1286, 1934], '$uguwr': [1287], 'yamaniy~': [1288], 'fuwTap': [1289], '{ixotilAf': [1290], 'madoxal': [1291], 'zuqAqiy~': [1292], '{inofiEAl': [1293], '{iEotiSAm': [1294], 'kiyluwmitr': [1295], 'kiyAn': [1296], 'liyf': [1297], 'kArivap': [1300], 'gAziy': [1301], '{ijotiyAH': [1303], 'maHoruwq': [1304], 'ziyAdap': [1305], 'xurAfap': [1306], 'mafoEuwl': [1307], 'ma*ohab': [1308], 'jinAyap': [1309], 'maTomaE': [1310], 'mAniE': [1311], 'fariyq': [1312, 1630], '$A}ibap': [1313], '{ibotisAmap': [1314], \"EaTA'\": [1315], 'EaDalap': [1316], 'Hamalap': [1317], 'naZiyr': [1318, 2553, 2554, 2555], '>adabiy~At': [1319], 'TaEAm': [1320], 'hawaY': [1321], 'EaSabap': [1322], 'kAmirA': [1323], 'gAz': [1324], '{isotijowAb': [1325], 'mujan~is': [1326], 'taman~iy': [1327], 'gAbap': [1328], 'liybiy~': [1329], 'mukav~if': [1330], 'tajAEiyd': [1331], 'muna$~iT': [1332], 'munAx': [1333, 2721], '$aEiyrap': [1334], 'nAziy~': [1335], 'liyrap': [1337], '>akAdiymiy~': [1338], 'Haroq': [1339], 'munAhiD': [1340, 2729, 2730], 'munAfis': [1341], 'munASir': [1342, 2732], 'lugap': [1343], 'munADil': [1344], 'takotiyk': [1346], 'mumay~izap': [1347], 'mumar~iD': [1349], '>aforiyqiy~': [1351], 'mA$iy': [1352], 'Talal': [1353], 'muloHaq': [1354, 2696], '$a*~': [1355], 'mA$iyap': [1356], 'sAHil': [1357], 'TAqim': [1358], 'mAlik': [1360, 2493, 2494, 2495], 'fuwh': [1361], 'mAliyziy~': [1362], 'Tay~Ar': [1363, 1372], 'muSoTalaH': [1364], '{isotinAbap': [1365], 'Hafiyd': [1366], 'riwAq': [1367], 'Tay~ap': [1368], 'muZAharap': [1369], 'mubAdalap': [1370], 'muhan~i}': [1371], 'tarobawiy~': [1374], 'muboEad': [1376], 'mubodiE': [1377], 'Tun~': [1378], '<iyjAr': [1379], 'muSan~iE': [1380], 'tarotiylap': [1381], 'naqiyb': [1382], 'Eabowap': [1383], 'hibap': [1384], 'muSAdamap': [1385], 'muHotawaY': [1386], 'Eadasap': [1387], 'tasoriyb': [1389], \"<iyHA'\": [1391], 'muHotajaz': [1392], 'tawag~ul': [1393], 'mubotadi}': [1395], 'tarad~ud': [1396], 'Taw~Afap': [1397], '>abora$iy~': [1399], 'rubuwE': [1400], 'rubuE': [1401], 'nabiy~': [1402, 2548], 'ru&aY': [1403, 1404], 'hawol': [1405], 'rizoq': [1406], 'mugAlaTap': [1408], 'mufotaraq': [1409], 'nafaq': [1411], 'kAfir': [1412], '$ar~': [1414], '{iHotiyAj': [1415], 'taqoniy~': [1418, 2130], 'Hakiym': [1421], 'frAnokuwfuwniy~': [1424], 'Hajom': [1425], 'nahor': [1426, 2608], 'kAbuws': [1427], 'mudar~aj': [1428], '{ijotihAd': [1431], 'muwak~il': [1432], 'kanoz': [1433], '{inosiHAb': [1434], 'muwdiE': [1435], 'muwal~id': [1436], 'musotaqobil': [1437, 2810], 'gulAp': [1439], '{inoqilAb': [1440], 'sud~': [1441], '{inotiSAr': [1442], 'SaHAriy': [1444], 'siy~': [1446], 'musotajad~': [1447], 'suwr': [1448], 'muxaT~iT': [1451, 2540], 'salaf': [1452], 'HiSon': [1455], 'ta$okiylap': [1456], 'kuwriy~': [1457, 2375], '>usoturAliy~': [1458], 'SafiyHap': [1459], 'muxaS~aS': [1460], 'musotaEomir': [1461], 'tAyolanodiy~': [1462], 'salobiy~ap': [1464], 'musalosal': [1467], 'kiyniy~': [1468], 'mutabAriy': [1469, 2571], 'mutadar~ij': [1470], 'mut~ajih': [1471], 'Huzon': [1472], 'hadiy~ap': [1473], 'Huromap': [1474], 'sariy~ap': [1475], 'SAlap': [1476], 'hAtif': [1477, 2361], 'saxAfap': [1478], 'sibAq': [1479], 'mutasAbiq': [1480], 'mutaxar~ij': [1481, 2180], 'kawomap': [1482], 'Damiyr': [1483], 'musotaxodim': [1485, 2691, 2692], 'DAHiyap': [1486], 'siykArap': [1487], 'mutAbiE': [1488, 1489], 'SaEiyd': [1490, 2693], 'muta>ax~ir': [1492], 'sitArap': [1493], 'mutaTal~ib': [1494], 'Hujorap': [1495], 'muwASalap': [1496], 'simap': [1497], 'simAk': [1498], 'silok': [1499], 'SAniE': [1500, 2579], 'musal~am': [1501], 'ta>okiyd': [1502], 'kafAlap': [1503], '>anoguwliy~': [1504], 'Hawozap': [1507], 'Sinof': [1508, 2833], 'taTomiyn': [1509], '{ilotimAs': [1510], 'garobiy~': [1511], 'muqArabap': [1512], 'garosap': [1513], 'Sihoriyj': [1514], 'taSoniyf': [1515], '{imotidAd': [1516], 'muqotaTaf': [1517], 'Sayodaliy~ap': [1518], 'nAfi*ap': [1519], 'garAmap': [1520], '{ino$iqAq': [1521], 'tabAyun': [1522], 'HawoD': [1524, 1525], 'tabiEap': [1526], 'nAqid': [1527], 'tabaE': [1528], 'munotadaY': [1529], 'layolap': [1530], 'munotafiE': [1531], 'tabAdul': [1532], 'munotajaE': [1533], 'libAs': [1534], 'muHib~': [1535, 2565, 2754], 'Siyniy~': [1536], 'taSomiym': [1537], 'murAbiT': [1538], 'muxal~iS': [1539], 'murotafaE': [1541], 'murotakaz': [1543], 'HiDon': [1544], '>uko*uwbap': [1546], '>umoniy~ap': [1547, 2061], '{inobiEAv': [1548], 'Saliyb': [1549], 'muxorij': [1550], 'Sak~': [1551], 'Sahoyuwniy~': [1552], '>uno$uwdap': [1553], '>unovaY': [1554], 'taEorifap': [1555], 'kamiyn': [1556], 'kaf~': [1557], 'nA$i}': [1558], 'murAdif': [1559], 'taSad~uE': [1560], 'gaw~ASap': [1561], 'nAHiyap': [1562, 2528], '$akoliy~ap': [1563], 'murAjaEap': [1564], 'muzAriE': [1566, 2523, 2531], 'haram': [1568], 'Saxor': [1569], \"giTA'\": [1570, 2390], 'taHar~iy': [1571], '{inoTilAq': [1572], 'muHar~ir': [1575, 2521], 'mas~ap': [1576], 'dafotar': [1577], 'Eiroq': [1578, 2613], 'dafoEap': [1579], 'masoraH': [1580], '<iSodAr': [1581], 'wayolap': [1583, 2039], 'matAhap': [1585], 'qasoTal': [1586], 'maTobuwE': [1587], 'EiyAr': [1589, 2617], '<iHosAs': [1591], 'masobaH': [1592], 'jaHofal': [1593], 'jawoEAn': [1594, 2407], 'xAl': [1595], 'xAdim': [1596], 'qiTAr': [1597], 'wuquwE': [1598], 'wuSolap': [1599], 'EiroD': [1600], 'daworiy~ap': [1601], 'rAsib': [1602], 'yawomiy~At': [1603], 'wisATap': [1604], 'daq~ap': [1605], \"<iEofA'\": [1607], 'fan~iy~At': [1608], 'rA}iHap': [1609], 'mawoj': [1611], 'miHonap': [1612], 'jabohap': [1613], 'mazomuwr': [1614], 'miDax~ap': [1616], 'maSAEib': [1617], 'zaH~Afap': [1618], 'faqorap': [1620], 'EuTol': [1621], 'miZal~ap': [1622], '$iyk': [1624], '<ilozAm': [1625], 'qadar': [1626], 'buqoEap': [1627], 'qamiyS': [1628], 'ra$owap': [1629, 1631, 1863], 'mayodAn': [1632], 'maxozan': [1633], 'maxoraj': [1634], 'jazA}iriy~': [1635], 'jad~': [1636], 'zaEAmap': [1637], 'Eiyd': [1638], 'busotAn': [1639], 'qaron': [1640], 'maTab~': [1643], 'maZolimap': [1644], 'marosaY': [1645], 'rAliy': [1646], 'mala*~ap': [1647, 2229], 'fA}iz': [1648], 'makosiykiy~': [1651], 'fAr~': [1652], 'makotabap': [1653], 'Earo$': [1654], 'jarid': [1655, 2411], 'malo>ak': [1656], 'fahom': [1657], 'qiyAdiy~': [1659], 'xanodaq': [1660], 'xamor': [1661], 'faZiyEap': [1663], 'faDiyHap': [1664], 'majohuwl': [1665], 'xiTAb': [1666], 'majariy~': [1667], 'majal~ap': [1668], 'faDiylap': [1669], 'madoyuwniy~ap': [1670], 'xuloq': [1671], 'qumA$': [1674], 'mafosadap': [1675], 'xuSuwSiy~ap': [1676], 'qunoSuliy~ap': [1677], 'mafoquwd': [1678], 'rAbiH': [1679], 'fAkihap': [1680], 'jawAz': [1681], 'diysk': [1682], 'maqoSid': [1683], '<i*on': [1685, 1990], 'maqolaE': [1687], 'xaSiySap': [1689], 'xaliy~ap': [1690], 'rAhib': [1691], 'xAsir': [1692, 1986], 'yasAriy~': [1693, 1988], 'dihAn': [1694], 'marojiEiy~ap': [1695], 'xArij': [1696], 'duhon': [1697], 'EibAd': [1698], '|hap': [1699], 'manotuwj': [1700], 'fal~': [1701], 'qinodiyl': [1703], 'mabonaY': [1704, 2467], 'manofaEap': [1705], 'janAH': [1708, 1713], 'fAEil': [1709], 'manobaE': [1710], 'manoZuwmap': [1711], 'fAjir': [1712], 'mihonap': [1714], '$abah': [1715], 'mu&as~is': [1716, 2282, 2283], 'jumohuwriy~ap': [1717], 'mu&ar~ix': [1718], 'hinodiy~': [1719], 'maEodin': [1720], 'mu&al~if': [1721, 2286, 2308], 'taxomiyn': [1722], 'vawob': [1723], 'maEoqil': [1724], 'mu$otariy': [1725, 2333], 'rasomAl': [1726], 'fax~Ariy~At': [1727], 'muEotadiy': [1728], 'mu$otaraY': [1729], 'rasuwl': [1730], 'viqap': [1731], 'vuEobAn': [1732], '{isotixodAm': [1733], 'mu$orif': [1734, 2338], 'HaZ~': [1735], 'baEovap': [1736], 'wADiE': [1737, 1925], 'bi$Arap': [1738], 'mu$ay~iE': [1739], 'qArib': [1740], 'bAxirap': [1741], 'wAdiy': [1742], 'vamiyn': [1743], '<ivArap': [1744], 'mu$aj~iE': [1745], 'maEolAp': [1746], 'HAs~ap': [1747], 'nusoxap': [1748], 'badawiy~': [1749], 'rakiyzap': [1750], 'rakol': [1751], 'nuwr': [1752], 'tuHofap': [1753], 'vAniyap': [1754, 1951], 'tisoEiyn': [1755], 'muDAyaqap': [1757], 'muDArib': [1758], 'vA}ir': [1759], \"barA'ap\": [1760], \"bariy'\": [1762], 'valoj': [1763], '<isotrAtiyjiy~ap': [1764], 'barolamAn': [1765], 'vamAniyn': [1767], 'mu&ay~id': [1768, 1769, 2281], 'vaman': [1770], 'junoHap': [1771], '<iro$Ad': [1772], '<ivoniy~ap': [1773], 'mirojal': [1775], 'waSol': [1776], 'muHArib': [1777], 'binAyap': [1778], 'jinos': [1779], 'maDojaE': [1782], 'raSad': [1783], \"qaDA'\": [1785], 'Eumuwmiy~ap': [1786], 'bin': [1787, 2347], 'miqolAd': [1788], 'muHaS~il': [1789], 'Eumuwlap': [1790], 'bAdirap': [1791], 'miqodAr': [1792], 'maDobuwT': [1793], 'tawoDiyH': [1794], 'qaSor': [1795], 'Habol': [1796], 'zalam': [1797], '$iroyAn': [1798], 'miyEAd': [1799], 'badiyhiy~ap': [1800], '<inokliyziy~': [1801], 'mi}o*anap': [1802], 'fitonap': [1803], 'rab~': [1804], 'miyzap': [1805], 'ratol': [1806], 'radomiy~': [1807], 'mu$Arakap': [1808], 'fawAt': [1809], 'jisom': [1810], 'wAliy': [1811], 'Habiyb': [1812, 2659], '$abaH': [1813], 'EatAd': [1814], '{irotiEA$': [1816], 'samAd': [1817], 'quronap': [1820], '{irotifAE': [1821], 'ribAT': [1822], '{isotiqAlap': [1823], 'rAdiykAliy~': [1824], 'saqaT': [1825], '|xi*': [1826], 'saqof': [1829], 'Eabod': [1830], 'sanotimitr': [1831], \"{isotiqoSA'\": [1832], 'sarab': [1833], 'saqoTap': [1836], '|nisap': [1838], '$a*orap': [1839], 'sayol': [1840], 'raqabap': [1841], 'ras~Am': [1842], 'ratiyb': [1843], 'rAbiyap': [1844], 'Eab~Asiy~': [1846], 'ramoyap': [1847], '$Akiy': [1848], 'EaTiy~ap': [1849], 'rawosam': [1850], '$Arap': [1851], 'rA}iEap': [1852], '{isotihodAf': [1854], 'saHob': [1855], 'EArif': [1857], 'rabowap': [1858], 'raSiyf': [1859, 1864], \"{isotidoEA'\": [1860], '$Agir': [1862], 'Ea*Ab': [1865], 'saHonap': [1866], '{isotiEomAl': [1867], '{isotiEolAm': [1868], '$Amiy~': [1869], '{it~ifAqiy~ap': [1870], 'Eanotariy~ap': [1871], '$aTor': [1872], 'Eanobar': [1873], 'Eam~': [1874], 'sAtir': [1875], 'sA}il': [1876], '$aHonap': [1877], 'raD~': [1878], 'raSASap': [1880], '{isotiko$Af': [1881], 'rAyap': [1882], '{isotimArap': [1883], '{i}otilAf': [1884], 'riyADap': [1885], 'EAdap': [1886], \"{isotivonA'\": [1887], 'saliyf': [1888], '|Sirap': [1889], 'Eaq~Ar': [1890], 'riyAl': [1891], '{irotikAb': [1892], 'rAmiy': [1894], 'EAhap': [1895], 'raHol': [1896], 'EAlam': [1897], 'saf~Ak': [1898], '$Aridap': [1899], '{ixotirAq': [1900], 'Eajalap': [1902], 'Eajiybap': [1903], 'raf~': [1905], 'Ealaf': [1906], 'sab~Aq': [1907], '{ixotiyAr': [1908], 'EAqid': [1909], 'EAriD': [1910], '$Arib': [1911], 'saTor': [1912], '$aZiy~ap': [1913], 'rutobap': [1914], '$ujayorap': [1916], 'Duruwb': [1917], '<isohAm': [1918], '<irosAliy~ap': [1919], 'vinoy': [1921], 'viqal': [1922], '<irohAS': [1924], '<irobAk': [1926], 'zay~AH': [1927], 'zayot': [1928], '<iqAmap': [1930], '<inotAj': [1931], 'zawojap': [1933], 'waTan': [1935], 'zaman': [1937], '<imokAniy~ap': [1940], 'wafAp': [1941], 'zal~ap': [1942], '<imodAd': [1943], 'zalozalap': [1944], 'wafodiy~': [1945], '<imobirATuwriy~ap': [1946], 'wajaE': [1947], 'vamor': [1948], '<imAm': [1950], 'tawAfuq': [1952], 'quroSAn': [1953], '<ixorAj': [1955], 'tawas~uE': [1956], \"<ixolA'\": [1957], '<ixofAq': [1958], '$iEob': [1959], '$iEor': [1960], 'tawoqiyE': [1962], 'tawosiyE': [1963], 'taxofiyD': [1964], 'taxom': [1965], 'zuqAq': [1966], '$ihAb': [1967], '<ivom': [1968], 'tilisokuwb': [1969], 'zuhuwr': [1970, 1972], 'tirob': [1973], 'tisoEiyniy~': [1974], '<isotrAtiyjiy~': [1975, 1977], 'turobap': [1976], 'ziyjap': [1978], '<isonAd': [1980], 'zahor': [1981], '{iEoti*Ar': [1983], 'xAm': [1984], 'xAnap': [1985], 'xAtam': [1987], \"<iDA'ap\": [1989], '<i$okAliy~ap': [1991], '<i$okAl': [1992], '*ayol': [1993], 'xafiy~ap': [1994], 'xaliyfap': [1995], 'xaliyq': [1996], 'xaloT': [1997], '*aqon': [1998], 'xamiyr': [1999], 'xurosAn': [2001], '*anob': [2002], 'xawAliy': [2003], 'xayoT': [2004], 'xayomap': [2005, 2007], 'xuroTuwm': [2006], 'xaz~An': [2008], '*abo*abap': [2009], '*abiyHap': [2010], '*Ahib': [2011], 'xuDorap': [2012], '$uyuwEiy~': [2013], 'yatiym': [2014, 2015], \"walA'\": [2016], 'xATirap': [2017], '<ikorAmiy~ap': [2018], 'waliymap': [2019], 'waliy~': [2020], 'wamoDap': [2021], '<ikoliyl': [2022], '$iymap': [2023], 'waraY': [2024], 'waral': [2025], 'warod': [2027], \"<igorA'\": [2028], 'wasax': [2029], '<ibodAE': [2030], 'wasiyTap': [2031], '$uEobap': [2032], 'zAruwb': [2033], 'watad': [2034], 'zAniy': [2035], 'watiyrap': [2036], 'yaxot': [2038], 'wazon': [2041], \"wiEA'\": [2042], '<iHodAviy~': [2043], 'wilAdap': [2044], '<iEodAm': [2045], '<iDAfap': [2046], '<iySAl': [2047], 'tasomiyap': [2048], 'DifAf': [2049], 'ta$aw~uh': [2050], '>usoTuwl': [2051], '{inofirAj': [2052], '>urodun~iy~': [2053], 'ta>am~ul': [2054], '{inofijAr': [2055], 'ta>omiyn': [2056], '>uqoHuwAn': [2057], 'taEAqud': [2058], '>umosiy~ap': [2060], '>uloEuwbap': [2062], 'taEomiym': [2064], '>azaj~': [2067], '>ayodiyuwluwjiyA': [2068], '>axawiy~ap': [2069], 'taHiy~ap': [2071], '{inoTibAE': [2072], '>asad': [2074], '{inoHirAf': [2075], '>arobaEiyn': [2077], '$al~Al': [2078], '>anoziym': [2079], 'ta$obiyh': [2080], 'ta$an~uj': [2081], 'taTowiyb': [2082], 'ta$aE~ub': [2083], 'Did~': [2084], 'sifor': [2086], 'Daruwriy~': [2087], '$afor': [2089], 'DarAwap': [2090], '{inozilAq': [2091], 'sin~': [2092], 'DaHokap': [2094], '{inotiqAl': [2095], 'siyAHap': [2096], 'siyjArap': [2098], 'siynAriyw': [2099, 2100], 'siyrofirz': [2101], '>uwtuwbiys': [2102], 'su&or': [2104], '{inotihAziy~': [2105], 'sunobul': [2107], 'sur~': [2108], 'suwdAniy~': [2109], 'suwfoyitiy~': [2110], '$ajan': [2111], '{inohimAk': [2112], '{ilotibAs': [2113], '{ikotitAb': [2114], 'tasoliyf': [2115], 'tamoriyr': [2116], 'tamowiyh': [2117], 'tanaq~ul': [2118], '$aq~ap': [2119], 'tanoZiyf': [2120], '>aboSAr': [2121], '$arak': [2122], 'tanoqiyb': [2123], 'taqATuE': [2124], '$ariyEap': [2125], '{iSoTilAH': [2127], '>aSalap': [2128], '$ariyHap': [2129], '>a$uwriy~': [2131], '>a$al~': [2132], 'taqoyiyd': [2133], '{iHotirAm': [2134], 'tarAkum': [2136], 'tarojamap': [2138], 'tarojiyH': [2139], 'taromiym': [2140], '$atolap': [2141], 'taroniymap': [2142], '{iEotiqAd': [2143], '<iydAE': [2144], '$ayoTAn': [2145], '{ibotikAr': [2146], 'tamodiyd': [2147], '$amoEadAn': [2148], '$aqiyqap': [2149], 'tabodiyl': [2151], 'tadAxul': [2153], '$amoEap': [2154], '{ihotizAz': [2155], '$amosiy~ap': [2156], 'tadoqiyq': [2157], '>amAnap': [2158], 'tafAwut': [2159], '>alomAniy~': [2160], '>akamap': [2161], 'tahaj~um': [2162], '>ajal': [2163], '{ifotirAD': [2164], 'tajodiyd': [2167], 'tajowiyf': [2168], 'takat~ul': [2169], '>afoEaY': [2170], '>adiyb': [2171], 'takowiyn': [2172], 'talAEub': [2173], 'talomiyH': [2174], 'taloziym': [2175], 'tal~': [2176], 'tamAyuz': [2177], 'tamar~ud': [2178], 'janobap': [2179], 'quroS': [2181], 'dayor': [2182, 2191], 'masokuwkap': [2183], 'masojuwn': [2184], 'daf~AE': [2185], 'dagal': [2186], 'daraj': [2189], 'maro&uws': [2192], 'diEAmap': [2193], 'masAfap': [2194], 'diEAyap': [2195], 'marotabap': [2196], 'maroqab': [2197], 'marokab': [2199], 'marobaE': [2200], 'masolax': [2201], 'masomaE': [2202], 'masoraHiy~ap': [2203], 'masoruwq': [2204], 'may~it': [2205, 2265], 'mayol': [2206, 2207], 'maxoluwq': [2208], 'maxobaz': [2209], 'maxoTuwT': [2210], 'burohAn': [2211], 'buroj': [2212], 'maworuwv': [2213], 'mawoluwd': [2214], 'mawolid': [2215], 'dAEim': [2216], 'maviyl': [2217], 'dAb~ap': [2218], 'dAjin': [2219], 'daEowaY': [2220], 'matAE': [2221], 'dimAg': [2222], 'diymuqrATiy~ap': [2223], 'Zufur': [2224], \"faDA'\": [2225], 'mal~AH': [2226, 2244], 'fAriq': [2227], 'fArisiy~': [2228], 'malAm': [2230], 'fAsiq': [2231], 'makoman': [2232], 'fa>os': [2233], 'majomuwE': [2234], 'mariH': [2235], 'majohuwd': [2236], 'faDol': [2237], 'mahojaE': [2238], 'faDolap': [2239], 'magoribiy~': [2240], 'magorib': [2241], 'magonam': [2242], 'magAr': [2243], 'mamar~': [2245], 'mano$a>': [2246], 'maquwlap': [2248], \"duEA'\": [2249], 'duEAbap': [2250], 'dumoyap': [2252], 'duroziy~': [2253], 'dusotuwr': [2254], 'manoquwl': [2255], 'manokuwb': [2256, 2257], 'manojam': [2258], 'duwayolap': [2259], 'duwnum': [2261], 'manoZar': [2262], 'manoHuwtap': [2263], 'manoEaY': [2264], 'mazoruwEap': [2266], 'miEoSarap': [2267], 'muDax~im': [2268], 'muEa*~ib': [2269], 'muEAwin': [2270], 'muEAraDap': [2272], 'badolap': [2273], 'muEAhadap': [2274], 'muEAdalap': [2275], 'muDiyf': [2276], 'baqiy~ap': [2277], 'bunoduq': [2278], 'barakap': [2279], 'barobariy~': [2280], 'baromajiy~': [2284], 'mu&am~ar': [2285], 'badan': [2287], 'muEak~ir': [2288], 'muEal~ab': [2289], 'muEal~il': [2290], 'muHAsib': [2291], 'bAkiy': [2292], 'bAluwn': [2293], 'ba*olap': [2294], 'baEoviy~': [2295], 'baHor': [2298], 'muEotamir': [2299], 'muEojizap': [2300], 'muEojam': [2301], 'muEiyn': [2302], 'muEiyd': [2303], 'baTorak': [2305, 2306], 'baT~Ariy~ap': [2307], 'baroqiy~ap': [2309], 'baw~Abap': [2310], 'miyl': [2311], 'miro|ap': [2313], 'miqolAE': [2316], 'birokap': [2317], 'mil~iymitr': [2318], 'biroqi$': [2319], 'migowAr': [2320], 'bruwtisotAnotiy~': [2321], 'mifak~': [2322], 'midorah': [2323], 'buHayorap': [2324], 'miSoyadap': [2325], 'bukolap': [2326], 'miSofAp': [2328], 'miykoruwb': [2329], 'miyzAniy~ap': [2330], 'bayoraq': [2331], 'mu$AHanap': [2332], 'mu$otagil': [2336], 'mu$orik': [2337], 'ba}iys': [2339], 'mu$ar~iE': [2340, 2341, 2342], 'mu$ak~ik': [2343], 'mu$AyiE': [2344], 'mu$Awar': [2345], 'mu$Agib': [2349], 'maforuw$': [2350], 'maforazap': [2351], 'mafoSil': [2352], 'ku$ok': [2353], 'gud~ap': [2354], 'gul~': [2355], 'kurosiy~': [2356, 2357], 'hA$imiy~': [2358], 'hArib': [2359], 'klAsiykiy~': [2362, 2364], 'lisAn': [2363, 2436], 'hAytiy~': [2365], 'kaviyb': [2366], 'katif': [2367], 'katA}ibiy~': [2368], 'kar~': [2369], 'karodinAl': [2370], 'hafowap': [2371], 'kuwliys': [2372], 'kuwluwmobiy~': [2373], 'kuwmAnoduwz': [2374], 'liS~': [2376], 'ganam': [2377], 'gariyb': [2378], 'laqoTap': [2379], 'laqaY': [2380], 'laf~ap': [2381], 'lafoZ': [2382], 'laban': [2383], 'laHon': [2384], 'laHod': [2385], 'laEonap': [2386], 'laEobap': [2387], \"gi*A'\": [2388], 'guSon': [2391, 2392], 'kam~A$ap': [2393], 'hanap': [2394], 'kahof': [2395], \"hurA'\": [2396], 'jiybuwtiy~': [2397], 'jinirAl': [2398], 'jinAzap': [2399], 'jAriyap': [2400], 'jAsuws': [2401], 'jab~Ar': [2402], 'jahoba*': [2403], 'jaliys': [2404], 'jamAliy~ap': [2406], 'jamal': [2408], 'jam~Al': [2409], 'jariydap': [2410], 'jan~ap': [2412, 2413], 'jAliyap': [2414], 'hunayohap': [2415], \"kafo'\": [2416], 'hirAwap': [2417], \"kafA'At\": [2418], 'kabosuwl': [2419], 'kabiyrap': [2420], 'hawA}iy~': [2421], 'kabid': [2422], 'ka>os': [2423], 'ka*~Ab': [2424], 'ka$~Af': [2425], 'ka$of': [2426], 'kAtidrA}iy~ap': [2427], 'kAnotuwn': [2428], 'kAbil': [2429], 'haz~ap': [2430], 'jurovuwm': [2431], 'him~ap': [2432], 'juroEap': [2433], 'jura*': [2434], 'gajariy~': [2435], 'mafAtin': [2437], 'maHofuwr': [2438], 'fariyDap': [2439], 'maSiyr': [2440], 'maSaf~': [2441], 'maHosuwb': [2442, 2443], 'maHoram': [2444], 'maHokuwm': [2445], 'fariysiy~': [2446], 'maHofil': [2447], 'gaDon': [2448], 'maHoZuwr': [2449], 'maHoSuwl': [2450], 'faroDiy~ap': [2451], 'faroHap': [2452], 'fatowaY': [2453, 2454], 'maEuwnap': [2455], 'maEozuwfap': [2456], 'faranojiy~': [2457], 'farA$ap': [2458], 'maSoyaf': [2459], 'faqiyh': [2460], 'madoraj': [2461], 'madoluwl': [2462], 'madofan': [2463], 'fajowap': [2465], 'madAr': [2466], 'maboHav': [2469], 'maboEuwv': [2470], 'mabar~ap': [2471], 'maZoruwf': [2472], 'maZoluwm': [2473], 'fan~iy~': [2474], 'maToraH': [2475], 'maTomaH': [2476], 'maTolaE': [2477], 'maEozil': [2478], 'fawoj': [2479], 'fiD~iy~At': [2480], 'fiyniyqiy~': [2481], 'ma$oraf': [2482], 'ma$orab': [2483], 'ma$ohuwr': [2484], 'ma$ogal': [2485], 'ma$aq~ap': [2486], 'mA}idap': [2487], 'mAwiy~': [2488], 'mAr~': [2489, 2490], 'mArok': [2491], 'mAniH': [2492], 'fuwhap': [2496], 'luwrod': [2497], 'lub~': [2498], 'ma$oriq': [2499], 'ma$oruwb': [2500], 'fidA}iy~': [2501], 'fiyl~A': [2502], 'filos': [2504], 'finizuwil~iy~': [2505], 'firoEawon': [2506], 'maEobar': [2507], 'maEoSiyap': [2508], 'maEidap': [2509], 'maEA$': [2510], 'maDomuwn': [2511], 'maDiyq': [2512], 'maDar~ap': [2513], 'ma>oxa*': [2514], 'ma>ovarap': [2515], 'fiyl': [2516], 'ma>onap': [2517], 'ma>omuwr': [2518, 2519], 'muHar~iD': [2520], 'quf~Az': [2522], 'nAjiH': [2524], 'HayAp': [2525], 'nAb': [2526], 'nATiq': [2527], \"Hi*A'\": [2529], 'muzAyadap': [2530], 'muxotalif': [2532], 'muwlodAfiy~': [2533], 'muxotabi}': [2534], 'HiSAn': [2536, 2538], 'muxiyl': [2537], 'muxar~ib': [2539], 'muxAlif': [2541], 'nArjiylap': [2542], 'nAvir': [2543], 'Has~Asiy~ap': [2544], 'nAziEap': [2545], 'nafal': [2546], 'naboDap': [2547], 'HamAm': [2549], 'nabAt': [2550], 'naZ~Arap': [2551], 'naZorap': [2552], 'naSiyr': [2556], 'naSiyb': [2557], 'naH~At': [2558], 'naEol': [2559], 'na*or': [2560], 'Hasanap': [2562], 'muwmisap': [2563], 'Hilof': [2564], 'mutaHam~is': [2566], 'Husayoniy~': [2568], 'mutafar~iqAt': [2569], 'mutafAwiD': [2570], 'SAEiqap': [2572], 'mutaSay~id': [2574], 'mutaHad~iv': [2575], 'muwfad': [2576, 2589], 'mutaHAlif': [2577], 'mutaEad~iy': [2578], 'mutaEATiy': [2580], 'mutaEATif': [2581], 'muta>al~iq': [2582], 'muta>ah~il': [2583], 'mutAbaEap': [2584], 'mutamar~is': [2585], 'mutamaw~il': [2586], 'mutanak~ir': [2587], 'mutasab~ib': [2588], 'muwaj~ih': [2590], 'Himol': [2591], 'muwa$~aH': [2592], 'Hubayobap': [2593], 'Huqob': [2595], 'mut~ahim': [2597], 'mutoEab': [2598], 'muta|mir': [2599], 'januwbiy~': [2600], 'mutaxal~if': [2601], 'mutawar~iT': [2602], 'mutawAjid': [2603], 'mutatab~iE': [2604], 'mutasal~il': [2605], 'nafoHap': [2606], 'naforap': [2607], 'qiT~': [2610], 'EilAwap': [2611], 'qi$or': [2612], 'qawom': [2614], 'EiyAl': [2615], 'qasAwisiy~': [2616], 'qariyb': [2618], 'najomap': [2619], 'qan~AS': [2620], 'Eu$~': [2621], 'qaloqalap': [2623], 'qaloEap': [2624], 'qafor': [2625], 'qafAF': [2626], 'EuTolap': [2627], 'EilAj': [2628], 'qid~iys': [2630, 2631], 'qufol': [2632], 'qud~As': [2633], 'qub~aEap': [2634], 'quTon': [2636], 'Eay~inap': [2637], 'Eaziymap': [2638], 'qiyAs': [2639], 'Ei$oriyn': [2640], 'qis~iys': [2641], 'EiTof': [2642], 'EiZap': [2643], 'qiron': [2644], 'qiro$': [2645], \"qirA'ap\": [2646], 'qinoE': [2647], 'Eulobap': [2649], 'qaTiyE': [2650], 'qaTariy~': [2651], 'niyAbap': [2652], 'HaSAnap': [2654], 'HaSoriy~': [2656], 'niqA$': [2657], 'nihAyap': [2658], 'niSof': [2660], 'nazol': [2661], 'naziyl': [2662], 'naxob': [2663], 'nawoEiy~ap': [2664], 'Hadaqap': [2665], 'nasor': [2666], 'naqo$': [2667], 'namol': [2668], 'nakosap': [2669], 'nisowap': [2670], 'Ha$AF': [2671], 'qa$iyb': [2672], 'HA}iT': [2673], 'HADinap': [2674], 'qA}il': [2675], 'HADir': [2677], 'HASil': [2678], 'qAruwrap': [2680], 'qAlib': [2681], 'qAfiyap': [2682], 'qAfilap': [2683], 'qASir': [2684, 2685], 'HAmiy': [2686], 'nuzohap': [2687], 'nuwbiy~': [2688], 'HAwiy': [2689], 'nuTofap': [2690], 'mukas~arAt': [2694], 'muloHaqAt': [2695], 'mulim~ap': [2697], 'TAmiH': [2698], 'mulAHiZ': [2699], 'mulAHaqap': [2700], 'mukota$if': [2701], 'TAwilap': [2702], 'mukAfa>ap': [2703], 'munaw~ih': [2704], 'Tabaq': [2706], 'mujas~am': [2708], 'mujanozir': [2709], 'mujad~id': [2710], 'mujAnasap': [2711], 'mujAmalap': [2712], 'mulotaqaY': [2713], 'mumATalap': [2714], 'munaZ~ir': [2717], 'SuwmAliy~': [2720, 2776], 'munAwi}': [2722], 'TAEin': [2723], 'munAwa$ap': [2724], 'TAbiq': [2725], 'munAqalap': [2726], 'munAqaSap': [2727], 'TAbuwr': [2728], 'TAgiy': [2731], 'munA$adap': [2733], 'mujAbahap': [2736], 'mubAlagap': [2737], 'muTAradap': [2738], 'muTAlabap': [2739], 'muSan~af': [2741], 'Turoqap': [2742], 'muSaf~aHap': [2743], 'muSAlaHap': [2744], 'muSAfaHap': [2745], 'muSAb': [2746], 'muHotasib': [2747], 'muHotariS': [2748], 'muHotaram': [2749], 'muHotal~': [2750], 'muHotaj~': [2751], 'muHotafil': [2752], 'muHosin': [2753], 'muTArid': [2755], 'Tayor': [2756], 'Tayof': [2758], 'muhad~i}': [2759], 'TaliyEap': [2761], 'mugoriyAt': [2763], 'mugan~iy': [2764], 'mufosid': [2765], 'mufaw~aD': [2766], 'mufak~irap': [2767], 'Taluwqap': [2768], 'mufAraqap': [2769], 'mud~axar': [2770], 'mudomin': [2771], 'mudax~in': [2773], 'mubotakar': [2775], 'Sufuwf': [2777], 'musaj~il': [2779, 2788], 'musotaDoEaf': [2780], 'musota>omin': [2781], 'musota>ojir': [2782], 'SafoEap': [2783], 'musam~aY': [2785], 'Sagiyr': [2786], 'musak~in': [2787], 'muno$aq~': [2789], 'musad~asap': [2790], 'musab~ib': [2791], 'musab~ab': [2792], 'musotaEomarap': [2798], 'musotaHoDar': [2799], 'musotabiyH': [2800], 'musotadoEaY': [2801], 'Sabiy~': [2807], 'Sabiy~ap': [2809], 'musotanoqaE': [2811], 'musotanoTiq': [2812], 'musotamir~': [2813], 'musotamiE': [2814], 'Safad': [2815], 'musotafiyd': [2817], 'musotadoEiy': [2818], 'Saliybiy~': [2819], 'Saroxap': [2821], 'murAfaEap': [2822], 'muqotariE': [2823, 2824], 'muqar~ir': [2825], 'muqal~id': [2826], 'muqad~im': [2827], 'muqad~ar': [2829], 'SinAEiy~': [2830], 'muqAwamap': [2831], 'Sirobiy~': [2834], 'Sudofap': [2835], 'munojaz': [2836], 'munoTalaq': [2837], 'munoHadar': [2838], 'munoEaTaf': [2839], 'murAbiy': [2840], 'murotahin': [2842], 'murAhanap': [2843], 'murosil': [2844, 2845], 'muriyd': [2846], 'muraw~ij': [2847, 2848], 'murat~ab': [2849], 'murad~id': [2850], 'murab~aE': [2851], 'SawomaEap': [2853], 'SayoHap': [2856], 'Sayodaliy~': [2858], 'murAjiE': [2859], 'murAhiq': [2860], 'mibo$arap': [2861]}\n",
            "Report Error Analysis on duplicates has been saved in /content/drive/MyDrive/AI Projects/Arabic Broken Plural/Datasets analysis path\n",
            "2475\n",
            "2553\n",
            "2628\n"
          ]
        }
      ],
      "source": [
        "if is_dataOrginal:\n",
        "  #Save similar lemmas indexes in dictionary (key->lemma | value->list of indexes)\n",
        "  trainDupIndex=getDuplicateIndexes(trainData)\n",
        "  devDupIndex=getDuplicateIndexes(devData)\n",
        "  testDupIndex=getDuplicateIndexes(testData)\n",
        "  print(\"duplicate indexes has been updated\")\n",
        "  print(trainDupIndex)\n",
        "\n",
        "if is_dataOrginal:\n",
        "  #Save Duplicate report on data in csv\n",
        "  trainDuplicateCsv=reportErrorAnalysis_duplicates(train_csv,trainDupIndex,data_analysis_path+\"/duplicateAnalysis_train.csv\")\n",
        "  devDuplicateCsv=reportErrorAnalysis_duplicates(dev_csv,devDupIndex,data_analysis_path+\"/duplicateAnalysis_dev.csv\")\n",
        "  testDuplicateCsv=reportErrorAnalysis_duplicates(test_csv,testDupIndex,data_analysis_path+\"/duplicateAnalysis_test.csv\")\n",
        "  print(\"Report Error Analysis on duplicates has been saved in /content/drive/MyDrive/AI Projects/Arabic Broken Plural/Datasets analysis path\")\n",
        "\n",
        "dic_lemmaInflection = {}\n",
        "if is_dataOrginal:\n",
        "  dic_lemmaInflection = updateDic_lemmaInflection(trainData,3,trainDupIndex,dic_lemmaInflection)\n",
        "  print(len(dic_lemmaInflection))\n",
        "  dic_lemmaInflection = updateDic_lemmaInflection(testData,3,testDupIndex,dic_lemmaInflection)\n",
        "  print(len(dic_lemmaInflection))\n",
        "  dic_lemmaInflection = updateDic_lemmaInflection(devData,3,devDupIndex,dic_lemmaInflection)\n",
        "  print(len(dic_lemmaInflection))"
      ]
    },
    {
      "cell_type": "code",
      "execution_count": null,
      "metadata": {
        "colab": {
          "base_uri": "https://localhost:8080/"
        },
        "id": "3TIS2Q8bFLHE",
        "outputId": "7c73d964-2cbc-43d8-aca2-c680dc119e45"
      },
      "outputs": [
        {
          "output_type": "stream",
          "name": "stdout",
          "text": [
            "Number Of Lemmas before Dropping duplicates in Train Set:  2862\n",
            "Number Of Lemmas before Dropping duplicates in Test Set:  1103\n",
            "Number Of Lemmas before Dropping duplicates in Dev Set:  1151\n",
            "=============================================================\n",
            "Number Of Lemmas After Dropping duplicates in Train Set:  2475\n",
            "Number Of Lemmas After Dropping duplicates in Test Set:  1028\n",
            "Number Of Lemmas After Dropping duplicates in Dev Set:  1060\n"
          ]
        }
      ],
      "source": [
        "#Drop unnecessary duplicates\n",
        "trainDataUnique=getUniqueData(trainData,trainDupIndex)\n",
        "devDataUnique=getUniqueData(devData,devDupIndex)\n",
        "testDataUnique=getUniqueData(testData,testDupIndex)\n",
        "print(\"Number Of Lemmas before Dropping duplicates in Train Set: \", len(trainData[0]))\n",
        "print(\"Number Of Lemmas before Dropping duplicates in Test Set: \",len(testData[0]))\n",
        "print(\"Number Of Lemmas before Dropping duplicates in Dev Set: \",len(devData[0]))\n",
        "print(\"=============================================================\")\n",
        "print(\"Number Of Lemmas After Dropping duplicates in Train Set: \", len(trainDataUnique[0]))\n",
        "print(\"Number Of Lemmas After Dropping duplicates in Test Set: \",len(testDataUnique[0]))\n",
        "print(\"Number Of Lemmas After Dropping duplicates in Dev Set: \",len(devDataUnique[0]))"
      ]
    },
    {
      "cell_type": "code",
      "source": [
        "#Fix defferent inflection comparing to a dictionary of lemma-inflection pairs\n",
        "\n",
        "trainFixedData , c = fixInflections(trainDataUnique,3,dic_lemmaInflection)\n",
        "print(\"Number of changed inflections in train dataset:\",c)\n",
        "devFixedData , c = fixInflections(devDataUnique,3,dic_lemmaInflection)\n",
        "print(\"Number of changed inflections in dev dataset:\",c)\n",
        "testFixedData , c = fixInflections(testDataUnique,3,dic_lemmaInflection)\n",
        "print(\"Number of changed inflections in test dataset:\",c)"
      ],
      "metadata": {
        "colab": {
          "base_uri": "https://localhost:8080/"
        },
        "id": "FwmG4NOYv2AF",
        "outputId": "9056937e-5f76-4920-f216-04f65ea9c701"
      },
      "execution_count": null,
      "outputs": [
        {
          "output_type": "stream",
          "name": "stdout",
          "text": [
            "Number of changed inflections in train dataset: 0\n",
            "Number of changed inflections in dev dataset: 34\n",
            "Number of changed inflections in test dataset: 26\n"
          ]
        }
      ]
    },
    {
      "cell_type": "code",
      "execution_count": null,
      "metadata": {
        "id": "LodNC4wSsL0s"
      },
      "outputs": [],
      "source": [
        "if is_dataOrginal:\n",
        "  trainData=trainDataUnique\n",
        "  devData=devDataUnique\n",
        "  testData=testDataUnique\n",
        "  is_dataOrginal=False\n",
        "else:\n",
        "  print(\"Warning!!! duplicate rows has already been dropped from data.(skipped this step)\")"
      ]
    },
    {
      "cell_type": "markdown",
      "metadata": {
        "id": "JRilqxawClaF"
      },
      "source": [
        "## **Encoding Datasets (Character-based)**"
      ]
    },
    {
      "cell_type": "code",
      "execution_count": null,
      "metadata": {
        "colab": {
          "base_uri": "https://localhost:8080/"
        },
        "id": "G8UL3rofClaF",
        "outputId": "ad7ddf7f-ff6e-4f80-ea26-f60485184ed1"
      },
      "outputs": [
        {
          "output_type": "stream",
          "name": "stdout",
          "text": [
            "50\n",
            "{'not available char': 0, 'E': 1, 'a': 2, 'm': 3, 'l': 4, '1': 5, '2': 6, '3': 7, '>': 8, 'o': 9, 'A': 10, 'h': 11, 'd': 12, 'f': 13, 'u': 14, 'D': 15, 'w': 16, \"'\": 17, 'j': 18, 'i': 19, 'z': 20, 'p': 21, 'H': 22, 'k': 23, 'n': 24, 'S': 25, 'r': 26, '4': 27, 'q': 28, '~': 29, 'y': 30, 't': 31, 's': 32, '<': 33, 'b': 34, 'v': 35, '|': 36, 'T': 37, '}': 38, 'Z': 39, '{': 40, '&': 41, '$': 42, 'x': 43, 'N': 44, 'W': 45, '*': 46, 'g': 47, 'Y': 48, 'F': 49}\n"
          ]
        }
      ],
      "source": [
        "updateCharIndex(trainData)\n",
        "print(len(char_index))\n",
        "print(char_index)"
      ]
    },
    {
      "cell_type": "code",
      "execution_count": null,
      "metadata": {
        "colab": {
          "base_uri": "https://localhost:8080/"
        },
        "id": "y3aR6noZClaF",
        "outputId": "ff01d195-ece3-4609-b056-9ceda0ad0335"
      },
      "outputs": [
        {
          "output_type": "stream",
          "name": "stdout",
          "text": [
            "lemma shape train:  2475\n",
            "lemma shape dev:  1060\n",
            "lemma shape test:  1028\n",
            "max length in lemma elements:  17\n",
            "max length in root elements:  4\n",
            "max length in inflection elements:  18\n"
          ]
        }
      ],
      "source": [
        "# encode words with character encoder\n",
        "def encodeWord(word, dic=char_index, oov=oov_token):\n",
        "    return [dic[c] if c in dic else dic[oov] for c in list(word)]\n",
        "\n",
        "# encode data and get maximum length of features\n",
        "def getEncodedData(data):\n",
        "  '''\n",
        "  Output type->List : 0:lamma | 1:singular pattern | 2:root |3:inflection | 4:plural pattern | 5:plural type(B/S) | 6:gender | 7:rational | 8:number of root\n",
        "  '''\n",
        "\n",
        "  data_encoded = data.copy()\n",
        "  data_encoded[0] = [encodeWord(each) for each in data[0]]\n",
        "  data_encoded[1] = [encodeWord(each) for each in data[1]]\n",
        "  data_encoded[2] = [encodeWord(each) for each in data[2]]\n",
        "  data_encoded[3] = [encodeWord(each) for each in data[3]]\n",
        "  data_encoded[4] = [encodeWord(each) for each in data[4]]\n",
        "\n",
        "  lemma_max_len = max([len(each) for each in data_encoded[0]])\n",
        "  root_max_len = max([len(each) for each in data_encoded[2]])\n",
        "  inflection_max_len = max([len(each) for each in data_encoded[3]])\n",
        "\n",
        "  return data_encoded, lemma_max_len, root_max_len, inflection_max_len\n",
        "\n",
        "\n",
        "trainData_encoded, lemma_max_len, root_max_len, inflection_max_len = getEncodedData(trainData)\n",
        "devData_encoded, _, _, _  = getEncodedData(devData)\n",
        "testData_encoded, _, _, _ = getEncodedData(testData)\n",
        "\n",
        "print('lemma shape train: ', len(trainData_encoded[0]))\n",
        "print('lemma shape dev: ', len(devData_encoded[0]))\n",
        "print('lemma shape test: ', len(testData_encoded[0]))\n",
        "print('max length in lemma elements: ', lemma_max_len)\n",
        "print('max length in root elements: ', root_max_len)\n",
        "print('max length in inflection elements: ', inflection_max_len)"
      ]
    },
    {
      "cell_type": "code",
      "execution_count": null,
      "metadata": {
        "colab": {
          "base_uri": "https://localhost:8080/"
        },
        "id": "MoDYp2LuClaF",
        "outputId": "ec51df7c-ccb3-4d32-9253-5b504fbe73b2"
      },
      "outputs": [
        {
          "output_type": "stream",
          "name": "stdout",
          "text": [
            "lemma with pad shape train:  (2475, 17)\n",
            "lemma with pad shape dev:  (1060, 17)\n",
            "lemma with pad shape test:  (1028, 17)\n"
          ]
        }
      ],
      "source": [
        "# ADD padding to sample\n",
        "# 0:lamma | 1:singular pattern | 2:root |3:inflection | 4:plural pattern | 5:plural type(B/S) | 6:gender | 7:rational\n",
        "def getPaddedData(encodedData, lemma_max_len, root_max_len, inflection_max_len):\n",
        "  data_pad = []\n",
        "  data_pad.append(np.array(pad_sequences(encodedData[0], maxlen=lemma_max_len, padding='post')))\n",
        "  data_pad.append(np.array(pad_sequences(encodedData[1], maxlen=lemma_max_len, padding='post')))\n",
        "  data_pad.append(np.array(pad_sequences(encodedData[2], maxlen=root_max_len, padding='post')))\n",
        "  data_pad.append(np.array(pad_sequences(encodedData[3], maxlen=inflection_max_len, padding='post')))\n",
        "  data_pad.append(np.array(pad_sequences(encodedData[4], maxlen=inflection_max_len, padding='post')))\n",
        "  data_pad.append(np.array(encodedData[5]))\n",
        "  data_pad.append(np.array(encodedData[6]))\n",
        "  data_pad.append(np.array(encodedData[7]))\n",
        "  data_pad.append(np.array(encodedData[8]))\n",
        "\n",
        "  return data_pad\n",
        "\n",
        "trainData_pad = getPaddedData(trainData_encoded, lemma_max_len, root_max_len, inflection_max_len)\n",
        "devData_pad = getPaddedData(devData_encoded, lemma_max_len, root_max_len, inflection_max_len)\n",
        "testData_pad = getPaddedData(testData_encoded, lemma_max_len, root_max_len, inflection_max_len)\n",
        "\n",
        "print('lemma with pad shape train: ', trainData_pad[0].shape)\n",
        "print('lemma with pad shape dev: ', devData_pad[0].shape)\n",
        "print('lemma with pad shape test: ', testData_pad[0].shape)"
      ]
    },
    {
      "cell_type": "markdown",
      "metadata": {
        "id": "O45BUvM0ClaF"
      },
      "source": [
        "### **Create inputs of neural network**"
      ]
    },
    {
      "cell_type": "code",
      "execution_count": null,
      "metadata": {
        "colab": {
          "base_uri": "https://localhost:8080/"
        },
        "id": "Cm__BnNyClaF",
        "outputId": "684eb11f-4eb0-4f59-d0d4-13611299cf89"
      },
      "outputs": [
        {
          "output_type": "stream",
          "name": "stdout",
          "text": [
            "X_train_lemma shape:  (2475, 17)\n",
            "X_train_singularPattern shape:  (2475, 17)\n",
            "X_train_root shape:  (2475, 4)\n",
            "X_train_genRat shape:  (2475, 2)\n",
            "X_train_numOfRoot shape:  (2475, 1)\n",
            "y_train_class shape:  (2475, 1)\n",
            "y_train_plPattern shape:  (2475, 18)\n",
            "y_train_unflection shape:  (2475, 18)\n"
          ]
        }
      ],
      "source": [
        "# 0:lamma | 1:singular pattern | 2:root |3:inflection | 4:plural pattern | 5:plural type(B/S) | 6:gender | 7:rational | 8:number of root\n",
        "# create train set\n",
        "X_train_lemma = trainData_pad[0]  # lemma feature\n",
        "X_train_singularPattern = trainData_pad[1]  # singular pattern feature\n",
        "X_train_root = trainData_pad[2]  # root feature\n",
        "X_train_genRat = np.stack((trainData_pad[6], trainData_pad[7]), axis=-1)  # gender & rational features\n",
        "X_train_numOfRoot = trainData_pad[8].reshape((trainData_pad[8].shape[0], -1))  # number of root\n",
        "\n",
        "y_train_class = trainData_pad[5].reshape((trainData_pad[5].shape[0], -1))  # broken or sound classes\n",
        "y_train_plPattern = trainData_pad[4]  # plural pattern\n",
        "y_train_inflection = trainData_pad[3]  # inflection\n",
        "\n",
        "# create dev set\n",
        "X_dev_lemma = devData_pad[0]  # lemma feature\n",
        "X_dev_singularPattern = devData_pad[1]  # singular pattern feature\n",
        "X_dev_root = devData_pad[2]  # root feature\n",
        "X_dev_genRat = np.stack((devData_pad[6], devData_pad[7]), axis=-1)  # gender & rational features\n",
        "X_dev_numOfRoot = devData_pad[8].reshape((devData_pad[8].shape[0], -1))  # number of root\n",
        "\n",
        "y_dev_class = devData_pad[5].reshape((devData_pad[5].shape[0], -1))  # broken or sound classes\n",
        "y_dev_plPattern = devData_pad[4]  # plural pattern\n",
        "y_dev_inflection = devData_pad[3]  # inflection\n",
        "\n",
        "# create test set\n",
        "X_test_lemma = testData_pad[0]  # lemma feature\n",
        "X_test_singularPattern = testData_pad[1]  # singular pattern feature\n",
        "X_test_root = testData_pad[2]  # root feature\n",
        "X_test_genRat = np.stack((testData_pad[6], testData_pad[7]), axis=-1)  # gender & rational features\n",
        "X_test_numOfRoot = testData_pad[8].reshape((testData_pad[8].shape[0], -1))  # number of root\n",
        "\n",
        "y_test_class = testData_pad[5].reshape((testData_pad[5].shape[0], -1))  # broken or sound classes\n",
        "y_test_plPattern = testData_pad[4]  # plural pattern\n",
        "y_test_inflection = testData_pad[3]  # inflection\n",
        "\n",
        "print('X_train_lemma shape: ', X_train_lemma.shape)\n",
        "print('X_train_singularPattern shape: ', X_train_singularPattern.shape)\n",
        "print('X_train_root shape: ', X_train_root.shape)\n",
        "print('X_train_genRat shape: ', X_train_genRat.shape)\n",
        "print('X_train_numOfRoot shape: ', X_train_numOfRoot.shape)\n",
        "print('y_train_class shape: ', y_train_class.shape)\n",
        "print('y_train_plPattern shape: ', y_train_plPattern.shape)\n",
        "print('y_train_unflection shape: ', y_train_inflection.shape)"
      ]
    },
    {
      "cell_type": "code",
      "execution_count": null,
      "metadata": {
        "colab": {
          "base_uri": "https://localhost:8080/"
        },
        "id": "z5tEprqGClaG",
        "outputId": "20df8359-f918-4a83-ead9-ab19293b10bd"
      },
      "outputs": [
        {
          "output_type": "stream",
          "name": "stdout",
          "text": [
            "(2475, 17, 50)\n",
            "(2475, 17, 50)\n",
            "(2475, 4, 50)\n",
            "(2475, 18, 50)\n",
            "(2475, 18, 50)\n"
          ]
        }
      ],
      "source": [
        "# Convert to ONE-HOT encoding\n",
        "X_train_lemma_OH = to_categorical(X_train_lemma, len(char_index))\n",
        "X_train_singularPattern_OH = to_categorical(X_train_singularPattern, len(char_index))\n",
        "X_train_root_OH = to_categorical(X_train_root, len(char_index))\n",
        "\n",
        "X_dev_lemma_OH = to_categorical(X_dev_lemma, len(char_index))\n",
        "X_dev_singularPattern_OH = to_categorical(X_dev_singularPattern, len(char_index))\n",
        "X_dev_root_OH = to_categorical(X_dev_root, len(char_index))\n",
        "\n",
        "X_test_lemma_OH = to_categorical(X_test_lemma, len(char_index))\n",
        "X_test_singularPattern_OH = to_categorical(X_test_singularPattern, len(char_index))\n",
        "X_test_root_OH = to_categorical(X_test_root, len(char_index))\n",
        "\n",
        "y_train_plPattern_OH = to_categorical(y_train_plPattern, len(char_index))\n",
        "y_dev_plPattern_OH = to_categorical(y_dev_plPattern, len(char_index))\n",
        "y_test_plPattern_OH = to_categorical(y_test_plPattern, len(char_index))\n",
        "\n",
        "y_train_inflection_OH = to_categorical(y_train_inflection, len(char_index))\n",
        "y_dev_inflection_OH = to_categorical(y_dev_inflection, len(char_index))\n",
        "y_test_inflection_OH = to_categorical(y_test_inflection, len(char_index))\n",
        "\n",
        "print(X_train_lemma_OH.shape)\n",
        "print(X_train_singularPattern_OH.shape)\n",
        "print(X_train_root_OH.shape)\n",
        "print(y_train_plPattern_OH.shape)\n",
        "print(y_train_inflection_OH.shape)"
      ]
    },
    {
      "cell_type": "code",
      "execution_count": null,
      "metadata": {
        "id": "IxUhzb3nClaG"
      },
      "outputs": [],
      "source": [
        "# covern numerical inputs to int32\n",
        "X_train_genRat = np.asarray(X_train_genRat).astype('int32')\n",
        "X_train_numOfRoot = np.asarray(X_train_numOfRoot).astype('int32')\n",
        "X_dev_genRat = np.asarray(X_dev_genRat).astype('int32')\n",
        "X_dev_numOfRoot = np.asarray(X_dev_numOfRoot).astype('int32')\n",
        "X_test_genRat = np.asarray(X_test_genRat).astype('int32')\n",
        "X_test_numOfRoot = np.asarray(X_test_numOfRoot).astype('int32')\n",
        "\n",
        "y_train_class = np.asarray(y_train_class).astype('int32')\n",
        "y_dev_class = np.asarray(y_dev_class).astype('int32')\n",
        "y_test_class = np.asarray(y_test_class).astype('int32')"
      ]
    },
    {
      "cell_type": "markdown",
      "metadata": {
        "id": "WO43412TA77a"
      },
      "source": [
        "## **Encoding Bert Inputs**"
      ]
    },
    {
      "cell_type": "code",
      "execution_count": null,
      "metadata": {
        "id": "n4kA8ZNkBdTG"
      },
      "outputs": [],
      "source": [
        "max_len = 8\n",
        "\n",
        "def getBertInputs(data,max_len):\n",
        "  ids=[]\n",
        "  token_type_ids=[]\n",
        "  attention_mask=[]\n",
        "\n",
        "  for i in range(len(data[0])):\n",
        "    bert_tokenized = bert_tokenizer.encode_plus(\n",
        "        ''.join(getArabicForm(data[0][i])),\n",
        "        max_length=max_len,\n",
        "        add_special_tokens=True, # Add '[CLS]' and '[SEP]'\n",
        "        return_token_type_ids=True,\n",
        "        padding='max_length',  # Pad to longest in batch.\n",
        "        truncation=True,\n",
        "        return_attention_mask=True,\n",
        "        return_tensors='tf'  # Return PyTorch tensors\n",
        "    )\n",
        "    ids.append(bert_tokenized['input_ids'])\n",
        "    token_type_ids.append(bert_tokenized['token_type_ids'])\n",
        "    attention_mask.append(bert_tokenized['attention_mask'])\n",
        "\n",
        "  return ids,token_type_ids,attention_mask\n",
        "\n",
        "trainBert_ids, trainBert_token_type, trainBert_attention_mask = getBertInputs(trainData, max_len)\n",
        "devBert_ids, devBert_token_type, devBert_attention_mask = getBertInputs(devData, max_len)\n",
        "testBert_ids, testBert_token_type, testBert_attention_mask = getBertInputs(testData, max_len)"
      ]
    },
    {
      "cell_type": "code",
      "execution_count": null,
      "metadata": {
        "id": "paZGfm7erG6K",
        "colab": {
          "base_uri": "https://localhost:8080/"
        },
        "outputId": "b6d79876-1c58-4edb-8daa-824f844f69a4"
      },
      "outputs": [
        {
          "output_type": "stream",
          "name": "stdout",
          "text": [
            "2\n"
          ]
        }
      ],
      "source": [
        "print(min([np.count_nonzero(x==0) for x in trainBert_ids]))"
      ]
    },
    {
      "cell_type": "code",
      "execution_count": null,
      "metadata": {
        "id": "gY7JLXEEJCw8",
        "colab": {
          "base_uri": "https://localhost:8080/",
          "referenced_widgets": [
            "78c0d6e34be246b09d51e5d8a801c3fa",
            "e096405681fd4175a1db7be968e976b5",
            "d6a0363fd73843688b40ef7969be37db",
            "096c1ad0f7f34744ad245962c2975172",
            "28f2479052d74012a39f2ee526f549cc",
            "7fb62ae95a174b00b00aa603d3415ed4",
            "3509b93b92cd4aba833bffd3708a36f7",
            "a981726599a24315b84fb1c54a47a197",
            "b3f3e3858711437691635635bc38d118",
            "99d0fa82c8f043039d878b70dfdc9d7c",
            "618e408b51f8409389f9b445559ade8b"
          ]
        },
        "outputId": "919a3af5-ea3e-4176-cadb-57bf353bf3fd"
      },
      "outputs": [
        {
          "output_type": "display_data",
          "data": {
            "text/plain": [
              "Downloading (…)\"tf_model.h5\";:   0%|          | 0.00/545M [00:00<?, ?B/s]"
            ],
            "application/vnd.jupyter.widget-view+json": {
              "version_major": 2,
              "version_minor": 0,
              "model_id": "78c0d6e34be246b09d51e5d8a801c3fa"
            }
          },
          "metadata": {}
        },
        {
          "output_type": "stream",
          "name": "stderr",
          "text": [
            "Some layers from the model checkpoint at asafaya/bert-base-arabic were not used when initializing TFBertModel: ['mlm___cls']\n",
            "- This IS expected if you are initializing TFBertModel from the checkpoint of a model trained on another task or with another architecture (e.g. initializing a BertForSequenceClassification model from a BertForPreTraining model).\n",
            "- This IS NOT expected if you are initializing TFBertModel from the checkpoint of a model that you expect to be exactly identical (initializing a BertForSequenceClassification model from a BertForSequenceClassification model).\n",
            "All the layers of TFBertModel were initialized from the model checkpoint at asafaya/bert-base-arabic.\n",
            "If your task is similar to the task the model of the checkpoint was trained on, you can already use TFBertModel for predictions without further training.\n"
          ]
        },
        {
          "output_type": "execute_result",
          "data": {
            "text/plain": [
              "\"with tf.device('/GPU:0'):\\n  trainBert_embedding = getEmbeding(trainBert_ids, trainBert_token_type, trainBert_attention_mask, max_len)\\n  np.save(dataPath+'/train_bert_embedding.npy', trainBert_embedding)\\n  print('train is done!')\\n  devBert_embedding = getEmbeding(devBert_ids, devBert_token_type, devBert_attention_mask, max_len)\\n  np.save(dataPath+'/dev_bert_embedding.npy', devBert_embedding)\\n  print('dev is done!')\\n  testBert_embedding = getEmbeding(testBert_ids, testBert_token_type, testBert_attention_mask, max_len)\\n  np.save(dataPath+'/test_bert_embedding.npy', testBert_embedding)\\n  print('test is done!')\\n  \""
            ],
            "application/vnd.google.colaboratory.intrinsic+json": {
              "type": "string"
            }
          },
          "metadata": {},
          "execution_count": 37
        }
      ],
      "source": [
        "encoder = TFBertModel.from_pretrained(\"asafaya/bert-base-arabic\")\n",
        "\n",
        "def getEmbeding(ids,token_type,attention_mask,max_len):\n",
        "  bert_embedding=[]\n",
        "  for i in range(len(ids)):\n",
        "    embedding_output = np.array(encoder(input_ids=ids[i], token_type_ids=token_type[i], attention_mask=attention_mask[i])[1])\n",
        "    embedding_output = embedding_output.reshape(embedding_output.shape[1])\n",
        "    bert_embedding.append(embedding_output)\n",
        "\n",
        "  bert_embedding = np.stack(bert_embedding, axis=0)\n",
        "  return bert_embedding\n",
        "\n",
        "'''with tf.device('/GPU:0'):\n",
        "  trainBert_embedding = getEmbeding(trainBert_ids, trainBert_token_type, trainBert_attention_mask, max_len)\n",
        "  np.save(dataPath+'/train_bert_embedding.npy', trainBert_embedding)\n",
        "  print('train is done!')\n",
        "  devBert_embedding = getEmbeding(devBert_ids, devBert_token_type, devBert_attention_mask, max_len)\n",
        "  np.save(dataPath+'/dev_bert_embedding.npy', devBert_embedding)\n",
        "  print('dev is done!')\n",
        "  testBert_embedding = getEmbeding(testBert_ids, testBert_token_type, testBert_attention_mask, max_len)\n",
        "  np.save(dataPath+'/test_bert_embedding.npy', testBert_embedding)\n",
        "  print('test is done!')\n",
        "  '''\n"
      ]
    },
    {
      "cell_type": "code",
      "execution_count": null,
      "metadata": {
        "id": "qQsAFwOtvFxt"
      },
      "outputs": [],
      "source": [
        "# read bert_embedding from google drive\n",
        "trainBert_embedding = np.load(dataPath+'/train_bert_embedding.npy')\n",
        "devBert_embedding = np.load(dataPath+'/dev_bert_embedding.npy')\n",
        "testBert_embedding = np.load(dataPath+'/test_bert_embedding.npy')"
      ]
    },
    {
      "cell_type": "code",
      "execution_count": null,
      "metadata": {
        "id": "inNPOD5aMDvp",
        "colab": {
          "base_uri": "https://localhost:8080/"
        },
        "outputId": "7f8a7254-5f44-4364-b57d-fc4f8510d1b5"
      },
      "outputs": [
        {
          "output_type": "stream",
          "name": "stdout",
          "text": [
            "(2475, 768)\n",
            "(1060, 768)\n",
            "(1028, 768)\n"
          ]
        }
      ],
      "source": [
        "print(trainBert_embedding.shape)\n",
        "print(devBert_embedding.shape)\n",
        "print(testBert_embedding.shape)"
      ]
    },
    {
      "cell_type": "markdown",
      "metadata": {
        "id": "62hKeeV_2G77"
      },
      "source": [
        "### **Create inputs of neural network**"
      ]
    },
    {
      "cell_type": "code",
      "execution_count": null,
      "metadata": {
        "id": "929QNlk72G7_",
        "colab": {
          "base_uri": "https://localhost:8080/"
        },
        "outputId": "dd11df12-c814-465b-a837-f6477179d597"
      },
      "outputs": [
        {
          "output_type": "stream",
          "name": "stdout",
          "text": [
            "X_train_bert shape:  (2475, 768)\n",
            "X_train_lemma shape:  (2475, 17)\n",
            "X_train_singularPattern shape:  (2475, 17)\n",
            "X_train_root shape:  (2475, 4)\n",
            "X_train_genRat shape:  (2475, 2)\n",
            "X_train_numOfRoot shape:  (2475, 1)\n",
            "y_train_class shape:  (2475, 1)\n",
            "y_train_plPattern shape:  (2475, 18)\n",
            "y_train_unflection shape:  (2475, 18)\n"
          ]
        }
      ],
      "source": [
        "# 0:lamma | 1:singular pattern | 2:root |3:inflection | 4:plural pattern | 5:plural type(B/S) | 6:gender | 7:rational | 8:number of root\n",
        "# create train set\n",
        "X_train_bert = trainBert_embedding\n",
        "X_train_lemma = trainData_pad[0]  # lemma feature\n",
        "X_train_singularPattern = trainData_pad[1]  # singular pattern feature\n",
        "X_train_root = trainData_pad[2]  # root feature\n",
        "X_train_genRat = np.stack((trainData_pad[6], trainData_pad[7]), axis=-1)  # gender & rational features\n",
        "X_train_numOfRoot = trainData_pad[8].reshape((trainData_pad[8].shape[0], -1))  # number of root\n",
        "\n",
        "y_train_class = trainData_pad[5].reshape((trainData_pad[5].shape[0], -1))  # broken or sound classes\n",
        "y_train_plPattern = trainData_pad[4]  # plural pattern\n",
        "y_train_inflection = trainData_pad[3]  # inflection\n",
        "\n",
        "# create dev set\n",
        "X_dev_bert = devBert_embedding\n",
        "X_dev_lemma = devData_pad[0]  # lemma feature\n",
        "X_dev_singularPattern = devData_pad[1]  # singular pattern feature\n",
        "X_dev_root = devData_pad[2]  # root feature\n",
        "X_dev_genRat = np.stack((devData_pad[6], devData_pad[7]), axis=-1)  # gender & rational features\n",
        "X_dev_numOfRoot = devData_pad[8].reshape((devData_pad[8].shape[0], -1))  # number of root\n",
        "\n",
        "y_dev_class = devData_pad[5].reshape((devData_pad[5].shape[0], -1))  # broken or sound classes\n",
        "y_dev_plPattern = devData_pad[4]  # plural pattern\n",
        "y_dev_inflection = devData_pad[3]  # inflection\n",
        "\n",
        "# create test set\n",
        "X_test_bert = testBert_embedding\n",
        "X_test_lemma = testData_pad[0]  # lemma feature\n",
        "X_test_singularPattern = testData_pad[1]  # singular pattern feature\n",
        "X_test_root = testData_pad[2]  # root feature\n",
        "X_test_genRat = np.stack((testData_pad[6], testData_pad[7]), axis=-1)  # gender & rational features\n",
        "X_test_numOfRoot = testData_pad[8].reshape((testData_pad[8].shape[0], -1))  # number of root\n",
        "\n",
        "y_test_class = testData_pad[5].reshape((testData_pad[5].shape[0], -1))  # broken or sound classes\n",
        "y_test_plPattern = testData_pad[4]  # plural pattern\n",
        "y_test_inflection = testData_pad[3]  # inflection\n",
        "\n",
        "print('X_train_bert shape: ', X_train_bert.shape)\n",
        "print('X_train_lemma shape: ', X_train_lemma.shape)\n",
        "print('X_train_singularPattern shape: ', X_train_singularPattern.shape)\n",
        "print('X_train_root shape: ', X_train_root.shape)\n",
        "print('X_train_genRat shape: ', X_train_genRat.shape)\n",
        "print('X_train_numOfRoot shape: ', X_train_numOfRoot.shape)\n",
        "print('y_train_class shape: ', y_train_class.shape)\n",
        "print('y_train_plPattern shape: ', y_train_plPattern.shape)\n",
        "print('y_train_unflection shape: ', y_train_inflection.shape)"
      ]
    },
    {
      "cell_type": "code",
      "execution_count": null,
      "metadata": {
        "id": "s9p_i-u-2G8K",
        "colab": {
          "base_uri": "https://localhost:8080/"
        },
        "outputId": "82b2b5d3-60ec-4a7d-e587-6e6bee3577f5"
      },
      "outputs": [
        {
          "output_type": "stream",
          "name": "stdout",
          "text": [
            "(2475, 17, 50)\n",
            "(2475, 17, 50)\n",
            "(2475, 4, 50)\n",
            "(2475, 18, 50)\n",
            "(2475, 18, 50)\n"
          ]
        }
      ],
      "source": [
        "# Convert to ONE-HOT encoding\n",
        "X_train_lemma_OH = to_categorical(X_train_lemma, len(char_index))\n",
        "X_train_singularPattern_OH = to_categorical(X_train_singularPattern, len(char_index))\n",
        "X_train_root_OH = to_categorical(X_train_root, len(char_index))\n",
        "\n",
        "X_dev_lemma_OH = to_categorical(X_dev_lemma, len(char_index))\n",
        "X_dev_singularPattern_OH = to_categorical(X_dev_singularPattern, len(char_index))\n",
        "X_dev_root_OH = to_categorical(X_dev_root, len(char_index))\n",
        "\n",
        "X_test_lemma_OH = to_categorical(X_test_lemma, len(char_index))\n",
        "X_test_singularPattern_OH = to_categorical(X_test_singularPattern, len(char_index))\n",
        "X_test_root_OH = to_categorical(X_test_root, len(char_index))\n",
        "\n",
        "y_train_plPattern_OH = to_categorical(y_train_plPattern, len(char_index))\n",
        "y_dev_plPattern_OH = to_categorical(y_dev_plPattern, len(char_index))\n",
        "y_test_plPattern_OH = to_categorical(y_test_plPattern, len(char_index))\n",
        "\n",
        "y_train_inflection_OH = to_categorical(y_train_inflection, len(char_index))\n",
        "y_dev_inflection_OH = to_categorical(y_dev_inflection, len(char_index))\n",
        "y_test_inflection_OH = to_categorical(y_test_inflection, len(char_index))\n",
        "\n",
        "print(X_train_lemma_OH.shape)\n",
        "print(X_train_singularPattern_OH.shape)\n",
        "print(X_train_root_OH.shape)\n",
        "print(y_train_plPattern_OH.shape)\n",
        "print(y_train_inflection_OH.shape)"
      ]
    },
    {
      "cell_type": "code",
      "execution_count": null,
      "metadata": {
        "id": "4JFJCYFv2G8P"
      },
      "outputs": [],
      "source": [
        "# convert numerical inputs to int32\n",
        "X_train_genRat = np.asarray(X_train_genRat).astype('int32')\n",
        "X_train_numOfRoot = np.asarray(X_train_numOfRoot).astype('int32')\n",
        "X_dev_genRat = np.asarray(X_dev_genRat).astype('int32')\n",
        "X_dev_numOfRoot = np.asarray(X_dev_numOfRoot).astype('int32')\n",
        "X_test_genRat = np.asarray(X_test_genRat).astype('int32')\n",
        "X_test_numOfRoot = np.asarray(X_test_numOfRoot).astype('int32')\n",
        "\n",
        "y_train_class = np.asarray(y_train_class).astype('int32')\n",
        "y_dev_class = np.asarray(y_dev_class).astype('int32')\n",
        "y_test_class = np.asarray(y_test_class).astype('int32')"
      ]
    },
    {
      "cell_type": "markdown",
      "metadata": {
        "id": "JUh5iUSmzZhO"
      },
      "source": [
        "## **Modify new dataset and retrieving**"
      ]
    },
    {
      "cell_type": "code",
      "execution_count": null,
      "metadata": {
        "id": "5b3sK5EPz8jK"
      },
      "outputs": [],
      "source": [
        "ara_train = dataPath + '/ara_1000.train'\n",
        "ara_dev = dataPath + '/ara.dev'\n",
        "ara_test = dataPath + '/ara.gold'\n",
        "\n",
        "ara_train = pd.read_csv(ara_train, header=None)\n",
        "ara_dev = pd.read_csv(ara_dev, header=None)\n",
        "ara_test = pd.read_csv(ara_test, header=None)"
      ]
    },
    {
      "cell_type": "code",
      "execution_count": null,
      "metadata": {
        "id": "wJ_MJb2iJ0Yl"
      },
      "outputs": [],
      "source": [
        "# seperate data to singulr, plural, and spec sections\n",
        "def fixDataset(dataframe):\n",
        "  newDF = pd.DataFrame(columns=['lemma', 'inflection', 'SPEC'])\n",
        "  for elm in dataframe[0].tolist():\n",
        "    sample = elm.split('\\t')\n",
        "    splitted_spec = sample[2].split(';') # splitted_spec[1]: Rational, splitted_spec[2]: Gender\n",
        "    dfsample = {'lemma': sample[0], 'inflection': sample[1],\n",
        "                'GEN': 'm' if splitted_spec[2]=='MASC' else 'f',\n",
        "                'RAT': 'r' if splitted_spec[1]=='HUM' else 'i',\n",
        "                'SPEC': sample[2]}\n",
        "    newDF = newDF.append(dfsample, ignore_index=True)\n",
        "\n",
        "  return newDF\n",
        "\n",
        "fixed_ara_train = fixDataset(ara_train)\n",
        "fixed_ara_dev = fixDataset(ara_dev)\n",
        "fixed_ara_test = fixDataset(ara_test)\n",
        "\n",
        "# convert data to BW form\n",
        "bw_train_data = pd.DataFrame({'lemma': getBWForm(fixed_ara_train['lemma'].tolist()),\n",
        "                      'inflection': getBWForm(fixed_ara_train['inflection'].tolist()),\n",
        "                      'GEN': fixed_ara_train['GEN'].tolist(),\n",
        "                      'RAT': fixed_ara_train['RAT'].tolist(),\n",
        "                      'SPEC': fixed_ara_train['SPEC'].tolist()})\n",
        "\n",
        "# convert data to BW form\n",
        "bw_dev_data = pd.DataFrame({'lemma': getBWForm(fixed_ara_dev['lemma'].tolist()),\n",
        "                      'inflection': getBWForm(fixed_ara_dev['inflection'].tolist()),\n",
        "                      'GEN': fixed_ara_dev['GEN'].tolist(),\n",
        "                      'RAT': fixed_ara_dev['RAT'].tolist(),\n",
        "                      'SPEC': fixed_ara_dev['SPEC'].tolist()})\n",
        "\n",
        "# convert data to BW form\n",
        "bw_test_data = pd.DataFrame({'lemma': getBWForm(fixed_ara_test['lemma'].tolist()),\n",
        "                      'inflection': getBWForm(fixed_ara_test['inflection'].tolist()),\n",
        "                      'GEN': fixed_ara_test['GEN'].tolist(),\n",
        "                      'RAT': fixed_ara_test['RAT'].tolist(),\n",
        "                      'SPEC': fixed_ara_test['SPEC'].tolist()})\n",
        "\n",
        "bw_train_data.to_csv(dataPath + '/ara_train_BWForm.csv')\n",
        "bw_dev_data.to_csv(dataPath + '/ara_dev_BWForm.csv')\n",
        "bw_test_data.to_csv(dataPath + '/ara_test_BWForm.csv')"
      ]
    },
    {
      "cell_type": "code",
      "execution_count": null,
      "metadata": {
        "colab": {
          "base_uri": "https://localhost:8080/"
        },
        "id": "_d2cKmAKy2VN",
        "outputId": "8c8e82db-cc61-40f4-8705-ed73a1e99586"
      },
      "outputs": [
        {
          "output_type": "execute_result",
          "data": {
            "text/plain": [
              "   Unnamed: 0     lemma  inflection GEN RAT            SPEC\n",
              "0           0     sAHap       sAHAt   f   i   N;NHUM;FEM;PL\n",
              "1           1     >amor      >umuwr   m   i  N;NHUM;MASC;PL\n",
              "2           2    >uma~p       >umam   f   i   N;NHUM;FEM;PL\n",
              "3           3   jalosap     jalasAt   f   i   N;NHUM;FEM;PL\n",
              "4           4  {iti~hAm  Aiti~hAmAt   m   i  N;NHUM;MASC;PL"
            ],
            "text/html": [
              "\n",
              "  <div id=\"df-85480bfc-c345-43e5-aecb-e14d33f3e673\">\n",
              "    <div class=\"colab-df-container\">\n",
              "      <div>\n",
              "<style scoped>\n",
              "    .dataframe tbody tr th:only-of-type {\n",
              "        vertical-align: middle;\n",
              "    }\n",
              "\n",
              "    .dataframe tbody tr th {\n",
              "        vertical-align: top;\n",
              "    }\n",
              "\n",
              "    .dataframe thead th {\n",
              "        text-align: right;\n",
              "    }\n",
              "</style>\n",
              "<table border=\"1\" class=\"dataframe\">\n",
              "  <thead>\n",
              "    <tr style=\"text-align: right;\">\n",
              "      <th></th>\n",
              "      <th>Unnamed: 0</th>\n",
              "      <th>lemma</th>\n",
              "      <th>inflection</th>\n",
              "      <th>GEN</th>\n",
              "      <th>RAT</th>\n",
              "      <th>SPEC</th>\n",
              "    </tr>\n",
              "  </thead>\n",
              "  <tbody>\n",
              "    <tr>\n",
              "      <th>0</th>\n",
              "      <td>0</td>\n",
              "      <td>sAHap</td>\n",
              "      <td>sAHAt</td>\n",
              "      <td>f</td>\n",
              "      <td>i</td>\n",
              "      <td>N;NHUM;FEM;PL</td>\n",
              "    </tr>\n",
              "    <tr>\n",
              "      <th>1</th>\n",
              "      <td>1</td>\n",
              "      <td>&gt;amor</td>\n",
              "      <td>&gt;umuwr</td>\n",
              "      <td>m</td>\n",
              "      <td>i</td>\n",
              "      <td>N;NHUM;MASC;PL</td>\n",
              "    </tr>\n",
              "    <tr>\n",
              "      <th>2</th>\n",
              "      <td>2</td>\n",
              "      <td>&gt;uma~p</td>\n",
              "      <td>&gt;umam</td>\n",
              "      <td>f</td>\n",
              "      <td>i</td>\n",
              "      <td>N;NHUM;FEM;PL</td>\n",
              "    </tr>\n",
              "    <tr>\n",
              "      <th>3</th>\n",
              "      <td>3</td>\n",
              "      <td>jalosap</td>\n",
              "      <td>jalasAt</td>\n",
              "      <td>f</td>\n",
              "      <td>i</td>\n",
              "      <td>N;NHUM;FEM;PL</td>\n",
              "    </tr>\n",
              "    <tr>\n",
              "      <th>4</th>\n",
              "      <td>4</td>\n",
              "      <td>{iti~hAm</td>\n",
              "      <td>Aiti~hAmAt</td>\n",
              "      <td>m</td>\n",
              "      <td>i</td>\n",
              "      <td>N;NHUM;MASC;PL</td>\n",
              "    </tr>\n",
              "  </tbody>\n",
              "</table>\n",
              "</div>\n",
              "      <button class=\"colab-df-convert\" onclick=\"convertToInteractive('df-85480bfc-c345-43e5-aecb-e14d33f3e673')\"\n",
              "              title=\"Convert this dataframe to an interactive table.\"\n",
              "              style=\"display:none;\">\n",
              "        \n",
              "  <svg xmlns=\"http://www.w3.org/2000/svg\" height=\"24px\"viewBox=\"0 0 24 24\"\n",
              "       width=\"24px\">\n",
              "    <path d=\"M0 0h24v24H0V0z\" fill=\"none\"/>\n",
              "    <path d=\"M18.56 5.44l.94 2.06.94-2.06 2.06-.94-2.06-.94-.94-2.06-.94 2.06-2.06.94zm-11 1L8.5 8.5l.94-2.06 2.06-.94-2.06-.94L8.5 2.5l-.94 2.06-2.06.94zm10 10l.94 2.06.94-2.06 2.06-.94-2.06-.94-.94-2.06-.94 2.06-2.06.94z\"/><path d=\"M17.41 7.96l-1.37-1.37c-.4-.4-.92-.59-1.43-.59-.52 0-1.04.2-1.43.59L10.3 9.45l-7.72 7.72c-.78.78-.78 2.05 0 2.83L4 21.41c.39.39.9.59 1.41.59.51 0 1.02-.2 1.41-.59l7.78-7.78 2.81-2.81c.8-.78.8-2.07 0-2.86zM5.41 20L4 18.59l7.72-7.72 1.47 1.35L5.41 20z\"/>\n",
              "  </svg>\n",
              "      </button>\n",
              "      \n",
              "  <style>\n",
              "    .colab-df-container {\n",
              "      display:flex;\n",
              "      flex-wrap:wrap;\n",
              "      gap: 12px;\n",
              "    }\n",
              "\n",
              "    .colab-df-convert {\n",
              "      background-color: #E8F0FE;\n",
              "      border: none;\n",
              "      border-radius: 50%;\n",
              "      cursor: pointer;\n",
              "      display: none;\n",
              "      fill: #1967D2;\n",
              "      height: 32px;\n",
              "      padding: 0 0 0 0;\n",
              "      width: 32px;\n",
              "    }\n",
              "\n",
              "    .colab-df-convert:hover {\n",
              "      background-color: #E2EBFA;\n",
              "      box-shadow: 0px 1px 2px rgba(60, 64, 67, 0.3), 0px 1px 3px 1px rgba(60, 64, 67, 0.15);\n",
              "      fill: #174EA6;\n",
              "    }\n",
              "\n",
              "    [theme=dark] .colab-df-convert {\n",
              "      background-color: #3B4455;\n",
              "      fill: #D2E3FC;\n",
              "    }\n",
              "\n",
              "    [theme=dark] .colab-df-convert:hover {\n",
              "      background-color: #434B5C;\n",
              "      box-shadow: 0px 1px 3px 1px rgba(0, 0, 0, 0.15);\n",
              "      filter: drop-shadow(0px 1px 2px rgba(0, 0, 0, 0.3));\n",
              "      fill: #FFFFFF;\n",
              "    }\n",
              "  </style>\n",
              "\n",
              "      <script>\n",
              "        const buttonEl =\n",
              "          document.querySelector('#df-85480bfc-c345-43e5-aecb-e14d33f3e673 button.colab-df-convert');\n",
              "        buttonEl.style.display =\n",
              "          google.colab.kernel.accessAllowed ? 'block' : 'none';\n",
              "\n",
              "        async function convertToInteractive(key) {\n",
              "          const element = document.querySelector('#df-85480bfc-c345-43e5-aecb-e14d33f3e673');\n",
              "          const dataTable =\n",
              "            await google.colab.kernel.invokeFunction('convertToInteractive',\n",
              "                                                     [key], {});\n",
              "          if (!dataTable) return;\n",
              "\n",
              "          const docLinkHtml = 'Like what you see? Visit the ' +\n",
              "            '<a target=\"_blank\" href=https://colab.research.google.com/notebooks/data_table.ipynb>data table notebook</a>'\n",
              "            + ' to learn more about interactive tables.';\n",
              "          element.innerHTML = '';\n",
              "          dataTable['output_type'] = 'display_data';\n",
              "          await google.colab.output.renderOutput(dataTable, element);\n",
              "          const docLink = document.createElement('div');\n",
              "          docLink.innerHTML = docLinkHtml;\n",
              "          element.appendChild(docLink);\n",
              "        }\n",
              "      </script>\n",
              "    </div>\n",
              "  </div>\n",
              "  "
            ]
          },
          "metadata": {},
          "execution_count": 45
        }
      ],
      "source": [
        "# read new data from google drive path that were modified\n",
        "ara_trainData_csv_new = pd.read_csv(dataPath + '/ara_train_BWForm.csv')\n",
        "ara_devData_csv_new = pd.read_csv(dataPath + '/ara_dev_BWForm.csv')\n",
        "ara_testData_csv_new = pd.read_csv(dataPath + '/ara_test_BWForm.csv')\n",
        "ara_trainData_csv_new.head()"
      ]
    },
    {
      "cell_type": "code",
      "execution_count": null,
      "metadata": {
        "colab": {
          "base_uri": "https://localhost:8080/"
        },
        "id": "bzASlleHAEoL",
        "outputId": "eb3cdbef-fa93-4d92-baa0-111229fac28b"
      },
      "outputs": [
        {
          "output_type": "execute_result",
          "data": {
            "text/plain": [
              "   Unnamed: 0      lemma   inflection  GEN  RAT            SPEC\n",
              "0           0   Turobiyd  TuwrobiydAt    1    0  N;NHUM;MASC;PL\n",
              "1           1   mawoluwd     mawAliyd    1    1   N;HUM;MASC;PL\n",
              "2           2  Daruwriy~  Daruwriy~At    0    0   N;NHUM;FEM;PL\n",
              "3           3   maEoniy~  maEoniyi~yn    1    0  N;NHUM;MASC;PL\n",
              "4           4      jidAr      judorAn    1    0  N;NHUM;MASC;PL"
            ],
            "text/html": [
              "\n",
              "  <div id=\"df-93cd8f13-2876-4f25-987e-da78974da85d\">\n",
              "    <div class=\"colab-df-container\">\n",
              "      <div>\n",
              "<style scoped>\n",
              "    .dataframe tbody tr th:only-of-type {\n",
              "        vertical-align: middle;\n",
              "    }\n",
              "\n",
              "    .dataframe tbody tr th {\n",
              "        vertical-align: top;\n",
              "    }\n",
              "\n",
              "    .dataframe thead th {\n",
              "        text-align: right;\n",
              "    }\n",
              "</style>\n",
              "<table border=\"1\" class=\"dataframe\">\n",
              "  <thead>\n",
              "    <tr style=\"text-align: right;\">\n",
              "      <th></th>\n",
              "      <th>Unnamed: 0</th>\n",
              "      <th>lemma</th>\n",
              "      <th>inflection</th>\n",
              "      <th>GEN</th>\n",
              "      <th>RAT</th>\n",
              "      <th>SPEC</th>\n",
              "    </tr>\n",
              "  </thead>\n",
              "  <tbody>\n",
              "    <tr>\n",
              "      <th>0</th>\n",
              "      <td>0</td>\n",
              "      <td>Turobiyd</td>\n",
              "      <td>TuwrobiydAt</td>\n",
              "      <td>1</td>\n",
              "      <td>0</td>\n",
              "      <td>N;NHUM;MASC;PL</td>\n",
              "    </tr>\n",
              "    <tr>\n",
              "      <th>1</th>\n",
              "      <td>1</td>\n",
              "      <td>mawoluwd</td>\n",
              "      <td>mawAliyd</td>\n",
              "      <td>1</td>\n",
              "      <td>1</td>\n",
              "      <td>N;HUM;MASC;PL</td>\n",
              "    </tr>\n",
              "    <tr>\n",
              "      <th>2</th>\n",
              "      <td>2</td>\n",
              "      <td>Daruwriy~</td>\n",
              "      <td>Daruwriy~At</td>\n",
              "      <td>0</td>\n",
              "      <td>0</td>\n",
              "      <td>N;NHUM;FEM;PL</td>\n",
              "    </tr>\n",
              "    <tr>\n",
              "      <th>3</th>\n",
              "      <td>3</td>\n",
              "      <td>maEoniy~</td>\n",
              "      <td>maEoniyi~yn</td>\n",
              "      <td>1</td>\n",
              "      <td>0</td>\n",
              "      <td>N;NHUM;MASC;PL</td>\n",
              "    </tr>\n",
              "    <tr>\n",
              "      <th>4</th>\n",
              "      <td>4</td>\n",
              "      <td>jidAr</td>\n",
              "      <td>judorAn</td>\n",
              "      <td>1</td>\n",
              "      <td>0</td>\n",
              "      <td>N;NHUM;MASC;PL</td>\n",
              "    </tr>\n",
              "  </tbody>\n",
              "</table>\n",
              "</div>\n",
              "      <button class=\"colab-df-convert\" onclick=\"convertToInteractive('df-93cd8f13-2876-4f25-987e-da78974da85d')\"\n",
              "              title=\"Convert this dataframe to an interactive table.\"\n",
              "              style=\"display:none;\">\n",
              "        \n",
              "  <svg xmlns=\"http://www.w3.org/2000/svg\" height=\"24px\"viewBox=\"0 0 24 24\"\n",
              "       width=\"24px\">\n",
              "    <path d=\"M0 0h24v24H0V0z\" fill=\"none\"/>\n",
              "    <path d=\"M18.56 5.44l.94 2.06.94-2.06 2.06-.94-2.06-.94-.94-2.06-.94 2.06-2.06.94zm-11 1L8.5 8.5l.94-2.06 2.06-.94-2.06-.94L8.5 2.5l-.94 2.06-2.06.94zm10 10l.94 2.06.94-2.06 2.06-.94-2.06-.94-.94-2.06-.94 2.06-2.06.94z\"/><path d=\"M17.41 7.96l-1.37-1.37c-.4-.4-.92-.59-1.43-.59-.52 0-1.04.2-1.43.59L10.3 9.45l-7.72 7.72c-.78.78-.78 2.05 0 2.83L4 21.41c.39.39.9.59 1.41.59.51 0 1.02-.2 1.41-.59l7.78-7.78 2.81-2.81c.8-.78.8-2.07 0-2.86zM5.41 20L4 18.59l7.72-7.72 1.47 1.35L5.41 20z\"/>\n",
              "  </svg>\n",
              "      </button>\n",
              "      \n",
              "  <style>\n",
              "    .colab-df-container {\n",
              "      display:flex;\n",
              "      flex-wrap:wrap;\n",
              "      gap: 12px;\n",
              "    }\n",
              "\n",
              "    .colab-df-convert {\n",
              "      background-color: #E8F0FE;\n",
              "      border: none;\n",
              "      border-radius: 50%;\n",
              "      cursor: pointer;\n",
              "      display: none;\n",
              "      fill: #1967D2;\n",
              "      height: 32px;\n",
              "      padding: 0 0 0 0;\n",
              "      width: 32px;\n",
              "    }\n",
              "\n",
              "    .colab-df-convert:hover {\n",
              "      background-color: #E2EBFA;\n",
              "      box-shadow: 0px 1px 2px rgba(60, 64, 67, 0.3), 0px 1px 3px 1px rgba(60, 64, 67, 0.15);\n",
              "      fill: #174EA6;\n",
              "    }\n",
              "\n",
              "    [theme=dark] .colab-df-convert {\n",
              "      background-color: #3B4455;\n",
              "      fill: #D2E3FC;\n",
              "    }\n",
              "\n",
              "    [theme=dark] .colab-df-convert:hover {\n",
              "      background-color: #434B5C;\n",
              "      box-shadow: 0px 1px 3px 1px rgba(0, 0, 0, 0.15);\n",
              "      filter: drop-shadow(0px 1px 2px rgba(0, 0, 0, 0.3));\n",
              "      fill: #FFFFFF;\n",
              "    }\n",
              "  </style>\n",
              "\n",
              "      <script>\n",
              "        const buttonEl =\n",
              "          document.querySelector('#df-93cd8f13-2876-4f25-987e-da78974da85d button.colab-df-convert');\n",
              "        buttonEl.style.display =\n",
              "          google.colab.kernel.accessAllowed ? 'block' : 'none';\n",
              "\n",
              "        async function convertToInteractive(key) {\n",
              "          const element = document.querySelector('#df-93cd8f13-2876-4f25-987e-da78974da85d');\n",
              "          const dataTable =\n",
              "            await google.colab.kernel.invokeFunction('convertToInteractive',\n",
              "                                                     [key], {});\n",
              "          if (!dataTable) return;\n",
              "\n",
              "          const docLinkHtml = 'Like what you see? Visit the ' +\n",
              "            '<a target=\"_blank\" href=https://colab.research.google.com/notebooks/data_table.ipynb>data table notebook</a>'\n",
              "            + ' to learn more about interactive tables.';\n",
              "          element.innerHTML = '';\n",
              "          dataTable['output_type'] = 'display_data';\n",
              "          await google.colab.output.renderOutput(dataTable, element);\n",
              "          const docLink = document.createElement('div');\n",
              "          docLink.innerHTML = docLinkHtml;\n",
              "          element.appendChild(docLink);\n",
              "        }\n",
              "      </script>\n",
              "    </div>\n",
              "  </div>\n",
              "  "
            ]
          },
          "metadata": {},
          "execution_count": 46
        }
      ],
      "source": [
        "categorical_attr = ['GEN', 'RAT']\n",
        "\n",
        "le = LabelEncoder()\n",
        "ara_trainData_csv_new[categorical_attr] = ara_trainData_csv_new[categorical_attr].apply(le.fit_transform, axis=0)\n",
        "\n",
        "le = LabelEncoder()\n",
        "ara_devData_csv_new[categorical_attr] = ara_devData_csv_new[categorical_attr].apply(le.fit_transform, axis=0)\n",
        "\n",
        "le = LabelEncoder()\n",
        "ara_testData_csv_new[categorical_attr] = ara_testData_csv_new[categorical_attr].apply(le.fit_transform, axis=0)\n",
        "\n",
        "ara_testData_csv_new.head()"
      ]
    },
    {
      "cell_type": "code",
      "execution_count": null,
      "metadata": {
        "id": "bf-b2QRjXV1O",
        "colab": {
          "base_uri": "https://localhost:8080/"
        },
        "outputId": "7796dbad-3443-4d30-ea85-00cb37492b2a"
      },
      "outputs": [
        {
          "output_type": "execute_result",
          "data": {
            "text/plain": [
              "(1000, 343, 600)"
            ]
          },
          "metadata": {},
          "execution_count": 47
        }
      ],
      "source": [
        "#Convert data to list\n",
        "def getListOfnewData(dataFrame):\n",
        "  '''\n",
        "  Output type->List : 0:lamma | 1:inflection | 2:gender | 3:rational\n",
        "  '''\n",
        "  data = []\n",
        "  data.append(dataFrame['lemma'].tolist())\n",
        "  data.append(dataFrame['inflection'].tolist())\n",
        "  data.append(dataFrame['GEN'].tolist())\n",
        "  data.append(dataFrame['RAT'].tolist())\n",
        "  data.append(getArabicForm(dataFrame['lemma'].tolist()))\n",
        "\n",
        "  return data\n",
        "\n",
        "trainData_new = getListOfnewData(ara_trainData_csv_new)\n",
        "devData_new   = getListOfnewData(ara_devData_csv_new)\n",
        "testData_new  = getListOfnewData(ara_testData_csv_new)\n",
        "\n",
        "is_newDataOrginal=True\n",
        "\n",
        "len(trainData_new[0]) ,len(devData_new[0]), len(testData_new[0])"
      ]
    },
    {
      "cell_type": "markdown",
      "metadata": {
        "id": "tUX8Rab-DUup"
      },
      "source": [
        "## **Work on new data duplicates**"
      ]
    },
    {
      "cell_type": "code",
      "execution_count": null,
      "metadata": {
        "id": "fnxUFxesDwlE",
        "colab": {
          "base_uri": "https://localhost:8080/"
        },
        "outputId": "aaa3289d-22fe-44b6-bb1b-3cb156fbc883"
      },
      "outputs": [
        {
          "output_type": "stream",
          "name": "stdout",
          "text": [
            "duplicate indexes has been updated\n",
            "Report Error Analysis on duplicates has been saved in /content/drive/MyDrive/AI Projects/Arabic Broken Plural/Datasets analysis path\n"
          ]
        }
      ],
      "source": [
        "if is_newDataOrginal:\n",
        "  #Save similar lemmas indexes in dictionary (key->lemma | value->list of indexes)\n",
        "  trainDupIndex_new=getDuplicateIndexes(trainData_new)\n",
        "  devDupIndex_new=getDuplicateIndexes(devData_new)\n",
        "  testDupIndex_new=getDuplicateIndexes(testData_new)\n",
        "  print(\"duplicate indexes has been updated\")\n",
        "\n",
        "if is_newDataOrginal:\n",
        "  #Save Duplicate report on data in csv\n",
        "  DataDuplicateCsv_new=reportErrorAnalysis_duplicates(ara_trainData_csv_new,trainDupIndex_new,data_analysis_path+\"/duplicateAnalysis_train_new.csv\")\n",
        "  DataDuplicateCsv_new=reportErrorAnalysis_duplicates(ara_devData_csv_new,devDupIndex_new,data_analysis_path+\"/duplicateAnalysis_dev_new.csv\")\n",
        "  DataDuplicateCsv_new=reportErrorAnalysis_duplicates(ara_testData_csv_new,testDupIndex_new,data_analysis_path+\"/duplicateAnalysis_test_new.csv\")\n",
        "  print(\"Report Error Analysis on duplicates has been saved in /content/drive/MyDrive/AI Projects/Arabic Broken Plural/Datasets analysis path\")"
      ]
    },
    {
      "cell_type": "code",
      "execution_count": null,
      "metadata": {
        "id": "QkhwJEWtQJ7v",
        "colab": {
          "base_uri": "https://localhost:8080/"
        },
        "outputId": "059245f4-3c36-4ada-dc08-c72bf157db40"
      },
      "outputs": [
        {
          "output_type": "stream",
          "name": "stdout",
          "text": [
            "Number Of Lemmas before Dropping duplicates in Train Set:  1000\n",
            "Number Of Lemmas before Dropping duplicates in Test Set:  343\n",
            "Number Of Lemmas before Dropping duplicates in Dev Set:  600\n",
            "=============================================================\n",
            "Number Of Lemmas After Dropping duplicates in Train Set:  1000\n",
            "Number Of Lemmas After Dropping duplicates in Test Set:  343\n",
            "Number Of Lemmas After Dropping duplicates in Dev Set:  600\n"
          ]
        }
      ],
      "source": [
        "trainDataUnique_new=getUniqueData(trainData_new,trainDupIndex_new)\n",
        "devDataUnique_new=getUniqueData(devData_new,devDupIndex_new)\n",
        "testDataUnique_new=getUniqueData(testData_new,testDupIndex_new)\n",
        "print(\"Number Of Lemmas before Dropping duplicates in Train Set: \", len(trainData_new[0]))\n",
        "print(\"Number Of Lemmas before Dropping duplicates in Test Set: \",len(devData_new[0]))\n",
        "print(\"Number Of Lemmas before Dropping duplicates in Dev Set: \",len(testData_new[0]))\n",
        "print(\"=============================================================\")\n",
        "print(\"Number Of Lemmas After Dropping duplicates in Train Set: \", len(trainDataUnique_new[0]))\n",
        "print(\"Number Of Lemmas After Dropping duplicates in Test Set: \",len(devDataUnique_new[0]))\n",
        "print(\"Number Of Lemmas After Dropping duplicates in Dev Set: \",len(testDataUnique_new[0]))"
      ]
    },
    {
      "cell_type": "code",
      "execution_count": null,
      "metadata": {
        "id": "yedtreeaT8tc"
      },
      "outputs": [],
      "source": [
        "trainFixedData_new , _ = fixInflections(trainDataUnique_new,1,dic_lemmaInflection)\n",
        "devFixedData_new , _ = fixInflections(devDataUnique_new,1,dic_lemmaInflection)\n",
        "testFixedData_new ,_ = fixInflections(testDataUnique_new,1,dic_lemmaInflection)\n"
      ]
    },
    {
      "cell_type": "code",
      "execution_count": null,
      "metadata": {
        "id": "RenstL7Vos1K",
        "colab": {
          "base_uri": "https://localhost:8080/"
        },
        "outputId": "9828bea1-05fc-4ff4-a19a-6fd98a2ea52a"
      },
      "outputs": [
        {
          "output_type": "stream",
          "name": "stdout",
          "text": [
            "2742\n",
            "2784\n",
            "2844\n"
          ]
        }
      ],
      "source": [
        "#Update New Lemmas In Dictionary\n",
        "if is_newDataOrginal:\n",
        "  dic_lemmaInflection = updateDic_lemmaInflection(trainFixedData_new,1,trainDupIndex_new,dic_lemmaInflection)\n",
        "  print(len(dic_lemmaInflection))\n",
        "  dic_lemmaInflection = updateDic_lemmaInflection(devFixedData_new,1,devDupIndex_new,dic_lemmaInflection)\n",
        "  print(len(dic_lemmaInflection))\n",
        "  dic_lemmaInflection = updateDic_lemmaInflection(testFixedData_new,1,testDupIndex_new,dic_lemmaInflection)\n",
        "  print(len(dic_lemmaInflection))"
      ]
    },
    {
      "cell_type": "code",
      "execution_count": null,
      "metadata": {
        "id": "TJfBBVnxkgw0"
      },
      "outputs": [],
      "source": [
        "if is_newDataOrginal:\n",
        "  trainData_new=trainFixedData_new\n",
        "  devData_new=devFixedData_new\n",
        "  testData_new=testFixedData_new\n",
        "  is_newDataOrginal=False\n",
        "else:\n",
        "  print(\"Warning!!! duplicate rows has already been dropped from data.(skipped this step)\")"
      ]
    },
    {
      "cell_type": "markdown",
      "metadata": {
        "id": "4MFDQIHuClaE"
      },
      "source": [
        "## **Analyzing Datasets**"
      ]
    },
    {
      "cell_type": "code",
      "execution_count": null,
      "metadata": {
        "id": "J0SyPuBTsAQf"
      },
      "outputs": [],
      "source": [
        "# generate samples of a dataset which are not in another dataset\n",
        "def generateUnseenSamples(first_dataset, second_dataset, new=False):\n",
        "  lemma_index = 0\n",
        "  if new:\n",
        "    inf_index = 1\n",
        "  else:\n",
        "    inf_index = 3\n",
        "  # approach 1: compare with lemma\n",
        "  existenceOfFirstDatasetElementsInAnother = np.array([lemma in second_dataset[lemma_index] for lemma in first_dataset[lemma_index]])\n",
        "  unseenLemmaIndices = np.where(existenceOfFirstDatasetElementsInAnother==False)[0]\n",
        "  num_unseen_approach1 = np.count_nonzero(existenceOfFirstDatasetElementsInAnother==False)\n",
        "\n",
        "  # approach 2: compare with (lemma, inflection) pair\n",
        "  firstDataset_lemmaInfPairs = np.stack((first_dataset[lemma_index], first_dataset[inf_index]), axis=-1).tolist()\n",
        "  secondDataset_lemmaInfPairs = np.stack((second_dataset[lemma_index], second_dataset[inf_index]), axis=-1).tolist()\n",
        "\n",
        "  existenceOfFirstDatasetElementsInAnother = np.array([lemInf in secondDataset_lemmaInfPairs for lemInf in firstDataset_lemmaInfPairs])\n",
        "  unseenLemmaInfIndices = np.where(existenceOfFirstDatasetElementsInAnother==False)[0]\n",
        "  num_unseen_approach2 = np.count_nonzero(existenceOfFirstDatasetElementsInAnother==False)\n",
        "\n",
        "  return unseenLemmaIndices, num_unseen_approach1, unseenLemmaInfIndices, num_unseen_approach2\n",
        "\n",
        "\n",
        "# create dataframe for a dataset's unseen data\n",
        "def createUnseensamplesDataframe(dataset, unseenLemmaIndices, unseenLemmaInfIndices, name, new=False):\n",
        "  data_analysis_path = '/content/drive/MyDrive/AI Projects/Arabic Broken Plural/Datasets analysis/'\n",
        "  os.makedirs(data_analysis_path, exist_ok=True)\n",
        "\n",
        "  lemma_index = 0\n",
        "  if new:\n",
        "    inf_index = 1\n",
        "  else:\n",
        "    inf_index = 3\n",
        "  unseenLemmaIndices_df = pd.DataFrame({'index': unseenLemmaIndices,\n",
        "                                           'lemma': np.array(dataset[lemma_index])[unseenLemmaIndices],\n",
        "                                           'inflection': np.array(dataset[inf_index])[unseenLemmaIndices]})\n",
        "  unseenLemmaIndices_df.to_csv(data_analysis_path + f'unseenLemma_{name}.csv')\n",
        "\n",
        "  unseenLemInfIndices_df = pd.DataFrame({'index': unseenLemmaInfIndices,\n",
        "                                           'lemma': np.array(dataset[lemma_index])[unseenLemmaInfIndices],\n",
        "                                           'inflection': np.array(dataset[inf_index])[unseenLemmaInfIndices]})\n",
        "  unseenLemInfIndices_df.to_csv(data_analysis_path + f'unseenLemInf_{name}.csv')\n",
        "\n",
        "  return unseenLemmaIndices_df, unseenLemInfIndices_df\n",
        "\n"
      ]
    },
    {
      "cell_type": "markdown",
      "metadata": {
        "id": "sZxKnStm3HNT"
      },
      "source": [
        "### **Old**"
      ]
    },
    {
      "cell_type": "code",
      "execution_count": null,
      "metadata": {
        "colab": {
          "base_uri": "https://localhost:8080/"
        },
        "id": "W0pcj48_1sUN",
        "outputId": "faaeb93d-ce0d-44a8-f89e-6bec2354f928"
      },
      "outputs": [
        {
          "output_type": "stream",
          "name": "stdout",
          "text": [
            "***** OLD DATASET\n",
            "number of unseen data(lemma) in dev set:  85\n",
            "number of unseen data(lemma) in test set:  78\n",
            "\n",
            "number of unseen data((lemma, inflection) pair) in dev set:  116\n",
            "number of unseen data((lemma, inflection) pair) in test set:  104\n"
          ]
        }
      ],
      "source": [
        "# generate samples of dev/test set which are not in train set\n",
        "# compare with lemma and (lemma, inflection) pair\n",
        "unseenLemmaIndices_dev, dev_num1, unseenLemInfIndices_dev, dev_num2 = generateUnseenSamples(devData, trainData)\n",
        "unseenLemmaIndices_test, test_num1, unseenLemInfIndices_test, test_num2 = generateUnseenSamples(testData, trainData)\n",
        "\n",
        "print('*'*5 + ' OLD DATASET')\n",
        "print('number of unseen data(lemma) in dev set: ', dev_num1)\n",
        "print('number of unseen data(lemma) in test set: ', test_num1, end='\\n\\n')\n",
        "print('number of unseen data((lemma, inflection) pair) in dev set: ', dev_num2)\n",
        "print('number of unseen data((lemma, inflection) pair) in test set: ', test_num2)\n",
        "\n",
        "unseenLemmaIndices_dev_df, unseenLemInfIndices_dev_df = createUnseensamplesDataframe(devData, unseenLemmaIndices_dev, unseenLemInfIndices_dev, 'dev')\n",
        "unseenLemmaIndices_test_df, unseenLemInfIndices_test_df = createUnseensamplesDataframe(testData, unseenLemmaIndices_test, unseenLemInfIndices_test, 'test')"
      ]
    },
    {
      "cell_type": "code",
      "execution_count": null,
      "metadata": {
        "colab": {
          "base_uri": "https://localhost:8080/",
          "height": 206
        },
        "id": "xH8DEKhJ2D54",
        "outputId": "c0a8af5a-d186-474f-e361-81b93dcf70a9"
      },
      "outputs": [
        {
          "output_type": "execute_result",
          "data": {
            "text/plain": [
              "   index      lemma   inflection\n",
              "0     66  mu$okilap      ma$Akil\n",
              "1     94      na$AT    >ano$iTap\n",
              "2    178   minaS~ap     minaS~At\n",
              "3    234   taqoniy~  taqoniy~iyn\n",
              "4    269    muDorib   muDoribiyn"
            ],
            "text/html": [
              "\n",
              "  <div id=\"df-9c38d77e-17fa-4b25-a1bf-5059dd8f5309\">\n",
              "    <div class=\"colab-df-container\">\n",
              "      <div>\n",
              "<style scoped>\n",
              "    .dataframe tbody tr th:only-of-type {\n",
              "        vertical-align: middle;\n",
              "    }\n",
              "\n",
              "    .dataframe tbody tr th {\n",
              "        vertical-align: top;\n",
              "    }\n",
              "\n",
              "    .dataframe thead th {\n",
              "        text-align: right;\n",
              "    }\n",
              "</style>\n",
              "<table border=\"1\" class=\"dataframe\">\n",
              "  <thead>\n",
              "    <tr style=\"text-align: right;\">\n",
              "      <th></th>\n",
              "      <th>index</th>\n",
              "      <th>lemma</th>\n",
              "      <th>inflection</th>\n",
              "    </tr>\n",
              "  </thead>\n",
              "  <tbody>\n",
              "    <tr>\n",
              "      <th>0</th>\n",
              "      <td>66</td>\n",
              "      <td>mu$okilap</td>\n",
              "      <td>ma$Akil</td>\n",
              "    </tr>\n",
              "    <tr>\n",
              "      <th>1</th>\n",
              "      <td>94</td>\n",
              "      <td>na$AT</td>\n",
              "      <td>&gt;ano$iTap</td>\n",
              "    </tr>\n",
              "    <tr>\n",
              "      <th>2</th>\n",
              "      <td>178</td>\n",
              "      <td>minaS~ap</td>\n",
              "      <td>minaS~At</td>\n",
              "    </tr>\n",
              "    <tr>\n",
              "      <th>3</th>\n",
              "      <td>234</td>\n",
              "      <td>taqoniy~</td>\n",
              "      <td>taqoniy~iyn</td>\n",
              "    </tr>\n",
              "    <tr>\n",
              "      <th>4</th>\n",
              "      <td>269</td>\n",
              "      <td>muDorib</td>\n",
              "      <td>muDoribiyn</td>\n",
              "    </tr>\n",
              "  </tbody>\n",
              "</table>\n",
              "</div>\n",
              "      <button class=\"colab-df-convert\" onclick=\"convertToInteractive('df-9c38d77e-17fa-4b25-a1bf-5059dd8f5309')\"\n",
              "              title=\"Convert this dataframe to an interactive table.\"\n",
              "              style=\"display:none;\">\n",
              "        \n",
              "  <svg xmlns=\"http://www.w3.org/2000/svg\" height=\"24px\"viewBox=\"0 0 24 24\"\n",
              "       width=\"24px\">\n",
              "    <path d=\"M0 0h24v24H0V0z\" fill=\"none\"/>\n",
              "    <path d=\"M18.56 5.44l.94 2.06.94-2.06 2.06-.94-2.06-.94-.94-2.06-.94 2.06-2.06.94zm-11 1L8.5 8.5l.94-2.06 2.06-.94-2.06-.94L8.5 2.5l-.94 2.06-2.06.94zm10 10l.94 2.06.94-2.06 2.06-.94-2.06-.94-.94-2.06-.94 2.06-2.06.94z\"/><path d=\"M17.41 7.96l-1.37-1.37c-.4-.4-.92-.59-1.43-.59-.52 0-1.04.2-1.43.59L10.3 9.45l-7.72 7.72c-.78.78-.78 2.05 0 2.83L4 21.41c.39.39.9.59 1.41.59.51 0 1.02-.2 1.41-.59l7.78-7.78 2.81-2.81c.8-.78.8-2.07 0-2.86zM5.41 20L4 18.59l7.72-7.72 1.47 1.35L5.41 20z\"/>\n",
              "  </svg>\n",
              "      </button>\n",
              "      \n",
              "  <style>\n",
              "    .colab-df-container {\n",
              "      display:flex;\n",
              "      flex-wrap:wrap;\n",
              "      gap: 12px;\n",
              "    }\n",
              "\n",
              "    .colab-df-convert {\n",
              "      background-color: #E8F0FE;\n",
              "      border: none;\n",
              "      border-radius: 50%;\n",
              "      cursor: pointer;\n",
              "      display: none;\n",
              "      fill: #1967D2;\n",
              "      height: 32px;\n",
              "      padding: 0 0 0 0;\n",
              "      width: 32px;\n",
              "    }\n",
              "\n",
              "    .colab-df-convert:hover {\n",
              "      background-color: #E2EBFA;\n",
              "      box-shadow: 0px 1px 2px rgba(60, 64, 67, 0.3), 0px 1px 3px 1px rgba(60, 64, 67, 0.15);\n",
              "      fill: #174EA6;\n",
              "    }\n",
              "\n",
              "    [theme=dark] .colab-df-convert {\n",
              "      background-color: #3B4455;\n",
              "      fill: #D2E3FC;\n",
              "    }\n",
              "\n",
              "    [theme=dark] .colab-df-convert:hover {\n",
              "      background-color: #434B5C;\n",
              "      box-shadow: 0px 1px 3px 1px rgba(0, 0, 0, 0.15);\n",
              "      filter: drop-shadow(0px 1px 2px rgba(0, 0, 0, 0.3));\n",
              "      fill: #FFFFFF;\n",
              "    }\n",
              "  </style>\n",
              "\n",
              "      <script>\n",
              "        const buttonEl =\n",
              "          document.querySelector('#df-9c38d77e-17fa-4b25-a1bf-5059dd8f5309 button.colab-df-convert');\n",
              "        buttonEl.style.display =\n",
              "          google.colab.kernel.accessAllowed ? 'block' : 'none';\n",
              "\n",
              "        async function convertToInteractive(key) {\n",
              "          const element = document.querySelector('#df-9c38d77e-17fa-4b25-a1bf-5059dd8f5309');\n",
              "          const dataTable =\n",
              "            await google.colab.kernel.invokeFunction('convertToInteractive',\n",
              "                                                     [key], {});\n",
              "          if (!dataTable) return;\n",
              "\n",
              "          const docLinkHtml = 'Like what you see? Visit the ' +\n",
              "            '<a target=\"_blank\" href=https://colab.research.google.com/notebooks/data_table.ipynb>data table notebook</a>'\n",
              "            + ' to learn more about interactive tables.';\n",
              "          element.innerHTML = '';\n",
              "          dataTable['output_type'] = 'display_data';\n",
              "          await google.colab.output.renderOutput(dataTable, element);\n",
              "          const docLink = document.createElement('div');\n",
              "          docLink.innerHTML = docLinkHtml;\n",
              "          element.appendChild(docLink);\n",
              "        }\n",
              "      </script>\n",
              "    </div>\n",
              "  </div>\n",
              "  "
            ]
          },
          "metadata": {},
          "execution_count": 55
        }
      ],
      "source": [
        "unseenLemInfIndices_test_df.head()"
      ]
    },
    {
      "cell_type": "markdown",
      "metadata": {
        "id": "tgL6tBRJ3Ofb"
      },
      "source": [
        "### **New**"
      ]
    },
    {
      "cell_type": "code",
      "execution_count": null,
      "metadata": {
        "id": "LRSP7BldEx8U",
        "colab": {
          "base_uri": "https://localhost:8080/"
        },
        "outputId": "26358480-5d40-400f-eea5-5fdd10f8420b"
      },
      "outputs": [
        {
          "output_type": "stream",
          "name": "stdout",
          "text": [
            "***** NEW DATASET\n",
            "number of unseen data(lemma) in dev set:  343\n",
            "number of unseen data(lemma) in test set:  600\n",
            "\n",
            "number of unseen data((lemma, inflection) pair) in dev set:  343\n",
            "number of unseen data((lemma, inflection) pair) in test set:  600\n"
          ]
        }
      ],
      "source": [
        "# generate samples of dev/test set which are not in train set\n",
        "# compare with lemma and (lemma, inflection) pair\n",
        "unseenLemmaIndices_dev_new, dev_new_num1, unseenLemInfIndices_dev_new, dev_new_num2 = generateUnseenSamples(devData_new, trainData_new, new=True)\n",
        "unseenLemmaIndices_test_new, test_new_num1, unseenLemInfIndices_test_new, test_new_num2 = generateUnseenSamples(testData_new, trainData_new, new=True)\n",
        "\n",
        "print('*'*5 + ' NEW DATASET')\n",
        "print('number of unseen data(lemma) in dev set: ', dev_new_num1)\n",
        "print('number of unseen data(lemma) in test set: ', test_new_num1, end='\\n\\n')\n",
        "print('number of unseen data((lemma, inflection) pair) in dev set: ', dev_new_num2)\n",
        "print('number of unseen data((lemma, inflection) pair) in test set: ', test_new_num2)\n",
        "\n",
        "unseenLemmaIndices_dev_new_df, unseenLemInfIndices_dev_new_df = createUnseensamplesDataframe(devData_new, unseenLemmaIndices_dev_new, unseenLemInfIndices_dev_new, 'dev_new', new=True)\n",
        "unseenLemmaIndices_test_new_df, unseenLemInfIndices_test_new_df = createUnseensamplesDataframe(testData_new, unseenLemmaIndices_test_new, unseenLemInfIndices_test_new, 'test_new', new=True)"
      ]
    },
    {
      "cell_type": "code",
      "execution_count": null,
      "metadata": {
        "id": "6f2DVZAvGlgs",
        "colab": {
          "base_uri": "https://localhost:8080/",
          "height": 206
        },
        "outputId": "9fad6fda-2bca-499e-9608-8296346051c4"
      },
      "outputs": [
        {
          "output_type": "execute_result",
          "data": {
            "text/plain": [
              "   index      lemma   inflection\n",
              "0     66  mu$okilap      ma$Akil\n",
              "1     94      na$AT    >ano$iTap\n",
              "2    178   minaS~ap     minaS~At\n",
              "3    234   taqoniy~  taqoniy~iyn\n",
              "4    269    muDorib   muDoribiyn"
            ],
            "text/html": [
              "\n",
              "  <div id=\"df-d0f6371b-265d-413b-b6de-7b9ba23385b8\">\n",
              "    <div class=\"colab-df-container\">\n",
              "      <div>\n",
              "<style scoped>\n",
              "    .dataframe tbody tr th:only-of-type {\n",
              "        vertical-align: middle;\n",
              "    }\n",
              "\n",
              "    .dataframe tbody tr th {\n",
              "        vertical-align: top;\n",
              "    }\n",
              "\n",
              "    .dataframe thead th {\n",
              "        text-align: right;\n",
              "    }\n",
              "</style>\n",
              "<table border=\"1\" class=\"dataframe\">\n",
              "  <thead>\n",
              "    <tr style=\"text-align: right;\">\n",
              "      <th></th>\n",
              "      <th>index</th>\n",
              "      <th>lemma</th>\n",
              "      <th>inflection</th>\n",
              "    </tr>\n",
              "  </thead>\n",
              "  <tbody>\n",
              "    <tr>\n",
              "      <th>0</th>\n",
              "      <td>66</td>\n",
              "      <td>mu$okilap</td>\n",
              "      <td>ma$Akil</td>\n",
              "    </tr>\n",
              "    <tr>\n",
              "      <th>1</th>\n",
              "      <td>94</td>\n",
              "      <td>na$AT</td>\n",
              "      <td>&gt;ano$iTap</td>\n",
              "    </tr>\n",
              "    <tr>\n",
              "      <th>2</th>\n",
              "      <td>178</td>\n",
              "      <td>minaS~ap</td>\n",
              "      <td>minaS~At</td>\n",
              "    </tr>\n",
              "    <tr>\n",
              "      <th>3</th>\n",
              "      <td>234</td>\n",
              "      <td>taqoniy~</td>\n",
              "      <td>taqoniy~iyn</td>\n",
              "    </tr>\n",
              "    <tr>\n",
              "      <th>4</th>\n",
              "      <td>269</td>\n",
              "      <td>muDorib</td>\n",
              "      <td>muDoribiyn</td>\n",
              "    </tr>\n",
              "  </tbody>\n",
              "</table>\n",
              "</div>\n",
              "      <button class=\"colab-df-convert\" onclick=\"convertToInteractive('df-d0f6371b-265d-413b-b6de-7b9ba23385b8')\"\n",
              "              title=\"Convert this dataframe to an interactive table.\"\n",
              "              style=\"display:none;\">\n",
              "        \n",
              "  <svg xmlns=\"http://www.w3.org/2000/svg\" height=\"24px\"viewBox=\"0 0 24 24\"\n",
              "       width=\"24px\">\n",
              "    <path d=\"M0 0h24v24H0V0z\" fill=\"none\"/>\n",
              "    <path d=\"M18.56 5.44l.94 2.06.94-2.06 2.06-.94-2.06-.94-.94-2.06-.94 2.06-2.06.94zm-11 1L8.5 8.5l.94-2.06 2.06-.94-2.06-.94L8.5 2.5l-.94 2.06-2.06.94zm10 10l.94 2.06.94-2.06 2.06-.94-2.06-.94-.94-2.06-.94 2.06-2.06.94z\"/><path d=\"M17.41 7.96l-1.37-1.37c-.4-.4-.92-.59-1.43-.59-.52 0-1.04.2-1.43.59L10.3 9.45l-7.72 7.72c-.78.78-.78 2.05 0 2.83L4 21.41c.39.39.9.59 1.41.59.51 0 1.02-.2 1.41-.59l7.78-7.78 2.81-2.81c.8-.78.8-2.07 0-2.86zM5.41 20L4 18.59l7.72-7.72 1.47 1.35L5.41 20z\"/>\n",
              "  </svg>\n",
              "      </button>\n",
              "      \n",
              "  <style>\n",
              "    .colab-df-container {\n",
              "      display:flex;\n",
              "      flex-wrap:wrap;\n",
              "      gap: 12px;\n",
              "    }\n",
              "\n",
              "    .colab-df-convert {\n",
              "      background-color: #E8F0FE;\n",
              "      border: none;\n",
              "      border-radius: 50%;\n",
              "      cursor: pointer;\n",
              "      display: none;\n",
              "      fill: #1967D2;\n",
              "      height: 32px;\n",
              "      padding: 0 0 0 0;\n",
              "      width: 32px;\n",
              "    }\n",
              "\n",
              "    .colab-df-convert:hover {\n",
              "      background-color: #E2EBFA;\n",
              "      box-shadow: 0px 1px 2px rgba(60, 64, 67, 0.3), 0px 1px 3px 1px rgba(60, 64, 67, 0.15);\n",
              "      fill: #174EA6;\n",
              "    }\n",
              "\n",
              "    [theme=dark] .colab-df-convert {\n",
              "      background-color: #3B4455;\n",
              "      fill: #D2E3FC;\n",
              "    }\n",
              "\n",
              "    [theme=dark] .colab-df-convert:hover {\n",
              "      background-color: #434B5C;\n",
              "      box-shadow: 0px 1px 3px 1px rgba(0, 0, 0, 0.15);\n",
              "      filter: drop-shadow(0px 1px 2px rgba(0, 0, 0, 0.3));\n",
              "      fill: #FFFFFF;\n",
              "    }\n",
              "  </style>\n",
              "\n",
              "      <script>\n",
              "        const buttonEl =\n",
              "          document.querySelector('#df-d0f6371b-265d-413b-b6de-7b9ba23385b8 button.colab-df-convert');\n",
              "        buttonEl.style.display =\n",
              "          google.colab.kernel.accessAllowed ? 'block' : 'none';\n",
              "\n",
              "        async function convertToInteractive(key) {\n",
              "          const element = document.querySelector('#df-d0f6371b-265d-413b-b6de-7b9ba23385b8');\n",
              "          const dataTable =\n",
              "            await google.colab.kernel.invokeFunction('convertToInteractive',\n",
              "                                                     [key], {});\n",
              "          if (!dataTable) return;\n",
              "\n",
              "          const docLinkHtml = 'Like what you see? Visit the ' +\n",
              "            '<a target=\"_blank\" href=https://colab.research.google.com/notebooks/data_table.ipynb>data table notebook</a>'\n",
              "            + ' to learn more about interactive tables.';\n",
              "          element.innerHTML = '';\n",
              "          dataTable['output_type'] = 'display_data';\n",
              "          await google.colab.output.renderOutput(dataTable, element);\n",
              "          const docLink = document.createElement('div');\n",
              "          docLink.innerHTML = docLinkHtml;\n",
              "          element.appendChild(docLink);\n",
              "        }\n",
              "      </script>\n",
              "    </div>\n",
              "  </div>\n",
              "  "
            ]
          },
          "metadata": {},
          "execution_count": 57
        }
      ],
      "source": [
        "unseenLemInfIndices_test_df.head()"
      ]
    },
    {
      "cell_type": "code",
      "source": [
        "#report_similarLemmas(allData_new[0],allData_new[1], dic_lemmaInflection, data_analysis_path, \"DuplicateLemma_all_new\")"
      ],
      "metadata": {
        "id": "d5fAvv1FDeSY"
      },
      "execution_count": null,
      "outputs": []
    },
    {
      "cell_type": "code",
      "source": [
        "report_similarLemmas(trainData_new[0],trainData_new[1], dic_lemmaInflection, data_analysis_path, \"DuplicateLemma_train_new\")"
      ],
      "metadata": {
        "id": "_I8Gfgj3JS55",
        "colab": {
          "base_uri": "https://localhost:8080/",
          "height": 423
        },
        "outputId": "7800ae08-8ec7-4c69-bcee-17e5a2ac282e"
      },
      "execution_count": null,
      "outputs": [
        {
          "output_type": "execute_result",
          "data": {
            "text/plain": [
              "     index       lemma new inflection old inflection  is_similar\n",
              "0        0       sAHap          sAHAt          sAHAt        True\n",
              "1        1       >amor         >umuwr         >umuwr        True\n",
              "2        2      >uma~p          >umam          >umam        True\n",
              "3        3     jalosap        jalasAt        jalasAt        True\n",
              "4        4    {iti~hAm     Aiti~hAmAt     Aiti~hAmAt        True\n",
              "..     ...         ...            ...            ...         ...\n",
              "995    995   mujAbahap      mujAbahAt      mujAbahAt        True\n",
              "996    996  >uToruwHap     >uToruwHAt     >uToruwHAt        True\n",
              "997    997        Huwt         HiytAn         HiytAn        True\n",
              "998    998      Ead~Ad       Ead~AdAt       Ead~AdAt        True\n",
              "999    999     malomas        malAmis        malAmis        True\n",
              "\n",
              "[1000 rows x 5 columns]"
            ],
            "text/html": [
              "\n",
              "  <div id=\"df-693b7109-7234-4038-ba6e-db18f993cc26\">\n",
              "    <div class=\"colab-df-container\">\n",
              "      <div>\n",
              "<style scoped>\n",
              "    .dataframe tbody tr th:only-of-type {\n",
              "        vertical-align: middle;\n",
              "    }\n",
              "\n",
              "    .dataframe tbody tr th {\n",
              "        vertical-align: top;\n",
              "    }\n",
              "\n",
              "    .dataframe thead th {\n",
              "        text-align: right;\n",
              "    }\n",
              "</style>\n",
              "<table border=\"1\" class=\"dataframe\">\n",
              "  <thead>\n",
              "    <tr style=\"text-align: right;\">\n",
              "      <th></th>\n",
              "      <th>index</th>\n",
              "      <th>lemma</th>\n",
              "      <th>new inflection</th>\n",
              "      <th>old inflection</th>\n",
              "      <th>is_similar</th>\n",
              "    </tr>\n",
              "  </thead>\n",
              "  <tbody>\n",
              "    <tr>\n",
              "      <th>0</th>\n",
              "      <td>0</td>\n",
              "      <td>sAHap</td>\n",
              "      <td>sAHAt</td>\n",
              "      <td>sAHAt</td>\n",
              "      <td>True</td>\n",
              "    </tr>\n",
              "    <tr>\n",
              "      <th>1</th>\n",
              "      <td>1</td>\n",
              "      <td>&gt;amor</td>\n",
              "      <td>&gt;umuwr</td>\n",
              "      <td>&gt;umuwr</td>\n",
              "      <td>True</td>\n",
              "    </tr>\n",
              "    <tr>\n",
              "      <th>2</th>\n",
              "      <td>2</td>\n",
              "      <td>&gt;uma~p</td>\n",
              "      <td>&gt;umam</td>\n",
              "      <td>&gt;umam</td>\n",
              "      <td>True</td>\n",
              "    </tr>\n",
              "    <tr>\n",
              "      <th>3</th>\n",
              "      <td>3</td>\n",
              "      <td>jalosap</td>\n",
              "      <td>jalasAt</td>\n",
              "      <td>jalasAt</td>\n",
              "      <td>True</td>\n",
              "    </tr>\n",
              "    <tr>\n",
              "      <th>4</th>\n",
              "      <td>4</td>\n",
              "      <td>{iti~hAm</td>\n",
              "      <td>Aiti~hAmAt</td>\n",
              "      <td>Aiti~hAmAt</td>\n",
              "      <td>True</td>\n",
              "    </tr>\n",
              "    <tr>\n",
              "      <th>...</th>\n",
              "      <td>...</td>\n",
              "      <td>...</td>\n",
              "      <td>...</td>\n",
              "      <td>...</td>\n",
              "      <td>...</td>\n",
              "    </tr>\n",
              "    <tr>\n",
              "      <th>995</th>\n",
              "      <td>995</td>\n",
              "      <td>mujAbahap</td>\n",
              "      <td>mujAbahAt</td>\n",
              "      <td>mujAbahAt</td>\n",
              "      <td>True</td>\n",
              "    </tr>\n",
              "    <tr>\n",
              "      <th>996</th>\n",
              "      <td>996</td>\n",
              "      <td>&gt;uToruwHap</td>\n",
              "      <td>&gt;uToruwHAt</td>\n",
              "      <td>&gt;uToruwHAt</td>\n",
              "      <td>True</td>\n",
              "    </tr>\n",
              "    <tr>\n",
              "      <th>997</th>\n",
              "      <td>997</td>\n",
              "      <td>Huwt</td>\n",
              "      <td>HiytAn</td>\n",
              "      <td>HiytAn</td>\n",
              "      <td>True</td>\n",
              "    </tr>\n",
              "    <tr>\n",
              "      <th>998</th>\n",
              "      <td>998</td>\n",
              "      <td>Ead~Ad</td>\n",
              "      <td>Ead~AdAt</td>\n",
              "      <td>Ead~AdAt</td>\n",
              "      <td>True</td>\n",
              "    </tr>\n",
              "    <tr>\n",
              "      <th>999</th>\n",
              "      <td>999</td>\n",
              "      <td>malomas</td>\n",
              "      <td>malAmis</td>\n",
              "      <td>malAmis</td>\n",
              "      <td>True</td>\n",
              "    </tr>\n",
              "  </tbody>\n",
              "</table>\n",
              "<p>1000 rows × 5 columns</p>\n",
              "</div>\n",
              "      <button class=\"colab-df-convert\" onclick=\"convertToInteractive('df-693b7109-7234-4038-ba6e-db18f993cc26')\"\n",
              "              title=\"Convert this dataframe to an interactive table.\"\n",
              "              style=\"display:none;\">\n",
              "        \n",
              "  <svg xmlns=\"http://www.w3.org/2000/svg\" height=\"24px\"viewBox=\"0 0 24 24\"\n",
              "       width=\"24px\">\n",
              "    <path d=\"M0 0h24v24H0V0z\" fill=\"none\"/>\n",
              "    <path d=\"M18.56 5.44l.94 2.06.94-2.06 2.06-.94-2.06-.94-.94-2.06-.94 2.06-2.06.94zm-11 1L8.5 8.5l.94-2.06 2.06-.94-2.06-.94L8.5 2.5l-.94 2.06-2.06.94zm10 10l.94 2.06.94-2.06 2.06-.94-2.06-.94-.94-2.06-.94 2.06-2.06.94z\"/><path d=\"M17.41 7.96l-1.37-1.37c-.4-.4-.92-.59-1.43-.59-.52 0-1.04.2-1.43.59L10.3 9.45l-7.72 7.72c-.78.78-.78 2.05 0 2.83L4 21.41c.39.39.9.59 1.41.59.51 0 1.02-.2 1.41-.59l7.78-7.78 2.81-2.81c.8-.78.8-2.07 0-2.86zM5.41 20L4 18.59l7.72-7.72 1.47 1.35L5.41 20z\"/>\n",
              "  </svg>\n",
              "      </button>\n",
              "      \n",
              "  <style>\n",
              "    .colab-df-container {\n",
              "      display:flex;\n",
              "      flex-wrap:wrap;\n",
              "      gap: 12px;\n",
              "    }\n",
              "\n",
              "    .colab-df-convert {\n",
              "      background-color: #E8F0FE;\n",
              "      border: none;\n",
              "      border-radius: 50%;\n",
              "      cursor: pointer;\n",
              "      display: none;\n",
              "      fill: #1967D2;\n",
              "      height: 32px;\n",
              "      padding: 0 0 0 0;\n",
              "      width: 32px;\n",
              "    }\n",
              "\n",
              "    .colab-df-convert:hover {\n",
              "      background-color: #E2EBFA;\n",
              "      box-shadow: 0px 1px 2px rgba(60, 64, 67, 0.3), 0px 1px 3px 1px rgba(60, 64, 67, 0.15);\n",
              "      fill: #174EA6;\n",
              "    }\n",
              "\n",
              "    [theme=dark] .colab-df-convert {\n",
              "      background-color: #3B4455;\n",
              "      fill: #D2E3FC;\n",
              "    }\n",
              "\n",
              "    [theme=dark] .colab-df-convert:hover {\n",
              "      background-color: #434B5C;\n",
              "      box-shadow: 0px 1px 3px 1px rgba(0, 0, 0, 0.15);\n",
              "      filter: drop-shadow(0px 1px 2px rgba(0, 0, 0, 0.3));\n",
              "      fill: #FFFFFF;\n",
              "    }\n",
              "  </style>\n",
              "\n",
              "      <script>\n",
              "        const buttonEl =\n",
              "          document.querySelector('#df-693b7109-7234-4038-ba6e-db18f993cc26 button.colab-df-convert');\n",
              "        buttonEl.style.display =\n",
              "          google.colab.kernel.accessAllowed ? 'block' : 'none';\n",
              "\n",
              "        async function convertToInteractive(key) {\n",
              "          const element = document.querySelector('#df-693b7109-7234-4038-ba6e-db18f993cc26');\n",
              "          const dataTable =\n",
              "            await google.colab.kernel.invokeFunction('convertToInteractive',\n",
              "                                                     [key], {});\n",
              "          if (!dataTable) return;\n",
              "\n",
              "          const docLinkHtml = 'Like what you see? Visit the ' +\n",
              "            '<a target=\"_blank\" href=https://colab.research.google.com/notebooks/data_table.ipynb>data table notebook</a>'\n",
              "            + ' to learn more about interactive tables.';\n",
              "          element.innerHTML = '';\n",
              "          dataTable['output_type'] = 'display_data';\n",
              "          await google.colab.output.renderOutput(dataTable, element);\n",
              "          const docLink = document.createElement('div');\n",
              "          docLink.innerHTML = docLinkHtml;\n",
              "          element.appendChild(docLink);\n",
              "        }\n",
              "      </script>\n",
              "    </div>\n",
              "  </div>\n",
              "  "
            ]
          },
          "metadata": {},
          "execution_count": 59
        }
      ]
    },
    {
      "cell_type": "code",
      "source": [
        "report_similarLemmas(devData_new[0],devData_new[1], dic_lemmaInflection, data_analysis_path, \"DuplicateLemma_dev_new\")"
      ],
      "metadata": {
        "id": "clHAzCi3JTsO",
        "colab": {
          "base_uri": "https://localhost:8080/",
          "height": 423
        },
        "outputId": "b282275e-8e16-44f6-9d9f-058598cddaae"
      },
      "execution_count": null,
      "outputs": [
        {
          "output_type": "execute_result",
          "data": {
            "text/plain": [
              "     index         lemma new inflection old inflection  is_similar\n",
              "0        0       tuhomap          tuham          tuham        True\n",
              "1        1         mAniE        mawAniE        mawAniE        True\n",
              "2        2         buEod        >aboEAd        >aboEAd        True\n",
              "3        3      tawoZiyf     tawoZiyfAt     tawoZiyfAt        True\n",
              "4        4         xaTar        >axoTAr        >axoTAr        True\n",
              "..     ...           ...            ...            ...         ...\n",
              "338    338     januwbiy~   januwbiy~iyn   januwbiy~iyn        True\n",
              "339    339      mukawi~n     mukawi~nAt     mukawi~nAt        True\n",
              "340    340  bunoduqiya~p        banAdiq        banAdiq        True\n",
              "341    341         junod          junod          junod        True\n",
              "342    342     {iHotirAm    AiHotirAmAt    AiHotirAmAt        True\n",
              "\n",
              "[343 rows x 5 columns]"
            ],
            "text/html": [
              "\n",
              "  <div id=\"df-5b9f445d-6274-454c-aa52-50f689c813c7\">\n",
              "    <div class=\"colab-df-container\">\n",
              "      <div>\n",
              "<style scoped>\n",
              "    .dataframe tbody tr th:only-of-type {\n",
              "        vertical-align: middle;\n",
              "    }\n",
              "\n",
              "    .dataframe tbody tr th {\n",
              "        vertical-align: top;\n",
              "    }\n",
              "\n",
              "    .dataframe thead th {\n",
              "        text-align: right;\n",
              "    }\n",
              "</style>\n",
              "<table border=\"1\" class=\"dataframe\">\n",
              "  <thead>\n",
              "    <tr style=\"text-align: right;\">\n",
              "      <th></th>\n",
              "      <th>index</th>\n",
              "      <th>lemma</th>\n",
              "      <th>new inflection</th>\n",
              "      <th>old inflection</th>\n",
              "      <th>is_similar</th>\n",
              "    </tr>\n",
              "  </thead>\n",
              "  <tbody>\n",
              "    <tr>\n",
              "      <th>0</th>\n",
              "      <td>0</td>\n",
              "      <td>tuhomap</td>\n",
              "      <td>tuham</td>\n",
              "      <td>tuham</td>\n",
              "      <td>True</td>\n",
              "    </tr>\n",
              "    <tr>\n",
              "      <th>1</th>\n",
              "      <td>1</td>\n",
              "      <td>mAniE</td>\n",
              "      <td>mawAniE</td>\n",
              "      <td>mawAniE</td>\n",
              "      <td>True</td>\n",
              "    </tr>\n",
              "    <tr>\n",
              "      <th>2</th>\n",
              "      <td>2</td>\n",
              "      <td>buEod</td>\n",
              "      <td>&gt;aboEAd</td>\n",
              "      <td>&gt;aboEAd</td>\n",
              "      <td>True</td>\n",
              "    </tr>\n",
              "    <tr>\n",
              "      <th>3</th>\n",
              "      <td>3</td>\n",
              "      <td>tawoZiyf</td>\n",
              "      <td>tawoZiyfAt</td>\n",
              "      <td>tawoZiyfAt</td>\n",
              "      <td>True</td>\n",
              "    </tr>\n",
              "    <tr>\n",
              "      <th>4</th>\n",
              "      <td>4</td>\n",
              "      <td>xaTar</td>\n",
              "      <td>&gt;axoTAr</td>\n",
              "      <td>&gt;axoTAr</td>\n",
              "      <td>True</td>\n",
              "    </tr>\n",
              "    <tr>\n",
              "      <th>...</th>\n",
              "      <td>...</td>\n",
              "      <td>...</td>\n",
              "      <td>...</td>\n",
              "      <td>...</td>\n",
              "      <td>...</td>\n",
              "    </tr>\n",
              "    <tr>\n",
              "      <th>338</th>\n",
              "      <td>338</td>\n",
              "      <td>januwbiy~</td>\n",
              "      <td>januwbiy~iyn</td>\n",
              "      <td>januwbiy~iyn</td>\n",
              "      <td>True</td>\n",
              "    </tr>\n",
              "    <tr>\n",
              "      <th>339</th>\n",
              "      <td>339</td>\n",
              "      <td>mukawi~n</td>\n",
              "      <td>mukawi~nAt</td>\n",
              "      <td>mukawi~nAt</td>\n",
              "      <td>True</td>\n",
              "    </tr>\n",
              "    <tr>\n",
              "      <th>340</th>\n",
              "      <td>340</td>\n",
              "      <td>bunoduqiya~p</td>\n",
              "      <td>banAdiq</td>\n",
              "      <td>banAdiq</td>\n",
              "      <td>True</td>\n",
              "    </tr>\n",
              "    <tr>\n",
              "      <th>341</th>\n",
              "      <td>341</td>\n",
              "      <td>junod</td>\n",
              "      <td>junod</td>\n",
              "      <td>junod</td>\n",
              "      <td>True</td>\n",
              "    </tr>\n",
              "    <tr>\n",
              "      <th>342</th>\n",
              "      <td>342</td>\n",
              "      <td>{iHotirAm</td>\n",
              "      <td>AiHotirAmAt</td>\n",
              "      <td>AiHotirAmAt</td>\n",
              "      <td>True</td>\n",
              "    </tr>\n",
              "  </tbody>\n",
              "</table>\n",
              "<p>343 rows × 5 columns</p>\n",
              "</div>\n",
              "      <button class=\"colab-df-convert\" onclick=\"convertToInteractive('df-5b9f445d-6274-454c-aa52-50f689c813c7')\"\n",
              "              title=\"Convert this dataframe to an interactive table.\"\n",
              "              style=\"display:none;\">\n",
              "        \n",
              "  <svg xmlns=\"http://www.w3.org/2000/svg\" height=\"24px\"viewBox=\"0 0 24 24\"\n",
              "       width=\"24px\">\n",
              "    <path d=\"M0 0h24v24H0V0z\" fill=\"none\"/>\n",
              "    <path d=\"M18.56 5.44l.94 2.06.94-2.06 2.06-.94-2.06-.94-.94-2.06-.94 2.06-2.06.94zm-11 1L8.5 8.5l.94-2.06 2.06-.94-2.06-.94L8.5 2.5l-.94 2.06-2.06.94zm10 10l.94 2.06.94-2.06 2.06-.94-2.06-.94-.94-2.06-.94 2.06-2.06.94z\"/><path d=\"M17.41 7.96l-1.37-1.37c-.4-.4-.92-.59-1.43-.59-.52 0-1.04.2-1.43.59L10.3 9.45l-7.72 7.72c-.78.78-.78 2.05 0 2.83L4 21.41c.39.39.9.59 1.41.59.51 0 1.02-.2 1.41-.59l7.78-7.78 2.81-2.81c.8-.78.8-2.07 0-2.86zM5.41 20L4 18.59l7.72-7.72 1.47 1.35L5.41 20z\"/>\n",
              "  </svg>\n",
              "      </button>\n",
              "      \n",
              "  <style>\n",
              "    .colab-df-container {\n",
              "      display:flex;\n",
              "      flex-wrap:wrap;\n",
              "      gap: 12px;\n",
              "    }\n",
              "\n",
              "    .colab-df-convert {\n",
              "      background-color: #E8F0FE;\n",
              "      border: none;\n",
              "      border-radius: 50%;\n",
              "      cursor: pointer;\n",
              "      display: none;\n",
              "      fill: #1967D2;\n",
              "      height: 32px;\n",
              "      padding: 0 0 0 0;\n",
              "      width: 32px;\n",
              "    }\n",
              "\n",
              "    .colab-df-convert:hover {\n",
              "      background-color: #E2EBFA;\n",
              "      box-shadow: 0px 1px 2px rgba(60, 64, 67, 0.3), 0px 1px 3px 1px rgba(60, 64, 67, 0.15);\n",
              "      fill: #174EA6;\n",
              "    }\n",
              "\n",
              "    [theme=dark] .colab-df-convert {\n",
              "      background-color: #3B4455;\n",
              "      fill: #D2E3FC;\n",
              "    }\n",
              "\n",
              "    [theme=dark] .colab-df-convert:hover {\n",
              "      background-color: #434B5C;\n",
              "      box-shadow: 0px 1px 3px 1px rgba(0, 0, 0, 0.15);\n",
              "      filter: drop-shadow(0px 1px 2px rgba(0, 0, 0, 0.3));\n",
              "      fill: #FFFFFF;\n",
              "    }\n",
              "  </style>\n",
              "\n",
              "      <script>\n",
              "        const buttonEl =\n",
              "          document.querySelector('#df-5b9f445d-6274-454c-aa52-50f689c813c7 button.colab-df-convert');\n",
              "        buttonEl.style.display =\n",
              "          google.colab.kernel.accessAllowed ? 'block' : 'none';\n",
              "\n",
              "        async function convertToInteractive(key) {\n",
              "          const element = document.querySelector('#df-5b9f445d-6274-454c-aa52-50f689c813c7');\n",
              "          const dataTable =\n",
              "            await google.colab.kernel.invokeFunction('convertToInteractive',\n",
              "                                                     [key], {});\n",
              "          if (!dataTable) return;\n",
              "\n",
              "          const docLinkHtml = 'Like what you see? Visit the ' +\n",
              "            '<a target=\"_blank\" href=https://colab.research.google.com/notebooks/data_table.ipynb>data table notebook</a>'\n",
              "            + ' to learn more about interactive tables.';\n",
              "          element.innerHTML = '';\n",
              "          dataTable['output_type'] = 'display_data';\n",
              "          await google.colab.output.renderOutput(dataTable, element);\n",
              "          const docLink = document.createElement('div');\n",
              "          docLink.innerHTML = docLinkHtml;\n",
              "          element.appendChild(docLink);\n",
              "        }\n",
              "      </script>\n",
              "    </div>\n",
              "  </div>\n",
              "  "
            ]
          },
          "metadata": {},
          "execution_count": 60
        }
      ]
    },
    {
      "cell_type": "code",
      "source": [
        "report_similarLemmas(testData_new[0],testData_new[1], dic_lemmaInflection, data_analysis_path, \"DuplicateLemma_test_new\")"
      ],
      "metadata": {
        "colab": {
          "base_uri": "https://localhost:8080/",
          "height": 423
        },
        "id": "HQmHjS-BJUGe",
        "outputId": "7bb9c136-0ab2-4cf7-a522-51e42f3c1939"
      },
      "execution_count": null,
      "outputs": [
        {
          "output_type": "execute_result",
          "data": {
            "text/plain": [
              "     index      lemma new inflection old inflection  is_similar\n",
              "0        0   Turobiyd    TuwrobiydAt    TuwrobiydAt        True\n",
              "1        1   mawoluwd       mawAliyd       mawAliyd        True\n",
              "2        2  Daruwriy~    Daruwriy~At    Daruwriy~At        True\n",
              "3        3   maEoniy~    maEoniy~iyn    maEoniy~iyn        True\n",
              "4        4      jidAr        judorAn        judorAn        True\n",
              "..     ...        ...            ...            ...         ...\n",
              "595    595      faroE         furuwE         furuwE        True\n",
              "596    596   dar~Ajap       dar~AjAt       dar~AjAt        True\n",
              "597    597  murAjaEap      murAjaEAt      murAjaEAt        True\n",
              "598    598  maEorakap        maEArik        maEArik        True\n",
              "599    599     xabiyr        xubarA'        xubarA'        True\n",
              "\n",
              "[600 rows x 5 columns]"
            ],
            "text/html": [
              "\n",
              "  <div id=\"df-b783d286-a857-472f-a0f3-19a1f16bd56d\">\n",
              "    <div class=\"colab-df-container\">\n",
              "      <div>\n",
              "<style scoped>\n",
              "    .dataframe tbody tr th:only-of-type {\n",
              "        vertical-align: middle;\n",
              "    }\n",
              "\n",
              "    .dataframe tbody tr th {\n",
              "        vertical-align: top;\n",
              "    }\n",
              "\n",
              "    .dataframe thead th {\n",
              "        text-align: right;\n",
              "    }\n",
              "</style>\n",
              "<table border=\"1\" class=\"dataframe\">\n",
              "  <thead>\n",
              "    <tr style=\"text-align: right;\">\n",
              "      <th></th>\n",
              "      <th>index</th>\n",
              "      <th>lemma</th>\n",
              "      <th>new inflection</th>\n",
              "      <th>old inflection</th>\n",
              "      <th>is_similar</th>\n",
              "    </tr>\n",
              "  </thead>\n",
              "  <tbody>\n",
              "    <tr>\n",
              "      <th>0</th>\n",
              "      <td>0</td>\n",
              "      <td>Turobiyd</td>\n",
              "      <td>TuwrobiydAt</td>\n",
              "      <td>TuwrobiydAt</td>\n",
              "      <td>True</td>\n",
              "    </tr>\n",
              "    <tr>\n",
              "      <th>1</th>\n",
              "      <td>1</td>\n",
              "      <td>mawoluwd</td>\n",
              "      <td>mawAliyd</td>\n",
              "      <td>mawAliyd</td>\n",
              "      <td>True</td>\n",
              "    </tr>\n",
              "    <tr>\n",
              "      <th>2</th>\n",
              "      <td>2</td>\n",
              "      <td>Daruwriy~</td>\n",
              "      <td>Daruwriy~At</td>\n",
              "      <td>Daruwriy~At</td>\n",
              "      <td>True</td>\n",
              "    </tr>\n",
              "    <tr>\n",
              "      <th>3</th>\n",
              "      <td>3</td>\n",
              "      <td>maEoniy~</td>\n",
              "      <td>maEoniy~iyn</td>\n",
              "      <td>maEoniy~iyn</td>\n",
              "      <td>True</td>\n",
              "    </tr>\n",
              "    <tr>\n",
              "      <th>4</th>\n",
              "      <td>4</td>\n",
              "      <td>jidAr</td>\n",
              "      <td>judorAn</td>\n",
              "      <td>judorAn</td>\n",
              "      <td>True</td>\n",
              "    </tr>\n",
              "    <tr>\n",
              "      <th>...</th>\n",
              "      <td>...</td>\n",
              "      <td>...</td>\n",
              "      <td>...</td>\n",
              "      <td>...</td>\n",
              "      <td>...</td>\n",
              "    </tr>\n",
              "    <tr>\n",
              "      <th>595</th>\n",
              "      <td>595</td>\n",
              "      <td>faroE</td>\n",
              "      <td>furuwE</td>\n",
              "      <td>furuwE</td>\n",
              "      <td>True</td>\n",
              "    </tr>\n",
              "    <tr>\n",
              "      <th>596</th>\n",
              "      <td>596</td>\n",
              "      <td>dar~Ajap</td>\n",
              "      <td>dar~AjAt</td>\n",
              "      <td>dar~AjAt</td>\n",
              "      <td>True</td>\n",
              "    </tr>\n",
              "    <tr>\n",
              "      <th>597</th>\n",
              "      <td>597</td>\n",
              "      <td>murAjaEap</td>\n",
              "      <td>murAjaEAt</td>\n",
              "      <td>murAjaEAt</td>\n",
              "      <td>True</td>\n",
              "    </tr>\n",
              "    <tr>\n",
              "      <th>598</th>\n",
              "      <td>598</td>\n",
              "      <td>maEorakap</td>\n",
              "      <td>maEArik</td>\n",
              "      <td>maEArik</td>\n",
              "      <td>True</td>\n",
              "    </tr>\n",
              "    <tr>\n",
              "      <th>599</th>\n",
              "      <td>599</td>\n",
              "      <td>xabiyr</td>\n",
              "      <td>xubarA'</td>\n",
              "      <td>xubarA'</td>\n",
              "      <td>True</td>\n",
              "    </tr>\n",
              "  </tbody>\n",
              "</table>\n",
              "<p>600 rows × 5 columns</p>\n",
              "</div>\n",
              "      <button class=\"colab-df-convert\" onclick=\"convertToInteractive('df-b783d286-a857-472f-a0f3-19a1f16bd56d')\"\n",
              "              title=\"Convert this dataframe to an interactive table.\"\n",
              "              style=\"display:none;\">\n",
              "        \n",
              "  <svg xmlns=\"http://www.w3.org/2000/svg\" height=\"24px\"viewBox=\"0 0 24 24\"\n",
              "       width=\"24px\">\n",
              "    <path d=\"M0 0h24v24H0V0z\" fill=\"none\"/>\n",
              "    <path d=\"M18.56 5.44l.94 2.06.94-2.06 2.06-.94-2.06-.94-.94-2.06-.94 2.06-2.06.94zm-11 1L8.5 8.5l.94-2.06 2.06-.94-2.06-.94L8.5 2.5l-.94 2.06-2.06.94zm10 10l.94 2.06.94-2.06 2.06-.94-2.06-.94-.94-2.06-.94 2.06-2.06.94z\"/><path d=\"M17.41 7.96l-1.37-1.37c-.4-.4-.92-.59-1.43-.59-.52 0-1.04.2-1.43.59L10.3 9.45l-7.72 7.72c-.78.78-.78 2.05 0 2.83L4 21.41c.39.39.9.59 1.41.59.51 0 1.02-.2 1.41-.59l7.78-7.78 2.81-2.81c.8-.78.8-2.07 0-2.86zM5.41 20L4 18.59l7.72-7.72 1.47 1.35L5.41 20z\"/>\n",
              "  </svg>\n",
              "      </button>\n",
              "      \n",
              "  <style>\n",
              "    .colab-df-container {\n",
              "      display:flex;\n",
              "      flex-wrap:wrap;\n",
              "      gap: 12px;\n",
              "    }\n",
              "\n",
              "    .colab-df-convert {\n",
              "      background-color: #E8F0FE;\n",
              "      border: none;\n",
              "      border-radius: 50%;\n",
              "      cursor: pointer;\n",
              "      display: none;\n",
              "      fill: #1967D2;\n",
              "      height: 32px;\n",
              "      padding: 0 0 0 0;\n",
              "      width: 32px;\n",
              "    }\n",
              "\n",
              "    .colab-df-convert:hover {\n",
              "      background-color: #E2EBFA;\n",
              "      box-shadow: 0px 1px 2px rgba(60, 64, 67, 0.3), 0px 1px 3px 1px rgba(60, 64, 67, 0.15);\n",
              "      fill: #174EA6;\n",
              "    }\n",
              "\n",
              "    [theme=dark] .colab-df-convert {\n",
              "      background-color: #3B4455;\n",
              "      fill: #D2E3FC;\n",
              "    }\n",
              "\n",
              "    [theme=dark] .colab-df-convert:hover {\n",
              "      background-color: #434B5C;\n",
              "      box-shadow: 0px 1px 3px 1px rgba(0, 0, 0, 0.15);\n",
              "      filter: drop-shadow(0px 1px 2px rgba(0, 0, 0, 0.3));\n",
              "      fill: #FFFFFF;\n",
              "    }\n",
              "  </style>\n",
              "\n",
              "      <script>\n",
              "        const buttonEl =\n",
              "          document.querySelector('#df-b783d286-a857-472f-a0f3-19a1f16bd56d button.colab-df-convert');\n",
              "        buttonEl.style.display =\n",
              "          google.colab.kernel.accessAllowed ? 'block' : 'none';\n",
              "\n",
              "        async function convertToInteractive(key) {\n",
              "          const element = document.querySelector('#df-b783d286-a857-472f-a0f3-19a1f16bd56d');\n",
              "          const dataTable =\n",
              "            await google.colab.kernel.invokeFunction('convertToInteractive',\n",
              "                                                     [key], {});\n",
              "          if (!dataTable) return;\n",
              "\n",
              "          const docLinkHtml = 'Like what you see? Visit the ' +\n",
              "            '<a target=\"_blank\" href=https://colab.research.google.com/notebooks/data_table.ipynb>data table notebook</a>'\n",
              "            + ' to learn more about interactive tables.';\n",
              "          element.innerHTML = '';\n",
              "          dataTable['output_type'] = 'display_data';\n",
              "          await google.colab.output.renderOutput(dataTable, element);\n",
              "          const docLink = document.createElement('div');\n",
              "          docLink.innerHTML = docLinkHtml;\n",
              "          element.appendChild(docLink);\n",
              "        }\n",
              "      </script>\n",
              "    </div>\n",
              "  </div>\n",
              "  "
            ]
          },
          "metadata": {},
          "execution_count": 61
        }
      ]
    },
    {
      "cell_type": "markdown",
      "metadata": {
        "id": "hKMTPoMto-58"
      },
      "source": [
        "## **Combine 2 datesets for Machine Translation**"
      ]
    },
    {
      "cell_type": "code",
      "execution_count": null,
      "metadata": {
        "id": "nOK64RXSpJ-6",
        "colab": {
          "base_uri": "https://localhost:8080/",
          "height": 87
        },
        "outputId": "d7e063c5-2864-4622-f1c3-eb12586cce98"
      },
      "outputs": [
        {
          "output_type": "execute_result",
          "data": {
            "text/plain": [
              "'# 0:lemma | 1:singular pattern | 2:root |3:inflection | 4:plural pattern | 5:plural type(B/S) | 6:gender | 7:rational \\n\\ndf1 = train_csv[[\"lemma\", \"inflection\", \"GEN\", \"RAT\"]]\\ndf2 = newData[[\"lemma\", \"inflection\", \"GEN\", \"RAT\"]]\\n\\ndf1d = df1.drop_duplicates(keep=\\'first\\')\\ndf2d = df2.drop_duplicates(keep=\\'first\\')\\n\\nmergedData = pd.concat([df1, df2], axis=0)\\nmdd = pd.concat([df1d,df1d, df2d], axis=0)\\n\\ndfm = mdd.drop_duplicates(keep=False)\\n\\n#df1 = mergedData.drop_duplicates(keep=\\'first\\')\\n#df1=train_csv.merge(newData, indicator=True, how=\\'outer\\').query(\\'_merge==\"left_only\"\\').drop(\\'_merge\\', axis=0)\\nprint(dfm.shape[0])'"
            ],
            "application/vnd.google.colaboratory.intrinsic+json": {
              "type": "string"
            }
          },
          "metadata": {},
          "execution_count": 62
        }
      ],
      "source": [
        "'''# 0:lemma | 1:singular pattern | 2:root |3:inflection | 4:plural pattern | 5:plural type(B/S) | 6:gender | 7:rational\n",
        "\n",
        "df1 = train_csv[[\"lemma\", \"inflection\", \"GEN\", \"RAT\"]]\n",
        "df2 = newData[[\"lemma\", \"inflection\", \"GEN\", \"RAT\"]]\n",
        "\n",
        "df1d = df1.drop_duplicates(keep='first')\n",
        "df2d = df2.drop_duplicates(keep='first')\n",
        "\n",
        "mergedData = pd.concat([df1, df2], axis=0)\n",
        "mdd = pd.concat([df1d,df1d, df2d], axis=0)\n",
        "\n",
        "dfm = mdd.drop_duplicates(keep=False)\n",
        "\n",
        "#df1 = mergedData.drop_duplicates(keep='first')\n",
        "#df1=train_csv.merge(newData, indicator=True, how='outer').query('_merge==\"left_only\"').drop('_merge', axis=0)\n",
        "print(dfm.shape[0])'''"
      ]
    },
    {
      "cell_type": "code",
      "source": [
        "def combine_oldAndNewDataLists(old, new):\n",
        "  out = copy.deepcopy(new)\n",
        "\n",
        "  for i in range(len(old[0])):\n",
        "    out[0].append(old[0][i])\n",
        "    out[1].append(old[3][i])\n",
        "    out[2].append(old[6][i])\n",
        "    out[3].append(old[7][i])\n",
        "    out[4].append(\"NAN\")\n",
        "  return out\n",
        "\n",
        "trainData_comb = combine_oldAndNewDataLists(trainData,trainData_new)\n",
        "devData_comb = combine_oldAndNewDataLists(devData,devData_new)\n",
        "testData_comb = combine_oldAndNewDataLists(testData,testData_new)\n",
        "\n",
        "(len(trainData_comb[0]), len(devData_comb[0]), len(testData_comb[0]))"
      ],
      "metadata": {
        "colab": {
          "base_uri": "https://localhost:8080/"
        },
        "id": "Kk6Zzla85HH4",
        "outputId": "650908ff-95ee-4335-b674-e39a78740b86"
      },
      "execution_count": null,
      "outputs": [
        {
          "output_type": "execute_result",
          "data": {
            "text/plain": [
              "(3475, 1403, 1628)"
            ]
          },
          "metadata": {},
          "execution_count": 63
        }
      ]
    },
    {
      "cell_type": "markdown",
      "metadata": {
        "id": "kPYXqpgcYktV"
      },
      "source": [
        "## **Encoding new data (Character-based)**"
      ]
    },
    {
      "cell_type": "code",
      "execution_count": null,
      "metadata": {
        "id": "WgP9FLRrYktW",
        "colab": {
          "base_uri": "https://localhost:8080/"
        },
        "outputId": "49523d62-d201-4333-a338-3e48ad089bbd"
      },
      "outputs": [
        {
          "output_type": "stream",
          "name": "stdout",
          "text": [
            "lemma shape train:  1000\n",
            "lemma shape dev:  343\n",
            "lemma shape test:  600\n"
          ]
        }
      ],
      "source": [
        "# encode data and get maximum length of features\n",
        "def getEncodedNewData(data):\n",
        "  data_encoded = data.copy()\n",
        "  data_encoded[0] = [encodeWord(each) for each in data[0]]\n",
        "  data_encoded[1] = [encodeWord(each) for each in data[1]]\n",
        "\n",
        "  return data_encoded\n",
        "\n",
        "\n",
        "trainData_new_encoded = getEncodedNewData(trainData_new)\n",
        "devData_new_encoded = getEncodedNewData(devData_new)\n",
        "testData_new_encoded = getEncodedNewData(testData_new)\n",
        "\n",
        "trainData_comb_encoded = getEncodedNewData(trainData_comb)\n",
        "devData_comb_encoded = getEncodedNewData(devData_comb)\n",
        "testData_comb_encoded = getEncodedNewData(testData_comb)\n",
        "\n",
        "print('lemma shape train: ', len(trainData_new_encoded[0]))\n",
        "print('lemma shape dev: ', len(devData_new_encoded[0]))\n",
        "print('lemma shape test: ', len(testData_new_encoded[0]))"
      ]
    },
    {
      "cell_type": "code",
      "execution_count": null,
      "metadata": {
        "id": "bOanXQyHYktX",
        "colab": {
          "base_uri": "https://localhost:8080/"
        },
        "outputId": "ad9e3643-46cd-48b1-b71e-7d96dece217d"
      },
      "outputs": [
        {
          "output_type": "stream",
          "name": "stdout",
          "text": [
            "lemma with pad shape train:  (1000, 17)\n",
            "lemma with pad shape dev:  (343, 17)\n",
            "lemma with pad shape test:  (600, 17)\n"
          ]
        }
      ],
      "source": [
        "# ADD padding to sample\n",
        "def getPaddednewData(encodedData, lemma_max_len, inflection_max_len):\n",
        "  data_pad = []\n",
        "  data_pad.append(np.array(pad_sequences(encodedData[0], maxlen=lemma_max_len, padding='post')))\n",
        "  data_pad.append(np.array(pad_sequences(encodedData[1], maxlen=inflection_max_len, padding='post')))\n",
        "\n",
        "  data_pad.append(np.array(encodedData[2]))\n",
        "  data_pad.append(np.array(encodedData[3]))\n",
        "\n",
        "  return data_pad\n",
        "\n",
        "trainData_new_pad = getPaddednewData(trainData_new_encoded, lemma_max_len, inflection_max_len)\n",
        "devData_new_pad = getPaddednewData(devData_new_encoded, lemma_max_len, inflection_max_len)\n",
        "testData_new_pad = getPaddednewData(testData_new_encoded, lemma_max_len, inflection_max_len)\n",
        "\n",
        "trainData_comb_pad = getPaddednewData(trainData_comb_encoded, lemma_max_len, inflection_max_len)\n",
        "devData_comb_pad = getPaddednewData(devData_comb_encoded, lemma_max_len, inflection_max_len)\n",
        "testData_comb_pad = getPaddednewData(testData_comb_encoded, lemma_max_len, inflection_max_len)\n",
        "\n",
        "print('lemma with pad shape train: ', trainData_new_pad[0].shape)\n",
        "print('lemma with pad shape dev: ', devData_new_pad[0].shape)\n",
        "print('lemma with pad shape test: ', testData_new_pad[0].shape)"
      ]
    },
    {
      "cell_type": "markdown",
      "metadata": {
        "id": "TOcPWZyxYktX"
      },
      "source": [
        "## **Create inputs of neural network**"
      ]
    },
    {
      "cell_type": "markdown",
      "metadata": {
        "id": "KHOXSZq1Rd6C"
      },
      "source": [
        "#### **Old**"
      ]
    },
    {
      "cell_type": "code",
      "execution_count": null,
      "metadata": {
        "id": "8oRef0-fYktX",
        "colab": {
          "base_uri": "https://localhost:8080/"
        },
        "outputId": "01663819-a604-408b-bd2a-c984bef2ffa5"
      },
      "outputs": [
        {
          "output_type": "stream",
          "name": "stdout",
          "text": [
            "X_train_lemma shape:  (2475, 17)\n",
            "X_train_singularPattern shape:  (2475, 17)\n",
            "X_train_root shape:  (2475, 4)\n",
            "X_train_genRat shape:  (2475, 2)\n",
            "X_train_numOfRoot shape:  (2475, 1)\n",
            "y_train_class shape:  (2475, 1)\n",
            "y_train_plPattern shape:  (2475, 18)\n",
            "y_train_unflection shape:  (2475, 18)\n"
          ]
        }
      ],
      "source": [
        "# 0:lamma | 1:singular pattern | 2:root |3:inflection | 4:plural pattern | 5:plural type(B/S) | 6:gender | 7:rational | 8:number of root\n",
        "# create train set\n",
        "X_train_lemma = trainData_pad[0]  # lemma feature\n",
        "X_train_singularPattern = trainData_pad[1]  # singular pattern feature\n",
        "X_train_root = trainData_pad[2]  # root feature\n",
        "X_train_genRat = np.stack((trainData_pad[6], trainData_pad[7]), axis=-1)  # gender & rational features\n",
        "X_train_numOfRoot = trainData_pad[8].reshape((trainData_pad[8].shape[0], -1))  # number of root\n",
        "\n",
        "y_train_class = trainData_pad[5].reshape((trainData_pad[5].shape[0], -1))  # broken or sound classes\n",
        "y_train_plPattern = trainData_pad[4]  # plural pattern\n",
        "y_train_inflection = trainData_pad[3]  # inflection\n",
        "\n",
        "# create dev set\n",
        "X_dev_lemma = devData_pad[0]  # lemma feature\n",
        "X_dev_singularPattern = devData_pad[1]  # singular pattern feature\n",
        "X_dev_root = devData_pad[2]  # root feature\n",
        "X_dev_genRat = np.stack((devData_pad[6], devData_pad[7]), axis=-1)  # gender & rational features\n",
        "X_dev_numOfRoot = devData_pad[8].reshape((devData_pad[8].shape[0], -1))  # number of root\n",
        "\n",
        "y_dev_class = devData_pad[5].reshape((devData_pad[5].shape[0], -1))  # broken or sound classes\n",
        "y_dev_plPattern = devData_pad[4]  # plural pattern\n",
        "y_dev_inflection = devData_pad[3]  # inflection\n",
        "\n",
        "# create test set\n",
        "X_test_lemma = testData_pad[0]  # lemma feature\n",
        "X_test_singularPattern = testData_pad[1]  # singular pattern feature\n",
        "X_test_root = testData_pad[2]  # root feature\n",
        "X_test_genRat = np.stack((testData_pad[6], testData_pad[7]), axis=-1)  # gender & rational features\n",
        "X_test_numOfRoot = testData_pad[8].reshape((testData_pad[8].shape[0], -1))  # number of root\n",
        "\n",
        "y_test_class = testData_pad[5].reshape((testData_pad[5].shape[0], -1))  # broken or sound classes\n",
        "y_test_plPattern = testData_pad[4]  # plural pattern\n",
        "y_test_inflection = testData_pad[3]  # inflection\n",
        "\n",
        "print('X_train_lemma shape: ', X_train_lemma.shape)\n",
        "print('X_train_singularPattern shape: ', X_train_singularPattern.shape)\n",
        "print('X_train_root shape: ', X_train_root.shape)\n",
        "print('X_train_genRat shape: ', X_train_genRat.shape)\n",
        "print('X_train_numOfRoot shape: ', X_train_numOfRoot.shape)\n",
        "print('y_train_class shape: ', y_train_class.shape)\n",
        "print('y_train_plPattern shape: ', y_train_plPattern.shape)\n",
        "print('y_train_unflection shape: ', y_train_inflection.shape)"
      ]
    },
    {
      "cell_type": "code",
      "execution_count": null,
      "metadata": {
        "id": "zZfIXoHGYktY",
        "colab": {
          "base_uri": "https://localhost:8080/"
        },
        "outputId": "9ef93383-1aff-49dc-f98f-732e7da842a5"
      },
      "outputs": [
        {
          "output_type": "stream",
          "name": "stdout",
          "text": [
            "(2475, 17, 50)\n",
            "(2475, 17, 50)\n",
            "(2475, 4, 50)\n",
            "(2475, 18, 50)\n",
            "(2475, 18, 50)\n"
          ]
        }
      ],
      "source": [
        "# Convert to ONE-HOT encoding\n",
        "X_train_lemma_OH = to_categorical(X_train_lemma, len(char_index))\n",
        "X_train_singularPattern_OH = to_categorical(X_train_singularPattern, len(char_index))\n",
        "X_train_root_OH = to_categorical(X_train_root, len(char_index))\n",
        "\n",
        "X_dev_lemma_OH = to_categorical(X_dev_lemma, len(char_index))\n",
        "X_dev_singularPattern_OH = to_categorical(X_dev_singularPattern, len(char_index))\n",
        "X_dev_root_OH = to_categorical(X_dev_root, len(char_index))\n",
        "\n",
        "X_test_lemma_OH = to_categorical(X_test_lemma, len(char_index))\n",
        "X_test_singularPattern_OH = to_categorical(X_test_singularPattern, len(char_index))\n",
        "X_test_root_OH = to_categorical(X_test_root, len(char_index))\n",
        "\n",
        "y_train_plPattern_OH = to_categorical(y_train_plPattern, len(char_index))\n",
        "y_dev_plPattern_OH = to_categorical(y_dev_plPattern, len(char_index))\n",
        "y_test_plPattern_OH = to_categorical(y_test_plPattern, len(char_index))\n",
        "\n",
        "y_train_inflection_OH = to_categorical(y_train_inflection, len(char_index))\n",
        "y_dev_inflection_OH = to_categorical(y_dev_inflection, len(char_index))\n",
        "y_test_inflection_OH = to_categorical(y_test_inflection, len(char_index))\n",
        "\n",
        "print(X_train_lemma_OH.shape)\n",
        "print(X_train_singularPattern_OH.shape)\n",
        "print(X_train_root_OH.shape)\n",
        "print(y_train_plPattern_OH.shape)\n",
        "print(y_train_inflection_OH.shape)"
      ]
    },
    {
      "cell_type": "code",
      "execution_count": null,
      "metadata": {
        "id": "OST6JVaoYktY"
      },
      "outputs": [],
      "source": [
        "# covern numerical inputs to int32\n",
        "X_train_genRat = np.asarray(X_train_genRat).astype('int32')\n",
        "X_train_numOfRoot = np.asarray(X_train_numOfRoot).astype('int32')\n",
        "X_dev_genRat = np.asarray(X_dev_genRat).astype('int32')\n",
        "X_dev_numOfRoot = np.asarray(X_dev_numOfRoot).astype('int32')\n",
        "X_test_genRat = np.asarray(X_test_genRat).astype('int32')\n",
        "X_test_numOfRoot = np.asarray(X_test_numOfRoot).astype('int32')\n",
        "\n",
        "y_train_class = np.asarray(y_train_class).astype('int32')\n",
        "y_dev_class = np.asarray(y_dev_class).astype('int32')\n",
        "y_test_class = np.asarray(y_test_class).astype('int32')"
      ]
    },
    {
      "cell_type": "markdown",
      "metadata": {
        "id": "JJvKtWGURjyg"
      },
      "source": [
        "#### **New**"
      ]
    },
    {
      "cell_type": "code",
      "execution_count": null,
      "metadata": {
        "id": "5Yc6-yc7XumH"
      },
      "outputs": [],
      "source": [
        "# 0:lamma | 1:inflection | 2:gender | 3:rational\n",
        "# create train set\n",
        "X_train_lemma_new = trainData_new_pad[0]  # lemma feature\n",
        "X_train_genRat_new = np.stack((trainData_new_pad[2], trainData_new_pad[3]), axis=-1)  # gender & rational features\n",
        "y_train_inflection_new = trainData_new_pad[1]  # inflection\n",
        "\n",
        "# create train set\n",
        "X_dev_lemma_new = devData_new_pad[0]  # lemma feature\n",
        "X_dev_genRat_new = np.stack((devData_new_pad[2], devData_new_pad[3]), axis=-1)  # gender & rational features\n",
        "y_dev_inflection_new = devData_new_pad[1]  # inflection\n",
        "\n",
        "# create train set\n",
        "X_test_lemma_new = testData_new_pad[0]  # lemma feature\n",
        "X_test_genRat_new = np.stack((testData_new_pad[2], testData_new_pad[3]), axis=-1)  # gender & rational features\n",
        "y_test_inflection_new = testData_new_pad[1]  # inflection"
      ]
    },
    {
      "cell_type": "code",
      "source": [
        "X_train_lemma_new_OH = to_categorical(X_train_lemma_new, len(char_index))\n",
        "y_train_inflection_new_OH = to_categorical(y_train_inflection_new, len(char_index))\n",
        "\n",
        "X_dev_lemma_new_OH = to_categorical(X_dev_lemma_new, len(char_index))\n",
        "y_dev_inflection_new_OH = to_categorical(y_dev_inflection_new, len(char_index))\n",
        "\n",
        "X_test_lemma_new_OH = to_categorical(X_test_lemma_new, len(char_index))\n",
        "y_test_inflection_new_OH = to_categorical(y_test_inflection_new, len(char_index))\n",
        "\n",
        "y_train_inflection_new_OH.shape"
      ],
      "metadata": {
        "colab": {
          "base_uri": "https://localhost:8080/"
        },
        "id": "Lqnjoqtwtbn5",
        "outputId": "7c4f724a-696f-4fa7-869f-225576d828f5"
      },
      "execution_count": null,
      "outputs": [
        {
          "output_type": "execute_result",
          "data": {
            "text/plain": [
              "(1000, 18, 50)"
            ]
          },
          "metadata": {},
          "execution_count": 70
        }
      ]
    },
    {
      "cell_type": "markdown",
      "metadata": {
        "id": "WrAcTpfr9J82"
      },
      "source": [
        "#### **Combined**"
      ]
    },
    {
      "cell_type": "code",
      "execution_count": null,
      "metadata": {
        "id": "q81cqKFv9J83"
      },
      "outputs": [],
      "source": [
        "# 0:lamma | 1:inflection | 2:gender | 3:rational\n",
        "# create train set\n",
        "X_train_lemma_comb = trainData_comb_pad[0]  # lemma feature\n",
        "X_train_genRat_comb = np.stack((trainData_comb_pad[2], trainData_comb_pad[3]), axis=-1)  # gender & rational features\n",
        "y_train_inflection_comb = trainData_comb_pad[1]  # inflection\n",
        "\n",
        "# create train set\n",
        "X_dev_lemma_comb = devData_comb_pad[0]  # lemma feature\n",
        "X_dev_genRat_comb = np.stack((devData_comb_pad[2], devData_comb_pad[3]), axis=-1)  # gender & rational features\n",
        "y_dev_inflection_comb = devData_comb_pad[1]  # inflection\n",
        "\n",
        "# create train set\n",
        "X_test_lemma_comb = testData_comb_pad[0]  # lemma feature\n",
        "X_test_genRat_comb = np.stack((testData_comb_pad[2], testData_comb_pad[3]), axis=-1)  # gender & rational features\n",
        "y_test_inflection_comb = testData_comb_pad[1]  # inflection"
      ]
    },
    {
      "cell_type": "code",
      "source": [
        "X_train_lemma_comb_OH = to_categorical(X_train_lemma_comb, len(char_index))\n",
        "y_train_inflection_comb_OH = to_categorical(y_train_inflection_comb, len(char_index))\n",
        "\n",
        "X_dev_lemma_comb_OH = to_categorical(X_dev_lemma_comb, len(char_index))\n",
        "y_dev_inflection_comb_OH = to_categorical(y_dev_inflection_comb, len(char_index))\n",
        "\n",
        "X_test_lemma_comb_OH = to_categorical(X_test_lemma_comb, len(char_index))\n",
        "y_test_inflection_comb_OH = to_categorical(y_test_inflection_comb, len(char_index))\n",
        "\n",
        "y_train_inflection_comb_OH.shape"
      ],
      "metadata": {
        "colab": {
          "base_uri": "https://localhost:8080/"
        },
        "outputId": "03db3226-48f6-4868-89b2-1206f8b7f070",
        "id": "mE433APE9J83"
      },
      "execution_count": null,
      "outputs": [
        {
          "output_type": "execute_result",
          "data": {
            "text/plain": [
              "(3475, 18, 50)"
            ]
          },
          "metadata": {},
          "execution_count": 72
        }
      ]
    },
    {
      "cell_type": "markdown",
      "metadata": {
        "id": "5aRDIUaOvvJv"
      },
      "source": [
        "# **Classification Models**"
      ]
    },
    {
      "cell_type": "code",
      "execution_count": null,
      "metadata": {
        "id": "o2WmPwVwV7z-"
      },
      "outputs": [],
      "source": [
        "path = '/content/drive/MyDrive/AI Projects/Arabic Broken Plural/Results/Classification Models'\n",
        "# path = '/content/drive/MyDrive/Deep Learning/Datasets/Arabic Broken Plural/Results/Classification Models'"
      ]
    },
    {
      "cell_type": "code",
      "execution_count": null,
      "metadata": {
        "id": "caFMHfjbiMQT"
      },
      "outputs": [],
      "source": [
        "lemma_length = X_train_lemma_OH.shape[1] #17\n",
        "encode_size = X_train_lemma_OH.shape[2] #50\n",
        "genRat_length = X_train_genRat.shape[1] #2\n",
        "\n",
        "epochs = 100\n",
        "batch_size = 64"
      ]
    },
    {
      "cell_type": "markdown",
      "metadata": {
        "id": "wYae4z1hhH4t"
      },
      "source": [
        "## **Model 1**"
      ]
    },
    {
      "cell_type": "code",
      "execution_count": null,
      "metadata": {
        "id": "BUCsnXkThH4z",
        "colab": {
          "base_uri": "https://localhost:8080/"
        },
        "outputId": "c445d711-ff60-49f8-cb6c-9f71d6776277"
      },
      "outputs": [
        {
          "output_type": "stream",
          "name": "stderr",
          "text": [
            "WARNING:tensorflow:Compiled the loaded model, but the compiled metrics have yet to be built. `model.compile_metrics` will be empty until you train or evaluate the model.\n"
          ]
        }
      ],
      "source": [
        "input_lemma = Input(shape=(lemma_length, encode_size), name='Lemma')\n",
        "input_genRat = Input(shape=(genRat_length,), name='Gender-Rational')\n",
        "\n",
        "\n",
        "lstm = Bidirectional(LSTM(256, name='Lstm'), name='Bidirectional')(input_lemma)\n",
        "\n",
        "c = Concatenate(axis=1, name='Concatenate')([lstm, input_genRat])\n",
        "\n",
        "d = Dense(256, activation='relu', name='Dense1')(c)\n",
        "d = Dense(64, activation='relu', name='Dense2')(d)\n",
        "\n",
        "output = Dense(1, activation='sigmoid', name='Class')(d)\n",
        "model = Model(inputs=[input_lemma, input_genRat], outputs=output)\n",
        "\n",
        "model.save(path + \"/model 1/structure.h5\")\n",
        "\n",
        "checkpoint_filepath = path + '/model 1/weights.hdf5'\n",
        "checkpoint = ModelCheckpoint(filepath=checkpoint_filepath, monitor='val_accuracy', mode='max', save_best_only=True, verbose=0)\n",
        "\n",
        "model.compile(loss=\"binary_crossentropy\", optimizer=Adam(0.001), metrics=['accuracy'])"
      ]
    },
    {
      "cell_type": "code",
      "execution_count": null,
      "metadata": {
        "id": "gd9ygt4yhH4-"
      },
      "outputs": [],
      "source": [
        "with tf.device('/GPU:0'):\n",
        "  history = model.fit([X_train_lemma_OH, X_train_genRat], y_train_class, batch_size=batch_size, epochs=epochs,\n",
        "                      verbose=1, callbacks=[checkpoint], validation_data=([X_dev_lemma_OH, X_dev_genRat], y_dev_class)).history"
      ]
    },
    {
      "cell_type": "code",
      "execution_count": null,
      "metadata": {
        "id": "BB-ixvAghH5E"
      },
      "outputs": [],
      "source": [
        "print(model.summary())\n",
        "plot_model(model, to_file=path+'/model 1/architecture.png', show_shapes=True, show_layer_names=True)"
      ]
    },
    {
      "cell_type": "code",
      "execution_count": null,
      "metadata": {
        "id": "dDj9zmJqhH5J",
        "colab": {
          "base_uri": "https://localhost:8080/"
        },
        "outputId": "8166e53c-544b-4ddb-ab42-801f39fb4aaa"
      },
      "outputs": [
        {
          "output_type": "stream",
          "name": "stdout",
          "text": [
            "33/33 [==============================] - 1s 5ms/step - loss: 0.2506 - accuracy: 0.9767\n"
          ]
        },
        {
          "output_type": "execute_result",
          "data": {
            "text/plain": [
              "[0.25061726570129395, 0.9766536951065063]"
            ]
          },
          "metadata": {},
          "execution_count": 177
        }
      ],
      "source": [
        "model = load_model(checkpoint_filepath)\n",
        "model.evaluate([X_test_lemma_OH, X_test_genRat], y_test_class)"
      ]
    },
    {
      "cell_type": "code",
      "execution_count": null,
      "metadata": {
        "id": "BPWyu0gjgiHO",
        "colab": {
          "base_uri": "https://localhost:8080/"
        },
        "outputId": "ce1d96d6-ef98-470a-eba0-c69b62725229"
      },
      "outputs": [
        {
          "output_type": "stream",
          "name": "stdout",
          "text": [
            "best model based on min test set loss:  acc= 0.9603773355484009  loss= 0.14488400518894196\n",
            "best model based on max test set accuracy:  acc= 0.9764150977134705  loss= 0.26544255018234253\n",
            "\n",
            "evaluate dataset with best model based on maximum test set accuracy\n",
            "evaluate test set =  [0.25061726570129395, 0.9766536951065063]\n",
            "33/33 [==============================] - 1s 5ms/step\n",
            "------------------------------ metrics for test set ------------------------------\n",
            "confusion matrix: \n",
            " [[515  11]\n",
            " [ 13 489]]\n",
            "              precision    recall  f1-score   support\n",
            "\n",
            "      Broken      0.975     0.979     0.977       526\n",
            "       Sound      0.978     0.974     0.976       502\n",
            "\n",
            "    accuracy                          0.977      1028\n",
            "   macro avg      0.977     0.977     0.977      1028\n",
            "weighted avg      0.977     0.977     0.977      1028\n",
            "\n"
          ]
        }
      ],
      "source": [
        "reportResult(model, history, [X_test_lemma_OH, X_test_genRat], y_test_class)"
      ]
    },
    {
      "cell_type": "markdown",
      "metadata": {
        "id": "DBYWYsIYgR4S"
      },
      "source": [
        "### **Error Analysis**"
      ]
    },
    {
      "cell_type": "markdown",
      "metadata": {
        "id": "2WMhXUKOgYzM"
      },
      "source": [
        "Train set"
      ]
    },
    {
      "cell_type": "code",
      "execution_count": null,
      "metadata": {
        "id": "WxnbG5hDtWlO",
        "colab": {
          "base_uri": "https://localhost:8080/",
          "height": 148
        },
        "outputId": "b8cae9a1-723a-4b33-e73d-a8eac015fed6"
      },
      "outputs": [
        {
          "output_type": "stream",
          "name": "stdout",
          "text": [
            "78/78 [==============================] - 0s 5ms/step\n"
          ]
        },
        {
          "output_type": "execute_result",
          "data": {
            "text/plain": [
              "Empty DataFrame\n",
              "Columns: [index, lemma, inflection, b/s, b/s predict]\n",
              "Index: []"
            ],
            "text/html": [
              "\n",
              "  <div id=\"df-fb635dd5-19d3-4e80-937c-cd660ecb0c26\">\n",
              "    <div class=\"colab-df-container\">\n",
              "      <div>\n",
              "<style scoped>\n",
              "    .dataframe tbody tr th:only-of-type {\n",
              "        vertical-align: middle;\n",
              "    }\n",
              "\n",
              "    .dataframe tbody tr th {\n",
              "        vertical-align: top;\n",
              "    }\n",
              "\n",
              "    .dataframe thead th {\n",
              "        text-align: right;\n",
              "    }\n",
              "</style>\n",
              "<table border=\"1\" class=\"dataframe\">\n",
              "  <thead>\n",
              "    <tr style=\"text-align: right;\">\n",
              "      <th></th>\n",
              "      <th>index</th>\n",
              "      <th>lemma</th>\n",
              "      <th>inflection</th>\n",
              "      <th>b/s</th>\n",
              "      <th>b/s predict</th>\n",
              "    </tr>\n",
              "  </thead>\n",
              "  <tbody>\n",
              "  </tbody>\n",
              "</table>\n",
              "</div>\n",
              "      <button class=\"colab-df-convert\" onclick=\"convertToInteractive('df-fb635dd5-19d3-4e80-937c-cd660ecb0c26')\"\n",
              "              title=\"Convert this dataframe to an interactive table.\"\n",
              "              style=\"display:none;\">\n",
              "        \n",
              "  <svg xmlns=\"http://www.w3.org/2000/svg\" height=\"24px\"viewBox=\"0 0 24 24\"\n",
              "       width=\"24px\">\n",
              "    <path d=\"M0 0h24v24H0V0z\" fill=\"none\"/>\n",
              "    <path d=\"M18.56 5.44l.94 2.06.94-2.06 2.06-.94-2.06-.94-.94-2.06-.94 2.06-2.06.94zm-11 1L8.5 8.5l.94-2.06 2.06-.94-2.06-.94L8.5 2.5l-.94 2.06-2.06.94zm10 10l.94 2.06.94-2.06 2.06-.94-2.06-.94-.94-2.06-.94 2.06-2.06.94z\"/><path d=\"M17.41 7.96l-1.37-1.37c-.4-.4-.92-.59-1.43-.59-.52 0-1.04.2-1.43.59L10.3 9.45l-7.72 7.72c-.78.78-.78 2.05 0 2.83L4 21.41c.39.39.9.59 1.41.59.51 0 1.02-.2 1.41-.59l7.78-7.78 2.81-2.81c.8-.78.8-2.07 0-2.86zM5.41 20L4 18.59l7.72-7.72 1.47 1.35L5.41 20z\"/>\n",
              "  </svg>\n",
              "      </button>\n",
              "      \n",
              "  <style>\n",
              "    .colab-df-container {\n",
              "      display:flex;\n",
              "      flex-wrap:wrap;\n",
              "      gap: 12px;\n",
              "    }\n",
              "\n",
              "    .colab-df-convert {\n",
              "      background-color: #E8F0FE;\n",
              "      border: none;\n",
              "      border-radius: 50%;\n",
              "      cursor: pointer;\n",
              "      display: none;\n",
              "      fill: #1967D2;\n",
              "      height: 32px;\n",
              "      padding: 0 0 0 0;\n",
              "      width: 32px;\n",
              "    }\n",
              "\n",
              "    .colab-df-convert:hover {\n",
              "      background-color: #E2EBFA;\n",
              "      box-shadow: 0px 1px 2px rgba(60, 64, 67, 0.3), 0px 1px 3px 1px rgba(60, 64, 67, 0.15);\n",
              "      fill: #174EA6;\n",
              "    }\n",
              "\n",
              "    [theme=dark] .colab-df-convert {\n",
              "      background-color: #3B4455;\n",
              "      fill: #D2E3FC;\n",
              "    }\n",
              "\n",
              "    [theme=dark] .colab-df-convert:hover {\n",
              "      background-color: #434B5C;\n",
              "      box-shadow: 0px 1px 3px 1px rgba(0, 0, 0, 0.15);\n",
              "      filter: drop-shadow(0px 1px 2px rgba(0, 0, 0, 0.3));\n",
              "      fill: #FFFFFF;\n",
              "    }\n",
              "  </style>\n",
              "\n",
              "      <script>\n",
              "        const buttonEl =\n",
              "          document.querySelector('#df-fb635dd5-19d3-4e80-937c-cd660ecb0c26 button.colab-df-convert');\n",
              "        buttonEl.style.display =\n",
              "          google.colab.kernel.accessAllowed ? 'block' : 'none';\n",
              "\n",
              "        async function convertToInteractive(key) {\n",
              "          const element = document.querySelector('#df-fb635dd5-19d3-4e80-937c-cd660ecb0c26');\n",
              "          const dataTable =\n",
              "            await google.colab.kernel.invokeFunction('convertToInteractive',\n",
              "                                                     [key], {});\n",
              "          if (!dataTable) return;\n",
              "\n",
              "          const docLinkHtml = 'Like what you see? Visit the ' +\n",
              "            '<a target=\"_blank\" href=https://colab.research.google.com/notebooks/data_table.ipynb>data table notebook</a>'\n",
              "            + ' to learn more about interactive tables.';\n",
              "          element.innerHTML = '';\n",
              "          dataTable['output_type'] = 'display_data';\n",
              "          await google.colab.output.renderOutput(dataTable, element);\n",
              "          const docLink = document.createElement('div');\n",
              "          docLink.innerHTML = docLinkHtml;\n",
              "          element.appendChild(docLink);\n",
              "        }\n",
              "      </script>\n",
              "    </div>\n",
              "  </div>\n",
              "  "
            ]
          },
          "metadata": {},
          "execution_count": 179
        }
      ],
      "source": [
        "train_class_p=model.predict([X_train_lemma_OH, X_train_genRat])\n",
        "reportErrorAnalysis_classification(trainData[0], y_train_inflection_OH, y_train_class, train_class_p, path + \"/model 1/train_errorAnalysis.csv\")"
      ]
    },
    {
      "cell_type": "markdown",
      "metadata": {
        "id": "YBgk1fKxgain"
      },
      "source": [
        "Dev set"
      ]
    },
    {
      "cell_type": "code",
      "execution_count": null,
      "metadata": {
        "id": "_nD8ybG73xFR",
        "colab": {
          "base_uri": "https://localhost:8080/",
          "height": 932
        },
        "outputId": "004056b5-09cf-4cc6-9f40-2a1bad50d977"
      },
      "outputs": [
        {
          "output_type": "stream",
          "name": "stdout",
          "text": [
            "34/34 [==============================] - 0s 5ms/step\n"
          ]
        },
        {
          "output_type": "execute_result",
          "data": {
            "text/plain": [
              "    index           lemma          inflection  b/s b/s predict\n",
              "0     213           na$AT           >ano$iTap  [0]       [1.0]\n",
              "1     317          $Aliyh            $AliyhAt  [1]       [0.0]\n",
              "2     405         qA*ifap             qA*ifAt  [1]       [0.0]\n",
              "3     474             bin               baniy  [0]       [1.0]\n",
              "4     513         >awAdim             >awAdim  [0]       [1.0]\n",
              "5     532         $amoEap             $amaEAt  [1]       [0.0]\n",
              "6     556         HalowaY           HulowayAt  [1]       [0.0]\n",
              "7     607         rAbiTap             rAbiTAt  [1]       [0.0]\n",
              "8     625         raqoSap             raqaSAt  [1]       [0.0]\n",
              "9     627         Eatabap             >aEotAb  [0]       [1.0]\n",
              "10    628         EawAdim             EawAdim  [0]       [1.0]\n",
              "11    649           zA}ir            zA}iriyn  [1]       [0.0]\n",
              "12    651        zam~Arap            zamAmiyr  [0]       [1.0]\n",
              "13    656           <i*on              >u*uwn  [0]       [1.0]\n",
              "14    678        $uroTiy~         $uroTiy~iyn  [1]       [0.0]\n",
              "15    715           DAliE            DAliEiyn  [1]       [0.0]\n",
              "16    717  >urovuwduksiy~  >urovuw*ukosiy~iyn  [1]       [0.0]\n",
              "17    729      >umoniy~ap          >umoniy~At  [1]       [0.0]\n",
              "18    776           wAriv             waravap  [0]       [1.0]\n",
              "19    784        misokiyn            masAkiyn  [0]       [1.0]\n",
              "20    824           fatoH            futuwHAt  [1]       [0.0]\n",
              "21    917         majoraY               majAr  [0]       [1.0]\n",
              "22    977      naSorAniy~             naSAraY  [0]       [1.0]\n",
              "23    999        dukotuwr           dakAtirap  [0]       [1.0]\n",
              "24   1011           faHoS            fuHuwSAt  [1]       [0.0]"
            ],
            "text/html": [
              "\n",
              "  <div id=\"df-f7073922-5b7f-4c0b-8b0d-438e59c097b2\">\n",
              "    <div class=\"colab-df-container\">\n",
              "      <div>\n",
              "<style scoped>\n",
              "    .dataframe tbody tr th:only-of-type {\n",
              "        vertical-align: middle;\n",
              "    }\n",
              "\n",
              "    .dataframe tbody tr th {\n",
              "        vertical-align: top;\n",
              "    }\n",
              "\n",
              "    .dataframe thead th {\n",
              "        text-align: right;\n",
              "    }\n",
              "</style>\n",
              "<table border=\"1\" class=\"dataframe\">\n",
              "  <thead>\n",
              "    <tr style=\"text-align: right;\">\n",
              "      <th></th>\n",
              "      <th>index</th>\n",
              "      <th>lemma</th>\n",
              "      <th>inflection</th>\n",
              "      <th>b/s</th>\n",
              "      <th>b/s predict</th>\n",
              "    </tr>\n",
              "  </thead>\n",
              "  <tbody>\n",
              "    <tr>\n",
              "      <th>0</th>\n",
              "      <td>213</td>\n",
              "      <td>na$AT</td>\n",
              "      <td>&gt;ano$iTap</td>\n",
              "      <td>[0]</td>\n",
              "      <td>[1.0]</td>\n",
              "    </tr>\n",
              "    <tr>\n",
              "      <th>1</th>\n",
              "      <td>317</td>\n",
              "      <td>$Aliyh</td>\n",
              "      <td>$AliyhAt</td>\n",
              "      <td>[1]</td>\n",
              "      <td>[0.0]</td>\n",
              "    </tr>\n",
              "    <tr>\n",
              "      <th>2</th>\n",
              "      <td>405</td>\n",
              "      <td>qA*ifap</td>\n",
              "      <td>qA*ifAt</td>\n",
              "      <td>[1]</td>\n",
              "      <td>[0.0]</td>\n",
              "    </tr>\n",
              "    <tr>\n",
              "      <th>3</th>\n",
              "      <td>474</td>\n",
              "      <td>bin</td>\n",
              "      <td>baniy</td>\n",
              "      <td>[0]</td>\n",
              "      <td>[1.0]</td>\n",
              "    </tr>\n",
              "    <tr>\n",
              "      <th>4</th>\n",
              "      <td>513</td>\n",
              "      <td>&gt;awAdim</td>\n",
              "      <td>&gt;awAdim</td>\n",
              "      <td>[0]</td>\n",
              "      <td>[1.0]</td>\n",
              "    </tr>\n",
              "    <tr>\n",
              "      <th>5</th>\n",
              "      <td>532</td>\n",
              "      <td>$amoEap</td>\n",
              "      <td>$amaEAt</td>\n",
              "      <td>[1]</td>\n",
              "      <td>[0.0]</td>\n",
              "    </tr>\n",
              "    <tr>\n",
              "      <th>6</th>\n",
              "      <td>556</td>\n",
              "      <td>HalowaY</td>\n",
              "      <td>HulowayAt</td>\n",
              "      <td>[1]</td>\n",
              "      <td>[0.0]</td>\n",
              "    </tr>\n",
              "    <tr>\n",
              "      <th>7</th>\n",
              "      <td>607</td>\n",
              "      <td>rAbiTap</td>\n",
              "      <td>rAbiTAt</td>\n",
              "      <td>[1]</td>\n",
              "      <td>[0.0]</td>\n",
              "    </tr>\n",
              "    <tr>\n",
              "      <th>8</th>\n",
              "      <td>625</td>\n",
              "      <td>raqoSap</td>\n",
              "      <td>raqaSAt</td>\n",
              "      <td>[1]</td>\n",
              "      <td>[0.0]</td>\n",
              "    </tr>\n",
              "    <tr>\n",
              "      <th>9</th>\n",
              "      <td>627</td>\n",
              "      <td>Eatabap</td>\n",
              "      <td>&gt;aEotAb</td>\n",
              "      <td>[0]</td>\n",
              "      <td>[1.0]</td>\n",
              "    </tr>\n",
              "    <tr>\n",
              "      <th>10</th>\n",
              "      <td>628</td>\n",
              "      <td>EawAdim</td>\n",
              "      <td>EawAdim</td>\n",
              "      <td>[0]</td>\n",
              "      <td>[1.0]</td>\n",
              "    </tr>\n",
              "    <tr>\n",
              "      <th>11</th>\n",
              "      <td>649</td>\n",
              "      <td>zA}ir</td>\n",
              "      <td>zA}iriyn</td>\n",
              "      <td>[1]</td>\n",
              "      <td>[0.0]</td>\n",
              "    </tr>\n",
              "    <tr>\n",
              "      <th>12</th>\n",
              "      <td>651</td>\n",
              "      <td>zam~Arap</td>\n",
              "      <td>zamAmiyr</td>\n",
              "      <td>[0]</td>\n",
              "      <td>[1.0]</td>\n",
              "    </tr>\n",
              "    <tr>\n",
              "      <th>13</th>\n",
              "      <td>656</td>\n",
              "      <td>&lt;i*on</td>\n",
              "      <td>&gt;u*uwn</td>\n",
              "      <td>[0]</td>\n",
              "      <td>[1.0]</td>\n",
              "    </tr>\n",
              "    <tr>\n",
              "      <th>14</th>\n",
              "      <td>678</td>\n",
              "      <td>$uroTiy~</td>\n",
              "      <td>$uroTiy~iyn</td>\n",
              "      <td>[1]</td>\n",
              "      <td>[0.0]</td>\n",
              "    </tr>\n",
              "    <tr>\n",
              "      <th>15</th>\n",
              "      <td>715</td>\n",
              "      <td>DAliE</td>\n",
              "      <td>DAliEiyn</td>\n",
              "      <td>[1]</td>\n",
              "      <td>[0.0]</td>\n",
              "    </tr>\n",
              "    <tr>\n",
              "      <th>16</th>\n",
              "      <td>717</td>\n",
              "      <td>&gt;urovuwduksiy~</td>\n",
              "      <td>&gt;urovuw*ukosiy~iyn</td>\n",
              "      <td>[1]</td>\n",
              "      <td>[0.0]</td>\n",
              "    </tr>\n",
              "    <tr>\n",
              "      <th>17</th>\n",
              "      <td>729</td>\n",
              "      <td>&gt;umoniy~ap</td>\n",
              "      <td>&gt;umoniy~At</td>\n",
              "      <td>[1]</td>\n",
              "      <td>[0.0]</td>\n",
              "    </tr>\n",
              "    <tr>\n",
              "      <th>18</th>\n",
              "      <td>776</td>\n",
              "      <td>wAriv</td>\n",
              "      <td>waravap</td>\n",
              "      <td>[0]</td>\n",
              "      <td>[1.0]</td>\n",
              "    </tr>\n",
              "    <tr>\n",
              "      <th>19</th>\n",
              "      <td>784</td>\n",
              "      <td>misokiyn</td>\n",
              "      <td>masAkiyn</td>\n",
              "      <td>[0]</td>\n",
              "      <td>[1.0]</td>\n",
              "    </tr>\n",
              "    <tr>\n",
              "      <th>20</th>\n",
              "      <td>824</td>\n",
              "      <td>fatoH</td>\n",
              "      <td>futuwHAt</td>\n",
              "      <td>[1]</td>\n",
              "      <td>[0.0]</td>\n",
              "    </tr>\n",
              "    <tr>\n",
              "      <th>21</th>\n",
              "      <td>917</td>\n",
              "      <td>majoraY</td>\n",
              "      <td>majAr</td>\n",
              "      <td>[0]</td>\n",
              "      <td>[1.0]</td>\n",
              "    </tr>\n",
              "    <tr>\n",
              "      <th>22</th>\n",
              "      <td>977</td>\n",
              "      <td>naSorAniy~</td>\n",
              "      <td>naSAraY</td>\n",
              "      <td>[0]</td>\n",
              "      <td>[1.0]</td>\n",
              "    </tr>\n",
              "    <tr>\n",
              "      <th>23</th>\n",
              "      <td>999</td>\n",
              "      <td>dukotuwr</td>\n",
              "      <td>dakAtirap</td>\n",
              "      <td>[0]</td>\n",
              "      <td>[1.0]</td>\n",
              "    </tr>\n",
              "    <tr>\n",
              "      <th>24</th>\n",
              "      <td>1011</td>\n",
              "      <td>faHoS</td>\n",
              "      <td>fuHuwSAt</td>\n",
              "      <td>[1]</td>\n",
              "      <td>[0.0]</td>\n",
              "    </tr>\n",
              "  </tbody>\n",
              "</table>\n",
              "</div>\n",
              "      <button class=\"colab-df-convert\" onclick=\"convertToInteractive('df-f7073922-5b7f-4c0b-8b0d-438e59c097b2')\"\n",
              "              title=\"Convert this dataframe to an interactive table.\"\n",
              "              style=\"display:none;\">\n",
              "        \n",
              "  <svg xmlns=\"http://www.w3.org/2000/svg\" height=\"24px\"viewBox=\"0 0 24 24\"\n",
              "       width=\"24px\">\n",
              "    <path d=\"M0 0h24v24H0V0z\" fill=\"none\"/>\n",
              "    <path d=\"M18.56 5.44l.94 2.06.94-2.06 2.06-.94-2.06-.94-.94-2.06-.94 2.06-2.06.94zm-11 1L8.5 8.5l.94-2.06 2.06-.94-2.06-.94L8.5 2.5l-.94 2.06-2.06.94zm10 10l.94 2.06.94-2.06 2.06-.94-2.06-.94-.94-2.06-.94 2.06-2.06.94z\"/><path d=\"M17.41 7.96l-1.37-1.37c-.4-.4-.92-.59-1.43-.59-.52 0-1.04.2-1.43.59L10.3 9.45l-7.72 7.72c-.78.78-.78 2.05 0 2.83L4 21.41c.39.39.9.59 1.41.59.51 0 1.02-.2 1.41-.59l7.78-7.78 2.81-2.81c.8-.78.8-2.07 0-2.86zM5.41 20L4 18.59l7.72-7.72 1.47 1.35L5.41 20z\"/>\n",
              "  </svg>\n",
              "      </button>\n",
              "      \n",
              "  <style>\n",
              "    .colab-df-container {\n",
              "      display:flex;\n",
              "      flex-wrap:wrap;\n",
              "      gap: 12px;\n",
              "    }\n",
              "\n",
              "    .colab-df-convert {\n",
              "      background-color: #E8F0FE;\n",
              "      border: none;\n",
              "      border-radius: 50%;\n",
              "      cursor: pointer;\n",
              "      display: none;\n",
              "      fill: #1967D2;\n",
              "      height: 32px;\n",
              "      padding: 0 0 0 0;\n",
              "      width: 32px;\n",
              "    }\n",
              "\n",
              "    .colab-df-convert:hover {\n",
              "      background-color: #E2EBFA;\n",
              "      box-shadow: 0px 1px 2px rgba(60, 64, 67, 0.3), 0px 1px 3px 1px rgba(60, 64, 67, 0.15);\n",
              "      fill: #174EA6;\n",
              "    }\n",
              "\n",
              "    [theme=dark] .colab-df-convert {\n",
              "      background-color: #3B4455;\n",
              "      fill: #D2E3FC;\n",
              "    }\n",
              "\n",
              "    [theme=dark] .colab-df-convert:hover {\n",
              "      background-color: #434B5C;\n",
              "      box-shadow: 0px 1px 3px 1px rgba(0, 0, 0, 0.15);\n",
              "      filter: drop-shadow(0px 1px 2px rgba(0, 0, 0, 0.3));\n",
              "      fill: #FFFFFF;\n",
              "    }\n",
              "  </style>\n",
              "\n",
              "      <script>\n",
              "        const buttonEl =\n",
              "          document.querySelector('#df-f7073922-5b7f-4c0b-8b0d-438e59c097b2 button.colab-df-convert');\n",
              "        buttonEl.style.display =\n",
              "          google.colab.kernel.accessAllowed ? 'block' : 'none';\n",
              "\n",
              "        async function convertToInteractive(key) {\n",
              "          const element = document.querySelector('#df-f7073922-5b7f-4c0b-8b0d-438e59c097b2');\n",
              "          const dataTable =\n",
              "            await google.colab.kernel.invokeFunction('convertToInteractive',\n",
              "                                                     [key], {});\n",
              "          if (!dataTable) return;\n",
              "\n",
              "          const docLinkHtml = 'Like what you see? Visit the ' +\n",
              "            '<a target=\"_blank\" href=https://colab.research.google.com/notebooks/data_table.ipynb>data table notebook</a>'\n",
              "            + ' to learn more about interactive tables.';\n",
              "          element.innerHTML = '';\n",
              "          dataTable['output_type'] = 'display_data';\n",
              "          await google.colab.output.renderOutput(dataTable, element);\n",
              "          const docLink = document.createElement('div');\n",
              "          docLink.innerHTML = docLinkHtml;\n",
              "          element.appendChild(docLink);\n",
              "        }\n",
              "      </script>\n",
              "    </div>\n",
              "  </div>\n",
              "  "
            ]
          },
          "metadata": {},
          "execution_count": 180
        }
      ],
      "source": [
        "dev_class_p=model.predict([X_dev_lemma_OH, X_dev_genRat])\n",
        "reportErrorAnalysis_classification(devData[0], y_dev_inflection_OH, y_dev_class, dev_class_p, path + \"/model 1/dev_errorAnalysis.csv\")"
      ]
    },
    {
      "cell_type": "markdown",
      "metadata": {
        "id": "I7wyRP-agdO9"
      },
      "source": [
        "Test set"
      ]
    },
    {
      "cell_type": "code",
      "execution_count": null,
      "metadata": {
        "id": "8IP3NKsfhH5N",
        "colab": {
          "base_uri": "https://localhost:8080/",
          "height": 901
        },
        "outputId": "ced66902-3521-413f-a3e8-a18fbbf56394"
      },
      "outputs": [
        {
          "output_type": "stream",
          "name": "stdout",
          "text": [
            "33/33 [==============================] - 0s 5ms/step\n"
          ]
        },
        {
          "output_type": "execute_result",
          "data": {
            "text/plain": [
              "    index      lemma  inflection  b/s b/s predict\n",
              "0      66  mu$okilap     ma$Akil  [0]       [1.0]\n",
              "1      94      na$AT   >ano$iTap  [0]       [1.0]\n",
              "2     330   rafiyqap    rafiyqAt  [1]       [0.0]\n",
              "3     531    vugorap       vugar  [0]       [1.0]\n",
              "4     601      sAmiE    sAmiEiyn  [1]       [0.0]\n",
              "5     616    rayoHAn    rayAHiyn  [0]       [1.0]\n",
              "6     620    xuDorap   xaDorAwAt  [1]       [0.0]\n",
              "7     677    raqoSap     raqaSAt  [1]       [0.0]\n",
              "8     683   taboliyg  taboliygAt  [1]       [0.0]\n",
              "9     701      bAniy       bunAp  [0]       [1.0]\n",
              "10    713      dAris    dArisiyn  [1]       [0.0]\n",
              "11    718      TibAE       TibAE  [0]       [1.0]\n",
              "12    749    jabohap       jibAh  [0]       [1.0]\n",
              "13    775    filo*ap     filo*At  [1]       [0.0]\n",
              "14    798    >awAdim     >awAdim  [0]       [1.0]\n",
              "15    801      <i*on      >u*uwn  [0]       [1.0]\n",
              "16    824      EinAn    >aEin~ap  [0]       [1.0]\n",
              "17    863       jiyn      jiynAt  [1]       [0.0]\n",
              "18    946     maHal~    maHal~At  [1]       [0.0]\n",
              "19    948      mAlik    mAlikiyn  [1]       [0.0]\n",
              "20    954    maHAsin     maHAsin  [0]       [1.0]\n",
              "21    968      kA*ib    kA*ibiyn  [1]       [0.0]\n",
              "22   1018      maqAm     maqAmAt  [1]       [0.0]\n",
              "23   1019     maqar~    maqar~At  [1]       [0.0]"
            ],
            "text/html": [
              "\n",
              "  <div id=\"df-58b3d70d-45c7-4f96-bedf-0da7988290f9\">\n",
              "    <div class=\"colab-df-container\">\n",
              "      <div>\n",
              "<style scoped>\n",
              "    .dataframe tbody tr th:only-of-type {\n",
              "        vertical-align: middle;\n",
              "    }\n",
              "\n",
              "    .dataframe tbody tr th {\n",
              "        vertical-align: top;\n",
              "    }\n",
              "\n",
              "    .dataframe thead th {\n",
              "        text-align: right;\n",
              "    }\n",
              "</style>\n",
              "<table border=\"1\" class=\"dataframe\">\n",
              "  <thead>\n",
              "    <tr style=\"text-align: right;\">\n",
              "      <th></th>\n",
              "      <th>index</th>\n",
              "      <th>lemma</th>\n",
              "      <th>inflection</th>\n",
              "      <th>b/s</th>\n",
              "      <th>b/s predict</th>\n",
              "    </tr>\n",
              "  </thead>\n",
              "  <tbody>\n",
              "    <tr>\n",
              "      <th>0</th>\n",
              "      <td>66</td>\n",
              "      <td>mu$okilap</td>\n",
              "      <td>ma$Akil</td>\n",
              "      <td>[0]</td>\n",
              "      <td>[1.0]</td>\n",
              "    </tr>\n",
              "    <tr>\n",
              "      <th>1</th>\n",
              "      <td>94</td>\n",
              "      <td>na$AT</td>\n",
              "      <td>&gt;ano$iTap</td>\n",
              "      <td>[0]</td>\n",
              "      <td>[1.0]</td>\n",
              "    </tr>\n",
              "    <tr>\n",
              "      <th>2</th>\n",
              "      <td>330</td>\n",
              "      <td>rafiyqap</td>\n",
              "      <td>rafiyqAt</td>\n",
              "      <td>[1]</td>\n",
              "      <td>[0.0]</td>\n",
              "    </tr>\n",
              "    <tr>\n",
              "      <th>3</th>\n",
              "      <td>531</td>\n",
              "      <td>vugorap</td>\n",
              "      <td>vugar</td>\n",
              "      <td>[0]</td>\n",
              "      <td>[1.0]</td>\n",
              "    </tr>\n",
              "    <tr>\n",
              "      <th>4</th>\n",
              "      <td>601</td>\n",
              "      <td>sAmiE</td>\n",
              "      <td>sAmiEiyn</td>\n",
              "      <td>[1]</td>\n",
              "      <td>[0.0]</td>\n",
              "    </tr>\n",
              "    <tr>\n",
              "      <th>5</th>\n",
              "      <td>616</td>\n",
              "      <td>rayoHAn</td>\n",
              "      <td>rayAHiyn</td>\n",
              "      <td>[0]</td>\n",
              "      <td>[1.0]</td>\n",
              "    </tr>\n",
              "    <tr>\n",
              "      <th>6</th>\n",
              "      <td>620</td>\n",
              "      <td>xuDorap</td>\n",
              "      <td>xaDorAwAt</td>\n",
              "      <td>[1]</td>\n",
              "      <td>[0.0]</td>\n",
              "    </tr>\n",
              "    <tr>\n",
              "      <th>7</th>\n",
              "      <td>677</td>\n",
              "      <td>raqoSap</td>\n",
              "      <td>raqaSAt</td>\n",
              "      <td>[1]</td>\n",
              "      <td>[0.0]</td>\n",
              "    </tr>\n",
              "    <tr>\n",
              "      <th>8</th>\n",
              "      <td>683</td>\n",
              "      <td>taboliyg</td>\n",
              "      <td>taboliygAt</td>\n",
              "      <td>[1]</td>\n",
              "      <td>[0.0]</td>\n",
              "    </tr>\n",
              "    <tr>\n",
              "      <th>9</th>\n",
              "      <td>701</td>\n",
              "      <td>bAniy</td>\n",
              "      <td>bunAp</td>\n",
              "      <td>[0]</td>\n",
              "      <td>[1.0]</td>\n",
              "    </tr>\n",
              "    <tr>\n",
              "      <th>10</th>\n",
              "      <td>713</td>\n",
              "      <td>dAris</td>\n",
              "      <td>dArisiyn</td>\n",
              "      <td>[1]</td>\n",
              "      <td>[0.0]</td>\n",
              "    </tr>\n",
              "    <tr>\n",
              "      <th>11</th>\n",
              "      <td>718</td>\n",
              "      <td>TibAE</td>\n",
              "      <td>TibAE</td>\n",
              "      <td>[0]</td>\n",
              "      <td>[1.0]</td>\n",
              "    </tr>\n",
              "    <tr>\n",
              "      <th>12</th>\n",
              "      <td>749</td>\n",
              "      <td>jabohap</td>\n",
              "      <td>jibAh</td>\n",
              "      <td>[0]</td>\n",
              "      <td>[1.0]</td>\n",
              "    </tr>\n",
              "    <tr>\n",
              "      <th>13</th>\n",
              "      <td>775</td>\n",
              "      <td>filo*ap</td>\n",
              "      <td>filo*At</td>\n",
              "      <td>[1]</td>\n",
              "      <td>[0.0]</td>\n",
              "    </tr>\n",
              "    <tr>\n",
              "      <th>14</th>\n",
              "      <td>798</td>\n",
              "      <td>&gt;awAdim</td>\n",
              "      <td>&gt;awAdim</td>\n",
              "      <td>[0]</td>\n",
              "      <td>[1.0]</td>\n",
              "    </tr>\n",
              "    <tr>\n",
              "      <th>15</th>\n",
              "      <td>801</td>\n",
              "      <td>&lt;i*on</td>\n",
              "      <td>&gt;u*uwn</td>\n",
              "      <td>[0]</td>\n",
              "      <td>[1.0]</td>\n",
              "    </tr>\n",
              "    <tr>\n",
              "      <th>16</th>\n",
              "      <td>824</td>\n",
              "      <td>EinAn</td>\n",
              "      <td>&gt;aEin~ap</td>\n",
              "      <td>[0]</td>\n",
              "      <td>[1.0]</td>\n",
              "    </tr>\n",
              "    <tr>\n",
              "      <th>17</th>\n",
              "      <td>863</td>\n",
              "      <td>jiyn</td>\n",
              "      <td>jiynAt</td>\n",
              "      <td>[1]</td>\n",
              "      <td>[0.0]</td>\n",
              "    </tr>\n",
              "    <tr>\n",
              "      <th>18</th>\n",
              "      <td>946</td>\n",
              "      <td>maHal~</td>\n",
              "      <td>maHal~At</td>\n",
              "      <td>[1]</td>\n",
              "      <td>[0.0]</td>\n",
              "    </tr>\n",
              "    <tr>\n",
              "      <th>19</th>\n",
              "      <td>948</td>\n",
              "      <td>mAlik</td>\n",
              "      <td>mAlikiyn</td>\n",
              "      <td>[1]</td>\n",
              "      <td>[0.0]</td>\n",
              "    </tr>\n",
              "    <tr>\n",
              "      <th>20</th>\n",
              "      <td>954</td>\n",
              "      <td>maHAsin</td>\n",
              "      <td>maHAsin</td>\n",
              "      <td>[0]</td>\n",
              "      <td>[1.0]</td>\n",
              "    </tr>\n",
              "    <tr>\n",
              "      <th>21</th>\n",
              "      <td>968</td>\n",
              "      <td>kA*ib</td>\n",
              "      <td>kA*ibiyn</td>\n",
              "      <td>[1]</td>\n",
              "      <td>[0.0]</td>\n",
              "    </tr>\n",
              "    <tr>\n",
              "      <th>22</th>\n",
              "      <td>1018</td>\n",
              "      <td>maqAm</td>\n",
              "      <td>maqAmAt</td>\n",
              "      <td>[1]</td>\n",
              "      <td>[0.0]</td>\n",
              "    </tr>\n",
              "    <tr>\n",
              "      <th>23</th>\n",
              "      <td>1019</td>\n",
              "      <td>maqar~</td>\n",
              "      <td>maqar~At</td>\n",
              "      <td>[1]</td>\n",
              "      <td>[0.0]</td>\n",
              "    </tr>\n",
              "  </tbody>\n",
              "</table>\n",
              "</div>\n",
              "      <button class=\"colab-df-convert\" onclick=\"convertToInteractive('df-58b3d70d-45c7-4f96-bedf-0da7988290f9')\"\n",
              "              title=\"Convert this dataframe to an interactive table.\"\n",
              "              style=\"display:none;\">\n",
              "        \n",
              "  <svg xmlns=\"http://www.w3.org/2000/svg\" height=\"24px\"viewBox=\"0 0 24 24\"\n",
              "       width=\"24px\">\n",
              "    <path d=\"M0 0h24v24H0V0z\" fill=\"none\"/>\n",
              "    <path d=\"M18.56 5.44l.94 2.06.94-2.06 2.06-.94-2.06-.94-.94-2.06-.94 2.06-2.06.94zm-11 1L8.5 8.5l.94-2.06 2.06-.94-2.06-.94L8.5 2.5l-.94 2.06-2.06.94zm10 10l.94 2.06.94-2.06 2.06-.94-2.06-.94-.94-2.06-.94 2.06-2.06.94z\"/><path d=\"M17.41 7.96l-1.37-1.37c-.4-.4-.92-.59-1.43-.59-.52 0-1.04.2-1.43.59L10.3 9.45l-7.72 7.72c-.78.78-.78 2.05 0 2.83L4 21.41c.39.39.9.59 1.41.59.51 0 1.02-.2 1.41-.59l7.78-7.78 2.81-2.81c.8-.78.8-2.07 0-2.86zM5.41 20L4 18.59l7.72-7.72 1.47 1.35L5.41 20z\"/>\n",
              "  </svg>\n",
              "      </button>\n",
              "      \n",
              "  <style>\n",
              "    .colab-df-container {\n",
              "      display:flex;\n",
              "      flex-wrap:wrap;\n",
              "      gap: 12px;\n",
              "    }\n",
              "\n",
              "    .colab-df-convert {\n",
              "      background-color: #E8F0FE;\n",
              "      border: none;\n",
              "      border-radius: 50%;\n",
              "      cursor: pointer;\n",
              "      display: none;\n",
              "      fill: #1967D2;\n",
              "      height: 32px;\n",
              "      padding: 0 0 0 0;\n",
              "      width: 32px;\n",
              "    }\n",
              "\n",
              "    .colab-df-convert:hover {\n",
              "      background-color: #E2EBFA;\n",
              "      box-shadow: 0px 1px 2px rgba(60, 64, 67, 0.3), 0px 1px 3px 1px rgba(60, 64, 67, 0.15);\n",
              "      fill: #174EA6;\n",
              "    }\n",
              "\n",
              "    [theme=dark] .colab-df-convert {\n",
              "      background-color: #3B4455;\n",
              "      fill: #D2E3FC;\n",
              "    }\n",
              "\n",
              "    [theme=dark] .colab-df-convert:hover {\n",
              "      background-color: #434B5C;\n",
              "      box-shadow: 0px 1px 3px 1px rgba(0, 0, 0, 0.15);\n",
              "      filter: drop-shadow(0px 1px 2px rgba(0, 0, 0, 0.3));\n",
              "      fill: #FFFFFF;\n",
              "    }\n",
              "  </style>\n",
              "\n",
              "      <script>\n",
              "        const buttonEl =\n",
              "          document.querySelector('#df-58b3d70d-45c7-4f96-bedf-0da7988290f9 button.colab-df-convert');\n",
              "        buttonEl.style.display =\n",
              "          google.colab.kernel.accessAllowed ? 'block' : 'none';\n",
              "\n",
              "        async function convertToInteractive(key) {\n",
              "          const element = document.querySelector('#df-58b3d70d-45c7-4f96-bedf-0da7988290f9');\n",
              "          const dataTable =\n",
              "            await google.colab.kernel.invokeFunction('convertToInteractive',\n",
              "                                                     [key], {});\n",
              "          if (!dataTable) return;\n",
              "\n",
              "          const docLinkHtml = 'Like what you see? Visit the ' +\n",
              "            '<a target=\"_blank\" href=https://colab.research.google.com/notebooks/data_table.ipynb>data table notebook</a>'\n",
              "            + ' to learn more about interactive tables.';\n",
              "          element.innerHTML = '';\n",
              "          dataTable['output_type'] = 'display_data';\n",
              "          await google.colab.output.renderOutput(dataTable, element);\n",
              "          const docLink = document.createElement('div');\n",
              "          docLink.innerHTML = docLinkHtml;\n",
              "          element.appendChild(docLink);\n",
              "        }\n",
              "      </script>\n",
              "    </div>\n",
              "  </div>\n",
              "  "
            ]
          },
          "metadata": {},
          "execution_count": 181
        }
      ],
      "source": [
        "test_class_p=model.predict([X_test_lemma_OH, X_test_genRat])\n",
        "reportErrorAnalysis_classification(testData[0], y_test_inflection_OH, y_test_class, test_class_p, path + \"/model 1/test_errorAnalysis.csv\")"
      ]
    },
    {
      "cell_type": "markdown",
      "metadata": {
        "id": "UB0fawJa66PY"
      },
      "source": [
        "# **Machine Translation Models**"
      ]
    },
    {
      "cell_type": "code",
      "execution_count": null,
      "metadata": {
        "id": "QjirN8TtdNqu"
      },
      "outputs": [],
      "source": [
        "path = '/content/drive/MyDrive/AI Projects/Arabic Broken Plural/Results'\n",
        "# path = '/content/drive/MyDrive/Deep Learning/Datasets/Arabic Broken Plural/Results/Machine Translation Models'"
      ]
    },
    {
      "cell_type": "code",
      "execution_count": null,
      "metadata": {
        "id": "52n_VZ40dNqy"
      },
      "outputs": [],
      "source": [
        "# bert_embedding_length = X_train_bert.shape[1] #768\n",
        "lemma_length = X_train_lemma_OH.shape[1] #17\n",
        "singularPattern_length = X_train_singularPattern_OH.shape[1] #17\n",
        "root_length = X_train_root_OH.shape[1] #4\n",
        "genRat_length = X_train_genRat.shape[1] #2\n",
        "numOfRoot_length = X_train_numOfRoot.shape[1] #1\n",
        "plPattern_length = y_train_plPattern_OH.shape[1] #18\n",
        "inflection_length = y_train_inflection_OH.shape[1] #18\n",
        "encode_size = X_train_lemma_OH.shape[2] #50\n",
        "\n",
        "epochs = 100\n",
        "batch_size = 64"
      ]
    },
    {
      "cell_type": "markdown",
      "metadata": {
        "id": "K87j_k_oEVh3"
      },
      "source": [
        "## **Simple Model**\n",
        "lemma - inflection"
      ]
    },
    {
      "cell_type": "code",
      "execution_count": null,
      "metadata": {
        "id": "MRB1n7PQknbY"
      },
      "outputs": [],
      "source": [
        "model1_path = path + '/Machine Translation Models/Model 1'"
      ]
    },
    {
      "cell_type": "code",
      "execution_count": null,
      "metadata": {
        "id": "M-3oRhRlEVh4"
      },
      "outputs": [],
      "source": [
        "input_lemma = Input(shape=(lemma_length, encode_size), name='Lemma')\n",
        "input_genRat = Input(shape=(genRat_length, ), name='Gender-Rational')\n",
        "\n",
        "\n",
        "lstm1 = Bidirectional(LSTM(256, name='Lstm1'), name='Encoder')(input_lemma)\n",
        "\n",
        "c = Concatenate(axis=1, name='Concatenate')([lstm1, input_genRat])\n",
        "\n",
        "d = Dense(256, activation='relu', name='Dense1')(c)\n",
        "\n",
        "r = RepeatVector(inflection_length, name='RepeatVector')(d)\n",
        "\n",
        "lstm2 = Bidirectional(LSTM(256, return_sequences=True, name='Lstm2'), name='Decoder')(r)\n",
        "\n",
        "output = TimeDistributed(Dense(encode_size, activation='softmax', name='Dense2'), name='Inflection')(lstm2)\n",
        "\n",
        "model1 = Model(inputs=[input_lemma, input_genRat], outputs=output)\n",
        "\n",
        "checkpoint_filepath = model1_path + '/weights.hdf5'\n",
        "checkpoint = ModelCheckpoint(filepath=checkpoint_filepath, monitor='val_accuracy', mode='max', save_best_only=True, verbose=0)\n",
        "\n",
        "model1.compile(loss=\"binary_crossentropy\", optimizer=Adam(0.001), metrics=['accuracy'])"
      ]
    },
    {
      "cell_type": "code",
      "execution_count": null,
      "metadata": {
        "id": "7k64r76HEVh4"
      },
      "outputs": [],
      "source": [
        "with tf.device('/GPU:0'):\n",
        "  model1.fit([X_train_lemma_OH, X_train_genRat], y_train_inflection_OH, batch_size=batch_size, epochs=epochs, callbacks=[checkpoint], validation_data=([X_dev_lemma_OH, X_dev_genRat], y_dev_inflection_OH))  # starts training"
      ]
    },
    {
      "cell_type": "code",
      "execution_count": null,
      "metadata": {
        "id": "CF__oNPxEVh4",
        "colab": {
          "base_uri": "https://localhost:8080/"
        },
        "outputId": "fbe5ea90-817d-46fc-ef59-0ca5fce5f417"
      },
      "outputs": [
        {
          "output_type": "stream",
          "name": "stdout",
          "text": [
            "33/33 [==============================] - 2s 7ms/step - loss: 0.0034 - accuracy: 0.9854\n"
          ]
        },
        {
          "output_type": "execute_result",
          "data": {
            "text/plain": [
              "[0.0034107097890228033, 0.9853545427322388]"
            ]
          },
          "metadata": {},
          "execution_count": 155
        }
      ],
      "source": [
        "model1 = load_model(checkpoint_filepath)\n",
        "model1.evaluate([X_test_lemma_OH, X_test_genRat], y_test_inflection_OH)"
      ]
    },
    {
      "cell_type": "code",
      "execution_count": null,
      "metadata": {
        "id": "C-_uAugdEVh4",
        "colab": {
          "base_uri": "https://localhost:8080/",
          "height": 1000
        },
        "outputId": "b4f8b822-9a82-4f64-844a-c2e6556bee8c"
      },
      "outputs": [
        {
          "output_type": "stream",
          "name": "stdout",
          "text": [
            "Model: \"model_2\"\n",
            "__________________________________________________________________________________________________\n",
            " Layer (type)                   Output Shape         Param #     Connected to                     \n",
            "==================================================================================================\n",
            " Lemma (InputLayer)             [(None, 17, 50)]     0           []                               \n",
            "                                                                                                  \n",
            " Encoder (Bidirectional)        (None, 512)          628736      ['Lemma[0][0]']                  \n",
            "                                                                                                  \n",
            " Gender-Rational (InputLayer)   [(None, 2)]          0           []                               \n",
            "                                                                                                  \n",
            " Concatenate (Concatenate)      (None, 514)          0           ['Encoder[0][0]',                \n",
            "                                                                  'Gender-Rational[0][0]']        \n",
            "                                                                                                  \n",
            " Dense1 (Dense)                 (None, 256)          131840      ['Concatenate[0][0]']            \n",
            "                                                                                                  \n",
            " RepeatVector (RepeatVector)    (None, 18, 256)      0           ['Dense1[0][0]']                 \n",
            "                                                                                                  \n",
            " Decoder (Bidirectional)        (None, 18, 512)      1050624     ['RepeatVector[0][0]']           \n",
            "                                                                                                  \n",
            " Inflection (TimeDistributed)   (None, 18, 50)       25650       ['Decoder[0][0]']                \n",
            "                                                                                                  \n",
            "==================================================================================================\n",
            "Total params: 1,836,850\n",
            "Trainable params: 1,836,850\n",
            "Non-trainable params: 0\n",
            "__________________________________________________________________________________________________\n",
            "None\n"
          ]
        },
        {
          "output_type": "execute_result",
          "data": {
            "image/png": "[encoded data removed]",
            "text/plain": [
              "<IPython.core.display.Image object>"
            ]
          },
          "metadata": {},
          "execution_count": 156
        }
      ],
      "source": [
        "print(model1.summary())\n",
        "plot_model(model1, to_file=model1_path+'/architecture.png', show_shapes=True, show_layer_names=True)"
      ]
    },
    {
      "cell_type": "markdown",
      "metadata": {
        "id": "XAoL0KSoEVh4"
      },
      "source": [
        "### **Train analyze**"
      ]
    },
    {
      "cell_type": "code",
      "execution_count": null,
      "metadata": {
        "id": "pq30qNbbEVh5",
        "colab": {
          "base_uri": "https://localhost:8080/"
        },
        "outputId": "dbd8101a-3b59-4336-b740-b22fd9746b74"
      },
      "outputs": [
        {
          "output_type": "stream",
          "name": "stdout",
          "text": [
            "78/78 [==============================] - 2s 5ms/step\n"
          ]
        },
        {
          "output_type": "execute_result",
          "data": {
            "text/plain": [
              "(6, 0.9975757575757576)"
            ]
          },
          "metadata": {},
          "execution_count": 157
        }
      ],
      "source": [
        "train_pred = model1.predict([X_train_lemma_OH, X_train_genRat])\n",
        "train_pred_OH = oneHot3D(train_pred)\n",
        "train_error_num, train_acc_num = checkAccuracy(train_pred_OH, y_train_inflection_OH)\n",
        "train_error_num, train_acc_num"
      ]
    },
    {
      "cell_type": "code",
      "execution_count": null,
      "metadata": {
        "id": "Lktzh8o5HNsn",
        "colab": {
          "base_uri": "https://localhost:8080/"
        },
        "outputId": "5d619c0b-2ee1-4955-ad51-9ff455e9e795"
      },
      "outputs": [
        {
          "output_type": "execute_result",
          "data": {
            "text/plain": [
              "(2475, 18, 50)"
            ]
          },
          "metadata": {},
          "execution_count": 158
        }
      ],
      "source": [
        "y_train_inflection_OH.shape"
      ]
    },
    {
      "cell_type": "code",
      "execution_count": null,
      "metadata": {
        "id": "XK3xq6x0EVh5",
        "colab": {
          "base_uri": "https://localhost:8080/",
          "height": 270
        },
        "outputId": "fd6452ec-eab2-4400-b40f-60a6304c6384"
      },
      "outputs": [
        {
          "output_type": "execute_result",
          "data": {
            "text/plain": [
              "   index              lemma  b/s         inflection             predict\n",
              "0    863        tilofizyuwn    1      tilofizyuwnAt       tilofizzuwnAt\n",
              "1    939     fiyliyb~iyniy~    1  fiyliyb~iyniy~iyn   fiylibb~iyniy~yyn\n",
              "2    948         briyTAniy~    1      briyTAniy~iyn       brriTAniy~iyn\n",
              "3   1749  <imobirATuwriy~ap    1  <imobirATuwriy~At  <imobirATuwuw~iy~i\n",
              "4   2083         klAsiykiy~    1      klAsiykiy~iyn       kllsiykiy~iyn"
            ],
            "text/html": [
              "\n",
              "  <div id=\"df-0946c2eb-a6da-4905-8d26-72c7864044bc\">\n",
              "    <div class=\"colab-df-container\">\n",
              "      <div>\n",
              "<style scoped>\n",
              "    .dataframe tbody tr th:only-of-type {\n",
              "        vertical-align: middle;\n",
              "    }\n",
              "\n",
              "    .dataframe tbody tr th {\n",
              "        vertical-align: top;\n",
              "    }\n",
              "\n",
              "    .dataframe thead th {\n",
              "        text-align: right;\n",
              "    }\n",
              "</style>\n",
              "<table border=\"1\" class=\"dataframe\">\n",
              "  <thead>\n",
              "    <tr style=\"text-align: right;\">\n",
              "      <th></th>\n",
              "      <th>index</th>\n",
              "      <th>lemma</th>\n",
              "      <th>b/s</th>\n",
              "      <th>inflection</th>\n",
              "      <th>predict</th>\n",
              "    </tr>\n",
              "  </thead>\n",
              "  <tbody>\n",
              "    <tr>\n",
              "      <th>0</th>\n",
              "      <td>863</td>\n",
              "      <td>tilofizyuwn</td>\n",
              "      <td>1</td>\n",
              "      <td>tilofizyuwnAt</td>\n",
              "      <td>tilofizzuwnAt</td>\n",
              "    </tr>\n",
              "    <tr>\n",
              "      <th>1</th>\n",
              "      <td>939</td>\n",
              "      <td>fiyliyb~iyniy~</td>\n",
              "      <td>1</td>\n",
              "      <td>fiyliyb~iyniy~iyn</td>\n",
              "      <td>fiylibb~iyniy~yyn</td>\n",
              "    </tr>\n",
              "    <tr>\n",
              "      <th>2</th>\n",
              "      <td>948</td>\n",
              "      <td>briyTAniy~</td>\n",
              "      <td>1</td>\n",
              "      <td>briyTAniy~iyn</td>\n",
              "      <td>brriTAniy~iyn</td>\n",
              "    </tr>\n",
              "    <tr>\n",
              "      <th>3</th>\n",
              "      <td>1749</td>\n",
              "      <td>&lt;imobirATuwriy~ap</td>\n",
              "      <td>1</td>\n",
              "      <td>&lt;imobirATuwriy~At</td>\n",
              "      <td>&lt;imobirATuwuw~iy~i</td>\n",
              "    </tr>\n",
              "    <tr>\n",
              "      <th>4</th>\n",
              "      <td>2083</td>\n",
              "      <td>klAsiykiy~</td>\n",
              "      <td>1</td>\n",
              "      <td>klAsiykiy~iyn</td>\n",
              "      <td>kllsiykiy~iyn</td>\n",
              "    </tr>\n",
              "  </tbody>\n",
              "</table>\n",
              "</div>\n",
              "      <button class=\"colab-df-convert\" onclick=\"convertToInteractive('df-0946c2eb-a6da-4905-8d26-72c7864044bc')\"\n",
              "              title=\"Convert this dataframe to an interactive table.\"\n",
              "              style=\"display:none;\">\n",
              "        \n",
              "  <svg xmlns=\"http://www.w3.org/2000/svg\" height=\"24px\"viewBox=\"0 0 24 24\"\n",
              "       width=\"24px\">\n",
              "    <path d=\"M0 0h24v24H0V0z\" fill=\"none\"/>\n",
              "    <path d=\"M18.56 5.44l.94 2.06.94-2.06 2.06-.94-2.06-.94-.94-2.06-.94 2.06-2.06.94zm-11 1L8.5 8.5l.94-2.06 2.06-.94-2.06-.94L8.5 2.5l-.94 2.06-2.06.94zm10 10l.94 2.06.94-2.06 2.06-.94-2.06-.94-.94-2.06-.94 2.06-2.06.94z\"/><path d=\"M17.41 7.96l-1.37-1.37c-.4-.4-.92-.59-1.43-.59-.52 0-1.04.2-1.43.59L10.3 9.45l-7.72 7.72c-.78.78-.78 2.05 0 2.83L4 21.41c.39.39.9.59 1.41.59.51 0 1.02-.2 1.41-.59l7.78-7.78 2.81-2.81c.8-.78.8-2.07 0-2.86zM5.41 20L4 18.59l7.72-7.72 1.47 1.35L5.41 20z\"/>\n",
              "  </svg>\n",
              "      </button>\n",
              "      \n",
              "  <style>\n",
              "    .colab-df-container {\n",
              "      display:flex;\n",
              "      flex-wrap:wrap;\n",
              "      gap: 12px;\n",
              "    }\n",
              "\n",
              "    .colab-df-convert {\n",
              "      background-color: #E8F0FE;\n",
              "      border: none;\n",
              "      border-radius: 50%;\n",
              "      cursor: pointer;\n",
              "      display: none;\n",
              "      fill: #1967D2;\n",
              "      height: 32px;\n",
              "      padding: 0 0 0 0;\n",
              "      width: 32px;\n",
              "    }\n",
              "\n",
              "    .colab-df-convert:hover {\n",
              "      background-color: #E2EBFA;\n",
              "      box-shadow: 0px 1px 2px rgba(60, 64, 67, 0.3), 0px 1px 3px 1px rgba(60, 64, 67, 0.15);\n",
              "      fill: #174EA6;\n",
              "    }\n",
              "\n",
              "    [theme=dark] .colab-df-convert {\n",
              "      background-color: #3B4455;\n",
              "      fill: #D2E3FC;\n",
              "    }\n",
              "\n",
              "    [theme=dark] .colab-df-convert:hover {\n",
              "      background-color: #434B5C;\n",
              "      box-shadow: 0px 1px 3px 1px rgba(0, 0, 0, 0.15);\n",
              "      filter: drop-shadow(0px 1px 2px rgba(0, 0, 0, 0.3));\n",
              "      fill: #FFFFFF;\n",
              "    }\n",
              "  </style>\n",
              "\n",
              "      <script>\n",
              "        const buttonEl =\n",
              "          document.querySelector('#df-0946c2eb-a6da-4905-8d26-72c7864044bc button.colab-df-convert');\n",
              "        buttonEl.style.display =\n",
              "          google.colab.kernel.accessAllowed ? 'block' : 'none';\n",
              "\n",
              "        async function convertToInteractive(key) {\n",
              "          const element = document.querySelector('#df-0946c2eb-a6da-4905-8d26-72c7864044bc');\n",
              "          const dataTable =\n",
              "            await google.colab.kernel.invokeFunction('convertToInteractive',\n",
              "                                                     [key], {});\n",
              "          if (!dataTable) return;\n",
              "\n",
              "          const docLinkHtml = 'Like what you see? Visit the ' +\n",
              "            '<a target=\"_blank\" href=https://colab.research.google.com/notebooks/data_table.ipynb>data table notebook</a>'\n",
              "            + ' to learn more about interactive tables.';\n",
              "          element.innerHTML = '';\n",
              "          dataTable['output_type'] = 'display_data';\n",
              "          await google.colab.output.renderOutput(dataTable, element);\n",
              "          const docLink = document.createElement('div');\n",
              "          docLink.innerHTML = docLinkHtml;\n",
              "          element.appendChild(docLink);\n",
              "        }\n",
              "      </script>\n",
              "    </div>\n",
              "  </div>\n",
              "  "
            ]
          },
          "metadata": {},
          "execution_count": 159
        }
      ],
      "source": [
        "train_errorAnalysis = reportErrorAnalysis(trainData[0], trainData[5], train_pred_OH, y_train_inflection_OH, model1_path + \"/train_errorAnalysis.csv\")\n",
        "train_errorAnalysis.head()"
      ]
    },
    {
      "cell_type": "code",
      "execution_count": null,
      "metadata": {
        "id": "YzOAAD4jEVh5",
        "colab": {
          "base_uri": "https://localhost:8080/"
        },
        "outputId": "1ed3b537-9094-4f64-f986-1ed1c3ac2d25"
      },
      "outputs": [
        {
          "output_type": "stream",
          "name": "stdout",
          "text": [
            "(Broken error %, Sound error %):  (0.0, 100.0)\n"
          ]
        }
      ],
      "source": [
        "print('(Broken error %, Sound error %): ', reportPercentageOfBrokenSoundErrors(train_errorAnalysis))"
      ]
    },
    {
      "cell_type": "code",
      "execution_count": null,
      "metadata": {
        "id": "86i08EoppWIi",
        "colab": {
          "base_uri": "https://localhost:8080/"
        },
        "outputId": "5f8662f6-4699-4e3c-b373-d5b9052fda1c"
      },
      "outputs": [
        {
          "output_type": "execute_result",
          "data": {
            "text/plain": [
              "(6, 0.9975757575757576)"
            ]
          },
          "metadata": {},
          "execution_count": 161
        }
      ],
      "source": [
        "checkAccuracy_anyAcceptableInflectionInDataset(trainData[0],train_pred_OH,dic_lemmaInflection)"
      ]
    },
    {
      "cell_type": "markdown",
      "metadata": {
        "id": "ybXFriUqEVh5"
      },
      "source": [
        "### **Dev analyze**"
      ]
    },
    {
      "cell_type": "code",
      "execution_count": null,
      "metadata": {
        "id": "2s-l01ipEVh5",
        "colab": {
          "base_uri": "https://localhost:8080/"
        },
        "outputId": "a48ff8c3-82f7-4d46-c58d-6400ec8541c9"
      },
      "outputs": [
        {
          "output_type": "stream",
          "name": "stdout",
          "text": [
            "34/34 [==============================] - 0s 5ms/step\n"
          ]
        },
        {
          "output_type": "execute_result",
          "data": {
            "text/plain": [
              "(89, 0.9160377358490566)"
            ]
          },
          "metadata": {},
          "execution_count": 162
        }
      ],
      "source": [
        "dev_pred = model1.predict([X_dev_lemma_OH, X_dev_genRat])\n",
        "dev_pred_OH = oneHot3D(dev_pred)\n",
        "dev_error_num, dev_acc_num = checkAccuracy(dev_pred_OH, y_dev_inflection_OH)\n",
        "dev_error_num, dev_acc_num"
      ]
    },
    {
      "cell_type": "code",
      "execution_count": null,
      "metadata": {
        "id": "yPCOBCrEEVh5",
        "colab": {
          "base_uri": "https://localhost:8080/",
          "height": 270
        },
        "outputId": "ced8807a-89a5-4943-fe65-dde4a9753d60"
      },
      "outputs": [
        {
          "output_type": "execute_result",
          "data": {
            "text/plain": [
              "   index        lemma  b/s      inflection         predict\n",
              "0     59        nAdiy    0       >anodiyap         nawAdiy\n",
              "1    193  >amoriykiy~    1  >amoriykiy~iyn  >amiyrokiy~iyn\n",
              "2    213        na$AT    0       >ano$iTap         na$ATAt\n",
              "3    229    mujawohar    1     mujawoharAt     mujaworArAt\n",
              "4    235      masoEaY    0           masAE         masAEiy"
            ],
            "text/html": [
              "\n",
              "  <div id=\"df-824d0484-a395-4cea-a99f-5580eaab3ae4\">\n",
              "    <div class=\"colab-df-container\">\n",
              "      <div>\n",
              "<style scoped>\n",
              "    .dataframe tbody tr th:only-of-type {\n",
              "        vertical-align: middle;\n",
              "    }\n",
              "\n",
              "    .dataframe tbody tr th {\n",
              "        vertical-align: top;\n",
              "    }\n",
              "\n",
              "    .dataframe thead th {\n",
              "        text-align: right;\n",
              "    }\n",
              "</style>\n",
              "<table border=\"1\" class=\"dataframe\">\n",
              "  <thead>\n",
              "    <tr style=\"text-align: right;\">\n",
              "      <th></th>\n",
              "      <th>index</th>\n",
              "      <th>lemma</th>\n",
              "      <th>b/s</th>\n",
              "      <th>inflection</th>\n",
              "      <th>predict</th>\n",
              "    </tr>\n",
              "  </thead>\n",
              "  <tbody>\n",
              "    <tr>\n",
              "      <th>0</th>\n",
              "      <td>59</td>\n",
              "      <td>nAdiy</td>\n",
              "      <td>0</td>\n",
              "      <td>&gt;anodiyap</td>\n",
              "      <td>nawAdiy</td>\n",
              "    </tr>\n",
              "    <tr>\n",
              "      <th>1</th>\n",
              "      <td>193</td>\n",
              "      <td>&gt;amoriykiy~</td>\n",
              "      <td>1</td>\n",
              "      <td>&gt;amoriykiy~iyn</td>\n",
              "      <td>&gt;amiyrokiy~iyn</td>\n",
              "    </tr>\n",
              "    <tr>\n",
              "      <th>2</th>\n",
              "      <td>213</td>\n",
              "      <td>na$AT</td>\n",
              "      <td>0</td>\n",
              "      <td>&gt;ano$iTap</td>\n",
              "      <td>na$ATAt</td>\n",
              "    </tr>\n",
              "    <tr>\n",
              "      <th>3</th>\n",
              "      <td>229</td>\n",
              "      <td>mujawohar</td>\n",
              "      <td>1</td>\n",
              "      <td>mujawoharAt</td>\n",
              "      <td>mujaworArAt</td>\n",
              "    </tr>\n",
              "    <tr>\n",
              "      <th>4</th>\n",
              "      <td>235</td>\n",
              "      <td>masoEaY</td>\n",
              "      <td>0</td>\n",
              "      <td>masAE</td>\n",
              "      <td>masAEiy</td>\n",
              "    </tr>\n",
              "  </tbody>\n",
              "</table>\n",
              "</div>\n",
              "      <button class=\"colab-df-convert\" onclick=\"convertToInteractive('df-824d0484-a395-4cea-a99f-5580eaab3ae4')\"\n",
              "              title=\"Convert this dataframe to an interactive table.\"\n",
              "              style=\"display:none;\">\n",
              "        \n",
              "  <svg xmlns=\"http://www.w3.org/2000/svg\" height=\"24px\"viewBox=\"0 0 24 24\"\n",
              "       width=\"24px\">\n",
              "    <path d=\"M0 0h24v24H0V0z\" fill=\"none\"/>\n",
              "    <path d=\"M18.56 5.44l.94 2.06.94-2.06 2.06-.94-2.06-.94-.94-2.06-.94 2.06-2.06.94zm-11 1L8.5 8.5l.94-2.06 2.06-.94-2.06-.94L8.5 2.5l-.94 2.06-2.06.94zm10 10l.94 2.06.94-2.06 2.06-.94-2.06-.94-.94-2.06-.94 2.06-2.06.94z\"/><path d=\"M17.41 7.96l-1.37-1.37c-.4-.4-.92-.59-1.43-.59-.52 0-1.04.2-1.43.59L10.3 9.45l-7.72 7.72c-.78.78-.78 2.05 0 2.83L4 21.41c.39.39.9.59 1.41.59.51 0 1.02-.2 1.41-.59l7.78-7.78 2.81-2.81c.8-.78.8-2.07 0-2.86zM5.41 20L4 18.59l7.72-7.72 1.47 1.35L5.41 20z\"/>\n",
              "  </svg>\n",
              "      </button>\n",
              "      \n",
              "  <style>\n",
              "    .colab-df-container {\n",
              "      display:flex;\n",
              "      flex-wrap:wrap;\n",
              "      gap: 12px;\n",
              "    }\n",
              "\n",
              "    .colab-df-convert {\n",
              "      background-color: #E8F0FE;\n",
              "      border: none;\n",
              "      border-radius: 50%;\n",
              "      cursor: pointer;\n",
              "      display: none;\n",
              "      fill: #1967D2;\n",
              "      height: 32px;\n",
              "      padding: 0 0 0 0;\n",
              "      width: 32px;\n",
              "    }\n",
              "\n",
              "    .colab-df-convert:hover {\n",
              "      background-color: #E2EBFA;\n",
              "      box-shadow: 0px 1px 2px rgba(60, 64, 67, 0.3), 0px 1px 3px 1px rgba(60, 64, 67, 0.15);\n",
              "      fill: #174EA6;\n",
              "    }\n",
              "\n",
              "    [theme=dark] .colab-df-convert {\n",
              "      background-color: #3B4455;\n",
              "      fill: #D2E3FC;\n",
              "    }\n",
              "\n",
              "    [theme=dark] .colab-df-convert:hover {\n",
              "      background-color: #434B5C;\n",
              "      box-shadow: 0px 1px 3px 1px rgba(0, 0, 0, 0.15);\n",
              "      filter: drop-shadow(0px 1px 2px rgba(0, 0, 0, 0.3));\n",
              "      fill: #FFFFFF;\n",
              "    }\n",
              "  </style>\n",
              "\n",
              "      <script>\n",
              "        const buttonEl =\n",
              "          document.querySelector('#df-824d0484-a395-4cea-a99f-5580eaab3ae4 button.colab-df-convert');\n",
              "        buttonEl.style.display =\n",
              "          google.colab.kernel.accessAllowed ? 'block' : 'none';\n",
              "\n",
              "        async function convertToInteractive(key) {\n",
              "          const element = document.querySelector('#df-824d0484-a395-4cea-a99f-5580eaab3ae4');\n",
              "          const dataTable =\n",
              "            await google.colab.kernel.invokeFunction('convertToInteractive',\n",
              "                                                     [key], {});\n",
              "          if (!dataTable) return;\n",
              "\n",
              "          const docLinkHtml = 'Like what you see? Visit the ' +\n",
              "            '<a target=\"_blank\" href=https://colab.research.google.com/notebooks/data_table.ipynb>data table notebook</a>'\n",
              "            + ' to learn more about interactive tables.';\n",
              "          element.innerHTML = '';\n",
              "          dataTable['output_type'] = 'display_data';\n",
              "          await google.colab.output.renderOutput(dataTable, element);\n",
              "          const docLink = document.createElement('div');\n",
              "          docLink.innerHTML = docLinkHtml;\n",
              "          element.appendChild(docLink);\n",
              "        }\n",
              "      </script>\n",
              "    </div>\n",
              "  </div>\n",
              "  "
            ]
          },
          "metadata": {},
          "execution_count": 163
        }
      ],
      "source": [
        "dev_errorAnalysis = reportErrorAnalysis(devData[0], devData[5], dev_pred_OH, y_dev_inflection_OH, model1_path + \"/dev_errorAnalysis.csv\")\n",
        "dev_errorAnalysis.head()"
      ]
    },
    {
      "cell_type": "code",
      "execution_count": null,
      "metadata": {
        "id": "Rb3-t4ehEVh5",
        "colab": {
          "base_uri": "https://localhost:8080/"
        },
        "outputId": "48a556bc-d4dc-4cfc-d31a-82613a24c86b"
      },
      "outputs": [
        {
          "output_type": "stream",
          "name": "stdout",
          "text": [
            "(Broken error %, Sound error %):  (53.93258426966292, 46.06741573033708)\n"
          ]
        }
      ],
      "source": [
        "print('(Broken error %, Sound error %): ', reportPercentageOfBrokenSoundErrors(dev_errorAnalysis))"
      ]
    },
    {
      "cell_type": "code",
      "execution_count": null,
      "metadata": {
        "id": "3q8CzzBqpMAR",
        "colab": {
          "base_uri": "https://localhost:8080/"
        },
        "outputId": "084aede7-166b-40cb-c544-7998a3db6fe7"
      },
      "outputs": [
        {
          "output_type": "execute_result",
          "data": {
            "text/plain": [
              "(61, 0.9424528301886792)"
            ]
          },
          "metadata": {},
          "execution_count": 165
        }
      ],
      "source": [
        "checkAccuracy_anyAcceptableInflectionInDataset(devData[0],dev_pred_OH,dic_lemmaInflection)"
      ]
    },
    {
      "cell_type": "code",
      "execution_count": null,
      "metadata": {
        "id": "mOswiP7Fqhdp",
        "colab": {
          "base_uri": "https://localhost:8080/"
        },
        "outputId": "310aea48-c894-486c-fc22-2c58e59be1a4"
      },
      "outputs": [
        {
          "output_type": "stream",
          "name": "stdout",
          "text": [
            "Percentage of Unseen Errors with respect to Total Errors, Percentage of Unseen Errors with respect to Total Unseen Samples\n",
            "(98.87640449438202, 75.86206896551724)\n"
          ]
        }
      ],
      "source": [
        "# Report Percentage of Unseen Errors in Dev set\n",
        "errorIndices_dev = dev_errorAnalysis['index'].tolist()\n",
        "unseenIndices_dev = unseenLemInfIndices_dev_df['index'].tolist()\n",
        "\n",
        "print('Percentage of Unseen Errors with respect to Total Errors, Percentage of Unseen Errors with respect to Total Unseen Samples')\n",
        "print(reportPercentageOfUnseenErrors(errorIndices_dev, unseenIndices_dev))"
      ]
    },
    {
      "cell_type": "markdown",
      "metadata": {
        "id": "i7R3KZnxEVh5"
      },
      "source": [
        "### **Test analyze**"
      ]
    },
    {
      "cell_type": "code",
      "execution_count": null,
      "metadata": {
        "id": "55GGksBBEVh6",
        "colab": {
          "base_uri": "https://localhost:8080/"
        },
        "outputId": "399734d6-183d-4a9e-d4d0-bc29877e9c3d"
      },
      "outputs": [
        {
          "output_type": "stream",
          "name": "stdout",
          "text": [
            "33/33 [==============================] - 0s 5ms/step\n"
          ]
        },
        {
          "output_type": "execute_result",
          "data": {
            "text/plain": [
              "(75, 0.9270428015564203)"
            ]
          },
          "metadata": {},
          "execution_count": 167
        }
      ],
      "source": [
        "test_pred = model1.predict([X_test_lemma_OH, X_test_genRat])\n",
        "test_pred_OH = oneHot3D(test_pred)\n",
        "test_error_num, test_acc_num = checkAccuracy(test_pred_OH, y_test_inflection_OH)\n",
        "test_error_num, test_acc_num"
      ]
    },
    {
      "cell_type": "code",
      "execution_count": null,
      "metadata": {
        "id": "i57C2rVDEVh6"
      },
      "outputs": [],
      "source": [
        "test_errorAnalysis = reportErrorAnalysis(testData[0], testData[5], test_pred_OH, y_test_inflection_OH, model1_path + \"/test_errorAnalysis.csv\")"
      ]
    },
    {
      "cell_type": "code",
      "execution_count": null,
      "metadata": {
        "id": "n6v7_vY1EVh6",
        "colab": {
          "base_uri": "https://localhost:8080/"
        },
        "outputId": "f4659646-d7c6-4251-91d4-2f5f47dbbe70"
      },
      "outputs": [
        {
          "output_type": "stream",
          "name": "stdout",
          "text": [
            "(Broken error %, Sound error %):  (52.0, 48.0)\n"
          ]
        }
      ],
      "source": [
        "print('(Broken error %, Sound error %): ', reportPercentageOfBrokenSoundErrors(test_errorAnalysis))"
      ]
    },
    {
      "cell_type": "code",
      "execution_count": null,
      "metadata": {
        "id": "J2NUckr-pPAf",
        "colab": {
          "base_uri": "https://localhost:8080/"
        },
        "outputId": "0b275e76-55f9-442d-d7aa-7a7e64b749fd"
      },
      "outputs": [
        {
          "output_type": "execute_result",
          "data": {
            "text/plain": [
              "(55, 0.9464980544747081)"
            ]
          },
          "metadata": {},
          "execution_count": 170
        }
      ],
      "source": [
        "checkAccuracy_anyAcceptableInflectionInDataset(testData[0],test_pred_OH,dic_lemmaInflection)"
      ]
    },
    {
      "cell_type": "code",
      "execution_count": null,
      "metadata": {
        "id": "7HL3bbXgzGck",
        "colab": {
          "base_uri": "https://localhost:8080/"
        },
        "outputId": "1cf4f905-63d1-449c-b8b1-0bfb72802df5"
      },
      "outputs": [
        {
          "output_type": "stream",
          "name": "stdout",
          "text": [
            "Percentage of Unseen Errors with respect to Total Errors, Percentage of Unseen Errors with respect to Total Unseen Samples\n",
            "(98.66666666666667, 71.15384615384616)\n"
          ]
        }
      ],
      "source": [
        "# Report Percentage of Unseen Errors in Test set\n",
        "errorIndices_test = test_errorAnalysis['index'].tolist()\n",
        "unseenIndices_test = unseenLemInfIndices_test_df['index'].tolist()\n",
        "\n",
        "print('Percentage of Unseen Errors with respect to Total Errors, Percentage of Unseen Errors with respect to Total Unseen Samples')\n",
        "print(reportPercentageOfUnseenErrors(errorIndices_test, unseenIndices_test))"
      ]
    },
    {
      "cell_type": "markdown",
      "metadata": {
        "id": "fdCz16FjpUjU"
      },
      "source": [
        "## **Mix Model 1 (2 Networks: Classification + Machine Translation)**\n",
        "**with Bert embedding input**"
      ]
    },
    {
      "cell_type": "code",
      "execution_count": null,
      "metadata": {
        "id": "EQR4WH4wnbPX"
      },
      "outputs": [],
      "source": [
        "mixModel1_path = path + '/Machine Translation Models/Mix Model 1'"
      ]
    },
    {
      "cell_type": "code",
      "execution_count": null,
      "metadata": {
        "id": "VU_KhzdDpTiO",
        "colab": {
          "base_uri": "https://localhost:8080/"
        },
        "outputId": "e6fdb623-b721-40b8-e93e-7faa2c534b07"
      },
      "outputs": [
        {
          "output_type": "stream",
          "name": "stderr",
          "text": [
            "WARNING:tensorflow:No training configuration found in the save file, so the model was *not* compiled. Compile it manually.\n"
          ]
        }
      ],
      "source": [
        "BSClassification_path = path + '/Classification Models'\n",
        "BSClassification_model_path = BSClassification_path + '/model 1/weights.hdf5'\n",
        "BSClassification_model_structure_path = BSClassification_path + \"/model 1/structure.h5\"\n",
        "\n",
        "BSC_model = load_model(BSClassification_model_path)\n",
        "BSC_model_struct = load_model(BSClassification_model_structure_path)\n",
        "\n",
        "BSC_model_struct.set_weights(BSC_model.get_weights())\n",
        "BSC_model_struct.trainable = False\n",
        "# print(BSC_model.layers[1].get_weights()[0][0])\n",
        "# print(BSC_model_struct.layers[1].get_weights()[0][0])"
      ]
    },
    {
      "cell_type": "code",
      "execution_count": null,
      "metadata": {
        "id": "N0ko_Jsbr3Gs"
      },
      "outputs": [],
      "source": [
        "imput_bert_embedding = Input(shape=(bert_embedding_length, ), name='Bert-Embedding')\n",
        "input_lemma = Input(shape=(lemma_length, encode_size), name='Lemma')\n",
        "input_genRat = Input(shape=(genRat_length, ), name='Gender-Rational')\n",
        "\n",
        "cls = BSC_model_struct([input_lemma, input_genRat])\n",
        "lstm1 = Bidirectional(LSTM(256, name='Lstm1'), name='Encoder')(input_lemma)\n",
        "d = Dense(256,  activation='relu', name='Dense1')(imput_bert_embedding)\n",
        "\n",
        "c = Concatenate(axis=1, name='Concatenate')([lstm1, input_genRat, cls, d])\n",
        "\n",
        "d = Dense(200, activation='relu', name='Dense2')(c)\n",
        "r = RepeatVector(inflection_length, name='RepeatVector')(d)\n",
        "\n",
        "lstm2 = Bidirectional(LSTM(256, return_sequences=True, name='Lstm2'), name='Decoder')(r)\n",
        "output = TimeDistributed(Dense(encode_size, activation='softmax', name='Dense2'), name='Inflection')(lstm2)\n",
        "\n",
        "mix_model = Model(inputs=[imput_bert_embedding, input_lemma, input_genRat], outputs=output)\n",
        "\n",
        "checkpoint_filepath = mixModel1_path + '/weights.hdf5'\n",
        "checkpoint = ModelCheckpoint(filepath=checkpoint_filepath, monitor='val_accuracy', mode='max', save_best_only=True, verbose=0)\n",
        "\n",
        "mix_model.compile(loss=\"binary_crossentropy\", optimizer=Adam(0.001), metrics=['accuracy'])"
      ]
    },
    {
      "cell_type": "code",
      "execution_count": null,
      "metadata": {
        "id": "i56qrPBBVh4j",
        "colab": {
          "base_uri": "https://localhost:8080/"
        },
        "outputId": "ff54ea22-e6ba-4406-de77-12f7ba509cb9"
      },
      "outputs": [
        {
          "output_type": "execute_result",
          "data": {
            "text/plain": [
              "array([-0.02294529, -0.10742611,  0.02736146, ..., -0.18890691,\n",
              "       -0.01805112, -0.01145793], dtype=float32)"
            ]
          },
          "metadata": {},
          "execution_count": 133
        }
      ],
      "source": [
        "mix_model.layers[4].layers[1].get_weights()[0][0]"
      ]
    },
    {
      "cell_type": "code",
      "execution_count": null,
      "metadata": {
        "id": "tJjSxEPFUUx_"
      },
      "outputs": [],
      "source": [
        "with tf.device('/GPU:0'):\n",
        "  mix_model.fit([X_train_bert, X_train_lemma_OH, X_train_genRat], y_train_inflection_OH, batch_size=batch_size, epochs=epochs, callbacks=[checkpoint], validation_data=([X_dev_bert, X_dev_lemma_OH, X_dev_genRat], y_dev_inflection_OH))  # starts training"
      ]
    },
    {
      "cell_type": "code",
      "execution_count": null,
      "metadata": {
        "id": "P2s1v375Um5l",
        "colab": {
          "base_uri": "https://localhost:8080/"
        },
        "outputId": "8d99cde9-5c1e-40f3-bd6c-b2a448836600"
      },
      "outputs": [
        {
          "output_type": "stream",
          "name": "stderr",
          "text": [
            "WARNING:tensorflow:Error in loading the saved optimizer state. As a result, your model is starting with a freshly initialized optimizer.\n"
          ]
        },
        {
          "output_type": "stream",
          "name": "stdout",
          "text": [
            "33/33 [==============================] - 3s 9ms/step - loss: 0.0037 - accuracy: 0.9850\n"
          ]
        },
        {
          "output_type": "execute_result",
          "data": {
            "text/plain": [
              "[0.003656055312603712, 0.9849762320518494]"
            ]
          },
          "metadata": {},
          "execution_count": 135
        }
      ],
      "source": [
        "mix_model = load_model(checkpoint_filepath)\n",
        "mix_model.evaluate([X_test_bert, X_test_lemma_OH, X_test_genRat], y_test_inflection_OH)"
      ]
    },
    {
      "cell_type": "code",
      "execution_count": null,
      "metadata": {
        "id": "PIWe1psZ3dZ4",
        "colab": {
          "base_uri": "https://localhost:8080/",
          "height": 1000
        },
        "outputId": "5cfa7187-c0f7-4362-c989-2d0a6d32ae9c"
      },
      "outputs": [
        {
          "output_type": "stream",
          "name": "stdout",
          "text": [
            "Model: \"model_1\"\n",
            "__________________________________________________________________________________________________\n",
            " Layer (type)                   Output Shape         Param #     Connected to                     \n",
            "==================================================================================================\n",
            " Lemma (InputLayer)             [(None, 17, 50)]     0           []                               \n",
            "                                                                                                  \n",
            " Gender-Rational (InputLayer)   [(None, 2)]          0           []                               \n",
            "                                                                                                  \n",
            " Bert-Embedding (InputLayer)    [(None, 768)]        0           []                               \n",
            "                                                                                                  \n",
            " Encoder (Bidirectional)        (None, 512)          628736      ['Lemma[0][0]']                  \n",
            "                                                                                                  \n",
            " model_2 (Functional)           (None, 1)            777089      ['Lemma[0][0]',                  \n",
            "                                                                  'Gender-Rational[0][0]']        \n",
            "                                                                                                  \n",
            " Dense1 (Dense)                 (None, 256)          196864      ['Bert-Embedding[0][0]']         \n",
            "                                                                                                  \n",
            " Concatenate (Concatenate)      (None, 771)          0           ['Encoder[0][0]',                \n",
            "                                                                  'Gender-Rational[0][0]',        \n",
            "                                                                  'model_2[0][0]',                \n",
            "                                                                  'Dense1[0][0]']                 \n",
            "                                                                                                  \n",
            " Dense2 (Dense)                 (None, 200)          154400      ['Concatenate[0][0]']            \n",
            "                                                                                                  \n",
            " RepeatVector (RepeatVector)    (None, 18, 200)      0           ['Dense2[0][0]']                 \n",
            "                                                                                                  \n",
            " Decoder (Bidirectional)        (None, 18, 512)      935936      ['RepeatVector[0][0]']           \n",
            "                                                                                                  \n",
            " Inflection (TimeDistributed)   (None, 18, 50)       25650       ['Decoder[0][0]']                \n",
            "                                                                                                  \n",
            "==================================================================================================\n",
            "Total params: 2,718,675\n",
            "Trainable params: 2,570,322\n",
            "Non-trainable params: 148,353\n",
            "__________________________________________________________________________________________________\n",
            "None\n"
          ]
        },
        {
          "output_type": "execute_result",
          "data": {
            "image/png": "[encoded data removed]",
            "text/plain": [
              "<IPython.core.display.Image object>"
            ]
          },
          "metadata": {},
          "execution_count": 136
        }
      ],
      "source": [
        "print(mix_model.summary())\n",
        "plot_model(mix_model, to_file=mixModel1_path+'/architecture.png', show_shapes=True, show_layer_names=True)"
      ]
    },
    {
      "cell_type": "markdown",
      "metadata": {
        "id": "jgfj5lhjU6z3"
      },
      "source": [
        "### **Train analyze**"
      ]
    },
    {
      "cell_type": "code",
      "execution_count": null,
      "metadata": {
        "id": "J_IHpXM1U6z9",
        "colab": {
          "base_uri": "https://localhost:8080/"
        },
        "outputId": "d8f243d3-f535-42a1-fc24-1f4b6d5646fc"
      },
      "outputs": [
        {
          "output_type": "stream",
          "name": "stdout",
          "text": [
            "78/78 [==============================] - 3s 7ms/step\n"
          ]
        },
        {
          "output_type": "execute_result",
          "data": {
            "text/plain": [
              "(10, 0.9959595959595959)"
            ]
          },
          "metadata": {},
          "execution_count": 137
        }
      ],
      "source": [
        "train_pred = mix_model.predict([X_train_bert, X_train_lemma_OH, X_train_genRat])\n",
        "train_pred_OH = oneHot3D(train_pred)\n",
        "train_error_num, train_acc_num = checkAccuracy(train_pred_OH, y_train_inflection_OH)\n",
        "train_error_num, train_acc_num"
      ]
    },
    {
      "cell_type": "code",
      "execution_count": null,
      "metadata": {
        "id": "FYvcpoH7U60B",
        "colab": {
          "base_uri": "https://localhost:8080/"
        },
        "outputId": "b940357a-c480-4d91-82b4-34ab1ae34240"
      },
      "outputs": [
        {
          "output_type": "execute_result",
          "data": {
            "text/plain": [
              "(2475, 18, 50)"
            ]
          },
          "metadata": {},
          "execution_count": 138
        }
      ],
      "source": [
        "y_train_inflection_OH.shape"
      ]
    },
    {
      "cell_type": "code",
      "execution_count": null,
      "metadata": {
        "id": "niUWd_7tU60E",
        "colab": {
          "base_uri": "https://localhost:8080/",
          "height": 270
        },
        "outputId": "e7a1d264-ec23-4d02-ced1-8fee03426936"
      },
      "outputs": [
        {
          "output_type": "execute_result",
          "data": {
            "text/plain": [
              "   index            lemma  b/s          inflection             predict\n",
              "0    637         huwiy~ap    1            huwiy~At           huwiyy~At\n",
              "1    863      tilofizyuwn    1       tilofizyuwnAt       tilofiyzuwnAt\n",
              "2    948       briyTAniy~    1       briyTAniy~iyn       biyTTAniy~iyn\n",
              "3   1315  frAnokuwfuwniy~    1  franokuwfuwniy~iyn  franokuwfuwniy~inn\n",
              "4   1652      rAdiykAliy~    1      rAdiykAliy~iyn      rAyiykAliy~iyn"
            ],
            "text/html": [
              "\n",
              "  <div id=\"df-eec177f2-aed3-4ffa-8d8e-81e7e851edd4\">\n",
              "    <div class=\"colab-df-container\">\n",
              "      <div>\n",
              "<style scoped>\n",
              "    .dataframe tbody tr th:only-of-type {\n",
              "        vertical-align: middle;\n",
              "    }\n",
              "\n",
              "    .dataframe tbody tr th {\n",
              "        vertical-align: top;\n",
              "    }\n",
              "\n",
              "    .dataframe thead th {\n",
              "        text-align: right;\n",
              "    }\n",
              "</style>\n",
              "<table border=\"1\" class=\"dataframe\">\n",
              "  <thead>\n",
              "    <tr style=\"text-align: right;\">\n",
              "      <th></th>\n",
              "      <th>index</th>\n",
              "      <th>lemma</th>\n",
              "      <th>b/s</th>\n",
              "      <th>inflection</th>\n",
              "      <th>predict</th>\n",
              "    </tr>\n",
              "  </thead>\n",
              "  <tbody>\n",
              "    <tr>\n",
              "      <th>0</th>\n",
              "      <td>637</td>\n",
              "      <td>huwiy~ap</td>\n",
              "      <td>1</td>\n",
              "      <td>huwiy~At</td>\n",
              "      <td>huwiyy~At</td>\n",
              "    </tr>\n",
              "    <tr>\n",
              "      <th>1</th>\n",
              "      <td>863</td>\n",
              "      <td>tilofizyuwn</td>\n",
              "      <td>1</td>\n",
              "      <td>tilofizyuwnAt</td>\n",
              "      <td>tilofiyzuwnAt</td>\n",
              "    </tr>\n",
              "    <tr>\n",
              "      <th>2</th>\n",
              "      <td>948</td>\n",
              "      <td>briyTAniy~</td>\n",
              "      <td>1</td>\n",
              "      <td>briyTAniy~iyn</td>\n",
              "      <td>biyTTAniy~iyn</td>\n",
              "    </tr>\n",
              "    <tr>\n",
              "      <th>3</th>\n",
              "      <td>1315</td>\n",
              "      <td>frAnokuwfuwniy~</td>\n",
              "      <td>1</td>\n",
              "      <td>franokuwfuwniy~iyn</td>\n",
              "      <td>franokuwfuwniy~inn</td>\n",
              "    </tr>\n",
              "    <tr>\n",
              "      <th>4</th>\n",
              "      <td>1652</td>\n",
              "      <td>rAdiykAliy~</td>\n",
              "      <td>1</td>\n",
              "      <td>rAdiykAliy~iyn</td>\n",
              "      <td>rAyiykAliy~iyn</td>\n",
              "    </tr>\n",
              "  </tbody>\n",
              "</table>\n",
              "</div>\n",
              "      <button class=\"colab-df-convert\" onclick=\"convertToInteractive('df-eec177f2-aed3-4ffa-8d8e-81e7e851edd4')\"\n",
              "              title=\"Convert this dataframe to an interactive table.\"\n",
              "              style=\"display:none;\">\n",
              "        \n",
              "  <svg xmlns=\"http://www.w3.org/2000/svg\" height=\"24px\"viewBox=\"0 0 24 24\"\n",
              "       width=\"24px\">\n",
              "    <path d=\"M0 0h24v24H0V0z\" fill=\"none\"/>\n",
              "    <path d=\"M18.56 5.44l.94 2.06.94-2.06 2.06-.94-2.06-.94-.94-2.06-.94 2.06-2.06.94zm-11 1L8.5 8.5l.94-2.06 2.06-.94-2.06-.94L8.5 2.5l-.94 2.06-2.06.94zm10 10l.94 2.06.94-2.06 2.06-.94-2.06-.94-.94-2.06-.94 2.06-2.06.94z\"/><path d=\"M17.41 7.96l-1.37-1.37c-.4-.4-.92-.59-1.43-.59-.52 0-1.04.2-1.43.59L10.3 9.45l-7.72 7.72c-.78.78-.78 2.05 0 2.83L4 21.41c.39.39.9.59 1.41.59.51 0 1.02-.2 1.41-.59l7.78-7.78 2.81-2.81c.8-.78.8-2.07 0-2.86zM5.41 20L4 18.59l7.72-7.72 1.47 1.35L5.41 20z\"/>\n",
              "  </svg>\n",
              "      </button>\n",
              "      \n",
              "  <style>\n",
              "    .colab-df-container {\n",
              "      display:flex;\n",
              "      flex-wrap:wrap;\n",
              "      gap: 12px;\n",
              "    }\n",
              "\n",
              "    .colab-df-convert {\n",
              "      background-color: #E8F0FE;\n",
              "      border: none;\n",
              "      border-radius: 50%;\n",
              "      cursor: pointer;\n",
              "      display: none;\n",
              "      fill: #1967D2;\n",
              "      height: 32px;\n",
              "      padding: 0 0 0 0;\n",
              "      width: 32px;\n",
              "    }\n",
              "\n",
              "    .colab-df-convert:hover {\n",
              "      background-color: #E2EBFA;\n",
              "      box-shadow: 0px 1px 2px rgba(60, 64, 67, 0.3), 0px 1px 3px 1px rgba(60, 64, 67, 0.15);\n",
              "      fill: #174EA6;\n",
              "    }\n",
              "\n",
              "    [theme=dark] .colab-df-convert {\n",
              "      background-color: #3B4455;\n",
              "      fill: #D2E3FC;\n",
              "    }\n",
              "\n",
              "    [theme=dark] .colab-df-convert:hover {\n",
              "      background-color: #434B5C;\n",
              "      box-shadow: 0px 1px 3px 1px rgba(0, 0, 0, 0.15);\n",
              "      filter: drop-shadow(0px 1px 2px rgba(0, 0, 0, 0.3));\n",
              "      fill: #FFFFFF;\n",
              "    }\n",
              "  </style>\n",
              "\n",
              "      <script>\n",
              "        const buttonEl =\n",
              "          document.querySelector('#df-eec177f2-aed3-4ffa-8d8e-81e7e851edd4 button.colab-df-convert');\n",
              "        buttonEl.style.display =\n",
              "          google.colab.kernel.accessAllowed ? 'block' : 'none';\n",
              "\n",
              "        async function convertToInteractive(key) {\n",
              "          const element = document.querySelector('#df-eec177f2-aed3-4ffa-8d8e-81e7e851edd4');\n",
              "          const dataTable =\n",
              "            await google.colab.kernel.invokeFunction('convertToInteractive',\n",
              "                                                     [key], {});\n",
              "          if (!dataTable) return;\n",
              "\n",
              "          const docLinkHtml = 'Like what you see? Visit the ' +\n",
              "            '<a target=\"_blank\" href=https://colab.research.google.com/notebooks/data_table.ipynb>data table notebook</a>'\n",
              "            + ' to learn more about interactive tables.';\n",
              "          element.innerHTML = '';\n",
              "          dataTable['output_type'] = 'display_data';\n",
              "          await google.colab.output.renderOutput(dataTable, element);\n",
              "          const docLink = document.createElement('div');\n",
              "          docLink.innerHTML = docLinkHtml;\n",
              "          element.appendChild(docLink);\n",
              "        }\n",
              "      </script>\n",
              "    </div>\n",
              "  </div>\n",
              "  "
            ]
          },
          "metadata": {},
          "execution_count": 139
        }
      ],
      "source": [
        "train_errorAnalysis = reportErrorAnalysis(trainData[0], trainData[5], train_pred_OH, y_train_inflection_OH, mixModel1_path + \"/train_errorAnalysis.csv\")\n",
        "train_errorAnalysis.head()"
      ]
    },
    {
      "cell_type": "code",
      "execution_count": null,
      "metadata": {
        "id": "HkGc9jELU60H",
        "colab": {
          "base_uri": "https://localhost:8080/"
        },
        "outputId": "1e168f2e-24c2-4317-a515-f73735f0005f"
      },
      "outputs": [
        {
          "output_type": "stream",
          "name": "stdout",
          "text": [
            "(Broken error %, Sound error %):  (10.0, 90.0)\n"
          ]
        }
      ],
      "source": [
        "print('(Broken error %, Sound error %): ', reportPercentageOfBrokenSoundErrors(train_errorAnalysis))"
      ]
    },
    {
      "cell_type": "code",
      "execution_count": null,
      "metadata": {
        "id": "z5l_gwk2U60K",
        "colab": {
          "base_uri": "https://localhost:8080/"
        },
        "outputId": "5a076964-97f1-42f8-d2f8-d938951c3515"
      },
      "outputs": [
        {
          "output_type": "execute_result",
          "data": {
            "text/plain": [
              "(10, 0.9959595959595959)"
            ]
          },
          "metadata": {},
          "execution_count": 141
        }
      ],
      "source": [
        "checkAccuracy_anyAcceptableInflectionInDataset(trainData[0],train_pred_OH,dic_lemmaInflection)"
      ]
    },
    {
      "cell_type": "markdown",
      "metadata": {
        "id": "WHCsxDc9U60N"
      },
      "source": [
        "### **Dev analyze**"
      ]
    },
    {
      "cell_type": "code",
      "execution_count": null,
      "metadata": {
        "id": "iA-xaxEZU60P",
        "colab": {
          "base_uri": "https://localhost:8080/"
        },
        "outputId": "ff2165a9-93a7-4a0c-a99b-a9cc060d4441"
      },
      "outputs": [
        {
          "output_type": "stream",
          "name": "stdout",
          "text": [
            "34/34 [==============================] - 0s 7ms/step\n"
          ]
        },
        {
          "output_type": "execute_result",
          "data": {
            "text/plain": [
              "(98, 0.9075471698113208)"
            ]
          },
          "metadata": {},
          "execution_count": 142
        }
      ],
      "source": [
        "dev_pred = mix_model.predict([X_dev_bert, X_dev_lemma_OH, X_dev_genRat])\n",
        "dev_pred_OH = oneHot3D(dev_pred)\n",
        "dev_error_num, dev_acc_num = checkAccuracy(dev_pred_OH, y_dev_inflection_OH)\n",
        "dev_error_num, dev_acc_num"
      ]
    },
    {
      "cell_type": "code",
      "execution_count": null,
      "metadata": {
        "id": "758ZYt8YU60S",
        "colab": {
          "base_uri": "https://localhost:8080/",
          "height": 206
        },
        "outputId": "8b37df87-ce37-4086-e613-485364f28c31"
      },
      "outputs": [
        {
          "output_type": "execute_result",
          "data": {
            "text/plain": [
              "   index        lemma  b/s      inflection         predict\n",
              "0     59        nAdiy    0       >anodiyap         nawAdiy\n",
              "1    193  >amoriykiy~    1  >amoriykiy~iyn  >amiyrokiy~iyn\n",
              "2    213        na$AT    0       >ano$iTap         na$ATAt\n",
              "3    229    mujawohar    1     mujawoharAt     mujaworrrAt\n",
              "4    235      masoEaY    0           masAE         masAEiy"
            ],
            "text/html": [
              "\n",
              "  <div id=\"df-141e4112-189c-4f21-9c8b-01ebcdf62a03\">\n",
              "    <div class=\"colab-df-container\">\n",
              "      <div>\n",
              "<style scoped>\n",
              "    .dataframe tbody tr th:only-of-type {\n",
              "        vertical-align: middle;\n",
              "    }\n",
              "\n",
              "    .dataframe tbody tr th {\n",
              "        vertical-align: top;\n",
              "    }\n",
              "\n",
              "    .dataframe thead th {\n",
              "        text-align: right;\n",
              "    }\n",
              "</style>\n",
              "<table border=\"1\" class=\"dataframe\">\n",
              "  <thead>\n",
              "    <tr style=\"text-align: right;\">\n",
              "      <th></th>\n",
              "      <th>index</th>\n",
              "      <th>lemma</th>\n",
              "      <th>b/s</th>\n",
              "      <th>inflection</th>\n",
              "      <th>predict</th>\n",
              "    </tr>\n",
              "  </thead>\n",
              "  <tbody>\n",
              "    <tr>\n",
              "      <th>0</th>\n",
              "      <td>59</td>\n",
              "      <td>nAdiy</td>\n",
              "      <td>0</td>\n",
              "      <td>&gt;anodiyap</td>\n",
              "      <td>nawAdiy</td>\n",
              "    </tr>\n",
              "    <tr>\n",
              "      <th>1</th>\n",
              "      <td>193</td>\n",
              "      <td>&gt;amoriykiy~</td>\n",
              "      <td>1</td>\n",
              "      <td>&gt;amoriykiy~iyn</td>\n",
              "      <td>&gt;amiyrokiy~iyn</td>\n",
              "    </tr>\n",
              "    <tr>\n",
              "      <th>2</th>\n",
              "      <td>213</td>\n",
              "      <td>na$AT</td>\n",
              "      <td>0</td>\n",
              "      <td>&gt;ano$iTap</td>\n",
              "      <td>na$ATAt</td>\n",
              "    </tr>\n",
              "    <tr>\n",
              "      <th>3</th>\n",
              "      <td>229</td>\n",
              "      <td>mujawohar</td>\n",
              "      <td>1</td>\n",
              "      <td>mujawoharAt</td>\n",
              "      <td>mujaworrrAt</td>\n",
              "    </tr>\n",
              "    <tr>\n",
              "      <th>4</th>\n",
              "      <td>235</td>\n",
              "      <td>masoEaY</td>\n",
              "      <td>0</td>\n",
              "      <td>masAE</td>\n",
              "      <td>masAEiy</td>\n",
              "    </tr>\n",
              "  </tbody>\n",
              "</table>\n",
              "</div>\n",
              "      <button class=\"colab-df-convert\" onclick=\"convertToInteractive('df-141e4112-189c-4f21-9c8b-01ebcdf62a03')\"\n",
              "              title=\"Convert this dataframe to an interactive table.\"\n",
              "              style=\"display:none;\">\n",
              "        \n",
              "  <svg xmlns=\"http://www.w3.org/2000/svg\" height=\"24px\"viewBox=\"0 0 24 24\"\n",
              "       width=\"24px\">\n",
              "    <path d=\"M0 0h24v24H0V0z\" fill=\"none\"/>\n",
              "    <path d=\"M18.56 5.44l.94 2.06.94-2.06 2.06-.94-2.06-.94-.94-2.06-.94 2.06-2.06.94zm-11 1L8.5 8.5l.94-2.06 2.06-.94-2.06-.94L8.5 2.5l-.94 2.06-2.06.94zm10 10l.94 2.06.94-2.06 2.06-.94-2.06-.94-.94-2.06-.94 2.06-2.06.94z\"/><path d=\"M17.41 7.96l-1.37-1.37c-.4-.4-.92-.59-1.43-.59-.52 0-1.04.2-1.43.59L10.3 9.45l-7.72 7.72c-.78.78-.78 2.05 0 2.83L4 21.41c.39.39.9.59 1.41.59.51 0 1.02-.2 1.41-.59l7.78-7.78 2.81-2.81c.8-.78.8-2.07 0-2.86zM5.41 20L4 18.59l7.72-7.72 1.47 1.35L5.41 20z\"/>\n",
              "  </svg>\n",
              "      </button>\n",
              "      \n",
              "  <style>\n",
              "    .colab-df-container {\n",
              "      display:flex;\n",
              "      flex-wrap:wrap;\n",
              "      gap: 12px;\n",
              "    }\n",
              "\n",
              "    .colab-df-convert {\n",
              "      background-color: #E8F0FE;\n",
              "      border: none;\n",
              "      border-radius: 50%;\n",
              "      cursor: pointer;\n",
              "      display: none;\n",
              "      fill: #1967D2;\n",
              "      height: 32px;\n",
              "      padding: 0 0 0 0;\n",
              "      width: 32px;\n",
              "    }\n",
              "\n",
              "    .colab-df-convert:hover {\n",
              "      background-color: #E2EBFA;\n",
              "      box-shadow: 0px 1px 2px rgba(60, 64, 67, 0.3), 0px 1px 3px 1px rgba(60, 64, 67, 0.15);\n",
              "      fill: #174EA6;\n",
              "    }\n",
              "\n",
              "    [theme=dark] .colab-df-convert {\n",
              "      background-color: #3B4455;\n",
              "      fill: #D2E3FC;\n",
              "    }\n",
              "\n",
              "    [theme=dark] .colab-df-convert:hover {\n",
              "      background-color: #434B5C;\n",
              "      box-shadow: 0px 1px 3px 1px rgba(0, 0, 0, 0.15);\n",
              "      filter: drop-shadow(0px 1px 2px rgba(0, 0, 0, 0.3));\n",
              "      fill: #FFFFFF;\n",
              "    }\n",
              "  </style>\n",
              "\n",
              "      <script>\n",
              "        const buttonEl =\n",
              "          document.querySelector('#df-141e4112-189c-4f21-9c8b-01ebcdf62a03 button.colab-df-convert');\n",
              "        buttonEl.style.display =\n",
              "          google.colab.kernel.accessAllowed ? 'block' : 'none';\n",
              "\n",
              "        async function convertToInteractive(key) {\n",
              "          const element = document.querySelector('#df-141e4112-189c-4f21-9c8b-01ebcdf62a03');\n",
              "          const dataTable =\n",
              "            await google.colab.kernel.invokeFunction('convertToInteractive',\n",
              "                                                     [key], {});\n",
              "          if (!dataTable) return;\n",
              "\n",
              "          const docLinkHtml = 'Like what you see? Visit the ' +\n",
              "            '<a target=\"_blank\" href=https://colab.research.google.com/notebooks/data_table.ipynb>data table notebook</a>'\n",
              "            + ' to learn more about interactive tables.';\n",
              "          element.innerHTML = '';\n",
              "          dataTable['output_type'] = 'display_data';\n",
              "          await google.colab.output.renderOutput(dataTable, element);\n",
              "          const docLink = document.createElement('div');\n",
              "          docLink.innerHTML = docLinkHtml;\n",
              "          element.appendChild(docLink);\n",
              "        }\n",
              "      </script>\n",
              "    </div>\n",
              "  </div>\n",
              "  "
            ]
          },
          "metadata": {},
          "execution_count": 143
        }
      ],
      "source": [
        "dev_errorAnalysis = reportErrorAnalysis(devData[0], devData[5], dev_pred_OH, y_dev_inflection_OH, mixModel1_path + \"/dev_errorAnalysis.csv\")\n",
        "dev_errorAnalysis.head()"
      ]
    },
    {
      "cell_type": "code",
      "execution_count": null,
      "metadata": {
        "id": "r-Kn0v0qU60X",
        "colab": {
          "base_uri": "https://localhost:8080/"
        },
        "outputId": "893a95f9-3f30-4324-84e1-b76a2419095e"
      },
      "outputs": [
        {
          "output_type": "stream",
          "name": "stdout",
          "text": [
            "(Broken error %, Sound error %):  (52.04081632653062, 47.95918367346938)\n"
          ]
        }
      ],
      "source": [
        "print('(Broken error %, Sound error %): ', reportPercentageOfBrokenSoundErrors(dev_errorAnalysis))"
      ]
    },
    {
      "cell_type": "code",
      "execution_count": null,
      "metadata": {
        "id": "z2SBpLd4U60a",
        "colab": {
          "base_uri": "https://localhost:8080/"
        },
        "outputId": "d06de2ce-b341-45c7-b8d7-101394f67fe6"
      },
      "outputs": [
        {
          "output_type": "execute_result",
          "data": {
            "text/plain": [
              "(70, 0.9339622641509434)"
            ]
          },
          "metadata": {},
          "execution_count": 145
        }
      ],
      "source": [
        "checkAccuracy_anyAcceptableInflectionInDataset(devData[0], dev_pred_OH, dic_lemmaInflection)"
      ]
    },
    {
      "cell_type": "code",
      "execution_count": null,
      "metadata": {
        "id": "_E1WV0QxU60c",
        "colab": {
          "base_uri": "https://localhost:8080/"
        },
        "outputId": "427ab60e-536d-4523-b368-7a0d693ebd6d"
      },
      "outputs": [
        {
          "output_type": "stream",
          "name": "stdout",
          "text": [
            "Percentage of Unseen Errors with respect to Total Errors, Percentage of Unseen Errors with respect to Total Unseen Samples\n",
            "(97.95918367346938, 82.75862068965517)\n"
          ]
        }
      ],
      "source": [
        "# Report Percentage of Unseen Errors in Dev set\n",
        "errorIndices_dev = dev_errorAnalysis['index'].tolist()\n",
        "unseenIndices_dev = unseenLemInfIndices_dev_df['index'].tolist()\n",
        "\n",
        "print('Percentage of Unseen Errors with respect to Total Errors, Percentage of Unseen Errors with respect to Total Unseen Samples')\n",
        "print(reportPercentageOfUnseenErrors(errorIndices_dev, unseenIndices_dev))"
      ]
    },
    {
      "cell_type": "markdown",
      "metadata": {
        "id": "gVg1pBydU60g"
      },
      "source": [
        "### **Test analyze**"
      ]
    },
    {
      "cell_type": "code",
      "execution_count": null,
      "metadata": {
        "id": "HqA9bxlFU60i",
        "colab": {
          "base_uri": "https://localhost:8080/"
        },
        "outputId": "e851f08e-3853-409d-e631-0615b4933934"
      },
      "outputs": [
        {
          "output_type": "stream",
          "name": "stdout",
          "text": [
            "33/33 [==============================] - 0s 6ms/step\n"
          ]
        },
        {
          "output_type": "execute_result",
          "data": {
            "text/plain": [
              "(82, 0.9202334630350194)"
            ]
          },
          "metadata": {},
          "execution_count": 147
        }
      ],
      "source": [
        "test_pred = mix_model.predict([X_test_bert, X_test_lemma_OH, X_test_genRat])\n",
        "test_pred_OH = oneHot3D(test_pred)\n",
        "test_error_num, test_acc_num = checkAccuracy(test_pred_OH, y_test_inflection_OH)\n",
        "test_error_num, test_acc_num"
      ]
    },
    {
      "cell_type": "code",
      "execution_count": null,
      "metadata": {
        "id": "LEn_8FwpU60k"
      },
      "outputs": [],
      "source": [
        "test_errorAnalysis = reportErrorAnalysis(testData[0], testData[5], test_pred_OH, y_test_inflection_OH, mixModel1_path + \"/test_errorAnalysis.csv\")"
      ]
    },
    {
      "cell_type": "code",
      "execution_count": null,
      "metadata": {
        "id": "7UuTiZ52U60m",
        "colab": {
          "base_uri": "https://localhost:8080/"
        },
        "outputId": "bed5d7e0-b6d6-4fba-aff8-a685c8e286cf"
      },
      "outputs": [
        {
          "output_type": "stream",
          "name": "stdout",
          "text": [
            "(Broken error %, Sound error %):  (50.0, 50.0)\n"
          ]
        }
      ],
      "source": [
        "print('(Broken error %, Sound error %): ', reportPercentageOfBrokenSoundErrors(test_errorAnalysis))"
      ]
    },
    {
      "cell_type": "code",
      "execution_count": null,
      "metadata": {
        "id": "CitdRhOKU60p",
        "colab": {
          "base_uri": "https://localhost:8080/"
        },
        "outputId": "8ad5e1e6-00f5-4871-8562-ad652a5fabca"
      },
      "outputs": [
        {
          "output_type": "execute_result",
          "data": {
            "text/plain": [
              "(63, 0.938715953307393)"
            ]
          },
          "metadata": {},
          "execution_count": 150
        }
      ],
      "source": [
        "checkAccuracy_anyAcceptableInflectionInDataset(testData[0], test_pred_OH, dic_lemmaInflection)"
      ]
    },
    {
      "cell_type": "code",
      "execution_count": null,
      "metadata": {
        "id": "TpR-Yp-rU60q",
        "colab": {
          "base_uri": "https://localhost:8080/"
        },
        "outputId": "19ce3e96-0778-4fe7-a7c1-9fe9311e505e"
      },
      "outputs": [
        {
          "output_type": "stream",
          "name": "stdout",
          "text": [
            "Percentage of Unseen Errors with respect to Total Errors, Percentage of Unseen Errors with respect to Total Unseen Samples\n",
            "(97.5609756097561, 76.92307692307693)\n"
          ]
        }
      ],
      "source": [
        "# Report Percentage of Unseen Errors in Test set\n",
        "errorIndices_test = test_errorAnalysis['index'].tolist()\n",
        "unseenIndices_test = unseenLemInfIndices_test_df['index'].tolist()\n",
        "\n",
        "print('Percentage of Unseen Errors with respect to Total Errors, Percentage of Unseen Errors with respect to Total Unseen Samples')\n",
        "print(reportPercentageOfUnseenErrors(errorIndices_test, unseenIndices_test))"
      ]
    },
    {
      "cell_type": "markdown",
      "metadata": {
        "id": "s_lrUYcHGakD"
      },
      "source": [
        "## **Mix Model (2 Networks: Classification + Machine Translation)**\n",
        "with 2 outputs(inflection + BS)"
      ]
    },
    {
      "cell_type": "code",
      "execution_count": null,
      "metadata": {
        "id": "TsMLo7It11GR"
      },
      "outputs": [],
      "source": [
        "mixModel2_path = path + '/Machine Translation Models/Mix Model 2'"
      ]
    },
    {
      "cell_type": "code",
      "execution_count": null,
      "metadata": {
        "id": "sr7OxTgqGakD"
      },
      "outputs": [],
      "source": [
        "BSClassification_path = path + '/Classification Models'\n",
        "BSClassification_model_path = BSClassification_path + '/model 1/weights.hdf5'\n",
        "BSClassification_model_structure_path = BSClassification_path + \"/model 1/structure.h5\"\n",
        "\n",
        "BSC_model = load_model(BSClassification_model_path)\n",
        "BSC_model_struct = load_model(BSClassification_model_structure_path)\n",
        "\n",
        "BSC_model_struct.set_weights(BSC_model.get_weights())\n",
        "BSC_model_struct.trainable = False\n",
        "# print(BSC_model.layers[1].get_weights()[0][0])\n",
        "# print(BSC_model_struct.layers[1].get_weights()[0][0])"
      ]
    },
    {
      "cell_type": "code",
      "execution_count": null,
      "metadata": {
        "id": "GOmmQjYDGakE"
      },
      "outputs": [],
      "source": [
        "input_lemma = Input(shape=(lemma_length, encode_size), name='Lemma')\n",
        "input_genRat = Input(shape=(genRat_length, ), name='Gender-Rational')\n",
        "\n",
        "cls = BSC_model_struct([input_lemma, input_genRat])\n",
        "lstm1 = Bidirectional(LSTM(256, name='Lstm1'), name='Encoder')(input_lemma)\n",
        "\n",
        "c = Concatenate(axis=1, name='Concatenate')([lstm1, input_genRat, cls])\n",
        "\n",
        "d = Dense(200, activation='relu', name='Dense1')(c)\n",
        "r = RepeatVector(inflection_length, name='RepeatVector')(d)\n",
        "\n",
        "lstm2 = Bidirectional(LSTM(256, return_sequences=True, name='Lstm2'), name='Decoder')(r)\n",
        "output = TimeDistributed(Dense(encode_size, activation='softmax', name='Dense2'), name='Inflection')(lstm2)\n",
        "\n",
        "#mix_model = Model(inputs=[input_lemma, input_genRat], outputs=[output,cls])\n",
        "mix_model = Model(inputs=[input_lemma, input_genRat], outputs=[output,cls])\n",
        "\n",
        "checkpoint_filepath = mixModel2_path + '/weights.hdf5'\n",
        "checkpoint = ModelCheckpoint(filepath=checkpoint_filepath, monitor='val_Inflection_accuracy', mode='max', save_best_only=True, verbose=0)\n",
        "\n",
        "mix_model.compile(loss=\"binary_crossentropy\", optimizer=Adam(0.001), metrics=['accuracy'])"
      ]
    },
    {
      "cell_type": "code",
      "execution_count": null,
      "metadata": {
        "id": "iKPaRds2GakE"
      },
      "outputs": [],
      "source": [
        "mix_model.layers[3].layers[1].get_weights()[0][0]"
      ]
    },
    {
      "cell_type": "code",
      "execution_count": null,
      "metadata": {
        "id": "KwpAW-QpGakE"
      },
      "outputs": [],
      "source": [
        "with tf.device('/GPU:0'):\n",
        "  mix_model.fit([X_train_lemma_OH, X_train_genRat], [y_train_inflection_OH, y_train_class], batch_size=batch_size, epochs=epochs, callbacks=[checkpoint], validation_data=([X_dev_lemma_OH, X_dev_genRat], [y_dev_inflection_OH,y_dev_class]))  # starts training"
      ]
    },
    {
      "cell_type": "code",
      "execution_count": null,
      "metadata": {
        "id": "VO4Kj_1ZGakE"
      },
      "outputs": [],
      "source": [
        "mix_model = load_model(checkpoint_filepath)\n",
        "mix_model.evaluate([X_test_lemma_OH, X_test_genRat], [y_test_inflection_OH, y_test_class])"
      ]
    },
    {
      "cell_type": "code",
      "execution_count": null,
      "metadata": {
        "id": "L2bdLMV3FSts"
      },
      "outputs": [],
      "source": [
        "# evaluate new dataset\n",
        "#mix_model = load_model(checkpoint_filepath)\n",
        "mix_model.evaluate([X_train_lemma_new_OH, X_train_genRat_new], [y_test_inflection_OH, y_test_class])"
      ]
    },
    {
      "cell_type": "code",
      "execution_count": null,
      "metadata": {
        "id": "HTslpQJQGakE"
      },
      "outputs": [],
      "source": [
        "print(mix_model.summary())\n",
        "plot_model(mix_model, to_file=mixModel1_path+'/architecture.png', show_shapes=True, show_layer_names=True)"
      ]
    },
    {
      "cell_type": "markdown",
      "metadata": {
        "id": "ED9U383gGakE"
      },
      "source": [
        "### **Train analyze**"
      ]
    },
    {
      "cell_type": "code",
      "execution_count": null,
      "metadata": {
        "id": "f73zoNs4GakF"
      },
      "outputs": [],
      "source": [
        "train_pred,bs_pred = mix_model.predict([X_train_lemma_OH, X_train_genRat])\n",
        "train_pred_OH = oneHot3D(train_pred)\n",
        "train_error_num, train_acc_num = checkAccuracy(train_pred_OH, y_train_inflection_OH)\n",
        "train_error_num, train_acc_num"
      ]
    },
    {
      "cell_type": "code",
      "execution_count": null,
      "metadata": {
        "id": "28tmraM3GakF"
      },
      "outputs": [],
      "source": [
        "y_train_inflection_OH.shape"
      ]
    },
    {
      "cell_type": "code",
      "execution_count": null,
      "metadata": {
        "id": "Gphy8bpaGakF"
      },
      "outputs": [],
      "source": [
        "train_errorAnalysis = reportErrorAnalysis(trainData[0], trainData[5], train_pred_OH, y_train_inflection_OH, mixModel1_path + \"/train_errorAnalysis.csv\")\n",
        "train_errorAnalysis"
      ]
    },
    {
      "cell_type": "code",
      "execution_count": null,
      "metadata": {
        "id": "W4mXyqHAHeT2"
      },
      "outputs": [],
      "source": [
        "reportErrorAnalysis_inflectionWithBS(trainData[0], trainData[5],bs_pred, train_pred_OH, y_train_inflection_OH, mixModel1_path + \"/train_errorAnalysis_with_bs.csv\")"
      ]
    },
    {
      "cell_type": "code",
      "execution_count": null,
      "metadata": {
        "id": "NMPj_yGSGakF"
      },
      "outputs": [],
      "source": [
        "print('(Broken error %, Sound error %): ', reportPercentageOfBrokenSoundErrors(train_errorAnalysis))"
      ]
    },
    {
      "cell_type": "code",
      "execution_count": null,
      "metadata": {
        "id": "BhF3rJ8ZGakF"
      },
      "outputs": [],
      "source": [
        "checkAccuracy_anyAcceptableInflectionInDataset(trainData[0],train_pred_OH,dic_lemmaInflection)"
      ]
    },
    {
      "cell_type": "markdown",
      "metadata": {
        "id": "RHQ5EblGGakF"
      },
      "source": [
        "### **Dev analyze**"
      ]
    },
    {
      "cell_type": "code",
      "execution_count": null,
      "metadata": {
        "id": "ljzLZIbvGakF"
      },
      "outputs": [],
      "source": [
        "dev_pred,bs_pred = mix_model.predict([X_dev_lemma_OH, X_dev_genRat])\n",
        "dev_pred_OH = oneHot3D(dev_pred)\n",
        "dev_error_num, dev_acc_num = checkAccuracy(dev_pred_OH, y_dev_inflection_OH)\n",
        "dev_error_num, dev_acc_num"
      ]
    },
    {
      "cell_type": "code",
      "execution_count": null,
      "metadata": {
        "id": "NHXxon8XGakF"
      },
      "outputs": [],
      "source": [
        "dev_errorAnalysis = reportErrorAnalysis_inflectionWithBS(devData[0], devData[5],bs_pred, dev_pred_OH, y_dev_inflection_OH, mixModel1_path + \"/dev_errorAnalysis_with_bs.csv\")\n",
        "dev_errorAnalysis"
      ]
    },
    {
      "cell_type": "code",
      "execution_count": null,
      "metadata": {
        "id": "CDY9PrfHcuR3"
      },
      "outputs": [],
      "source": [
        "bstuple = [dev_errorAnalysis['b/s'], dev_errorAnalysis['b/s predict']]\n",
        "c = 0\n",
        "n = len(bstuple[0])\n",
        "for i in range(n):\n",
        "  if not bstuple[0][i] == bstuple[1][i]: c+=1\n",
        "\n",
        "c/n"
      ]
    },
    {
      "cell_type": "code",
      "execution_count": null,
      "metadata": {
        "id": "9lXonFHHGakG"
      },
      "outputs": [],
      "source": [
        "print('(Broken error %, Sound error %): ', reportPercentageOfBrokenSoundErrors(dev_errorAnalysis))"
      ]
    },
    {
      "cell_type": "code",
      "execution_count": null,
      "metadata": {
        "id": "ZDrX1fdMGakG"
      },
      "outputs": [],
      "source": [
        "checkAccuracy_anyAcceptableInflectionInDataset(devData[0], dev_pred_OH, dic_lemmaInflection)"
      ]
    },
    {
      "cell_type": "code",
      "execution_count": null,
      "metadata": {
        "id": "74SuAUc9GakG"
      },
      "outputs": [],
      "source": [
        "# Report Percentage of Unseen Errors in Dev set\n",
        "errorIndices_dev = dev_errorAnalysis['index'].tolist()\n",
        "unseenIndices_dev = unseenLemInfIndices_dev_df['index'].tolist()\n",
        "\n",
        "print('Percentage of Unseen Errors with respect to Total Errors, Percentage of Unseen Errors with respect to Total Unseen Samples')\n",
        "print(reportPercentageOfUnseenErrors(errorIndices_dev, unseenIndices_dev))"
      ]
    },
    {
      "cell_type": "markdown",
      "metadata": {
        "id": "sZl-0dRpGakG"
      },
      "source": [
        "### **Test analyze**"
      ]
    },
    {
      "cell_type": "code",
      "execution_count": null,
      "metadata": {
        "id": "_YQAHhxJGakG"
      },
      "outputs": [],
      "source": [
        "test_pred,bs_pred = mix_model.predict([X_test_lemma_OH, X_test_genRat])\n",
        "test_pred_OH = oneHot3D(test_pred)\n",
        "test_error_num, test_acc_num = checkAccuracy(test_pred_OH, y_test_inflection_OH)\n",
        "test_error_num, test_acc_num"
      ]
    },
    {
      "cell_type": "code",
      "execution_count": null,
      "metadata": {
        "id": "-4ejjMmuGakG"
      },
      "outputs": [],
      "source": [
        "test_errorAnalysis = reportErrorAnalysis_inflectionWithBS(testData[0], testData[5],bs_pred, test_pred_OH, y_test_inflection_OH, mixModel1_path + \"/test_errorAnalysis_with_bs.csv\")\n",
        "test_errorAnalysis"
      ]
    },
    {
      "cell_type": "code",
      "execution_count": null,
      "metadata": {
        "id": "U80Tr2o3hLFE"
      },
      "outputs": [],
      "source": [
        "bstuple = [test_errorAnalysis['b/s'], test_errorAnalysis['b/s predict']]\n",
        "c = 0\n",
        "n = len(bstuple[0])\n",
        "for i in range(n):\n",
        "  if not bstuple[0][i] == bstuple[1][i]: c+=1\n",
        "\n",
        "c/n"
      ]
    },
    {
      "cell_type": "code",
      "execution_count": null,
      "metadata": {
        "id": "Y1aOEbV_GakG"
      },
      "outputs": [],
      "source": [
        "print('(Broken error %, Sound error %): ', reportPercentageOfBrokenSoundErrors(test_errorAnalysis))"
      ]
    },
    {
      "cell_type": "code",
      "execution_count": null,
      "metadata": {
        "id": "upu85AtSGakH"
      },
      "outputs": [],
      "source": [
        "checkAccuracy_anyAcceptableInflectionInDataset(testData[0], test_pred_OH, dic_lemmaInflection)"
      ]
    },
    {
      "cell_type": "code",
      "execution_count": null,
      "metadata": {
        "id": "hcIeOUM9GakH"
      },
      "outputs": [],
      "source": [
        "# Report Percentage of Unseen Errors in Test set\n",
        "errorIndices_test = test_errorAnalysis['index'].tolist()\n",
        "unseenIndices_test = unseenLemInfIndices_test_df['index'].tolist()\n",
        "\n",
        "print('Percentage of Unseen Errors with respect to Total Errors, Percentage of Unseen Errors with respect to Total Unseen Samples')\n",
        "print(reportPercentageOfUnseenErrors(errorIndices_test, unseenIndices_test))"
      ]
    },
    {
      "cell_type": "code",
      "execution_count": null,
      "metadata": {
        "id": "7DfEWHAoCQsz"
      },
      "outputs": [],
      "source": []
    },
    {
      "cell_type": "markdown",
      "metadata": {
        "id": "LYsYhh9jIKb9"
      },
      "source": [
        "## **New Mix Model (2 Networks: Classification + Machine Translation)**\n",
        "with 2 outputs(inflection)"
      ]
    },
    {
      "cell_type": "code",
      "execution_count": null,
      "metadata": {
        "id": "Vow5vxE5IKcB"
      },
      "outputs": [],
      "source": [
        "mixModel3_path = path + '/Machine Translation Models/Mix Model 3'"
      ]
    },
    {
      "cell_type": "code",
      "execution_count": null,
      "metadata": {
        "colab": {
          "base_uri": "https://localhost:8080/"
        },
        "id": "OS63RzZuIKcF",
        "outputId": "23e3020f-333b-4b35-8fd1-745431a0d271"
      },
      "outputs": [
        {
          "output_type": "stream",
          "name": "stderr",
          "text": [
            "WARNING:tensorflow:No training configuration found in the save file, so the model was *not* compiled. Compile it manually.\n"
          ]
        }
      ],
      "source": [
        "BSClassification_path = path + '/Classification Models'\n",
        "BSClassification_model_path = BSClassification_path + '/model 1/weights.hdf5'\n",
        "BSClassification_model_structure_path = BSClassification_path + \"/model 1/structure.h5\"\n",
        "\n",
        "BSC_model = load_model(BSClassification_model_path)\n",
        "BSC_model_struct = load_model(BSClassification_model_structure_path)\n",
        "\n",
        "BSC_model_struct.set_weights(BSC_model.get_weights())\n",
        "BSC_model_struct.trainable = False\n",
        "# print(BSC_model.layers[1].get_weights()[0][0])\n",
        "# print(BSC_model_struct.layers[1].get_weights()[0][0])"
      ]
    },
    {
      "cell_type": "code",
      "execution_count": null,
      "metadata": {
        "id": "-FwTYKESIKcJ"
      },
      "outputs": [],
      "source": [
        "input_lemma = Input(shape=(lemma_length, encode_size), name='Lemma')\n",
        "input_genRat = Input(shape=(genRat_length, ), name='Gender-Rational')\n",
        "\n",
        "cls = BSC_model_struct([input_lemma, input_genRat])\n",
        "lstm1 = Bidirectional(LSTM(256, name='Lstm1'), name='Encoder')(input_lemma)\n",
        "\n",
        "c = Concatenate(axis=1, name='Concatenate')([lstm1, input_genRat, cls])\n",
        "c = Dropout(0.2)(c)\n",
        "d = Dense(200, activation='relu', name='Dense1')(c)\n",
        "d = Dropout(0.2)(c)\n",
        "r = RepeatVector(inflection_length, name='RepeatVector')(d)\n",
        "\n",
        "lstm2 = Bidirectional(LSTM(256, return_sequences=True, name='Lstm2'), name='Decoder')(r)\n",
        "output = TimeDistributed(Dense(encode_size, activation='softmax', name='Dense2'), name='Inflection')(lstm2)\n",
        "\n",
        "mix_model = Model(inputs=[input_lemma, input_genRat], outputs=output)\n",
        "\n",
        "checkpoint_filepath = mixModel3_path + '/weights.hdf5'\n",
        "checkpoint = ModelCheckpoint(filepath=checkpoint_filepath, monitor='val_accuracy', mode='max', save_best_only=True, verbose=0)\n",
        "\n",
        "mix_model.compile(loss=\"binary_crossentropy\", optimizer=Adam(0.001), metrics=['accuracy'])"
      ]
    },
    {
      "cell_type": "code",
      "execution_count": null,
      "metadata": {
        "id": "bkbFjq1FIKcY"
      },
      "outputs": [],
      "source": [
        "print(mix_model.summary())\n",
        "plot_model(mix_model, to_file=mixModel3_path + '/architecture.png', show_shapes=True, show_layer_names=True)"
      ]
    },
    {
      "cell_type": "markdown",
      "metadata": {
        "id": "p8OxlGTpl3Sw"
      },
      "source": [
        "### **Fit Model On Data**"
      ]
    },
    {
      "cell_type": "markdown",
      "metadata": {
        "id": "9tjmQhdrERFu"
      },
      "source": [
        "#### **Old Dataset**"
      ]
    },
    {
      "cell_type": "code",
      "execution_count": null,
      "metadata": {
        "id": "EsfcDk7qIKcR"
      },
      "outputs": [],
      "source": [
        "with tf.device('/GPU:0'):\n",
        "  mix_model.fit([X_train_lemma_OH, X_train_genRat], y_train_inflection_OH, batch_size=batch_size, epochs=epochs, callbacks=[checkpoint], validation_data=([X_dev_lemma_OH, X_dev_genRat], y_dev_inflection_OH))  # starts training"
      ]
    },
    {
      "cell_type": "code",
      "execution_count": null,
      "metadata": {
        "colab": {
          "base_uri": "https://localhost:8080/"
        },
        "id": "wOD8aZJAIKcT",
        "outputId": "e03ee1d4-3d24-4168-ca07-fbb6d85a99bb"
      },
      "outputs": [
        {
          "output_type": "stream",
          "name": "stderr",
          "text": [
            "WARNING:tensorflow:Error in loading the saved optimizer state. As a result, your model is starting with a freshly initialized optimizer.\n"
          ]
        },
        {
          "output_type": "stream",
          "name": "stdout",
          "text": [
            "78/78 [==============================] - 3s 8ms/step - loss: 2.0155e-04 - accuracy: 0.9994\n",
            "[0.00020155214588157833, 0.9994388222694397]\n",
            "34/34 [==============================] - 0s 8ms/step - loss: 0.0046 - accuracy: 0.9810\n",
            "[0.004611619748175144, 0.9809748530387878]\n",
            "33/33 [==============================] - 0s 7ms/step - loss: 0.0033 - accuracy: 0.9871\n",
            "[0.003321649506688118, 0.9870838522911072]\n"
          ]
        }
      ],
      "source": [
        "mix_model = load_model(checkpoint_filepath)\n",
        "print(mix_model.evaluate([X_train_lemma_OH, X_train_genRat], [y_train_inflection_OH]))\n",
        "print(mix_model.evaluate([X_dev_lemma_OH, X_dev_genRat], [y_dev_inflection_OH]))\n",
        "print(mix_model.evaluate([X_test_lemma_OH, X_test_genRat], [y_test_inflection_OH]))"
      ]
    },
    {
      "cell_type": "code",
      "source": [
        "#evaluate new data\n",
        "print(mix_model.evaluate([X_train_lemma_new_OH, X_train_genRat_new], [y_train_inflection_new_OH]))\n",
        "print(mix_model.evaluate([X_dev_lemma_new_OH, X_dev_genRat_new], [y_dev_inflection_new_OH]))\n",
        "print(mix_model.evaluate([X_test_lemma_new_OH, X_test_genRat_new], [y_test_inflection_new_OH]))"
      ],
      "metadata": {
        "colab": {
          "base_uri": "https://localhost:8080/"
        },
        "id": "kw9KSz8d0GRA",
        "outputId": "ef7e6e76-5953-46ee-ce6c-394d91001ff4"
      },
      "execution_count": null,
      "outputs": [
        {
          "output_type": "stream",
          "name": "stdout",
          "text": [
            "32/32 [==============================] - 4s 11ms/step - loss: 0.0035 - accuracy: 0.9861\n",
            "[0.0035231709480285645, 0.9860555529594421]\n",
            "11/11 [==============================] - 0s 12ms/step - loss: 0.0035 - accuracy: 0.9856\n",
            "[0.003471402684226632, 0.9855847358703613]\n",
            "19/19 [==============================] - 0s 12ms/step - loss: 0.0026 - accuracy: 0.9896\n",
            "[0.0025994323659688234, 0.9896296262741089]\n"
          ]
        }
      ]
    },
    {
      "cell_type": "markdown",
      "metadata": {
        "id": "9Ww3flacEkTR"
      },
      "source": [
        "#### **New Dataset**"
      ]
    },
    {
      "cell_type": "code",
      "execution_count": null,
      "metadata": {
        "id": "4KRmtdCvEqYG",
        "colab": {
          "base_uri": "https://localhost:8080/"
        },
        "outputId": "61f36b4d-4fda-4985-9a5a-c2f9f7079239"
      },
      "outputs": [
        {
          "output_type": "stream",
          "name": "stdout",
          "text": [
            "Epoch 1/100\n",
            "16/16 [==============================] - 17s 232ms/step - loss: 0.0617 - accuracy: 0.5138 - val_loss: 0.0444 - val_accuracy: 0.5784\n",
            "Epoch 2/100\n",
            "16/16 [==============================] - 1s 36ms/step - loss: 0.0440 - accuracy: 0.5792 - val_loss: 0.0407 - val_accuracy: 0.6106\n",
            "Epoch 3/100\n",
            "16/16 [==============================] - 0s 31ms/step - loss: 0.0411 - accuracy: 0.5958 - val_loss: 0.0384 - val_accuracy: 0.6223\n",
            "Epoch 4/100\n",
            "16/16 [==============================] - 0s 32ms/step - loss: 0.0395 - accuracy: 0.6034 - val_loss: 0.0372 - val_accuracy: 0.6320\n",
            "Epoch 5/100\n",
            "16/16 [==============================] - 0s 31ms/step - loss: 0.0384 - accuracy: 0.6094 - val_loss: 0.0363 - val_accuracy: 0.6341\n",
            "Epoch 6/100\n",
            "16/16 [==============================] - 1s 45ms/step - loss: 0.0376 - accuracy: 0.6182 - val_loss: 0.0357 - val_accuracy: 0.6454\n",
            "Epoch 7/100\n",
            "16/16 [==============================] - 1s 47ms/step - loss: 0.0369 - accuracy: 0.6283 - val_loss: 0.0357 - val_accuracy: 0.6650\n",
            "Epoch 8/100\n",
            "16/16 [==============================] - 1s 34ms/step - loss: 0.0367 - accuracy: 0.6307 - val_loss: 0.0352 - val_accuracy: 0.6568\n",
            "Epoch 9/100\n",
            "16/16 [==============================] - 1s 34ms/step - loss: 0.0359 - accuracy: 0.6367 - val_loss: 0.0341 - val_accuracy: 0.6566\n",
            "Epoch 10/100\n",
            "16/16 [==============================] - 1s 33ms/step - loss: 0.0349 - accuracy: 0.6441 - val_loss: 0.0339 - val_accuracy: 0.6565\n",
            "Epoch 11/100\n",
            "16/16 [==============================] - 1s 49ms/step - loss: 0.0342 - accuracy: 0.6522 - val_loss: 0.0324 - val_accuracy: 0.6731\n",
            "Epoch 12/100\n",
            "16/16 [==============================] - 0s 29ms/step - loss: 0.0337 - accuracy: 0.6489 - val_loss: 0.0336 - val_accuracy: 0.6547\n",
            "Epoch 13/100\n",
            "16/16 [==============================] - 1s 45ms/step - loss: 0.0332 - accuracy: 0.6509 - val_loss: 0.0314 - val_accuracy: 0.6746\n",
            "Epoch 14/100\n",
            "16/16 [==============================] - 0s 19ms/step - loss: 0.0319 - accuracy: 0.6615 - val_loss: 0.0306 - val_accuracy: 0.6689\n",
            "Epoch 15/100\n",
            "16/16 [==============================] - 0s 31ms/step - loss: 0.0309 - accuracy: 0.6695 - val_loss: 0.0301 - val_accuracy: 0.6825\n",
            "Epoch 16/100\n",
            "16/16 [==============================] - 0s 31ms/step - loss: 0.0304 - accuracy: 0.6717 - val_loss: 0.0292 - val_accuracy: 0.6830\n",
            "Epoch 17/100\n",
            "16/16 [==============================] - 0s 20ms/step - loss: 0.0296 - accuracy: 0.6778 - val_loss: 0.0288 - val_accuracy: 0.6778\n",
            "Epoch 18/100\n",
            "16/16 [==============================] - 1s 32ms/step - loss: 0.0292 - accuracy: 0.6742 - val_loss: 0.0283 - val_accuracy: 0.6856\n",
            "Epoch 19/100\n",
            "16/16 [==============================] - 0s 32ms/step - loss: 0.0286 - accuracy: 0.6848 - val_loss: 0.0276 - val_accuracy: 0.7013\n",
            "Epoch 20/100\n",
            "16/16 [==============================] - 1s 33ms/step - loss: 0.0280 - accuracy: 0.6875 - val_loss: 0.0272 - val_accuracy: 0.7026\n",
            "Epoch 21/100\n",
            "16/16 [==============================] - 0s 31ms/step - loss: 0.0272 - accuracy: 0.6990 - val_loss: 0.0269 - val_accuracy: 0.7075\n",
            "Epoch 22/100\n",
            "16/16 [==============================] - 0s 21ms/step - loss: 0.0271 - accuracy: 0.6971 - val_loss: 0.0267 - val_accuracy: 0.7031\n",
            "Epoch 23/100\n",
            "16/16 [==============================] - 0s 20ms/step - loss: 0.0268 - accuracy: 0.7000 - val_loss: 0.0266 - val_accuracy: 0.7049\n",
            "Epoch 24/100\n",
            "16/16 [==============================] - 0s 31ms/step - loss: 0.0262 - accuracy: 0.7083 - val_loss: 0.0258 - val_accuracy: 0.7190\n",
            "Epoch 25/100\n",
            "16/16 [==============================] - 0s 30ms/step - loss: 0.0254 - accuracy: 0.7202 - val_loss: 0.0257 - val_accuracy: 0.7214\n",
            "Epoch 26/100\n",
            "16/16 [==============================] - 0s 20ms/step - loss: 0.0252 - accuracy: 0.7172 - val_loss: 0.0255 - val_accuracy: 0.7191\n",
            "Epoch 27/100\n",
            "16/16 [==============================] - 0s 19ms/step - loss: 0.0257 - accuracy: 0.7113 - val_loss: 0.0258 - val_accuracy: 0.7119\n",
            "Epoch 28/100\n",
            "16/16 [==============================] - 0s 31ms/step - loss: 0.0243 - accuracy: 0.7339 - val_loss: 0.0251 - val_accuracy: 0.7285\n",
            "Epoch 29/100\n",
            "16/16 [==============================] - 0s 31ms/step - loss: 0.0239 - accuracy: 0.7391 - val_loss: 0.0243 - val_accuracy: 0.7366\n",
            "Epoch 30/100\n",
            "16/16 [==============================] - 0s 19ms/step - loss: 0.0234 - accuracy: 0.7401 - val_loss: 0.0262 - val_accuracy: 0.7044\n",
            "Epoch 31/100\n",
            "16/16 [==============================] - 0s 20ms/step - loss: 0.0243 - accuracy: 0.7289 - val_loss: 0.0247 - val_accuracy: 0.7276\n",
            "Epoch 32/100\n",
            "16/16 [==============================] - 0s 32ms/step - loss: 0.0227 - accuracy: 0.7498 - val_loss: 0.0236 - val_accuracy: 0.7481\n",
            "Epoch 33/100\n",
            "16/16 [==============================] - 1s 32ms/step - loss: 0.0220 - accuracy: 0.7609 - val_loss: 0.0234 - val_accuracy: 0.7556\n",
            "Epoch 34/100\n",
            "16/16 [==============================] - 0s 20ms/step - loss: 0.0218 - accuracy: 0.7619 - val_loss: 0.0243 - val_accuracy: 0.7425\n",
            "Epoch 35/100\n",
            "16/16 [==============================] - 0s 29ms/step - loss: 0.0217 - accuracy: 0.7645 - val_loss: 0.0228 - val_accuracy: 0.7629\n",
            "Epoch 36/100\n",
            "16/16 [==============================] - 1s 33ms/step - loss: 0.0206 - accuracy: 0.7802 - val_loss: 0.0224 - val_accuracy: 0.7640\n",
            "Epoch 37/100\n",
            "16/16 [==============================] - 1s 49ms/step - loss: 0.0203 - accuracy: 0.7833 - val_loss: 0.0220 - val_accuracy: 0.7702\n",
            "Epoch 38/100\n",
            "16/16 [==============================] - 1s 46ms/step - loss: 0.0198 - accuracy: 0.7907 - val_loss: 0.0220 - val_accuracy: 0.7715\n",
            "Epoch 39/100\n",
            "16/16 [==============================] - 1s 48ms/step - loss: 0.0196 - accuracy: 0.7936 - val_loss: 0.0217 - val_accuracy: 0.7794\n",
            "Epoch 40/100\n",
            "16/16 [==============================] - 1s 90ms/step - loss: 0.0197 - accuracy: 0.7893 - val_loss: 0.0212 - val_accuracy: 0.7841\n",
            "Epoch 41/100\n",
            "16/16 [==============================] - 1s 44ms/step - loss: 0.0187 - accuracy: 0.8028 - val_loss: 0.0210 - val_accuracy: 0.7854\n",
            "Epoch 42/100\n",
            "16/16 [==============================] - 1s 43ms/step - loss: 0.0181 - accuracy: 0.8134 - val_loss: 0.0208 - val_accuracy: 0.7875\n",
            "Epoch 43/100\n",
            "16/16 [==============================] - 0s 22ms/step - loss: 0.0179 - accuracy: 0.8164 - val_loss: 0.0211 - val_accuracy: 0.7779\n",
            "Epoch 44/100\n",
            "16/16 [==============================] - 0s 31ms/step - loss: 0.0178 - accuracy: 0.8153 - val_loss: 0.0203 - val_accuracy: 0.7945\n",
            "Epoch 45/100\n",
            "16/16 [==============================] - 0s 31ms/step - loss: 0.0171 - accuracy: 0.8255 - val_loss: 0.0198 - val_accuracy: 0.8016\n",
            "Epoch 46/100\n",
            "16/16 [==============================] - 0s 20ms/step - loss: 0.0163 - accuracy: 0.8351 - val_loss: 0.0197 - val_accuracy: 0.7995\n",
            "Epoch 47/100\n",
            "16/16 [==============================] - 1s 34ms/step - loss: 0.0155 - accuracy: 0.8439 - val_loss: 0.0193 - val_accuracy: 0.8069\n",
            "Epoch 48/100\n",
            "16/16 [==============================] - 0s 30ms/step - loss: 0.0153 - accuracy: 0.8475 - val_loss: 0.0186 - val_accuracy: 0.8171\n",
            "Epoch 49/100\n",
            "16/16 [==============================] - 1s 32ms/step - loss: 0.0145 - accuracy: 0.8576 - val_loss: 0.0183 - val_accuracy: 0.8181\n",
            "Epoch 50/100\n",
            "16/16 [==============================] - 0s 20ms/step - loss: 0.0139 - accuracy: 0.8647 - val_loss: 0.0182 - val_accuracy: 0.8173\n",
            "Epoch 51/100\n",
            "16/16 [==============================] - 0s 31ms/step - loss: 0.0138 - accuracy: 0.8630 - val_loss: 0.0183 - val_accuracy: 0.8210\n",
            "Epoch 52/100\n",
            "16/16 [==============================] - 0s 20ms/step - loss: 0.0141 - accuracy: 0.8615 - val_loss: 0.0181 - val_accuracy: 0.8175\n",
            "Epoch 53/100\n",
            "16/16 [==============================] - 0s 19ms/step - loss: 0.0151 - accuracy: 0.8439 - val_loss: 0.0190 - val_accuracy: 0.8081\n",
            "Epoch 54/100\n",
            "16/16 [==============================] - 0s 19ms/step - loss: 0.0144 - accuracy: 0.8557 - val_loss: 0.0185 - val_accuracy: 0.8102\n",
            "Epoch 55/100\n",
            "16/16 [==============================] - 0s 18ms/step - loss: 0.0139 - accuracy: 0.8572 - val_loss: 0.0182 - val_accuracy: 0.8137\n",
            "Epoch 56/100\n",
            "16/16 [==============================] - 0s 31ms/step - loss: 0.0124 - accuracy: 0.8830 - val_loss: 0.0177 - val_accuracy: 0.8254\n",
            "Epoch 57/100\n",
            "16/16 [==============================] - 0s 31ms/step - loss: 0.0116 - accuracy: 0.8906 - val_loss: 0.0172 - val_accuracy: 0.8283\n",
            "Epoch 58/100\n",
            "16/16 [==============================] - 0s 20ms/step - loss: 0.0115 - accuracy: 0.8910 - val_loss: 0.0176 - val_accuracy: 0.8231\n",
            "Epoch 59/100\n",
            "16/16 [==============================] - 0s 32ms/step - loss: 0.0112 - accuracy: 0.8943 - val_loss: 0.0170 - val_accuracy: 0.8306\n",
            "Epoch 60/100\n",
            "16/16 [==============================] - 0s 20ms/step - loss: 0.0110 - accuracy: 0.8954 - val_loss: 0.0173 - val_accuracy: 0.8294\n",
            "Epoch 61/100\n",
            "16/16 [==============================] - 0s 21ms/step - loss: 0.0105 - accuracy: 0.9022 - val_loss: 0.0168 - val_accuracy: 0.8294\n",
            "Epoch 62/100\n",
            "16/16 [==============================] - 0s 30ms/step - loss: 0.0100 - accuracy: 0.9083 - val_loss: 0.0171 - val_accuracy: 0.8328\n",
            "Epoch 63/100\n",
            "16/16 [==============================] - 1s 33ms/step - loss: 0.0098 - accuracy: 0.9089 - val_loss: 0.0168 - val_accuracy: 0.8343\n",
            "Epoch 64/100\n",
            "16/16 [==============================] - 0s 19ms/step - loss: 0.0099 - accuracy: 0.9078 - val_loss: 0.0171 - val_accuracy: 0.8312\n",
            "Epoch 65/100\n",
            "16/16 [==============================] - 0s 20ms/step - loss: 0.0103 - accuracy: 0.9026 - val_loss: 0.0173 - val_accuracy: 0.8252\n",
            "Epoch 66/100\n",
            "16/16 [==============================] - 0s 19ms/step - loss: 0.0099 - accuracy: 0.9084 - val_loss: 0.0172 - val_accuracy: 0.8320\n",
            "Epoch 67/100\n",
            "16/16 [==============================] - 0s 20ms/step - loss: 0.0094 - accuracy: 0.9124 - val_loss: 0.0170 - val_accuracy: 0.8328\n",
            "Epoch 68/100\n",
            "16/16 [==============================] - 1s 48ms/step - loss: 0.0087 - accuracy: 0.9213 - val_loss: 0.0164 - val_accuracy: 0.8409\n",
            "Epoch 69/100\n",
            "16/16 [==============================] - 0s 30ms/step - loss: 0.0081 - accuracy: 0.9280 - val_loss: 0.0173 - val_accuracy: 0.8346\n",
            "Epoch 70/100\n",
            "16/16 [==============================] - 0s 29ms/step - loss: 0.0080 - accuracy: 0.9300 - val_loss: 0.0167 - val_accuracy: 0.8398\n",
            "Epoch 71/100\n",
            "16/16 [==============================] - 1s 33ms/step - loss: 0.0077 - accuracy: 0.9314 - val_loss: 0.0170 - val_accuracy: 0.8388\n",
            "Epoch 72/100\n",
            "16/16 [==============================] - 1s 33ms/step - loss: 0.0078 - accuracy: 0.9312 - val_loss: 0.0171 - val_accuracy: 0.8392\n",
            "Epoch 73/100\n",
            "16/16 [==============================] - 1s 47ms/step - loss: 0.0076 - accuracy: 0.9328 - val_loss: 0.0168 - val_accuracy: 0.8419\n",
            "Epoch 74/100\n",
            "16/16 [==============================] - 0s 30ms/step - loss: 0.0074 - accuracy: 0.9345 - val_loss: 0.0174 - val_accuracy: 0.8380\n",
            "Epoch 75/100\n",
            "16/16 [==============================] - 1s 33ms/step - loss: 0.0075 - accuracy: 0.9327 - val_loss: 0.0169 - val_accuracy: 0.8413\n",
            "Epoch 76/100\n",
            "16/16 [==============================] - 1s 36ms/step - loss: 0.0069 - accuracy: 0.9422 - val_loss: 0.0172 - val_accuracy: 0.8435\n",
            "Epoch 77/100\n",
            "16/16 [==============================] - 0s 20ms/step - loss: 0.0065 - accuracy: 0.9461 - val_loss: 0.0173 - val_accuracy: 0.8418\n",
            "Epoch 78/100\n",
            "16/16 [==============================] - 0s 19ms/step - loss: 0.0068 - accuracy: 0.9427 - val_loss: 0.0192 - val_accuracy: 0.8252\n",
            "Epoch 79/100\n",
            "16/16 [==============================] - 0s 18ms/step - loss: 0.0079 - accuracy: 0.9293 - val_loss: 0.0178 - val_accuracy: 0.8395\n",
            "Epoch 80/100\n",
            "16/16 [==============================] - 0s 21ms/step - loss: 0.0074 - accuracy: 0.9312 - val_loss: 0.0173 - val_accuracy: 0.8435\n",
            "Epoch 81/100\n",
            "16/16 [==============================] - 0s 19ms/step - loss: 0.0067 - accuracy: 0.9420 - val_loss: 0.0177 - val_accuracy: 0.8387\n",
            "Epoch 82/100\n",
            "16/16 [==============================] - 0s 29ms/step - loss: 0.0067 - accuracy: 0.9406 - val_loss: 0.0172 - val_accuracy: 0.8465\n",
            "Epoch 83/100\n",
            "16/16 [==============================] - 0s 30ms/step - loss: 0.0058 - accuracy: 0.9526 - val_loss: 0.0171 - val_accuracy: 0.8471\n",
            "Epoch 84/100\n",
            "16/16 [==============================] - 0s 20ms/step - loss: 0.0055 - accuracy: 0.9566 - val_loss: 0.0176 - val_accuracy: 0.8442\n",
            "Epoch 85/100\n",
            "16/16 [==============================] - 0s 19ms/step - loss: 0.0053 - accuracy: 0.9576 - val_loss: 0.0181 - val_accuracy: 0.8429\n",
            "Epoch 86/100\n",
            "16/16 [==============================] - 1s 32ms/step - loss: 0.0056 - accuracy: 0.9534 - val_loss: 0.0176 - val_accuracy: 0.8497\n",
            "Epoch 87/100\n",
            "16/16 [==============================] - 0s 19ms/step - loss: 0.0051 - accuracy: 0.9582 - val_loss: 0.0179 - val_accuracy: 0.8474\n",
            "Epoch 88/100\n",
            "16/16 [==============================] - 0s 29ms/step - loss: 0.0051 - accuracy: 0.9588 - val_loss: 0.0176 - val_accuracy: 0.8505\n",
            "Epoch 89/100\n",
            "16/16 [==============================] - 0s 20ms/step - loss: 0.0048 - accuracy: 0.9622 - val_loss: 0.0178 - val_accuracy: 0.8465\n",
            "Epoch 90/100\n",
            "16/16 [==============================] - 0s 18ms/step - loss: 0.0048 - accuracy: 0.9632 - val_loss: 0.0176 - val_accuracy: 0.8505\n",
            "Epoch 91/100\n",
            "16/16 [==============================] - 0s 21ms/step - loss: 0.0045 - accuracy: 0.9655 - val_loss: 0.0183 - val_accuracy: 0.8416\n",
            "Epoch 92/100\n",
            "16/16 [==============================] - 0s 19ms/step - loss: 0.0048 - accuracy: 0.9622 - val_loss: 0.0180 - val_accuracy: 0.8490\n",
            "Epoch 93/100\n",
            "16/16 [==============================] - 0s 20ms/step - loss: 0.0054 - accuracy: 0.9534 - val_loss: 0.0202 - val_accuracy: 0.8222\n",
            "Epoch 94/100\n",
            "16/16 [==============================] - 0s 21ms/step - loss: 0.0055 - accuracy: 0.9522 - val_loss: 0.0187 - val_accuracy: 0.8375\n",
            "Epoch 95/100\n",
            "16/16 [==============================] - 0s 19ms/step - loss: 0.0049 - accuracy: 0.9586 - val_loss: 0.0181 - val_accuracy: 0.8476\n",
            "Epoch 96/100\n",
            "16/16 [==============================] - 0s 20ms/step - loss: 0.0043 - accuracy: 0.9664 - val_loss: 0.0185 - val_accuracy: 0.8476\n",
            "Epoch 97/100\n",
            "16/16 [==============================] - 0s 21ms/step - loss: 0.0040 - accuracy: 0.9711 - val_loss: 0.0182 - val_accuracy: 0.8463\n",
            "Epoch 98/100\n",
            "16/16 [==============================] - 0s 21ms/step - loss: 0.0040 - accuracy: 0.9718 - val_loss: 0.0182 - val_accuracy: 0.8471\n",
            "Epoch 99/100\n",
            "16/16 [==============================] - 0s 20ms/step - loss: 0.0039 - accuracy: 0.9703 - val_loss: 0.0185 - val_accuracy: 0.8474\n",
            "Epoch 100/100\n",
            "16/16 [==============================] - 0s 20ms/step - loss: 0.0039 - accuracy: 0.9718 - val_loss: 0.0185 - val_accuracy: 0.8469\n"
          ]
        }
      ],
      "source": [
        "with tf.device('/GPU:0'):\n",
        "  mix_model.fit([X_train_lemma_new_OH, X_train_genRat_new], y_train_inflection_new_OH, batch_size=batch_size, epochs=100, callbacks=[checkpoint], validation_data=([X_dev_lemma_new_OH, X_dev_genRat_new], y_dev_inflection_new_OH))  # starts training"
      ]
    },
    {
      "cell_type": "code",
      "source": [
        "# evaluate new dataset\n",
        "mix_model = load_model(checkpoint_filepath)\n",
        "print(mix_model.evaluate([X_train_lemma_new_OH, X_train_genRat_new], [y_train_inflection_new_OH]))\n",
        "print(mix_model.evaluate([X_dev_lemma_new_OH, X_dev_genRat_new], [y_dev_inflection_new_OH]))\n",
        "print(mix_model.evaluate([X_test_lemma_new_OH, X_test_genRat_new], [y_test_inflection_new_OH]))"
      ],
      "metadata": {
        "id": "1-RhD3Q_AFnQ",
        "colab": {
          "base_uri": "https://localhost:8080/"
        },
        "outputId": "1fd72fe3-aa69-49fc-85c9-89baabcbacd2"
      },
      "execution_count": null,
      "outputs": [
        {
          "output_type": "stream",
          "name": "stderr",
          "text": [
            "WARNING:tensorflow:Error in loading the saved optimizer state. As a result, your model is starting with a freshly initialized optimizer.\n"
          ]
        },
        {
          "output_type": "stream",
          "name": "stdout",
          "text": [
            "32/32 [==============================] - 3s 10ms/step - loss: 0.0034 - accuracy: 0.9794\n",
            "[0.0033800562378019094, 0.9794444441795349]\n",
            "11/11 [==============================] - 0s 9ms/step - loss: 0.0176 - accuracy: 0.8505\n",
            "[0.017608053982257843, 0.8505021333694458]\n",
            "19/19 [==============================] - 0s 8ms/step - loss: 0.0181 - accuracy: 0.8420\n",
            "[0.01806539297103882, 0.8420370221138]\n"
          ]
        }
      ]
    },
    {
      "cell_type": "code",
      "source": [
        "# evaluate old dataset\n",
        "print(mix_model.evaluate([X_train_lemma_OH, X_train_genRat], [y_train_inflection_OH]))\n",
        "print(mix_model.evaluate([X_dev_lemma_OH, X_dev_genRat], [y_dev_inflection_OH]))\n",
        "print(mix_model.evaluate([X_test_lemma_OH, X_test_genRat], [y_test_inflection_OH]))"
      ],
      "metadata": {
        "id": "OrUNqOGfALIi"
      },
      "execution_count": null,
      "outputs": []
    },
    {
      "cell_type": "markdown",
      "metadata": {
        "id": "ehuHuIxJ_G0f"
      },
      "source": [
        "#### **Combined Dataset**"
      ]
    },
    {
      "cell_type": "code",
      "execution_count": null,
      "metadata": {
        "colab": {
          "base_uri": "https://localhost:8080/"
        },
        "outputId": "aaf10491-d4f8-4aa1-a066-50cf8ac01eaf",
        "id": "x3ZLc9mk_G0f"
      },
      "outputs": [
        {
          "output_type": "stream",
          "name": "stdout",
          "text": [
            "Epoch 1/100\n",
            "55/55 [==============================] - 13s 93ms/step - loss: 0.0238 - accuracy: 0.7856 - val_loss: 0.0135 - val_accuracy: 0.8660\n",
            "Epoch 2/100\n",
            "55/55 [==============================] - 1s 19ms/step - loss: 0.0108 - accuracy: 0.8927 - val_loss: 0.0097 - val_accuracy: 0.9114\n",
            "Epoch 3/100\n",
            "55/55 [==============================] - 1s 22ms/step - loss: 0.0075 - accuracy: 0.9298 - val_loss: 0.0077 - val_accuracy: 0.9329\n",
            "Epoch 4/100\n",
            "55/55 [==============================] - 1s 18ms/step - loss: 0.0064 - accuracy: 0.9419 - val_loss: 0.0063 - val_accuracy: 0.9503\n",
            "Epoch 5/100\n",
            "55/55 [==============================] - 1s 19ms/step - loss: 0.0046 - accuracy: 0.9598 - val_loss: 0.0060 - val_accuracy: 0.9509\n",
            "Epoch 6/100\n",
            "55/55 [==============================] - 1s 21ms/step - loss: 0.0038 - accuracy: 0.9681 - val_loss: 0.0053 - val_accuracy: 0.9619\n",
            "Epoch 7/100\n",
            "55/55 [==============================] - 1s 24ms/step - loss: 0.0032 - accuracy: 0.9746 - val_loss: 0.0046 - val_accuracy: 0.9688\n",
            "Epoch 8/100\n",
            "55/55 [==============================] - 1s 27ms/step - loss: 0.0020 - accuracy: 0.9855 - val_loss: 0.0040 - val_accuracy: 0.9746\n",
            "Epoch 9/100\n",
            "55/55 [==============================] - 2s 31ms/step - loss: 0.0014 - accuracy: 0.9911 - val_loss: 0.0038 - val_accuracy: 0.9780\n",
            "Epoch 10/100\n",
            "55/55 [==============================] - 2s 35ms/step - loss: 0.0016 - accuracy: 0.9885 - val_loss: 0.0047 - val_accuracy: 0.9694\n",
            "Epoch 11/100\n",
            "55/55 [==============================] - 2s 28ms/step - loss: 0.0022 - accuracy: 0.9824 - val_loss: 0.0038 - val_accuracy: 0.9780\n",
            "Epoch 12/100\n",
            "55/55 [==============================] - 2s 28ms/step - loss: 0.0015 - accuracy: 0.9897 - val_loss: 0.0038 - val_accuracy: 0.9791\n",
            "Epoch 13/100\n",
            "55/55 [==============================] - 1s 21ms/step - loss: 7.1952e-04 - accuracy: 0.9963 - val_loss: 0.0034 - val_accuracy: 0.9817\n",
            "Epoch 14/100\n",
            "55/55 [==============================] - 1s 24ms/step - loss: 5.0056e-04 - accuracy: 0.9978 - val_loss: 0.0034 - val_accuracy: 0.9826\n",
            "Epoch 15/100\n",
            "55/55 [==============================] - 1s 23ms/step - loss: 3.6700e-04 - accuracy: 0.9986 - val_loss: 0.0034 - val_accuracy: 0.9829\n",
            "Epoch 16/100\n",
            "55/55 [==============================] - 1s 19ms/step - loss: 2.9567e-04 - accuracy: 0.9989 - val_loss: 0.0034 - val_accuracy: 0.9828\n",
            "Epoch 17/100\n",
            "55/55 [==============================] - 1s 22ms/step - loss: 3.5210e-04 - accuracy: 0.9984 - val_loss: 0.0034 - val_accuracy: 0.9834\n",
            "Epoch 18/100\n",
            "55/55 [==============================] - 1s 18ms/step - loss: 8.7307e-04 - accuracy: 0.9943 - val_loss: 0.0036 - val_accuracy: 0.9813\n",
            "Epoch 19/100\n",
            "55/55 [==============================] - 1s 22ms/step - loss: 6.6738e-04 - accuracy: 0.9964 - val_loss: 0.0036 - val_accuracy: 0.9810\n",
            "Epoch 20/100\n",
            "55/55 [==============================] - 1s 19ms/step - loss: 4.8379e-04 - accuracy: 0.9975 - val_loss: 0.0037 - val_accuracy: 0.9817\n",
            "Epoch 21/100\n",
            "55/55 [==============================] - 1s 25ms/step - loss: 0.0010 - accuracy: 0.9928 - val_loss: 0.0043 - val_accuracy: 0.9762\n",
            "Epoch 22/100\n",
            "55/55 [==============================] - 2s 29ms/step - loss: 0.0015 - accuracy: 0.9890 - val_loss: 0.0046 - val_accuracy: 0.9717\n",
            "Epoch 23/100\n",
            "55/55 [==============================] - 2s 29ms/step - loss: 0.0016 - accuracy: 0.9879 - val_loss: 0.0045 - val_accuracy: 0.9745\n",
            "Epoch 24/100\n",
            "55/55 [==============================] - 2s 27ms/step - loss: 9.1292e-04 - accuracy: 0.9943 - val_loss: 0.0041 - val_accuracy: 0.9785\n",
            "Epoch 25/100\n",
            "55/55 [==============================] - 1s 22ms/step - loss: 8.0514e-04 - accuracy: 0.9949 - val_loss: 0.0040 - val_accuracy: 0.9797\n",
            "Epoch 26/100\n",
            "55/55 [==============================] - 1s 21ms/step - loss: 9.4655e-04 - accuracy: 0.9935 - val_loss: 0.0039 - val_accuracy: 0.9803\n",
            "Epoch 27/100\n",
            "55/55 [==============================] - 1s 19ms/step - loss: 7.7480e-04 - accuracy: 0.9955 - val_loss: 0.0036 - val_accuracy: 0.9830\n",
            "Epoch 28/100\n",
            "55/55 [==============================] - 2s 29ms/step - loss: 2.4352e-04 - accuracy: 0.9990 - val_loss: 0.0035 - val_accuracy: 0.9842\n",
            "Epoch 29/100\n",
            "55/55 [==============================] - 1s 19ms/step - loss: 1.4355e-04 - accuracy: 0.9996 - val_loss: 0.0036 - val_accuracy: 0.9838\n",
            "Epoch 30/100\n",
            "55/55 [==============================] - 1s 25ms/step - loss: 1.1502e-04 - accuracy: 0.9996 - val_loss: 0.0036 - val_accuracy: 0.9842\n",
            "Epoch 31/100\n",
            "55/55 [==============================] - 1s 21ms/step - loss: 9.9395e-05 - accuracy: 0.9997 - val_loss: 0.0036 - val_accuracy: 0.9841\n",
            "Epoch 32/100\n",
            "55/55 [==============================] - 1s 26ms/step - loss: 8.9162e-05 - accuracy: 0.9997 - val_loss: 0.0037 - val_accuracy: 0.9843\n",
            "Epoch 33/100\n",
            "55/55 [==============================] - 2s 30ms/step - loss: 8.6094e-05 - accuracy: 0.9998 - val_loss: 0.0037 - val_accuracy: 0.9842\n",
            "Epoch 34/100\n",
            "55/55 [==============================] - 2s 28ms/step - loss: 8.4100e-05 - accuracy: 0.9997 - val_loss: 0.0037 - val_accuracy: 0.9838\n",
            "Epoch 35/100\n",
            "55/55 [==============================] - 1s 27ms/step - loss: 1.3700e-04 - accuracy: 0.9993 - val_loss: 0.0039 - val_accuracy: 0.9825\n",
            "Epoch 36/100\n",
            "55/55 [==============================] - 1s 21ms/step - loss: 3.1375e-04 - accuracy: 0.9982 - val_loss: 0.0041 - val_accuracy: 0.9816\n",
            "Epoch 37/100\n",
            "55/55 [==============================] - 1s 22ms/step - loss: 2.1968e-04 - accuracy: 0.9988 - val_loss: 0.0040 - val_accuracy: 0.9814\n",
            "Epoch 38/100\n",
            "55/55 [==============================] - 1s 19ms/step - loss: 2.1761e-04 - accuracy: 0.9988 - val_loss: 0.0038 - val_accuracy: 0.9830\n",
            "Epoch 39/100\n",
            "55/55 [==============================] - 1s 22ms/step - loss: 1.9102e-04 - accuracy: 0.9991 - val_loss: 0.0038 - val_accuracy: 0.9843\n",
            "Epoch 40/100\n",
            "55/55 [==============================] - 1s 18ms/step - loss: 0.0012 - accuracy: 0.9909 - val_loss: 0.0043 - val_accuracy: 0.9785\n",
            "Epoch 41/100\n",
            "55/55 [==============================] - 1s 21ms/step - loss: 0.0018 - accuracy: 0.9854 - val_loss: 0.0059 - val_accuracy: 0.9619\n",
            "Epoch 42/100\n",
            "55/55 [==============================] - 1s 18ms/step - loss: 0.0022 - accuracy: 0.9814 - val_loss: 0.0044 - val_accuracy: 0.9746\n",
            "Epoch 43/100\n",
            "55/55 [==============================] - 1s 19ms/step - loss: 0.0012 - accuracy: 0.9907 - val_loss: 0.0039 - val_accuracy: 0.9818\n",
            "Epoch 44/100\n",
            "55/55 [==============================] - 1s 26ms/step - loss: 5.2161e-04 - accuracy: 0.9968 - val_loss: 0.0038 - val_accuracy: 0.9829\n",
            "Epoch 45/100\n",
            "55/55 [==============================] - 2s 31ms/step - loss: 2.0358e-04 - accuracy: 0.9990 - val_loss: 0.0037 - val_accuracy: 0.9837\n",
            "Epoch 46/100\n",
            "55/55 [==============================] - 2s 39ms/step - loss: 9.8186e-05 - accuracy: 0.9997 - val_loss: 0.0037 - val_accuracy: 0.9844\n",
            "Epoch 47/100\n",
            "55/55 [==============================] - 1s 19ms/step - loss: 7.4602e-05 - accuracy: 0.9998 - val_loss: 0.0037 - val_accuracy: 0.9842\n",
            "Epoch 48/100\n",
            "55/55 [==============================] - 1s 19ms/step - loss: 7.2476e-05 - accuracy: 0.9998 - val_loss: 0.0037 - val_accuracy: 0.9842\n",
            "Epoch 49/100\n",
            "55/55 [==============================] - 1s 19ms/step - loss: 7.4168e-05 - accuracy: 0.9997 - val_loss: 0.0038 - val_accuracy: 0.9844\n",
            "Epoch 50/100\n",
            "55/55 [==============================] - 1s 19ms/step - loss: 5.8351e-05 - accuracy: 0.9998 - val_loss: 0.0038 - val_accuracy: 0.9840\n",
            "Epoch 51/100\n",
            "55/55 [==============================] - 1s 19ms/step - loss: 5.0079e-05 - accuracy: 0.9998 - val_loss: 0.0038 - val_accuracy: 0.9844\n",
            "Epoch 52/100\n",
            "55/55 [==============================] - 1s 22ms/step - loss: 4.5786e-05 - accuracy: 0.9999 - val_loss: 0.0038 - val_accuracy: 0.9842\n",
            "Epoch 53/100\n",
            "55/55 [==============================] - 1s 19ms/step - loss: 4.5727e-05 - accuracy: 0.9998 - val_loss: 0.0039 - val_accuracy: 0.9841\n",
            "Epoch 54/100\n",
            "55/55 [==============================] - 1s 23ms/step - loss: 3.8829e-05 - accuracy: 0.9999 - val_loss: 0.0039 - val_accuracy: 0.9842\n",
            "Epoch 55/100\n",
            "55/55 [==============================] - 1s 22ms/step - loss: 3.9027e-05 - accuracy: 0.9998 - val_loss: 0.0039 - val_accuracy: 0.9844\n",
            "Epoch 56/100\n",
            "55/55 [==============================] - 2s 29ms/step - loss: 3.4203e-05 - accuracy: 0.9999 - val_loss: 0.0039 - val_accuracy: 0.9844\n",
            "Epoch 57/100\n",
            "55/55 [==============================] - 2s 39ms/step - loss: 3.5979e-05 - accuracy: 0.9998 - val_loss: 0.0039 - val_accuracy: 0.9845\n",
            "Epoch 58/100\n",
            "55/55 [==============================] - 1s 22ms/step - loss: 3.2186e-05 - accuracy: 0.9999 - val_loss: 0.0040 - val_accuracy: 0.9843\n",
            "Epoch 59/100\n",
            "55/55 [==============================] - 1s 22ms/step - loss: 3.1010e-05 - accuracy: 0.9999 - val_loss: 0.0039 - val_accuracy: 0.9846\n",
            "Epoch 60/100\n",
            "55/55 [==============================] - 1s 25ms/step - loss: 3.6283e-05 - accuracy: 0.9999 - val_loss: 0.0040 - val_accuracy: 0.9846\n",
            "Epoch 61/100\n",
            "55/55 [==============================] - 1s 23ms/step - loss: 3.1859e-05 - accuracy: 0.9999 - val_loss: 0.0039 - val_accuracy: 0.9847\n",
            "Epoch 62/100\n",
            "55/55 [==============================] - 1s 20ms/step - loss: 3.8731e-05 - accuracy: 0.9998 - val_loss: 0.0040 - val_accuracy: 0.9842\n",
            "Epoch 63/100\n",
            "55/55 [==============================] - 1s 19ms/step - loss: 3.2330e-05 - accuracy: 0.9999 - val_loss: 0.0040 - val_accuracy: 0.9846\n",
            "Epoch 64/100\n",
            "55/55 [==============================] - 1s 22ms/step - loss: 5.2048e-05 - accuracy: 0.9998 - val_loss: 0.0040 - val_accuracy: 0.9843\n",
            "Epoch 65/100\n",
            "55/55 [==============================] - 1s 22ms/step - loss: 1.9649e-04 - accuracy: 0.9986 - val_loss: 0.0043 - val_accuracy: 0.9819\n",
            "Epoch 66/100\n",
            "55/55 [==============================] - 1s 22ms/step - loss: 0.0022 - accuracy: 0.9825 - val_loss: 0.0081 - val_accuracy: 0.9443\n",
            "Epoch 67/100\n",
            "55/55 [==============================] - 2s 30ms/step - loss: 0.0048 - accuracy: 0.9584 - val_loss: 0.0057 - val_accuracy: 0.9616\n",
            "Epoch 68/100\n",
            "55/55 [==============================] - 2s 30ms/step - loss: 0.0016 - accuracy: 0.9869 - val_loss: 0.0040 - val_accuracy: 0.9796\n",
            "Epoch 69/100\n",
            "55/55 [==============================] - 2s 30ms/step - loss: 7.9950e-04 - accuracy: 0.9945 - val_loss: 0.0043 - val_accuracy: 0.9749\n",
            "Epoch 70/100\n",
            "55/55 [==============================] - 1s 21ms/step - loss: 8.4884e-04 - accuracy: 0.9937 - val_loss: 0.0041 - val_accuracy: 0.9796\n",
            "Epoch 71/100\n",
            "55/55 [==============================] - 1s 19ms/step - loss: 6.2923e-04 - accuracy: 0.9957 - val_loss: 0.0038 - val_accuracy: 0.9829\n",
            "Epoch 72/100\n",
            "55/55 [==============================] - 1s 21ms/step - loss: 2.1058e-04 - accuracy: 0.9990 - val_loss: 0.0038 - val_accuracy: 0.9832\n",
            "Epoch 73/100\n",
            "55/55 [==============================] - 1s 18ms/step - loss: 8.5783e-05 - accuracy: 0.9998 - val_loss: 0.0038 - val_accuracy: 0.9839\n",
            "Epoch 74/100\n",
            "55/55 [==============================] - 1s 19ms/step - loss: 5.6431e-05 - accuracy: 0.9998 - val_loss: 0.0039 - val_accuracy: 0.9841\n",
            "Epoch 75/100\n",
            "55/55 [==============================] - 1s 19ms/step - loss: 4.5583e-05 - accuracy: 0.9999 - val_loss: 0.0040 - val_accuracy: 0.9840\n",
            "Epoch 76/100\n",
            "55/55 [==============================] - 1s 19ms/step - loss: 4.0427e-05 - accuracy: 0.9999 - val_loss: 0.0039 - val_accuracy: 0.9841\n",
            "Epoch 77/100\n",
            "55/55 [==============================] - 1s 22ms/step - loss: 3.7938e-05 - accuracy: 0.9999 - val_loss: 0.0040 - val_accuracy: 0.9840\n",
            "Epoch 78/100\n",
            "55/55 [==============================] - 1s 20ms/step - loss: 3.3723e-05 - accuracy: 0.9999 - val_loss: 0.0040 - val_accuracy: 0.9842\n",
            "Epoch 79/100\n",
            "55/55 [==============================] - 2s 29ms/step - loss: 3.2611e-05 - accuracy: 0.9999 - val_loss: 0.0040 - val_accuracy: 0.9844\n",
            "Epoch 80/100\n",
            "55/55 [==============================] - 2s 29ms/step - loss: 3.2599e-05 - accuracy: 0.9999 - val_loss: 0.0040 - val_accuracy: 0.9840\n",
            "Epoch 81/100\n",
            "55/55 [==============================] - 1s 27ms/step - loss: 3.3943e-05 - accuracy: 0.9999 - val_loss: 0.0040 - val_accuracy: 0.9845\n",
            "Epoch 82/100\n",
            "55/55 [==============================] - 1s 19ms/step - loss: 3.6192e-05 - accuracy: 0.9997 - val_loss: 0.0041 - val_accuracy: 0.9842\n",
            "Epoch 83/100\n",
            "55/55 [==============================] - 1s 19ms/step - loss: 3.7585e-05 - accuracy: 0.9999 - val_loss: 0.0041 - val_accuracy: 0.9843\n",
            "Epoch 84/100\n",
            "55/55 [==============================] - 1s 22ms/step - loss: 3.5125e-05 - accuracy: 0.9998 - val_loss: 0.0041 - val_accuracy: 0.9842\n",
            "Epoch 85/100\n",
            "55/55 [==============================] - 1s 19ms/step - loss: 3.4609e-05 - accuracy: 0.9999 - val_loss: 0.0041 - val_accuracy: 0.9842\n",
            "Epoch 86/100\n",
            "55/55 [==============================] - 1s 19ms/step - loss: 4.1482e-05 - accuracy: 0.9998 - val_loss: 0.0041 - val_accuracy: 0.9842\n",
            "Epoch 87/100\n",
            "55/55 [==============================] - 1s 19ms/step - loss: 5.3998e-05 - accuracy: 0.9996 - val_loss: 0.0041 - val_accuracy: 0.9838\n",
            "Epoch 88/100\n",
            "55/55 [==============================] - 1s 19ms/step - loss: 4.7193e-04 - accuracy: 0.9966 - val_loss: 0.0055 - val_accuracy: 0.9707\n",
            "Epoch 89/100\n",
            "55/55 [==============================] - 1s 19ms/step - loss: 0.0015 - accuracy: 0.9882 - val_loss: 0.0052 - val_accuracy: 0.9701\n",
            "Epoch 90/100\n",
            "55/55 [==============================] - 1s 19ms/step - loss: 0.0018 - accuracy: 0.9853 - val_loss: 0.0045 - val_accuracy: 0.9760\n",
            "Epoch 91/100\n",
            "55/55 [==============================] - 1s 27ms/step - loss: 0.0010 - accuracy: 0.9924 - val_loss: 0.0042 - val_accuracy: 0.9792\n",
            "Epoch 92/100\n",
            "55/55 [==============================] - 2s 29ms/step - loss: 8.9887e-04 - accuracy: 0.9936 - val_loss: 0.0042 - val_accuracy: 0.9805\n",
            "Epoch 93/100\n",
            "55/55 [==============================] - 2s 31ms/step - loss: 4.1198e-04 - accuracy: 0.9975 - val_loss: 0.0038 - val_accuracy: 0.9837\n",
            "Epoch 94/100\n",
            "55/55 [==============================] - 1s 20ms/step - loss: 1.8829e-04 - accuracy: 0.9991 - val_loss: 0.0038 - val_accuracy: 0.9840\n",
            "Epoch 95/100\n",
            "55/55 [==============================] - 1s 19ms/step - loss: 9.0655e-05 - accuracy: 0.9997 - val_loss: 0.0039 - val_accuracy: 0.9842\n",
            "Epoch 96/100\n",
            "55/55 [==============================] - 1s 22ms/step - loss: 5.0998e-05 - accuracy: 0.9998 - val_loss: 0.0040 - val_accuracy: 0.9843\n",
            "Epoch 97/100\n",
            "55/55 [==============================] - 1s 19ms/step - loss: 4.5525e-05 - accuracy: 0.9999 - val_loss: 0.0040 - val_accuracy: 0.9844\n",
            "Epoch 98/100\n",
            "55/55 [==============================] - 1s 22ms/step - loss: 3.7938e-05 - accuracy: 0.9999 - val_loss: 0.0040 - val_accuracy: 0.9844\n",
            "Epoch 99/100\n",
            "55/55 [==============================] - 1s 22ms/step - loss: 3.6067e-05 - accuracy: 0.9999 - val_loss: 0.0040 - val_accuracy: 0.9846\n",
            "Epoch 100/100\n",
            "55/55 [==============================] - 1s 19ms/step - loss: 3.0455e-05 - accuracy: 0.9999 - val_loss: 0.0041 - val_accuracy: 0.9844\n"
          ]
        }
      ],
      "source": [
        "with tf.device('/GPU:0'):\n",
        "  mix_model.fit([X_train_lemma_comb_OH, X_train_genRat_comb], y_train_inflection_comb_OH, batch_size=batch_size, epochs=100, callbacks=[checkpoint], validation_data=([X_dev_lemma_comb_OH, X_dev_genRat_comb], y_dev_inflection_comb_OH))  # starts training"
      ]
    },
    {
      "cell_type": "code",
      "execution_count": null,
      "metadata": {
        "colab": {
          "base_uri": "https://localhost:8080/"
        },
        "outputId": "026ba569-2f34-4223-9ad3-f63eb9b9e229",
        "id": "Jwiymdz-_G0f"
      },
      "outputs": [
        {
          "output_type": "stream",
          "name": "stdout",
          "text": [
            "32/32 [==============================] - 3s 11ms/step - loss: 5.3462e-05 - accuracy: 0.9996\n",
            "[5.346232865122147e-05, 0.9996111392974854]\n",
            "11/11 [==============================] - 0s 13ms/step - loss: 9.5850e-04 - accuracy: 0.9942\n",
            "[0.0009584979270584881, 0.9941691160202026]\n",
            "19/19 [==============================] - 0s 11ms/step - loss: 6.7918e-04 - accuracy: 0.9967\n",
            "[0.0006791818886995316, 0.996666669845581]\n"
          ]
        }
      ],
      "source": [
        "# evaluate new dataset\n",
        "mix_model = load_model(checkpoint_filepath)\n",
        "print(mix_model.evaluate([X_train_lemma_new_OH, X_train_genRat_new], [y_train_inflection_new_OH]))\n",
        "print(mix_model.evaluate([X_dev_lemma_new_OH, X_dev_genRat_new], [y_dev_inflection_new_OH]))\n",
        "print(mix_model.evaluate([X_test_lemma_new_OH, X_test_genRat_new], [y_test_inflection_new_OH]))"
      ]
    },
    {
      "cell_type": "code",
      "source": [
        "# evaluate old dataset\n",
        "print(mix_model.evaluate([X_train_lemma_OH, X_train_genRat], [y_train_inflection_OH]))\n",
        "print(mix_model.evaluate([X_dev_lemma_OH, X_dev_genRat], [y_dev_inflection_OH]))\n",
        "print(mix_model.evaluate([X_test_lemma_OH, X_test_genRat], [y_test_inflection_OH]))"
      ],
      "metadata": {
        "colab": {
          "base_uri": "https://localhost:8080/"
        },
        "outputId": "3aa9fbfc-5350-43a7-842d-26874d08c153",
        "id": "QDg-neCo_G0f"
      },
      "execution_count": null,
      "outputs": [
        {
          "output_type": "stream",
          "name": "stdout",
          "text": [
            "78/78 [==============================] - 4s 8ms/step - loss: 2.5308e-05 - accuracy: 1.0000\n",
            "[2.5307828764198348e-05, 0.9999551177024841]\n",
            "34/34 [==============================] - 0s 7ms/step - loss: 0.0049 - accuracy: 0.9816\n",
            "[0.004900439642369747, 0.9816038012504578]\n",
            "33/33 [==============================] - 0s 8ms/step - loss: 0.0038 - accuracy: 0.9858\n",
            "[0.00381846958771348, 0.985840916633606]\n"
          ]
        }
      ]
    },
    {
      "cell_type": "markdown",
      "metadata": {
        "id": "xQocIJpEIKcb"
      },
      "source": [
        "### **Train analyze**"
      ]
    },
    {
      "cell_type": "markdown",
      "metadata": {
        "id": "L9-VPeG5mdMp"
      },
      "source": [
        "#### **Old Data**"
      ]
    },
    {
      "cell_type": "code",
      "execution_count": null,
      "metadata": {
        "colab": {
          "base_uri": "https://localhost:8080/"
        },
        "id": "O0uSTRE0IKce",
        "outputId": "0e72b405-719f-4b27-ec21-82b75dba9056"
      },
      "outputs": [
        {
          "output_type": "stream",
          "name": "stdout",
          "text": [
            "78/78 [==============================] - 3s 6ms/step\n"
          ]
        },
        {
          "output_type": "execute_result",
          "data": {
            "text/plain": [
              "(1, 0.9995959595959596)"
            ]
          },
          "metadata": {},
          "execution_count": 102
        }
      ],
      "source": [
        "train_pred = mix_model.predict([X_train_lemma_OH, X_train_genRat])\n",
        "train_pred_OH = oneHot3D(train_pred)\n",
        "train_error_num, train_acc_num = checkAccuracy(train_pred_OH, y_train_inflection_OH)\n",
        "train_error_num, train_acc_num"
      ]
    },
    {
      "cell_type": "code",
      "execution_count": null,
      "metadata": {
        "id": "RRfJFF1-IKch",
        "colab": {
          "base_uri": "https://localhost:8080/",
          "height": 80
        },
        "outputId": "ec5ad766-4cd0-4120-8e17-2d56c5e911b6"
      },
      "outputs": [
        {
          "output_type": "execute_result",
          "data": {
            "text/plain": [
              "   index          lemma  b/s     inflection        predict\n",
              "0   1687  {it~ifAqiy~ap    1  Ait~ifAqiy~At  Aiti~fAqiy~At"
            ],
            "text/html": [
              "\n",
              "  <div id=\"df-8a856fbc-a45b-4625-975f-61696d7bd2a7\">\n",
              "    <div class=\"colab-df-container\">\n",
              "      <div>\n",
              "<style scoped>\n",
              "    .dataframe tbody tr th:only-of-type {\n",
              "        vertical-align: middle;\n",
              "    }\n",
              "\n",
              "    .dataframe tbody tr th {\n",
              "        vertical-align: top;\n",
              "    }\n",
              "\n",
              "    .dataframe thead th {\n",
              "        text-align: right;\n",
              "    }\n",
              "</style>\n",
              "<table border=\"1\" class=\"dataframe\">\n",
              "  <thead>\n",
              "    <tr style=\"text-align: right;\">\n",
              "      <th></th>\n",
              "      <th>index</th>\n",
              "      <th>lemma</th>\n",
              "      <th>b/s</th>\n",
              "      <th>inflection</th>\n",
              "      <th>predict</th>\n",
              "    </tr>\n",
              "  </thead>\n",
              "  <tbody>\n",
              "    <tr>\n",
              "      <th>0</th>\n",
              "      <td>1687</td>\n",
              "      <td>{it~ifAqiy~ap</td>\n",
              "      <td>1</td>\n",
              "      <td>Ait~ifAqiy~At</td>\n",
              "      <td>Aiti~fAqiy~At</td>\n",
              "    </tr>\n",
              "  </tbody>\n",
              "</table>\n",
              "</div>\n",
              "      <button class=\"colab-df-convert\" onclick=\"convertToInteractive('df-8a856fbc-a45b-4625-975f-61696d7bd2a7')\"\n",
              "              title=\"Convert this dataframe to an interactive table.\"\n",
              "              style=\"display:none;\">\n",
              "        \n",
              "  <svg xmlns=\"http://www.w3.org/2000/svg\" height=\"24px\"viewBox=\"0 0 24 24\"\n",
              "       width=\"24px\">\n",
              "    <path d=\"M0 0h24v24H0V0z\" fill=\"none\"/>\n",
              "    <path d=\"M18.56 5.44l.94 2.06.94-2.06 2.06-.94-2.06-.94-.94-2.06-.94 2.06-2.06.94zm-11 1L8.5 8.5l.94-2.06 2.06-.94-2.06-.94L8.5 2.5l-.94 2.06-2.06.94zm10 10l.94 2.06.94-2.06 2.06-.94-2.06-.94-.94-2.06-.94 2.06-2.06.94z\"/><path d=\"M17.41 7.96l-1.37-1.37c-.4-.4-.92-.59-1.43-.59-.52 0-1.04.2-1.43.59L10.3 9.45l-7.72 7.72c-.78.78-.78 2.05 0 2.83L4 21.41c.39.39.9.59 1.41.59.51 0 1.02-.2 1.41-.59l7.78-7.78 2.81-2.81c.8-.78.8-2.07 0-2.86zM5.41 20L4 18.59l7.72-7.72 1.47 1.35L5.41 20z\"/>\n",
              "  </svg>\n",
              "      </button>\n",
              "      \n",
              "  <style>\n",
              "    .colab-df-container {\n",
              "      display:flex;\n",
              "      flex-wrap:wrap;\n",
              "      gap: 12px;\n",
              "    }\n",
              "\n",
              "    .colab-df-convert {\n",
              "      background-color: #E8F0FE;\n",
              "      border: none;\n",
              "      border-radius: 50%;\n",
              "      cursor: pointer;\n",
              "      display: none;\n",
              "      fill: #1967D2;\n",
              "      height: 32px;\n",
              "      padding: 0 0 0 0;\n",
              "      width: 32px;\n",
              "    }\n",
              "\n",
              "    .colab-df-convert:hover {\n",
              "      background-color: #E2EBFA;\n",
              "      box-shadow: 0px 1px 2px rgba(60, 64, 67, 0.3), 0px 1px 3px 1px rgba(60, 64, 67, 0.15);\n",
              "      fill: #174EA6;\n",
              "    }\n",
              "\n",
              "    [theme=dark] .colab-df-convert {\n",
              "      background-color: #3B4455;\n",
              "      fill: #D2E3FC;\n",
              "    }\n",
              "\n",
              "    [theme=dark] .colab-df-convert:hover {\n",
              "      background-color: #434B5C;\n",
              "      box-shadow: 0px 1px 3px 1px rgba(0, 0, 0, 0.15);\n",
              "      filter: drop-shadow(0px 1px 2px rgba(0, 0, 0, 0.3));\n",
              "      fill: #FFFFFF;\n",
              "    }\n",
              "  </style>\n",
              "\n",
              "      <script>\n",
              "        const buttonEl =\n",
              "          document.querySelector('#df-8a856fbc-a45b-4625-975f-61696d7bd2a7 button.colab-df-convert');\n",
              "        buttonEl.style.display =\n",
              "          google.colab.kernel.accessAllowed ? 'block' : 'none';\n",
              "\n",
              "        async function convertToInteractive(key) {\n",
              "          const element = document.querySelector('#df-8a856fbc-a45b-4625-975f-61696d7bd2a7');\n",
              "          const dataTable =\n",
              "            await google.colab.kernel.invokeFunction('convertToInteractive',\n",
              "                                                     [key], {});\n",
              "          if (!dataTable) return;\n",
              "\n",
              "          const docLinkHtml = 'Like what you see? Visit the ' +\n",
              "            '<a target=\"_blank\" href=https://colab.research.google.com/notebooks/data_table.ipynb>data table notebook</a>'\n",
              "            + ' to learn more about interactive tables.';\n",
              "          element.innerHTML = '';\n",
              "          dataTable['output_type'] = 'display_data';\n",
              "          await google.colab.output.renderOutput(dataTable, element);\n",
              "          const docLink = document.createElement('div');\n",
              "          docLink.innerHTML = docLinkHtml;\n",
              "          element.appendChild(docLink);\n",
              "        }\n",
              "      </script>\n",
              "    </div>\n",
              "  </div>\n",
              "  "
            ]
          },
          "metadata": {},
          "execution_count": 103
        }
      ],
      "source": [
        "train_errorAnalysis = reportErrorAnalysis(trainData[0], trainData[5], train_pred_OH, y_train_inflection_OH, mixModel3_path + \"/train_errorAnalysis.csv\")\n",
        "train_errorAnalysis"
      ]
    },
    {
      "cell_type": "code",
      "execution_count": null,
      "metadata": {
        "id": "1c5q-sOBr0gV",
        "colab": {
          "base_uri": "https://localhost:8080/"
        },
        "outputId": "ddde6730-ab41-41f0-c5b9-062a9db0e8e6"
      },
      "outputs": [
        {
          "output_type": "execute_result",
          "data": {
            "text/plain": [
              "(1, 0.9995959595959596)"
            ]
          },
          "metadata": {},
          "execution_count": 104
        }
      ],
      "source": [
        "checkAccuracy_anyAcceptableInflectionInDataset(trainData[0], train_pred_OH, dic_lemmaInflection)"
      ]
    },
    {
      "cell_type": "code",
      "execution_count": null,
      "metadata": {
        "id": "MwRybc-AIKcl",
        "colab": {
          "base_uri": "https://localhost:8080/"
        },
        "outputId": "bec65244-2a67-4a97-b674-bfe772aff5d7"
      },
      "outputs": [
        {
          "output_type": "stream",
          "name": "stdout",
          "text": [
            "(Broken error %, Sound error %):  (0.0, 100.0)\n"
          ]
        }
      ],
      "source": [
        "print('(Broken error %, Sound error %): ', reportPercentageOfBrokenSoundErrors(train_errorAnalysis))"
      ]
    },
    {
      "cell_type": "markdown",
      "metadata": {
        "id": "hNm39hVHmrK6"
      },
      "source": [
        "#### **New Data**"
      ]
    },
    {
      "cell_type": "code",
      "execution_count": null,
      "metadata": {
        "id": "lb8jdvuJm0L6",
        "colab": {
          "base_uri": "https://localhost:8080/"
        },
        "outputId": "3d0f3169-c3b5-4f45-bc04-74dc38f7e14a"
      },
      "outputs": [
        {
          "output_type": "stream",
          "name": "stdout",
          "text": [
            "32/32 [==============================] - 3s 7ms/step\n"
          ]
        },
        {
          "output_type": "execute_result",
          "data": {
            "text/plain": [
              "(222, 0.778)"
            ]
          },
          "metadata": {},
          "execution_count": 93
        }
      ],
      "source": [
        "new_train_pred = mix_model.predict([X_train_lemma_new_OH, X_train_genRat_new])\n",
        "new_train_pred_OH = oneHot3D(new_train_pred)\n",
        "new_train_error_num, new_train_acc_num = checkAccuracy(new_train_pred_OH, y_train_inflection_new_OH)\n",
        "new_train_error_num, new_train_acc_num"
      ]
    },
    {
      "cell_type": "code",
      "execution_count": null,
      "metadata": {
        "id": "NUxhsW6Tm1mj",
        "colab": {
          "base_uri": "https://localhost:8080/",
          "height": 112
        },
        "outputId": "22b2ab96-e497-4a1c-8db0-549b09d38d1b"
      },
      "outputs": [
        {
          "output_type": "execute_result",
          "data": {
            "text/plain": [
              "   index           lemma  b/s         inflection            predict\n",
              "0    115     >uroduni~y~  NAN     >uroduni~yi~yn     >uroduniiy~iyn\n",
              "1    677  fiyliybi~yniy~  NAN  fiyliybi~yniyi~yn  fiyliyb~iyniy~iyn"
            ],
            "text/html": [
              "\n",
              "  <div id=\"df-02803c62-b1fb-48d9-a2f0-190e2c6ccb26\">\n",
              "    <div class=\"colab-df-container\">\n",
              "      <div>\n",
              "<style scoped>\n",
              "    .dataframe tbody tr th:only-of-type {\n",
              "        vertical-align: middle;\n",
              "    }\n",
              "\n",
              "    .dataframe tbody tr th {\n",
              "        vertical-align: top;\n",
              "    }\n",
              "\n",
              "    .dataframe thead th {\n",
              "        text-align: right;\n",
              "    }\n",
              "</style>\n",
              "<table border=\"1\" class=\"dataframe\">\n",
              "  <thead>\n",
              "    <tr style=\"text-align: right;\">\n",
              "      <th></th>\n",
              "      <th>index</th>\n",
              "      <th>lemma</th>\n",
              "      <th>b/s</th>\n",
              "      <th>inflection</th>\n",
              "      <th>predict</th>\n",
              "    </tr>\n",
              "  </thead>\n",
              "  <tbody>\n",
              "    <tr>\n",
              "      <th>0</th>\n",
              "      <td>115</td>\n",
              "      <td>&gt;uroduni~y~</td>\n",
              "      <td>NAN</td>\n",
              "      <td>&gt;uroduni~yi~yn</td>\n",
              "      <td>&gt;uroduniiy~iyn</td>\n",
              "    </tr>\n",
              "    <tr>\n",
              "      <th>1</th>\n",
              "      <td>677</td>\n",
              "      <td>fiyliybi~yniy~</td>\n",
              "      <td>NAN</td>\n",
              "      <td>fiyliybi~yniyi~yn</td>\n",
              "      <td>fiyliyb~iyniy~iyn</td>\n",
              "    </tr>\n",
              "  </tbody>\n",
              "</table>\n",
              "</div>\n",
              "      <button class=\"colab-df-convert\" onclick=\"convertToInteractive('df-02803c62-b1fb-48d9-a2f0-190e2c6ccb26')\"\n",
              "              title=\"Convert this dataframe to an interactive table.\"\n",
              "              style=\"display:none;\">\n",
              "        \n",
              "  <svg xmlns=\"http://www.w3.org/2000/svg\" height=\"24px\"viewBox=\"0 0 24 24\"\n",
              "       width=\"24px\">\n",
              "    <path d=\"M0 0h24v24H0V0z\" fill=\"none\"/>\n",
              "    <path d=\"M18.56 5.44l.94 2.06.94-2.06 2.06-.94-2.06-.94-.94-2.06-.94 2.06-2.06.94zm-11 1L8.5 8.5l.94-2.06 2.06-.94-2.06-.94L8.5 2.5l-.94 2.06-2.06.94zm10 10l.94 2.06.94-2.06 2.06-.94-2.06-.94-.94-2.06-.94 2.06-2.06.94z\"/><path d=\"M17.41 7.96l-1.37-1.37c-.4-.4-.92-.59-1.43-.59-.52 0-1.04.2-1.43.59L10.3 9.45l-7.72 7.72c-.78.78-.78 2.05 0 2.83L4 21.41c.39.39.9.59 1.41.59.51 0 1.02-.2 1.41-.59l7.78-7.78 2.81-2.81c.8-.78.8-2.07 0-2.86zM5.41 20L4 18.59l7.72-7.72 1.47 1.35L5.41 20z\"/>\n",
              "  </svg>\n",
              "      </button>\n",
              "      \n",
              "  <style>\n",
              "    .colab-df-container {\n",
              "      display:flex;\n",
              "      flex-wrap:wrap;\n",
              "      gap: 12px;\n",
              "    }\n",
              "\n",
              "    .colab-df-convert {\n",
              "      background-color: #E8F0FE;\n",
              "      border: none;\n",
              "      border-radius: 50%;\n",
              "      cursor: pointer;\n",
              "      display: none;\n",
              "      fill: #1967D2;\n",
              "      height: 32px;\n",
              "      padding: 0 0 0 0;\n",
              "      width: 32px;\n",
              "    }\n",
              "\n",
              "    .colab-df-convert:hover {\n",
              "      background-color: #E2EBFA;\n",
              "      box-shadow: 0px 1px 2px rgba(60, 64, 67, 0.3), 0px 1px 3px 1px rgba(60, 64, 67, 0.15);\n",
              "      fill: #174EA6;\n",
              "    }\n",
              "\n",
              "    [theme=dark] .colab-df-convert {\n",
              "      background-color: #3B4455;\n",
              "      fill: #D2E3FC;\n",
              "    }\n",
              "\n",
              "    [theme=dark] .colab-df-convert:hover {\n",
              "      background-color: #434B5C;\n",
              "      box-shadow: 0px 1px 3px 1px rgba(0, 0, 0, 0.15);\n",
              "      filter: drop-shadow(0px 1px 2px rgba(0, 0, 0, 0.3));\n",
              "      fill: #FFFFFF;\n",
              "    }\n",
              "  </style>\n",
              "\n",
              "      <script>\n",
              "        const buttonEl =\n",
              "          document.querySelector('#df-02803c62-b1fb-48d9-a2f0-190e2c6ccb26 button.colab-df-convert');\n",
              "        buttonEl.style.display =\n",
              "          google.colab.kernel.accessAllowed ? 'block' : 'none';\n",
              "\n",
              "        async function convertToInteractive(key) {\n",
              "          const element = document.querySelector('#df-02803c62-b1fb-48d9-a2f0-190e2c6ccb26');\n",
              "          const dataTable =\n",
              "            await google.colab.kernel.invokeFunction('convertToInteractive',\n",
              "                                                     [key], {});\n",
              "          if (!dataTable) return;\n",
              "\n",
              "          const docLinkHtml = 'Like what you see? Visit the ' +\n",
              "            '<a target=\"_blank\" href=https://colab.research.google.com/notebooks/data_table.ipynb>data table notebook</a>'\n",
              "            + ' to learn more about interactive tables.';\n",
              "          element.innerHTML = '';\n",
              "          dataTable['output_type'] = 'display_data';\n",
              "          await google.colab.output.renderOutput(dataTable, element);\n",
              "          const docLink = document.createElement('div');\n",
              "          docLink.innerHTML = docLinkHtml;\n",
              "          element.appendChild(docLink);\n",
              "        }\n",
              "      </script>\n",
              "    </div>\n",
              "  </div>\n",
              "  "
            ]
          },
          "metadata": {},
          "execution_count": 107
        }
      ],
      "source": [
        "new_train_errorAnalysis = reportErrorAnalysis(trainData_new[0], None, new_train_pred_OH, y_train_inflection_new_OH, mixModel3_path + \"/train_errorAnalysis_new.csv\")\n",
        "new_train_errorAnalysis"
      ]
    },
    {
      "cell_type": "code",
      "execution_count": null,
      "metadata": {
        "id": "yUayloFXn0Tu",
        "colab": {
          "base_uri": "https://localhost:8080/"
        },
        "outputId": "b6fbe42a-0d0a-4c44-e123-ffb018943c0c"
      },
      "outputs": [
        {
          "output_type": "execute_result",
          "data": {
            "text/plain": [
              "(222, 0.778)"
            ]
          },
          "metadata": {},
          "execution_count": 94
        }
      ],
      "source": [
        "checkAccuracy_anyAcceptableInflectionInDataset(trainData_new[0], new_train_pred_OH, dic_lemmaInflection)"
      ]
    },
    {
      "cell_type": "code",
      "execution_count": null,
      "metadata": {
        "id": "76LTfoXVm24R"
      },
      "outputs": [],
      "source": [
        "# # Report Percentage of Unseen Errors in Test set\n",
        "# errorIndices_test = new_train_errorAnalysis['index'].tolist()\n",
        "# unseenIndices_test = unseenLemInfIndices_train_new_df['index'].tolist()\n",
        "\n",
        "# print('Percentage of Unseen Errors with respect to Total Errors, Percentage of Unseen Errors with respect to Total Unseen Samples')\n",
        "# print(reportPercentageOfUnseenErrors(errorIndices_test, unseenIndices_test))"
      ]
    },
    {
      "cell_type": "markdown",
      "metadata": {
        "id": "rNmcuKe1IKcp"
      },
      "source": [
        "### **Dev analyze**"
      ]
    },
    {
      "cell_type": "markdown",
      "metadata": {
        "id": "PbEbj8cTnkQ0"
      },
      "source": [
        "#### **Old Data**"
      ]
    },
    {
      "cell_type": "code",
      "execution_count": null,
      "metadata": {
        "colab": {
          "base_uri": "https://localhost:8080/"
        },
        "id": "F-y6AQRFIKdB",
        "outputId": "1b223138-974a-4db5-dd60-de9cfafc3955"
      },
      "outputs": [
        {
          "output_type": "stream",
          "name": "stdout",
          "text": [
            "34/34 [==============================] - 0s 10ms/step\n"
          ]
        },
        {
          "output_type": "execute_result",
          "data": {
            "text/plain": [
              "(89, 0.9160377358490566)"
            ]
          },
          "metadata": {},
          "execution_count": 110
        }
      ],
      "source": [
        "dev_pred = mix_model.predict([X_dev_lemma_OH, X_dev_genRat])\n",
        "dev_pred_OH = oneHot3D(dev_pred)\n",
        "dev_error_num, dev_acc_num = checkAccuracy(dev_pred_OH, y_dev_inflection_OH)\n",
        "dev_error_num, dev_acc_num"
      ]
    },
    {
      "cell_type": "code",
      "execution_count": null,
      "metadata": {
        "colab": {
          "base_uri": "https://localhost:8080/",
          "height": 423
        },
        "id": "uBW0WeK9IKdD",
        "outputId": "7decabef-8cbb-4295-8f47-98c91f6d742a"
      },
      "outputs": [
        {
          "output_type": "execute_result",
          "data": {
            "text/plain": [
              "    index        lemma  b/s      inflection         predict\n",
              "0      59        nAdiy    0       >anodiyap         nawAdiy\n",
              "1     193  >amoriykiy~    1  >amoriykiy~iyn  >amiyrokiy~iyn\n",
              "2     213        na$AT    0       >ano$iTap         na$ATAt\n",
              "3     229    mujawohar    1     mujawoharAt     mujahohrrAt\n",
              "4     235      masoEaY    0           masAE         masAEiy\n",
              "..    ...          ...  ...             ...             ...\n",
              "84   1016     mujal~ad    1      mujal~adAt      mujal~alAt\n",
              "85   1025    mutarojim    1    mutarojimiyn    mutotajijiyn\n",
              "86   1041    mutaqADiy    1      mutaqADiyn      mutaqAyiyn\n",
              "87   1043  musotaEoTiy    1    musotaEoTiyn    musotaEoEiyn\n",
              "88   1057     musaj~il    1      musaj~ilAt     musaj~iliyn\n",
              "\n",
              "[89 rows x 5 columns]"
            ],
            "text/html": [
              "\n",
              "  <div id=\"df-c19b8b99-1972-4edc-bd9d-87aa2e214861\">\n",
              "    <div class=\"colab-df-container\">\n",
              "      <div>\n",
              "<style scoped>\n",
              "    .dataframe tbody tr th:only-of-type {\n",
              "        vertical-align: middle;\n",
              "    }\n",
              "\n",
              "    .dataframe tbody tr th {\n",
              "        vertical-align: top;\n",
              "    }\n",
              "\n",
              "    .dataframe thead th {\n",
              "        text-align: right;\n",
              "    }\n",
              "</style>\n",
              "<table border=\"1\" class=\"dataframe\">\n",
              "  <thead>\n",
              "    <tr style=\"text-align: right;\">\n",
              "      <th></th>\n",
              "      <th>index</th>\n",
              "      <th>lemma</th>\n",
              "      <th>b/s</th>\n",
              "      <th>inflection</th>\n",
              "      <th>predict</th>\n",
              "    </tr>\n",
              "  </thead>\n",
              "  <tbody>\n",
              "    <tr>\n",
              "      <th>0</th>\n",
              "      <td>59</td>\n",
              "      <td>nAdiy</td>\n",
              "      <td>0</td>\n",
              "      <td>&gt;anodiyap</td>\n",
              "      <td>nawAdiy</td>\n",
              "    </tr>\n",
              "    <tr>\n",
              "      <th>1</th>\n",
              "      <td>193</td>\n",
              "      <td>&gt;amoriykiy~</td>\n",
              "      <td>1</td>\n",
              "      <td>&gt;amoriykiy~iyn</td>\n",
              "      <td>&gt;amiyrokiy~iyn</td>\n",
              "    </tr>\n",
              "    <tr>\n",
              "      <th>2</th>\n",
              "      <td>213</td>\n",
              "      <td>na$AT</td>\n",
              "      <td>0</td>\n",
              "      <td>&gt;ano$iTap</td>\n",
              "      <td>na$ATAt</td>\n",
              "    </tr>\n",
              "    <tr>\n",
              "      <th>3</th>\n",
              "      <td>229</td>\n",
              "      <td>mujawohar</td>\n",
              "      <td>1</td>\n",
              "      <td>mujawoharAt</td>\n",
              "      <td>mujahohrrAt</td>\n",
              "    </tr>\n",
              "    <tr>\n",
              "      <th>4</th>\n",
              "      <td>235</td>\n",
              "      <td>masoEaY</td>\n",
              "      <td>0</td>\n",
              "      <td>masAE</td>\n",
              "      <td>masAEiy</td>\n",
              "    </tr>\n",
              "    <tr>\n",
              "      <th>...</th>\n",
              "      <td>...</td>\n",
              "      <td>...</td>\n",
              "      <td>...</td>\n",
              "      <td>...</td>\n",
              "      <td>...</td>\n",
              "    </tr>\n",
              "    <tr>\n",
              "      <th>84</th>\n",
              "      <td>1016</td>\n",
              "      <td>mujal~ad</td>\n",
              "      <td>1</td>\n",
              "      <td>mujal~adAt</td>\n",
              "      <td>mujal~alAt</td>\n",
              "    </tr>\n",
              "    <tr>\n",
              "      <th>85</th>\n",
              "      <td>1025</td>\n",
              "      <td>mutarojim</td>\n",
              "      <td>1</td>\n",
              "      <td>mutarojimiyn</td>\n",
              "      <td>mutotajijiyn</td>\n",
              "    </tr>\n",
              "    <tr>\n",
              "      <th>86</th>\n",
              "      <td>1041</td>\n",
              "      <td>mutaqADiy</td>\n",
              "      <td>1</td>\n",
              "      <td>mutaqADiyn</td>\n",
              "      <td>mutaqAyiyn</td>\n",
              "    </tr>\n",
              "    <tr>\n",
              "      <th>87</th>\n",
              "      <td>1043</td>\n",
              "      <td>musotaEoTiy</td>\n",
              "      <td>1</td>\n",
              "      <td>musotaEoTiyn</td>\n",
              "      <td>musotaEoEiyn</td>\n",
              "    </tr>\n",
              "    <tr>\n",
              "      <th>88</th>\n",
              "      <td>1057</td>\n",
              "      <td>musaj~il</td>\n",
              "      <td>1</td>\n",
              "      <td>musaj~ilAt</td>\n",
              "      <td>musaj~iliyn</td>\n",
              "    </tr>\n",
              "  </tbody>\n",
              "</table>\n",
              "<p>89 rows × 5 columns</p>\n",
              "</div>\n",
              "      <button class=\"colab-df-convert\" onclick=\"convertToInteractive('df-c19b8b99-1972-4edc-bd9d-87aa2e214861')\"\n",
              "              title=\"Convert this dataframe to an interactive table.\"\n",
              "              style=\"display:none;\">\n",
              "        \n",
              "  <svg xmlns=\"http://www.w3.org/2000/svg\" height=\"24px\"viewBox=\"0 0 24 24\"\n",
              "       width=\"24px\">\n",
              "    <path d=\"M0 0h24v24H0V0z\" fill=\"none\"/>\n",
              "    <path d=\"M18.56 5.44l.94 2.06.94-2.06 2.06-.94-2.06-.94-.94-2.06-.94 2.06-2.06.94zm-11 1L8.5 8.5l.94-2.06 2.06-.94-2.06-.94L8.5 2.5l-.94 2.06-2.06.94zm10 10l.94 2.06.94-2.06 2.06-.94-2.06-.94-.94-2.06-.94 2.06-2.06.94z\"/><path d=\"M17.41 7.96l-1.37-1.37c-.4-.4-.92-.59-1.43-.59-.52 0-1.04.2-1.43.59L10.3 9.45l-7.72 7.72c-.78.78-.78 2.05 0 2.83L4 21.41c.39.39.9.59 1.41.59.51 0 1.02-.2 1.41-.59l7.78-7.78 2.81-2.81c.8-.78.8-2.07 0-2.86zM5.41 20L4 18.59l7.72-7.72 1.47 1.35L5.41 20z\"/>\n",
              "  </svg>\n",
              "      </button>\n",
              "      \n",
              "  <style>\n",
              "    .colab-df-container {\n",
              "      display:flex;\n",
              "      flex-wrap:wrap;\n",
              "      gap: 12px;\n",
              "    }\n",
              "\n",
              "    .colab-df-convert {\n",
              "      background-color: #E8F0FE;\n",
              "      border: none;\n",
              "      border-radius: 50%;\n",
              "      cursor: pointer;\n",
              "      display: none;\n",
              "      fill: #1967D2;\n",
              "      height: 32px;\n",
              "      padding: 0 0 0 0;\n",
              "      width: 32px;\n",
              "    }\n",
              "\n",
              "    .colab-df-convert:hover {\n",
              "      background-color: #E2EBFA;\n",
              "      box-shadow: 0px 1px 2px rgba(60, 64, 67, 0.3), 0px 1px 3px 1px rgba(60, 64, 67, 0.15);\n",
              "      fill: #174EA6;\n",
              "    }\n",
              "\n",
              "    [theme=dark] .colab-df-convert {\n",
              "      background-color: #3B4455;\n",
              "      fill: #D2E3FC;\n",
              "    }\n",
              "\n",
              "    [theme=dark] .colab-df-convert:hover {\n",
              "      background-color: #434B5C;\n",
              "      box-shadow: 0px 1px 3px 1px rgba(0, 0, 0, 0.15);\n",
              "      filter: drop-shadow(0px 1px 2px rgba(0, 0, 0, 0.3));\n",
              "      fill: #FFFFFF;\n",
              "    }\n",
              "  </style>\n",
              "\n",
              "      <script>\n",
              "        const buttonEl =\n",
              "          document.querySelector('#df-c19b8b99-1972-4edc-bd9d-87aa2e214861 button.colab-df-convert');\n",
              "        buttonEl.style.display =\n",
              "          google.colab.kernel.accessAllowed ? 'block' : 'none';\n",
              "\n",
              "        async function convertToInteractive(key) {\n",
              "          const element = document.querySelector('#df-c19b8b99-1972-4edc-bd9d-87aa2e214861');\n",
              "          const dataTable =\n",
              "            await google.colab.kernel.invokeFunction('convertToInteractive',\n",
              "                                                     [key], {});\n",
              "          if (!dataTable) return;\n",
              "\n",
              "          const docLinkHtml = 'Like what you see? Visit the ' +\n",
              "            '<a target=\"_blank\" href=https://colab.research.google.com/notebooks/data_table.ipynb>data table notebook</a>'\n",
              "            + ' to learn more about interactive tables.';\n",
              "          element.innerHTML = '';\n",
              "          dataTable['output_type'] = 'display_data';\n",
              "          await google.colab.output.renderOutput(dataTable, element);\n",
              "          const docLink = document.createElement('div');\n",
              "          docLink.innerHTML = docLinkHtml;\n",
              "          element.appendChild(docLink);\n",
              "        }\n",
              "      </script>\n",
              "    </div>\n",
              "  </div>\n",
              "  "
            ]
          },
          "metadata": {},
          "execution_count": 111
        }
      ],
      "source": [
        "dev_errorAnalysis = reportErrorAnalysis(devData[0], devData[5] , dev_pred_OH, y_dev_inflection_OH, mixModel3_path + \"/dev_errorAnalysis_with_bs.csv\")\n",
        "dev_errorAnalysis"
      ]
    },
    {
      "cell_type": "code",
      "execution_count": null,
      "metadata": {
        "id": "ds1AobJrIKdF"
      },
      "outputs": [],
      "source": [
        "'''bstuple = [dev_errorAnalysis['b/s'], dev_errorAnalysis['b/s predict']]\n",
        "c = 0\n",
        "n = len(bstuple[0])\n",
        "for i in range(n):\n",
        "  if not bstuple[0][i] == bstuple[1][i]: c+=1\n",
        "\n",
        "c/n'''"
      ]
    },
    {
      "cell_type": "code",
      "execution_count": null,
      "metadata": {
        "colab": {
          "base_uri": "https://localhost:8080/"
        },
        "id": "WY7eNKIsIKdH",
        "outputId": "131339f9-72d7-4d27-c8d7-5233a13901e3"
      },
      "outputs": [
        {
          "output_type": "stream",
          "name": "stdout",
          "text": [
            "(Broken error %, Sound error %):  (53.93258426966292, 46.06741573033708)\n"
          ]
        }
      ],
      "source": [
        "print('(Broken error %, Sound error %): ', reportPercentageOfBrokenSoundErrors(dev_errorAnalysis))"
      ]
    },
    {
      "cell_type": "code",
      "execution_count": null,
      "metadata": {
        "colab": {
          "base_uri": "https://localhost:8080/"
        },
        "id": "nZuJTpWZIKdI",
        "outputId": "605871d5-b05e-4d83-e48f-3abe1006b53a"
      },
      "outputs": [
        {
          "output_type": "execute_result",
          "data": {
            "text/plain": [
              "(59, 0.9443396226415094)"
            ]
          },
          "metadata": {},
          "execution_count": 114
        }
      ],
      "source": [
        "checkAccuracy_anyAcceptableInflectionInDataset(devData[0], dev_pred_OH, dic_lemmaInflection)"
      ]
    },
    {
      "cell_type": "code",
      "execution_count": null,
      "metadata": {
        "colab": {
          "base_uri": "https://localhost:8080/"
        },
        "id": "NBrFJ8-lIKdJ",
        "outputId": "c7634f1b-5d39-4c16-c8c8-78d8ad9e8027"
      },
      "outputs": [
        {
          "output_type": "stream",
          "name": "stdout",
          "text": [
            "Percentage of Unseen Errors with respect to Total Errors, Percentage of Unseen Errors with respect to Total Unseen Samples\n",
            "(100.0, 76.72413793103449)\n"
          ]
        }
      ],
      "source": [
        "# Report Percentage of Unseen Errors in Dev set\n",
        "errorIndices_dev = dev_errorAnalysis['index'].tolist()\n",
        "unseenIndices_dev = unseenLemInfIndices_dev_df['index'].tolist()\n",
        "\n",
        "print('Percentage of Unseen Errors with respect to Total Errors, Percentage of Unseen Errors with respect to Total Unseen Samples')\n",
        "print(reportPercentageOfUnseenErrors(errorIndices_dev, unseenIndices_dev))"
      ]
    },
    {
      "cell_type": "markdown",
      "metadata": {
        "id": "nfNHJWE3r9mn"
      },
      "source": [
        "#### **New Data**"
      ]
    },
    {
      "cell_type": "code",
      "execution_count": null,
      "metadata": {
        "colab": {
          "base_uri": "https://localhost:8080/"
        },
        "id": "mVx8DGSor9mo",
        "outputId": "51ecea17-8da8-43c8-9f06-8b08528915aa"
      },
      "outputs": [
        {
          "output_type": "stream",
          "name": "stdout",
          "text": [
            "11/11 [==============================] - 0s 10ms/step\n"
          ]
        },
        {
          "output_type": "execute_result",
          "data": {
            "text/plain": [
              "(285, 0.16909620991253643)"
            ]
          },
          "metadata": {},
          "execution_count": 95
        }
      ],
      "source": [
        "new_dev_pred = mix_model.predict([X_dev_lemma_new_OH, X_dev_genRat_new])\n",
        "new_dev_pred_OH = oneHot3D(new_dev_pred)\n",
        "new_dev_error_num, new_dev_acc_num = checkAccuracy(new_dev_pred_OH, y_dev_inflection_new_OH)\n",
        "new_dev_error_num, new_dev_acc_num"
      ]
    },
    {
      "cell_type": "code",
      "execution_count": null,
      "metadata": {
        "id": "LWB5791ur9mo"
      },
      "outputs": [],
      "source": [
        "new_dev_errorAnalysis = reportErrorAnalysis(devData_new[0], None, new_dev_pred_OH, y_dev_inflection_new_OH, mixModel3_path + \"/dev_errorAnalysis_new.csv\")\n",
        "new_dev_errorAnalysis"
      ]
    },
    {
      "cell_type": "code",
      "execution_count": null,
      "metadata": {
        "colab": {
          "base_uri": "https://localhost:8080/"
        },
        "id": "DkiKzkFZr9mo",
        "outputId": "984e3eb8-e7cc-4d06-8651-9024b3a68145"
      },
      "outputs": [
        {
          "output_type": "execute_result",
          "data": {
            "text/plain": [
              "(285, 0.16909620991253643)"
            ]
          },
          "metadata": {},
          "execution_count": 96
        }
      ],
      "source": [
        "checkAccuracy_anyAcceptableInflectionInDataset(devData_new[0], new_dev_pred_OH, dic_lemmaInflection)"
      ]
    },
    {
      "cell_type": "code",
      "execution_count": null,
      "metadata": {
        "colab": {
          "base_uri": "https://localhost:8080/"
        },
        "id": "bhCAJpJvr9mo",
        "outputId": "0e6af8d3-4b44-4661-e016-f49ed5a783af"
      },
      "outputs": [
        {
          "output_type": "stream",
          "name": "stdout",
          "text": [
            "Percentage of Unseen Errors with respect to Total Errors, Percentage of Unseen Errors with respect to Total Unseen Samples\n",
            "(100.0, 83.09037900874635)\n"
          ]
        }
      ],
      "source": [
        "# Report Percentage of Unseen Errors in Test set\n",
        "errorIndices_test = new_dev_errorAnalysis['index'].tolist()\n",
        "unseenIndices_test = unseenLemInfIndices_dev_new_df['index'].tolist()\n",
        "\n",
        "print('Percentage of Unseen Errors with respect to Total Errors, Percentage of Unseen Errors with respect to Total Unseen Samples')\n",
        "print(reportPercentageOfUnseenErrors(errorIndices_test, unseenIndices_test))"
      ]
    },
    {
      "cell_type": "markdown",
      "metadata": {
        "id": "0ThCOc4GIKdM"
      },
      "source": [
        "### **Test analyze**"
      ]
    },
    {
      "cell_type": "markdown",
      "metadata": {
        "id": "4l3ZqqFHtdTP"
      },
      "source": [
        "#### **Old Data**"
      ]
    },
    {
      "cell_type": "code",
      "execution_count": null,
      "metadata": {
        "id": "tv9cD_n-IKdO",
        "colab": {
          "base_uri": "https://localhost:8080/"
        },
        "outputId": "89f3f224-c0a4-47a7-b8bc-e06f70aef7db"
      },
      "outputs": [
        {
          "output_type": "stream",
          "name": "stdout",
          "text": [
            "33/33 [==============================] - 0s 9ms/step\n"
          ]
        },
        {
          "output_type": "execute_result",
          "data": {
            "text/plain": [
              "(74, 0.9280155642023347)"
            ]
          },
          "metadata": {},
          "execution_count": 120
        }
      ],
      "source": [
        "test_pred = mix_model.predict([X_test_lemma_OH, X_test_genRat])\n",
        "test_pred_OH = oneHot3D(test_pred)\n",
        "test_error_num, test_acc_num = checkAccuracy(test_pred_OH, y_test_inflection_OH)\n",
        "test_error_num, test_acc_num"
      ]
    },
    {
      "cell_type": "code",
      "execution_count": null,
      "metadata": {
        "id": "dcBc4Us4IKdP",
        "colab": {
          "base_uri": "https://localhost:8080/",
          "height": 423
        },
        "outputId": "767dc912-a26b-4206-eedd-4f6ed24e889b"
      },
      "outputs": [
        {
          "output_type": "execute_result",
          "data": {
            "text/plain": [
              "    index      lemma  b/s   inflection     predict\n",
              "0      66  mu$okilap    0      ma$Akil   mu$okilAt\n",
              "1      94      na$AT    0    >ano$iTap     na$ATAt\n",
              "2     178   minaS~ap    1     minaS~At    munaS~At\n",
              "3     234   taqoniy~    1  taqoniy~iyn  taqoniy~iy\n",
              "4     269    muDorib    1   muDoribiyn  muDAribiyn\n",
              "..    ...        ...  ...          ...         ...\n",
              "69    989      maval    0      >amovAl      >amAll\n",
              "70    997     may~it    0      mawotaY     >amowAt\n",
              "71   1014    manobat    0      manAbit     manobit\n",
              "72   1018      maqAm    1      maqAmAt    maqAqima\n",
              "73   1019     maqar~    1     maqar~At      maqAr~\n",
              "\n",
              "[74 rows x 5 columns]"
            ],
            "text/html": [
              "\n",
              "  <div id=\"df-d07ff2c0-c14f-4cf1-b57a-286d98ab372d\">\n",
              "    <div class=\"colab-df-container\">\n",
              "      <div>\n",
              "<style scoped>\n",
              "    .dataframe tbody tr th:only-of-type {\n",
              "        vertical-align: middle;\n",
              "    }\n",
              "\n",
              "    .dataframe tbody tr th {\n",
              "        vertical-align: top;\n",
              "    }\n",
              "\n",
              "    .dataframe thead th {\n",
              "        text-align: right;\n",
              "    }\n",
              "</style>\n",
              "<table border=\"1\" class=\"dataframe\">\n",
              "  <thead>\n",
              "    <tr style=\"text-align: right;\">\n",
              "      <th></th>\n",
              "      <th>index</th>\n",
              "      <th>lemma</th>\n",
              "      <th>b/s</th>\n",
              "      <th>inflection</th>\n",
              "      <th>predict</th>\n",
              "    </tr>\n",
              "  </thead>\n",
              "  <tbody>\n",
              "    <tr>\n",
              "      <th>0</th>\n",
              "      <td>66</td>\n",
              "      <td>mu$okilap</td>\n",
              "      <td>0</td>\n",
              "      <td>ma$Akil</td>\n",
              "      <td>mu$okilAt</td>\n",
              "    </tr>\n",
              "    <tr>\n",
              "      <th>1</th>\n",
              "      <td>94</td>\n",
              "      <td>na$AT</td>\n",
              "      <td>0</td>\n",
              "      <td>&gt;ano$iTap</td>\n",
              "      <td>na$ATAt</td>\n",
              "    </tr>\n",
              "    <tr>\n",
              "      <th>2</th>\n",
              "      <td>178</td>\n",
              "      <td>minaS~ap</td>\n",
              "      <td>1</td>\n",
              "      <td>minaS~At</td>\n",
              "      <td>munaS~At</td>\n",
              "    </tr>\n",
              "    <tr>\n",
              "      <th>3</th>\n",
              "      <td>234</td>\n",
              "      <td>taqoniy~</td>\n",
              "      <td>1</td>\n",
              "      <td>taqoniy~iyn</td>\n",
              "      <td>taqoniy~iy</td>\n",
              "    </tr>\n",
              "    <tr>\n",
              "      <th>4</th>\n",
              "      <td>269</td>\n",
              "      <td>muDorib</td>\n",
              "      <td>1</td>\n",
              "      <td>muDoribiyn</td>\n",
              "      <td>muDAribiyn</td>\n",
              "    </tr>\n",
              "    <tr>\n",
              "      <th>...</th>\n",
              "      <td>...</td>\n",
              "      <td>...</td>\n",
              "      <td>...</td>\n",
              "      <td>...</td>\n",
              "      <td>...</td>\n",
              "    </tr>\n",
              "    <tr>\n",
              "      <th>69</th>\n",
              "      <td>989</td>\n",
              "      <td>maval</td>\n",
              "      <td>0</td>\n",
              "      <td>&gt;amovAl</td>\n",
              "      <td>&gt;amAll</td>\n",
              "    </tr>\n",
              "    <tr>\n",
              "      <th>70</th>\n",
              "      <td>997</td>\n",
              "      <td>may~it</td>\n",
              "      <td>0</td>\n",
              "      <td>mawotaY</td>\n",
              "      <td>&gt;amowAt</td>\n",
              "    </tr>\n",
              "    <tr>\n",
              "      <th>71</th>\n",
              "      <td>1014</td>\n",
              "      <td>manobat</td>\n",
              "      <td>0</td>\n",
              "      <td>manAbit</td>\n",
              "      <td>manobit</td>\n",
              "    </tr>\n",
              "    <tr>\n",
              "      <th>72</th>\n",
              "      <td>1018</td>\n",
              "      <td>maqAm</td>\n",
              "      <td>1</td>\n",
              "      <td>maqAmAt</td>\n",
              "      <td>maqAqima</td>\n",
              "    </tr>\n",
              "    <tr>\n",
              "      <th>73</th>\n",
              "      <td>1019</td>\n",
              "      <td>maqar~</td>\n",
              "      <td>1</td>\n",
              "      <td>maqar~At</td>\n",
              "      <td>maqAr~</td>\n",
              "    </tr>\n",
              "  </tbody>\n",
              "</table>\n",
              "<p>74 rows × 5 columns</p>\n",
              "</div>\n",
              "      <button class=\"colab-df-convert\" onclick=\"convertToInteractive('df-d07ff2c0-c14f-4cf1-b57a-286d98ab372d')\"\n",
              "              title=\"Convert this dataframe to an interactive table.\"\n",
              "              style=\"display:none;\">\n",
              "        \n",
              "  <svg xmlns=\"http://www.w3.org/2000/svg\" height=\"24px\"viewBox=\"0 0 24 24\"\n",
              "       width=\"24px\">\n",
              "    <path d=\"M0 0h24v24H0V0z\" fill=\"none\"/>\n",
              "    <path d=\"M18.56 5.44l.94 2.06.94-2.06 2.06-.94-2.06-.94-.94-2.06-.94 2.06-2.06.94zm-11 1L8.5 8.5l.94-2.06 2.06-.94-2.06-.94L8.5 2.5l-.94 2.06-2.06.94zm10 10l.94 2.06.94-2.06 2.06-.94-2.06-.94-.94-2.06-.94 2.06-2.06.94z\"/><path d=\"M17.41 7.96l-1.37-1.37c-.4-.4-.92-.59-1.43-.59-.52 0-1.04.2-1.43.59L10.3 9.45l-7.72 7.72c-.78.78-.78 2.05 0 2.83L4 21.41c.39.39.9.59 1.41.59.51 0 1.02-.2 1.41-.59l7.78-7.78 2.81-2.81c.8-.78.8-2.07 0-2.86zM5.41 20L4 18.59l7.72-7.72 1.47 1.35L5.41 20z\"/>\n",
              "  </svg>\n",
              "      </button>\n",
              "      \n",
              "  <style>\n",
              "    .colab-df-container {\n",
              "      display:flex;\n",
              "      flex-wrap:wrap;\n",
              "      gap: 12px;\n",
              "    }\n",
              "\n",
              "    .colab-df-convert {\n",
              "      background-color: #E8F0FE;\n",
              "      border: none;\n",
              "      border-radius: 50%;\n",
              "      cursor: pointer;\n",
              "      display: none;\n",
              "      fill: #1967D2;\n",
              "      height: 32px;\n",
              "      padding: 0 0 0 0;\n",
              "      width: 32px;\n",
              "    }\n",
              "\n",
              "    .colab-df-convert:hover {\n",
              "      background-color: #E2EBFA;\n",
              "      box-shadow: 0px 1px 2px rgba(60, 64, 67, 0.3), 0px 1px 3px 1px rgba(60, 64, 67, 0.15);\n",
              "      fill: #174EA6;\n",
              "    }\n",
              "\n",
              "    [theme=dark] .colab-df-convert {\n",
              "      background-color: #3B4455;\n",
              "      fill: #D2E3FC;\n",
              "    }\n",
              "\n",
              "    [theme=dark] .colab-df-convert:hover {\n",
              "      background-color: #434B5C;\n",
              "      box-shadow: 0px 1px 3px 1px rgba(0, 0, 0, 0.15);\n",
              "      filter: drop-shadow(0px 1px 2px rgba(0, 0, 0, 0.3));\n",
              "      fill: #FFFFFF;\n",
              "    }\n",
              "  </style>\n",
              "\n",
              "      <script>\n",
              "        const buttonEl =\n",
              "          document.querySelector('#df-d07ff2c0-c14f-4cf1-b57a-286d98ab372d button.colab-df-convert');\n",
              "        buttonEl.style.display =\n",
              "          google.colab.kernel.accessAllowed ? 'block' : 'none';\n",
              "\n",
              "        async function convertToInteractive(key) {\n",
              "          const element = document.querySelector('#df-d07ff2c0-c14f-4cf1-b57a-286d98ab372d');\n",
              "          const dataTable =\n",
              "            await google.colab.kernel.invokeFunction('convertToInteractive',\n",
              "                                                     [key], {});\n",
              "          if (!dataTable) return;\n",
              "\n",
              "          const docLinkHtml = 'Like what you see? Visit the ' +\n",
              "            '<a target=\"_blank\" href=https://colab.research.google.com/notebooks/data_table.ipynb>data table notebook</a>'\n",
              "            + ' to learn more about interactive tables.';\n",
              "          element.innerHTML = '';\n",
              "          dataTable['output_type'] = 'display_data';\n",
              "          await google.colab.output.renderOutput(dataTable, element);\n",
              "          const docLink = document.createElement('div');\n",
              "          docLink.innerHTML = docLinkHtml;\n",
              "          element.appendChild(docLink);\n",
              "        }\n",
              "      </script>\n",
              "    </div>\n",
              "  </div>\n",
              "  "
            ]
          },
          "metadata": {},
          "execution_count": 121
        }
      ],
      "source": [
        "test_errorAnalysis = reportErrorAnalysis(testData[0], testData[5], test_pred_OH, y_test_inflection_OH, mixModel3_path + \"/test_errorAnalysis_with_bs.csv\")\n",
        "test_errorAnalysis"
      ]
    },
    {
      "cell_type": "code",
      "execution_count": null,
      "metadata": {
        "id": "FkBwllGOIKdQ"
      },
      "outputs": [],
      "source": [
        "'''bstuple = [test_errorAnalysis['b/s'], test_errorAnalysis['b/s predict']]\n",
        "c = 0\n",
        "n = len(bstuple[0])\n",
        "for i in range(n):\n",
        "  if not bstuple[0][i] == bstuple[1][i]: c+=1\n",
        "\n",
        "c/n'''"
      ]
    },
    {
      "cell_type": "code",
      "execution_count": null,
      "metadata": {
        "id": "l0Blg_-2IKdS",
        "colab": {
          "base_uri": "https://localhost:8080/"
        },
        "outputId": "3600dd75-d871-454c-ebc4-ebebdf21386f"
      },
      "outputs": [
        {
          "output_type": "stream",
          "name": "stdout",
          "text": [
            "(Broken error %, Sound error %):  (54.054054054054056, 45.94594594594595)\n"
          ]
        }
      ],
      "source": [
        "print('(Broken error %, Sound error %): ', reportPercentageOfBrokenSoundErrors(test_errorAnalysis))"
      ]
    },
    {
      "cell_type": "code",
      "execution_count": null,
      "metadata": {
        "id": "OAuneYQnIKdT",
        "colab": {
          "base_uri": "https://localhost:8080/"
        },
        "outputId": "82c6e7ad-c8f3-4aba-b391-7ddb42556e8f"
      },
      "outputs": [
        {
          "output_type": "execute_result",
          "data": {
            "text/plain": [
              "(53, 0.9484435797665369)"
            ]
          },
          "metadata": {},
          "execution_count": 124
        }
      ],
      "source": [
        "checkAccuracy_anyAcceptableInflectionInDataset(testData[0], test_pred_OH, dic_lemmaInflection)"
      ]
    },
    {
      "cell_type": "code",
      "execution_count": null,
      "metadata": {
        "id": "jQxDnq2qIKdV",
        "colab": {
          "base_uri": "https://localhost:8080/"
        },
        "outputId": "da5aba49-2fb4-400b-8231-c4461f21300d"
      },
      "outputs": [
        {
          "output_type": "stream",
          "name": "stdout",
          "text": [
            "Percentage of Unseen Errors with respect to Total Errors, Percentage of Unseen Errors with respect to Total Unseen Samples\n",
            "(100.0, 71.15384615384616)\n"
          ]
        }
      ],
      "source": [
        "# Report Percentage of Unseen Errors in Test set\n",
        "errorIndices_test = test_errorAnalysis['index'].tolist()\n",
        "unseenIndices_test = unseenLemInfIndices_test_df['index'].tolist()\n",
        "\n",
        "print('Percentage of Unseen Errors with respect to Total Errors, Percentage of Unseen Errors with respect to Total Unseen Samples')\n",
        "print(reportPercentageOfUnseenErrors(errorIndices_test, unseenIndices_test))"
      ]
    },
    {
      "cell_type": "markdown",
      "metadata": {
        "id": "hORyX5w_9Ff5"
      },
      "source": [
        "#### **New Data**"
      ]
    },
    {
      "cell_type": "code",
      "execution_count": null,
      "metadata": {
        "id": "KSaXVkF99Ff_",
        "colab": {
          "base_uri": "https://localhost:8080/"
        },
        "outputId": "8db8fc24-79f6-406d-a102-c00983f8a1df"
      },
      "outputs": [
        {
          "output_type": "stream",
          "name": "stdout",
          "text": [
            "19/19 [==============================] - 0s 8ms/step\n"
          ]
        },
        {
          "output_type": "execute_result",
          "data": {
            "text/plain": [
              "(515, 0.14166666666666666)"
            ]
          },
          "metadata": {},
          "execution_count": 97
        }
      ],
      "source": [
        "new_test_pred = mix_model.predict([X_test_lemma_new_OH, X_test_genRat_new])\n",
        "new_test_pred_OH = oneHot3D(new_test_pred)\n",
        "new_test_error_num, new_test_acc_num = checkAccuracy(new_test_pred_OH, y_test_inflection_new_OH)\n",
        "new_test_error_num, new_test_acc_num"
      ]
    },
    {
      "cell_type": "code",
      "execution_count": null,
      "metadata": {
        "id": "SxsYV8a79FgH"
      },
      "outputs": [],
      "source": [
        "new_test_errorAnalysis = reportErrorAnalysis(testData_new[0], None, new_test_pred_OH, y_test_inflection_new_OH, mixModel3_path + \"/new_test_errorAnalysis.csv\")\n",
        "new_test_errorAnalysis"
      ]
    },
    {
      "cell_type": "code",
      "execution_count": null,
      "metadata": {
        "id": "wzORcbb9fFti",
        "colab": {
          "base_uri": "https://localhost:8080/"
        },
        "outputId": "e2575083-9ad6-4645-8979-8eeed14c4c9d"
      },
      "outputs": [
        {
          "output_type": "stream",
          "name": "stdout",
          "text": [
            "Percentage of Unseen Errors with respect to Total Errors, Percentage of Unseen Errors with respect to Total Unseen Samples\n",
            "(100.0, 85.83333333333333)\n"
          ]
        }
      ],
      "source": [
        "# Report Percentage of Unseen Errors in Test set\n",
        "errorIndices_test = new_test_errorAnalysis['index'].tolist()\n",
        "unseenIndices_test = unseenLemInfIndices_test_new_df['index'].tolist()\n",
        "\n",
        "print('Percentage of Unseen Errors with respect to Total Errors, Percentage of Unseen Errors with respect to Total Unseen Samples')\n",
        "print(reportPercentageOfUnseenErrors(errorIndices_test, unseenIndices_test))"
      ]
    },
    {
      "cell_type": "code",
      "execution_count": null,
      "metadata": {
        "id": "VjxMNLEit5JO",
        "colab": {
          "base_uri": "https://localhost:8080/"
        },
        "outputId": "d591b0bc-7da9-4059-c6fd-4aaaf76421d8"
      },
      "outputs": [
        {
          "output_type": "execute_result",
          "data": {
            "text/plain": [
              "(13, 0.9783333333333334)"
            ]
          },
          "metadata": {},
          "execution_count": 129
        }
      ],
      "source": [
        "checkAccuracy_anyAcceptableInflectionInDataset(testData_new[0], new_test_pred_OH, dic_lemmaInflection)"
      ]
    }
  ],
  "metadata": {
    "accelerator": "GPU",
    "colab": {
      "collapsed_sections": [
        "rgbi7F8b_x30",
        "Z8EaaCpl4vRw",
        "AE4iDRzh47E-",
        "bh5sOf1t5B2h",
        "g4MC1JT3TSec",
        "XOX50iU1Kha1",
        "9ZQvZUkdGb9Z",
        "ubE6nCh4ClaD",
        "dU09qVXA9kp0",
        "u_hpLQfwE5B2",
        "JRilqxawClaF",
        "O45BUvM0ClaF",
        "WO43412TA77a",
        "62hKeeV_2G77",
        "JUh5iUSmzZhO",
        "4MFDQIHuClaE",
        "sZxKnStm3HNT",
        "hKMTPoMto-58",
        "tUX8Rab-DUup",
        "kPYXqpgcYktV",
        "TOcPWZyxYktX",
        "KHOXSZq1Rd6C",
        "JJvKtWGURjyg",
        "5aRDIUaOvvJv",
        "wYae4z1hhH4t",
        "DBYWYsIYgR4S",
        "K87j_k_oEVh3",
        "XAoL0KSoEVh4",
        "ybXFriUqEVh5",
        "i7R3KZnxEVh5",
        "fdCz16FjpUjU",
        "jgfj5lhjU6z3",
        "WHCsxDc9U60N",
        "gVg1pBydU60g",
        "s_lrUYcHGakD",
        "ED9U383gGakE",
        "RHQ5EblGGakF",
        "sZl-0dRpGakG",
        "9tjmQhdrERFu",
        "rNmcuKe1IKcp",
        "4l3ZqqFHtdTP",
        "hORyX5w_9Ff5"
      ],
      "provenance": [],
      "include_colab_link": true
    },
    "kernelspec": {
      "display_name": "Python 3",
      "name": "python3"
    },
    "language_info": {
      "name": "python"
    },
    "gpuClass": "standard",
    "widgets": {
      "application/vnd.jupyter.widget-state+json": {
        "85c3101674f347caa72eee010d24eedb": {
          "model_module": "@jupyter-widgets/controls",
          "model_name": "HBoxModel",
          "model_module_version": "1.5.0",
          "state": {
            "_dom_classes": [],
            "_model_module": "@jupyter-widgets/controls",
            "_model_module_version": "1.5.0",
            "_model_name": "HBoxModel",
            "_view_count": null,
            "_view_module": "@jupyter-widgets/controls",
            "_view_module_version": "1.5.0",
            "_view_name": "HBoxView",
            "box_style": "",
            "children": [
              "IPY_MODEL_c04b25fc430645bd939ec4eb52f8f8db",
              "IPY_MODEL_abf32788220c4fb2b16e8b482e0c870e",
              "IPY_MODEL_6278d00cf417468eb50b8c9e7068165a"
            ],
            "layout": "IPY_MODEL_1e792a88e5e045ce90469654e00bde4b"
          }
        },
        "c04b25fc430645bd939ec4eb52f8f8db": {
          "model_module": "@jupyter-widgets/controls",
          "model_name": "HTMLModel",
          "model_module_version": "1.5.0",
          "state": {
            "_dom_classes": [],
            "_model_module": "@jupyter-widgets/controls",
            "_model_module_version": "1.5.0",
            "_model_name": "HTMLModel",
            "_view_count": null,
            "_view_module": "@jupyter-widgets/controls",
            "_view_module_version": "1.5.0",
            "_view_name": "HTMLView",
            "description": "",
            "description_tooltip": null,
            "layout": "IPY_MODEL_148027a171fa44b197e004130718017f",
            "placeholder": "​",
            "style": "IPY_MODEL_74693549fe514ddbafb3f2ed85d64dd9",
            "value": "Downloading (…)solve/main/vocab.txt: 100%"
          }
        },
        "abf32788220c4fb2b16e8b482e0c870e": {
          "model_module": "@jupyter-widgets/controls",
          "model_name": "FloatProgressModel",
          "model_module_version": "1.5.0",
          "state": {
            "_dom_classes": [],
            "_model_module": "@jupyter-widgets/controls",
            "_model_module_version": "1.5.0",
            "_model_name": "FloatProgressModel",
            "_view_count": null,
            "_view_module": "@jupyter-widgets/controls",
            "_view_module_version": "1.5.0",
            "_view_name": "ProgressView",
            "bar_style": "success",
            "description": "",
            "description_tooltip": null,
            "layout": "IPY_MODEL_419954c6d41b428d83da71012a91af25",
            "max": 333770,
            "min": 0,
            "orientation": "horizontal",
            "style": "IPY_MODEL_825c08457fb94078bccece7f6071f0da",
            "value": 333770
          }
        },
        "6278d00cf417468eb50b8c9e7068165a": {
          "model_module": "@jupyter-widgets/controls",
          "model_name": "HTMLModel",
          "model_module_version": "1.5.0",
          "state": {
            "_dom_classes": [],
            "_model_module": "@jupyter-widgets/controls",
            "_model_module_version": "1.5.0",
            "_model_name": "HTMLModel",
            "_view_count": null,
            "_view_module": "@jupyter-widgets/controls",
            "_view_module_version": "1.5.0",
            "_view_name": "HTMLView",
            "description": "",
            "description_tooltip": null,
            "layout": "IPY_MODEL_acf425e1827249d6af2675c3bacc1436",
            "placeholder": "​",
            "style": "IPY_MODEL_d7ae8b582e114931bfc30e5d4517f07a",
            "value": " 334k/334k [00:00&lt;00:00, 1.55MB/s]"
          }
        },
        "1e792a88e5e045ce90469654e00bde4b": {
          "model_module": "@jupyter-widgets/base",
          "model_name": "LayoutModel",
          "model_module_version": "1.2.0",
          "state": {
            "_model_module": "@jupyter-widgets/base",
            "_model_module_version": "1.2.0",
            "_model_name": "LayoutModel",
            "_view_count": null,
            "_view_module": "@jupyter-widgets/base",
            "_view_module_version": "1.2.0",
            "_view_name": "LayoutView",
            "align_content": null,
            "align_items": null,
            "align_self": null,
            "border": null,
            "bottom": null,
            "display": null,
            "flex": null,
            "flex_flow": null,
            "grid_area": null,
            "grid_auto_columns": null,
            "grid_auto_flow": null,
            "grid_auto_rows": null,
            "grid_column": null,
            "grid_gap": null,
            "grid_row": null,
            "grid_template_areas": null,
            "grid_template_columns": null,
            "grid_template_rows": null,
            "height": null,
            "justify_content": null,
            "justify_items": null,
            "left": null,
            "margin": null,
            "max_height": null,
            "max_width": null,
            "min_height": null,
            "min_width": null,
            "object_fit": null,
            "object_position": null,
            "order": null,
            "overflow": null,
            "overflow_x": null,
            "overflow_y": null,
            "padding": null,
            "right": null,
            "top": null,
            "visibility": null,
            "width": null
          }
        },
        "148027a171fa44b197e004130718017f": {
          "model_module": "@jupyter-widgets/base",
          "model_name": "LayoutModel",
          "model_module_version": "1.2.0",
          "state": {
            "_model_module": "@jupyter-widgets/base",
            "_model_module_version": "1.2.0",
            "_model_name": "LayoutModel",
            "_view_count": null,
            "_view_module": "@jupyter-widgets/base",
            "_view_module_version": "1.2.0",
            "_view_name": "LayoutView",
            "align_content": null,
            "align_items": null,
            "align_self": null,
            "border": null,
            "bottom": null,
            "display": null,
            "flex": null,
            "flex_flow": null,
            "grid_area": null,
            "grid_auto_columns": null,
            "grid_auto_flow": null,
            "grid_auto_rows": null,
            "grid_column": null,
            "grid_gap": null,
            "grid_row": null,
            "grid_template_areas": null,
            "grid_template_columns": null,
            "grid_template_rows": null,
            "height": null,
            "justify_content": null,
            "justify_items": null,
            "left": null,
            "margin": null,
            "max_height": null,
            "max_width": null,
            "min_height": null,
            "min_width": null,
            "object_fit": null,
            "object_position": null,
            "order": null,
            "overflow": null,
            "overflow_x": null,
            "overflow_y": null,
            "padding": null,
            "right": null,
            "top": null,
            "visibility": null,
            "width": null
          }
        },
        "74693549fe514ddbafb3f2ed85d64dd9": {
          "model_module": "@jupyter-widgets/controls",
          "model_name": "DescriptionStyleModel",
          "model_module_version": "1.5.0",
          "state": {
            "_model_module": "@jupyter-widgets/controls",
            "_model_module_version": "1.5.0",
            "_model_name": "DescriptionStyleModel",
            "_view_count": null,
            "_view_module": "@jupyter-widgets/base",
            "_view_module_version": "1.2.0",
            "_view_name": "StyleView",
            "description_width": ""
          }
        },
        "419954c6d41b428d83da71012a91af25": {
          "model_module": "@jupyter-widgets/base",
          "model_name": "LayoutModel",
          "model_module_version": "1.2.0",
          "state": {
            "_model_module": "@jupyter-widgets/base",
            "_model_module_version": "1.2.0",
            "_model_name": "LayoutModel",
            "_view_count": null,
            "_view_module": "@jupyter-widgets/base",
            "_view_module_version": "1.2.0",
            "_view_name": "LayoutView",
            "align_content": null,
            "align_items": null,
            "align_self": null,
            "border": null,
            "bottom": null,
            "display": null,
            "flex": null,
            "flex_flow": null,
            "grid_area": null,
            "grid_auto_columns": null,
            "grid_auto_flow": null,
            "grid_auto_rows": null,
            "grid_column": null,
            "grid_gap": null,
            "grid_row": null,
            "grid_template_areas": null,
            "grid_template_columns": null,
            "grid_template_rows": null,
            "height": null,
            "justify_content": null,
            "justify_items": null,
            "left": null,
            "margin": null,
            "max_height": null,
            "max_width": null,
            "min_height": null,
            "min_width": null,
            "object_fit": null,
            "object_position": null,
            "order": null,
            "overflow": null,
            "overflow_x": null,
            "overflow_y": null,
            "padding": null,
            "right": null,
            "top": null,
            "visibility": null,
            "width": null
          }
        },
        "825c08457fb94078bccece7f6071f0da": {
          "model_module": "@jupyter-widgets/controls",
          "model_name": "ProgressStyleModel",
          "model_module_version": "1.5.0",
          "state": {
            "_model_module": "@jupyter-widgets/controls",
            "_model_module_version": "1.5.0",
            "_model_name": "ProgressStyleModel",
            "_view_count": null,
            "_view_module": "@jupyter-widgets/base",
            "_view_module_version": "1.2.0",
            "_view_name": "StyleView",
            "bar_color": null,
            "description_width": ""
          }
        },
        "acf425e1827249d6af2675c3bacc1436": {
          "model_module": "@jupyter-widgets/base",
          "model_name": "LayoutModel",
          "model_module_version": "1.2.0",
          "state": {
            "_model_module": "@jupyter-widgets/base",
            "_model_module_version": "1.2.0",
            "_model_name": "LayoutModel",
            "_view_count": null,
            "_view_module": "@jupyter-widgets/base",
            "_view_module_version": "1.2.0",
            "_view_name": "LayoutView",
            "align_content": null,
            "align_items": null,
            "align_self": null,
            "border": null,
            "bottom": null,
            "display": null,
            "flex": null,
            "flex_flow": null,
            "grid_area": null,
            "grid_auto_columns": null,
            "grid_auto_flow": null,
            "grid_auto_rows": null,
            "grid_column": null,
            "grid_gap": null,
            "grid_row": null,
            "grid_template_areas": null,
            "grid_template_columns": null,
            "grid_template_rows": null,
            "height": null,
            "justify_content": null,
            "justify_items": null,
            "left": null,
            "margin": null,
            "max_height": null,
            "max_width": null,
            "min_height": null,
            "min_width": null,
            "object_fit": null,
            "object_position": null,
            "order": null,
            "overflow": null,
            "overflow_x": null,
            "overflow_y": null,
            "padding": null,
            "right": null,
            "top": null,
            "visibility": null,
            "width": null
          }
        },
        "d7ae8b582e114931bfc30e5d4517f07a": {
          "model_module": "@jupyter-widgets/controls",
          "model_name": "DescriptionStyleModel",
          "model_module_version": "1.5.0",
          "state": {
            "_model_module": "@jupyter-widgets/controls",
            "_model_module_version": "1.5.0",
            "_model_name": "DescriptionStyleModel",
            "_view_count": null,
            "_view_module": "@jupyter-widgets/base",
            "_view_module_version": "1.2.0",
            "_view_name": "StyleView",
            "description_width": ""
          }
        },
        "d854f000b86d4d67b73d1671ff93daa6": {
          "model_module": "@jupyter-widgets/controls",
          "model_name": "HBoxModel",
          "model_module_version": "1.5.0",
          "state": {
            "_dom_classes": [],
            "_model_module": "@jupyter-widgets/controls",
            "_model_module_version": "1.5.0",
            "_model_name": "HBoxModel",
            "_view_count": null,
            "_view_module": "@jupyter-widgets/controls",
            "_view_module_version": "1.5.0",
            "_view_name": "HBoxView",
            "box_style": "",
            "children": [
              "IPY_MODEL_40f1b504c12847f98e5a2714912b8cbd",
              "IPY_MODEL_faab7725ab7c49ec9b602d932a3b8ead",
              "IPY_MODEL_2f96b9f56ed3478fb681ff05c7fc1d28"
            ],
            "layout": "IPY_MODEL_0bd0148e87634808bcc636ea36df8872"
          }
        },
        "40f1b504c12847f98e5a2714912b8cbd": {
          "model_module": "@jupyter-widgets/controls",
          "model_name": "HTMLModel",
          "model_module_version": "1.5.0",
          "state": {
            "_dom_classes": [],
            "_model_module": "@jupyter-widgets/controls",
            "_model_module_version": "1.5.0",
            "_model_name": "HTMLModel",
            "_view_count": null,
            "_view_module": "@jupyter-widgets/controls",
            "_view_module_version": "1.5.0",
            "_view_name": "HTMLView",
            "description": "",
            "description_tooltip": null,
            "layout": "IPY_MODEL_e95f35f9dce542babe89d2829788d3e5",
            "placeholder": "​",
            "style": "IPY_MODEL_22b56a2e1e7d4071b2c32931d9b31011",
            "value": "Downloading (…)cial_tokens_map.json: 100%"
          }
        },
        "faab7725ab7c49ec9b602d932a3b8ead": {
          "model_module": "@jupyter-widgets/controls",
          "model_name": "FloatProgressModel",
          "model_module_version": "1.5.0",
          "state": {
            "_dom_classes": [],
            "_model_module": "@jupyter-widgets/controls",
            "_model_module_version": "1.5.0",
            "_model_name": "FloatProgressModel",
            "_view_count": null,
            "_view_module": "@jupyter-widgets/controls",
            "_view_module_version": "1.5.0",
            "_view_name": "ProgressView",
            "bar_style": "success",
            "description": "",
            "description_tooltip": null,
            "layout": "IPY_MODEL_3bfc04cf6be542bda61f41d376f15a79",
            "max": 112,
            "min": 0,
            "orientation": "horizontal",
            "style": "IPY_MODEL_c8271996095a4df59a14c1b6d79996de",
            "value": 112
          }
        },
        "2f96b9f56ed3478fb681ff05c7fc1d28": {
          "model_module": "@jupyter-widgets/controls",
          "model_name": "HTMLModel",
          "model_module_version": "1.5.0",
          "state": {
            "_dom_classes": [],
            "_model_module": "@jupyter-widgets/controls",
            "_model_module_version": "1.5.0",
            "_model_name": "HTMLModel",
            "_view_count": null,
            "_view_module": "@jupyter-widgets/controls",
            "_view_module_version": "1.5.0",
            "_view_name": "HTMLView",
            "description": "",
            "description_tooltip": null,
            "layout": "IPY_MODEL_a5fa8249427d49789a07f8f6c53b01f2",
            "placeholder": "​",
            "style": "IPY_MODEL_63c5161799174638a8dfc8e502c74005",
            "value": " 112/112 [00:00&lt;00:00, 1.56kB/s]"
          }
        },
        "0bd0148e87634808bcc636ea36df8872": {
          "model_module": "@jupyter-widgets/base",
          "model_name": "LayoutModel",
          "model_module_version": "1.2.0",
          "state": {
            "_model_module": "@jupyter-widgets/base",
            "_model_module_version": "1.2.0",
            "_model_name": "LayoutModel",
            "_view_count": null,
            "_view_module": "@jupyter-widgets/base",
            "_view_module_version": "1.2.0",
            "_view_name": "LayoutView",
            "align_content": null,
            "align_items": null,
            "align_self": null,
            "border": null,
            "bottom": null,
            "display": null,
            "flex": null,
            "flex_flow": null,
            "grid_area": null,
            "grid_auto_columns": null,
            "grid_auto_flow": null,
            "grid_auto_rows": null,
            "grid_column": null,
            "grid_gap": null,
            "grid_row": null,
            "grid_template_areas": null,
            "grid_template_columns": null,
            "grid_template_rows": null,
            "height": null,
            "justify_content": null,
            "justify_items": null,
            "left": null,
            "margin": null,
            "max_height": null,
            "max_width": null,
            "min_height": null,
            "min_width": null,
            "object_fit": null,
            "object_position": null,
            "order": null,
            "overflow": null,
            "overflow_x": null,
            "overflow_y": null,
            "padding": null,
            "right": null,
            "top": null,
            "visibility": null,
            "width": null
          }
        },
        "e95f35f9dce542babe89d2829788d3e5": {
          "model_module": "@jupyter-widgets/base",
          "model_name": "LayoutModel",
          "model_module_version": "1.2.0",
          "state": {
            "_model_module": "@jupyter-widgets/base",
            "_model_module_version": "1.2.0",
            "_model_name": "LayoutModel",
            "_view_count": null,
            "_view_module": "@jupyter-widgets/base",
            "_view_module_version": "1.2.0",
            "_view_name": "LayoutView",
            "align_content": null,
            "align_items": null,
            "align_self": null,
            "border": null,
            "bottom": null,
            "display": null,
            "flex": null,
            "flex_flow": null,
            "grid_area": null,
            "grid_auto_columns": null,
            "grid_auto_flow": null,
            "grid_auto_rows": null,
            "grid_column": null,
            "grid_gap": null,
            "grid_row": null,
            "grid_template_areas": null,
            "grid_template_columns": null,
            "grid_template_rows": null,
            "height": null,
            "justify_content": null,
            "justify_items": null,
            "left": null,
            "margin": null,
            "max_height": null,
            "max_width": null,
            "min_height": null,
            "min_width": null,
            "object_fit": null,
            "object_position": null,
            "order": null,
            "overflow": null,
            "overflow_x": null,
            "overflow_y": null,
            "padding": null,
            "right": null,
            "top": null,
            "visibility": null,
            "width": null
          }
        },
        "22b56a2e1e7d4071b2c32931d9b31011": {
          "model_module": "@jupyter-widgets/controls",
          "model_name": "DescriptionStyleModel",
          "model_module_version": "1.5.0",
          "state": {
            "_model_module": "@jupyter-widgets/controls",
            "_model_module_version": "1.5.0",
            "_model_name": "DescriptionStyleModel",
            "_view_count": null,
            "_view_module": "@jupyter-widgets/base",
            "_view_module_version": "1.2.0",
            "_view_name": "StyleView",
            "description_width": ""
          }
        },
        "3bfc04cf6be542bda61f41d376f15a79": {
          "model_module": "@jupyter-widgets/base",
          "model_name": "LayoutModel",
          "model_module_version": "1.2.0",
          "state": {
            "_model_module": "@jupyter-widgets/base",
            "_model_module_version": "1.2.0",
            "_model_name": "LayoutModel",
            "_view_count": null,
            "_view_module": "@jupyter-widgets/base",
            "_view_module_version": "1.2.0",
            "_view_name": "LayoutView",
            "align_content": null,
            "align_items": null,
            "align_self": null,
            "border": null,
            "bottom": null,
            "display": null,
            "flex": null,
            "flex_flow": null,
            "grid_area": null,
            "grid_auto_columns": null,
            "grid_auto_flow": null,
            "grid_auto_rows": null,
            "grid_column": null,
            "grid_gap": null,
            "grid_row": null,
            "grid_template_areas": null,
            "grid_template_columns": null,
            "grid_template_rows": null,
            "height": null,
            "justify_content": null,
            "justify_items": null,
            "left": null,
            "margin": null,
            "max_height": null,
            "max_width": null,
            "min_height": null,
            "min_width": null,
            "object_fit": null,
            "object_position": null,
            "order": null,
            "overflow": null,
            "overflow_x": null,
            "overflow_y": null,
            "padding": null,
            "right": null,
            "top": null,
            "visibility": null,
            "width": null
          }
        },
        "c8271996095a4df59a14c1b6d79996de": {
          "model_module": "@jupyter-widgets/controls",
          "model_name": "ProgressStyleModel",
          "model_module_version": "1.5.0",
          "state": {
            "_model_module": "@jupyter-widgets/controls",
            "_model_module_version": "1.5.0",
            "_model_name": "ProgressStyleModel",
            "_view_count": null,
            "_view_module": "@jupyter-widgets/base",
            "_view_module_version": "1.2.0",
            "_view_name": "StyleView",
            "bar_color": null,
            "description_width": ""
          }
        },
        "a5fa8249427d49789a07f8f6c53b01f2": {
          "model_module": "@jupyter-widgets/base",
          "model_name": "LayoutModel",
          "model_module_version": "1.2.0",
          "state": {
            "_model_module": "@jupyter-widgets/base",
            "_model_module_version": "1.2.0",
            "_model_name": "LayoutModel",
            "_view_count": null,
            "_view_module": "@jupyter-widgets/base",
            "_view_module_version": "1.2.0",
            "_view_name": "LayoutView",
            "align_content": null,
            "align_items": null,
            "align_self": null,
            "border": null,
            "bottom": null,
            "display": null,
            "flex": null,
            "flex_flow": null,
            "grid_area": null,
            "grid_auto_columns": null,
            "grid_auto_flow": null,
            "grid_auto_rows": null,
            "grid_column": null,
            "grid_gap": null,
            "grid_row": null,
            "grid_template_areas": null,
            "grid_template_columns": null,
            "grid_template_rows": null,
            "height": null,
            "justify_content": null,
            "justify_items": null,
            "left": null,
            "margin": null,
            "max_height": null,
            "max_width": null,
            "min_height": null,
            "min_width": null,
            "object_fit": null,
            "object_position": null,
            "order": null,
            "overflow": null,
            "overflow_x": null,
            "overflow_y": null,
            "padding": null,
            "right": null,
            "top": null,
            "visibility": null,
            "width": null
          }
        },
        "63c5161799174638a8dfc8e502c74005": {
          "model_module": "@jupyter-widgets/controls",
          "model_name": "DescriptionStyleModel",
          "model_module_version": "1.5.0",
          "state": {
            "_model_module": "@jupyter-widgets/controls",
            "_model_module_version": "1.5.0",
            "_model_name": "DescriptionStyleModel",
            "_view_count": null,
            "_view_module": "@jupyter-widgets/base",
            "_view_module_version": "1.2.0",
            "_view_name": "StyleView",
            "description_width": ""
          }
        },
        "a7711aaa54a440fb8122c5df7effb622": {
          "model_module": "@jupyter-widgets/controls",
          "model_name": "HBoxModel",
          "model_module_version": "1.5.0",
          "state": {
            "_dom_classes": [],
            "_model_module": "@jupyter-widgets/controls",
            "_model_module_version": "1.5.0",
            "_model_name": "HBoxModel",
            "_view_count": null,
            "_view_module": "@jupyter-widgets/controls",
            "_view_module_version": "1.5.0",
            "_view_name": "HBoxView",
            "box_style": "",
            "children": [
              "IPY_MODEL_76da0eb01246467e811b303cbf46c7e7",
              "IPY_MODEL_8f05131f038c4d4bb9cdcdb03d5294e5",
              "IPY_MODEL_fe87643510654e1aa0c09d4baef92381"
            ],
            "layout": "IPY_MODEL_fdca15bcd211492280b7077e598dc1b4"
          }
        },
        "76da0eb01246467e811b303cbf46c7e7": {
          "model_module": "@jupyter-widgets/controls",
          "model_name": "HTMLModel",
          "model_module_version": "1.5.0",
          "state": {
            "_dom_classes": [],
            "_model_module": "@jupyter-widgets/controls",
            "_model_module_version": "1.5.0",
            "_model_name": "HTMLModel",
            "_view_count": null,
            "_view_module": "@jupyter-widgets/controls",
            "_view_module_version": "1.5.0",
            "_view_name": "HTMLView",
            "description": "",
            "description_tooltip": null,
            "layout": "IPY_MODEL_3b770ff70642488cac77ff2792b57991",
            "placeholder": "​",
            "style": "IPY_MODEL_1d0b1ebe181c47519838db8a426df911",
            "value": "Downloading (…)okenizer_config.json: 100%"
          }
        },
        "8f05131f038c4d4bb9cdcdb03d5294e5": {
          "model_module": "@jupyter-widgets/controls",
          "model_name": "FloatProgressModel",
          "model_module_version": "1.5.0",
          "state": {
            "_dom_classes": [],
            "_model_module": "@jupyter-widgets/controls",
            "_model_module_version": "1.5.0",
            "_model_name": "FloatProgressModel",
            "_view_count": null,
            "_view_module": "@jupyter-widgets/controls",
            "_view_module_version": "1.5.0",
            "_view_name": "ProgressView",
            "bar_style": "success",
            "description": "",
            "description_tooltip": null,
            "layout": "IPY_MODEL_f31e29ffb103407697dd9d97e8ba5b6c",
            "max": 62,
            "min": 0,
            "orientation": "horizontal",
            "style": "IPY_MODEL_9e2fc253a5c645af85a7e73b6297f2bb",
            "value": 62
          }
        },
        "fe87643510654e1aa0c09d4baef92381": {
          "model_module": "@jupyter-widgets/controls",
          "model_name": "HTMLModel",
          "model_module_version": "1.5.0",
          "state": {
            "_dom_classes": [],
            "_model_module": "@jupyter-widgets/controls",
            "_model_module_version": "1.5.0",
            "_model_name": "HTMLModel",
            "_view_count": null,
            "_view_module": "@jupyter-widgets/controls",
            "_view_module_version": "1.5.0",
            "_view_name": "HTMLView",
            "description": "",
            "description_tooltip": null,
            "layout": "IPY_MODEL_7e201bc3771f4160a0a44ddf1f0c6a28",
            "placeholder": "​",
            "style": "IPY_MODEL_0db2eed6b90d4361bc52548ac269397c",
            "value": " 62.0/62.0 [00:00&lt;00:00, 833B/s]"
          }
        },
        "fdca15bcd211492280b7077e598dc1b4": {
          "model_module": "@jupyter-widgets/base",
          "model_name": "LayoutModel",
          "model_module_version": "1.2.0",
          "state": {
            "_model_module": "@jupyter-widgets/base",
            "_model_module_version": "1.2.0",
            "_model_name": "LayoutModel",
            "_view_count": null,
            "_view_module": "@jupyter-widgets/base",
            "_view_module_version": "1.2.0",
            "_view_name": "LayoutView",
            "align_content": null,
            "align_items": null,
            "align_self": null,
            "border": null,
            "bottom": null,
            "display": null,
            "flex": null,
            "flex_flow": null,
            "grid_area": null,
            "grid_auto_columns": null,
            "grid_auto_flow": null,
            "grid_auto_rows": null,
            "grid_column": null,
            "grid_gap": null,
            "grid_row": null,
            "grid_template_areas": null,
            "grid_template_columns": null,
            "grid_template_rows": null,
            "height": null,
            "justify_content": null,
            "justify_items": null,
            "left": null,
            "margin": null,
            "max_height": null,
            "max_width": null,
            "min_height": null,
            "min_width": null,
            "object_fit": null,
            "object_position": null,
            "order": null,
            "overflow": null,
            "overflow_x": null,
            "overflow_y": null,
            "padding": null,
            "right": null,
            "top": null,
            "visibility": null,
            "width": null
          }
        },
        "3b770ff70642488cac77ff2792b57991": {
          "model_module": "@jupyter-widgets/base",
          "model_name": "LayoutModel",
          "model_module_version": "1.2.0",
          "state": {
            "_model_module": "@jupyter-widgets/base",
            "_model_module_version": "1.2.0",
            "_model_name": "LayoutModel",
            "_view_count": null,
            "_view_module": "@jupyter-widgets/base",
            "_view_module_version": "1.2.0",
            "_view_name": "LayoutView",
            "align_content": null,
            "align_items": null,
            "align_self": null,
            "border": null,
            "bottom": null,
            "display": null,
            "flex": null,
            "flex_flow": null,
            "grid_area": null,
            "grid_auto_columns": null,
            "grid_auto_flow": null,
            "grid_auto_rows": null,
            "grid_column": null,
            "grid_gap": null,
            "grid_row": null,
            "grid_template_areas": null,
            "grid_template_columns": null,
            "grid_template_rows": null,
            "height": null,
            "justify_content": null,
            "justify_items": null,
            "left": null,
            "margin": null,
            "max_height": null,
            "max_width": null,
            "min_height": null,
            "min_width": null,
            "object_fit": null,
            "object_position": null,
            "order": null,
            "overflow": null,
            "overflow_x": null,
            "overflow_y": null,
            "padding": null,
            "right": null,
            "top": null,
            "visibility": null,
            "width": null
          }
        },
        "1d0b1ebe181c47519838db8a426df911": {
          "model_module": "@jupyter-widgets/controls",
          "model_name": "DescriptionStyleModel",
          "model_module_version": "1.5.0",
          "state": {
            "_model_module": "@jupyter-widgets/controls",
            "_model_module_version": "1.5.0",
            "_model_name": "DescriptionStyleModel",
            "_view_count": null,
            "_view_module": "@jupyter-widgets/base",
            "_view_module_version": "1.2.0",
            "_view_name": "StyleView",
            "description_width": ""
          }
        },
        "f31e29ffb103407697dd9d97e8ba5b6c": {
          "model_module": "@jupyter-widgets/base",
          "model_name": "LayoutModel",
          "model_module_version": "1.2.0",
          "state": {
            "_model_module": "@jupyter-widgets/base",
            "_model_module_version": "1.2.0",
            "_model_name": "LayoutModel",
            "_view_count": null,
            "_view_module": "@jupyter-widgets/base",
            "_view_module_version": "1.2.0",
            "_view_name": "LayoutView",
            "align_content": null,
            "align_items": null,
            "align_self": null,
            "border": null,
            "bottom": null,
            "display": null,
            "flex": null,
            "flex_flow": null,
            "grid_area": null,
            "grid_auto_columns": null,
            "grid_auto_flow": null,
            "grid_auto_rows": null,
            "grid_column": null,
            "grid_gap": null,
            "grid_row": null,
            "grid_template_areas": null,
            "grid_template_columns": null,
            "grid_template_rows": null,
            "height": null,
            "justify_content": null,
            "justify_items": null,
            "left": null,
            "margin": null,
            "max_height": null,
            "max_width": null,
            "min_height": null,
            "min_width": null,
            "object_fit": null,
            "object_position": null,
            "order": null,
            "overflow": null,
            "overflow_x": null,
            "overflow_y": null,
            "padding": null,
            "right": null,
            "top": null,
            "visibility": null,
            "width": null
          }
        },
        "9e2fc253a5c645af85a7e73b6297f2bb": {
          "model_module": "@jupyter-widgets/controls",
          "model_name": "ProgressStyleModel",
          "model_module_version": "1.5.0",
          "state": {
            "_model_module": "@jupyter-widgets/controls",
            "_model_module_version": "1.5.0",
            "_model_name": "ProgressStyleModel",
            "_view_count": null,
            "_view_module": "@jupyter-widgets/base",
            "_view_module_version": "1.2.0",
            "_view_name": "StyleView",
            "bar_color": null,
            "description_width": ""
          }
        },
        "7e201bc3771f4160a0a44ddf1f0c6a28": {
          "model_module": "@jupyter-widgets/base",
          "model_name": "LayoutModel",
          "model_module_version": "1.2.0",
          "state": {
            "_model_module": "@jupyter-widgets/base",
            "_model_module_version": "1.2.0",
            "_model_name": "LayoutModel",
            "_view_count": null,
            "_view_module": "@jupyter-widgets/base",
            "_view_module_version": "1.2.0",
            "_view_name": "LayoutView",
            "align_content": null,
            "align_items": null,
            "align_self": null,
            "border": null,
            "bottom": null,
            "display": null,
            "flex": null,
            "flex_flow": null,
            "grid_area": null,
            "grid_auto_columns": null,
            "grid_auto_flow": null,
            "grid_auto_rows": null,
            "grid_column": null,
            "grid_gap": null,
            "grid_row": null,
            "grid_template_areas": null,
            "grid_template_columns": null,
            "grid_template_rows": null,
            "height": null,
            "justify_content": null,
            "justify_items": null,
            "left": null,
            "margin": null,
            "max_height": null,
            "max_width": null,
            "min_height": null,
            "min_width": null,
            "object_fit": null,
            "object_position": null,
            "order": null,
            "overflow": null,
            "overflow_x": null,
            "overflow_y": null,
            "padding": null,
            "right": null,
            "top": null,
            "visibility": null,
            "width": null
          }
        },
        "0db2eed6b90d4361bc52548ac269397c": {
          "model_module": "@jupyter-widgets/controls",
          "model_name": "DescriptionStyleModel",
          "model_module_version": "1.5.0",
          "state": {
            "_model_module": "@jupyter-widgets/controls",
            "_model_module_version": "1.5.0",
            "_model_name": "DescriptionStyleModel",
            "_view_count": null,
            "_view_module": "@jupyter-widgets/base",
            "_view_module_version": "1.2.0",
            "_view_name": "StyleView",
            "description_width": ""
          }
        },
        "5e0aadfea0434455a3c0a1dbeee8e249": {
          "model_module": "@jupyter-widgets/controls",
          "model_name": "HBoxModel",
          "model_module_version": "1.5.0",
          "state": {
            "_dom_classes": [],
            "_model_module": "@jupyter-widgets/controls",
            "_model_module_version": "1.5.0",
            "_model_name": "HBoxModel",
            "_view_count": null,
            "_view_module": "@jupyter-widgets/controls",
            "_view_module_version": "1.5.0",
            "_view_name": "HBoxView",
            "box_style": "",
            "children": [
              "IPY_MODEL_8e67cd4429dd453e8e4e0ad11a92059a",
              "IPY_MODEL_1b6eec996d8344138c19ca57b67ef4cb",
              "IPY_MODEL_ddac87b0353f4f3096f34d469e2e3505"
            ],
            "layout": "IPY_MODEL_4f16a3956b9d4ae18e67130ef325d55f"
          }
        },
        "8e67cd4429dd453e8e4e0ad11a92059a": {
          "model_module": "@jupyter-widgets/controls",
          "model_name": "HTMLModel",
          "model_module_version": "1.5.0",
          "state": {
            "_dom_classes": [],
            "_model_module": "@jupyter-widgets/controls",
            "_model_module_version": "1.5.0",
            "_model_name": "HTMLModel",
            "_view_count": null,
            "_view_module": "@jupyter-widgets/controls",
            "_view_module_version": "1.5.0",
            "_view_name": "HTMLView",
            "description": "",
            "description_tooltip": null,
            "layout": "IPY_MODEL_6ef0456aa30e42ac861b86b0553800d4",
            "placeholder": "​",
            "style": "IPY_MODEL_dc09fef1eec24d4099b9be1d037f69e9",
            "value": "Downloading (…)lve/main/config.json: 100%"
          }
        },
        "1b6eec996d8344138c19ca57b67ef4cb": {
          "model_module": "@jupyter-widgets/controls",
          "model_name": "FloatProgressModel",
          "model_module_version": "1.5.0",
          "state": {
            "_dom_classes": [],
            "_model_module": "@jupyter-widgets/controls",
            "_model_module_version": "1.5.0",
            "_model_name": "FloatProgressModel",
            "_view_count": null,
            "_view_module": "@jupyter-widgets/controls",
            "_view_module_version": "1.5.0",
            "_view_name": "ProgressView",
            "bar_style": "success",
            "description": "",
            "description_tooltip": null,
            "layout": "IPY_MODEL_a48c1cff4b394cac81fc054cda741d9d",
            "max": 491,
            "min": 0,
            "orientation": "horizontal",
            "style": "IPY_MODEL_bcf58682e77a4b1d8339fc9a08c7468a",
            "value": 491
          }
        },
        "ddac87b0353f4f3096f34d469e2e3505": {
          "model_module": "@jupyter-widgets/controls",
          "model_name": "HTMLModel",
          "model_module_version": "1.5.0",
          "state": {
            "_dom_classes": [],
            "_model_module": "@jupyter-widgets/controls",
            "_model_module_version": "1.5.0",
            "_model_name": "HTMLModel",
            "_view_count": null,
            "_view_module": "@jupyter-widgets/controls",
            "_view_module_version": "1.5.0",
            "_view_name": "HTMLView",
            "description": "",
            "description_tooltip": null,
            "layout": "IPY_MODEL_169c26dcd2ac48cb9e39f965f3bbf3c3",
            "placeholder": "​",
            "style": "IPY_MODEL_b14fbb63ff9046089e45b14b423384d3",
            "value": " 491/491 [00:00&lt;00:00, 5.80kB/s]"
          }
        },
        "4f16a3956b9d4ae18e67130ef325d55f": {
          "model_module": "@jupyter-widgets/base",
          "model_name": "LayoutModel",
          "model_module_version": "1.2.0",
          "state": {
            "_model_module": "@jupyter-widgets/base",
            "_model_module_version": "1.2.0",
            "_model_name": "LayoutModel",
            "_view_count": null,
            "_view_module": "@jupyter-widgets/base",
            "_view_module_version": "1.2.0",
            "_view_name": "LayoutView",
            "align_content": null,
            "align_items": null,
            "align_self": null,
            "border": null,
            "bottom": null,
            "display": null,
            "flex": null,
            "flex_flow": null,
            "grid_area": null,
            "grid_auto_columns": null,
            "grid_auto_flow": null,
            "grid_auto_rows": null,
            "grid_column": null,
            "grid_gap": null,
            "grid_row": null,
            "grid_template_areas": null,
            "grid_template_columns": null,
            "grid_template_rows": null,
            "height": null,
            "justify_content": null,
            "justify_items": null,
            "left": null,
            "margin": null,
            "max_height": null,
            "max_width": null,
            "min_height": null,
            "min_width": null,
            "object_fit": null,
            "object_position": null,
            "order": null,
            "overflow": null,
            "overflow_x": null,
            "overflow_y": null,
            "padding": null,
            "right": null,
            "top": null,
            "visibility": null,
            "width": null
          }
        },
        "6ef0456aa30e42ac861b86b0553800d4": {
          "model_module": "@jupyter-widgets/base",
          "model_name": "LayoutModel",
          "model_module_version": "1.2.0",
          "state": {
            "_model_module": "@jupyter-widgets/base",
            "_model_module_version": "1.2.0",
            "_model_name": "LayoutModel",
            "_view_count": null,
            "_view_module": "@jupyter-widgets/base",
            "_view_module_version": "1.2.0",
            "_view_name": "LayoutView",
            "align_content": null,
            "align_items": null,
            "align_self": null,
            "border": null,
            "bottom": null,
            "display": null,
            "flex": null,
            "flex_flow": null,
            "grid_area": null,
            "grid_auto_columns": null,
            "grid_auto_flow": null,
            "grid_auto_rows": null,
            "grid_column": null,
            "grid_gap": null,
            "grid_row": null,
            "grid_template_areas": null,
            "grid_template_columns": null,
            "grid_template_rows": null,
            "height": null,
            "justify_content": null,
            "justify_items": null,
            "left": null,
            "margin": null,
            "max_height": null,
            "max_width": null,
            "min_height": null,
            "min_width": null,
            "object_fit": null,
            "object_position": null,
            "order": null,
            "overflow": null,
            "overflow_x": null,
            "overflow_y": null,
            "padding": null,
            "right": null,
            "top": null,
            "visibility": null,
            "width": null
          }
        },
        "dc09fef1eec24d4099b9be1d037f69e9": {
          "model_module": "@jupyter-widgets/controls",
          "model_name": "DescriptionStyleModel",
          "model_module_version": "1.5.0",
          "state": {
            "_model_module": "@jupyter-widgets/controls",
            "_model_module_version": "1.5.0",
            "_model_name": "DescriptionStyleModel",
            "_view_count": null,
            "_view_module": "@jupyter-widgets/base",
            "_view_module_version": "1.2.0",
            "_view_name": "StyleView",
            "description_width": ""
          }
        },
        "a48c1cff4b394cac81fc054cda741d9d": {
          "model_module": "@jupyter-widgets/base",
          "model_name": "LayoutModel",
          "model_module_version": "1.2.0",
          "state": {
            "_model_module": "@jupyter-widgets/base",
            "_model_module_version": "1.2.0",
            "_model_name": "LayoutModel",
            "_view_count": null,
            "_view_module": "@jupyter-widgets/base",
            "_view_module_version": "1.2.0",
            "_view_name": "LayoutView",
            "align_content": null,
            "align_items": null,
            "align_self": null,
            "border": null,
            "bottom": null,
            "display": null,
            "flex": null,
            "flex_flow": null,
            "grid_area": null,
            "grid_auto_columns": null,
            "grid_auto_flow": null,
            "grid_auto_rows": null,
            "grid_column": null,
            "grid_gap": null,
            "grid_row": null,
            "grid_template_areas": null,
            "grid_template_columns": null,
            "grid_template_rows": null,
            "height": null,
            "justify_content": null,
            "justify_items": null,
            "left": null,
            "margin": null,
            "max_height": null,
            "max_width": null,
            "min_height": null,
            "min_width": null,
            "object_fit": null,
            "object_position": null,
            "order": null,
            "overflow": null,
            "overflow_x": null,
            "overflow_y": null,
            "padding": null,
            "right": null,
            "top": null,
            "visibility": null,
            "width": null
          }
        },
        "bcf58682e77a4b1d8339fc9a08c7468a": {
          "model_module": "@jupyter-widgets/controls",
          "model_name": "ProgressStyleModel",
          "model_module_version": "1.5.0",
          "state": {
            "_model_module": "@jupyter-widgets/controls",
            "_model_module_version": "1.5.0",
            "_model_name": "ProgressStyleModel",
            "_view_count": null,
            "_view_module": "@jupyter-widgets/base",
            "_view_module_version": "1.2.0",
            "_view_name": "StyleView",
            "bar_color": null,
            "description_width": ""
          }
        },
        "169c26dcd2ac48cb9e39f965f3bbf3c3": {
          "model_module": "@jupyter-widgets/base",
          "model_name": "LayoutModel",
          "model_module_version": "1.2.0",
          "state": {
            "_model_module": "@jupyter-widgets/base",
            "_model_module_version": "1.2.0",
            "_model_name": "LayoutModel",
            "_view_count": null,
            "_view_module": "@jupyter-widgets/base",
            "_view_module_version": "1.2.0",
            "_view_name": "LayoutView",
            "align_content": null,
            "align_items": null,
            "align_self": null,
            "border": null,
            "bottom": null,
            "display": null,
            "flex": null,
            "flex_flow": null,
            "grid_area": null,
            "grid_auto_columns": null,
            "grid_auto_flow": null,
            "grid_auto_rows": null,
            "grid_column": null,
            "grid_gap": null,
            "grid_row": null,
            "grid_template_areas": null,
            "grid_template_columns": null,
            "grid_template_rows": null,
            "height": null,
            "justify_content": null,
            "justify_items": null,
            "left": null,
            "margin": null,
            "max_height": null,
            "max_width": null,
            "min_height": null,
            "min_width": null,
            "object_fit": null,
            "object_position": null,
            "order": null,
            "overflow": null,
            "overflow_x": null,
            "overflow_y": null,
            "padding": null,
            "right": null,
            "top": null,
            "visibility": null,
            "width": null
          }
        },
        "b14fbb63ff9046089e45b14b423384d3": {
          "model_module": "@jupyter-widgets/controls",
          "model_name": "DescriptionStyleModel",
          "model_module_version": "1.5.0",
          "state": {
            "_model_module": "@jupyter-widgets/controls",
            "_model_module_version": "1.5.0",
            "_model_name": "DescriptionStyleModel",
            "_view_count": null,
            "_view_module": "@jupyter-widgets/base",
            "_view_module_version": "1.2.0",
            "_view_name": "StyleView",
            "description_width": ""
          }
        },
        "78c0d6e34be246b09d51e5d8a801c3fa": {
          "model_module": "@jupyter-widgets/controls",
          "model_name": "HBoxModel",
          "model_module_version": "1.5.0",
          "state": {
            "_dom_classes": [],
            "_model_module": "@jupyter-widgets/controls",
            "_model_module_version": "1.5.0",
            "_model_name": "HBoxModel",
            "_view_count": null,
            "_view_module": "@jupyter-widgets/controls",
            "_view_module_version": "1.5.0",
            "_view_name": "HBoxView",
            "box_style": "",
            "children": [
              "IPY_MODEL_e096405681fd4175a1db7be968e976b5",
              "IPY_MODEL_d6a0363fd73843688b40ef7969be37db",
              "IPY_MODEL_096c1ad0f7f34744ad245962c2975172"
            ],
            "layout": "IPY_MODEL_28f2479052d74012a39f2ee526f549cc"
          }
        },
        "e096405681fd4175a1db7be968e976b5": {
          "model_module": "@jupyter-widgets/controls",
          "model_name": "HTMLModel",
          "model_module_version": "1.5.0",
          "state": {
            "_dom_classes": [],
            "_model_module": "@jupyter-widgets/controls",
            "_model_module_version": "1.5.0",
            "_model_name": "HTMLModel",
            "_view_count": null,
            "_view_module": "@jupyter-widgets/controls",
            "_view_module_version": "1.5.0",
            "_view_name": "HTMLView",
            "description": "",
            "description_tooltip": null,
            "layout": "IPY_MODEL_7fb62ae95a174b00b00aa603d3415ed4",
            "placeholder": "​",
            "style": "IPY_MODEL_3509b93b92cd4aba833bffd3708a36f7",
            "value": "Downloading (…)&quot;tf_model.h5&quot;;: 100%"
          }
        },
        "d6a0363fd73843688b40ef7969be37db": {
          "model_module": "@jupyter-widgets/controls",
          "model_name": "FloatProgressModel",
          "model_module_version": "1.5.0",
          "state": {
            "_dom_classes": [],
            "_model_module": "@jupyter-widgets/controls",
            "_model_module_version": "1.5.0",
            "_model_name": "FloatProgressModel",
            "_view_count": null,
            "_view_module": "@jupyter-widgets/controls",
            "_view_module_version": "1.5.0",
            "_view_name": "ProgressView",
            "bar_style": "success",
            "description": "",
            "description_tooltip": null,
            "layout": "IPY_MODEL_a981726599a24315b84fb1c54a47a197",
            "max": 545136632,
            "min": 0,
            "orientation": "horizontal",
            "style": "IPY_MODEL_b3f3e3858711437691635635bc38d118",
            "value": 545136632
          }
        },
        "096c1ad0f7f34744ad245962c2975172": {
          "model_module": "@jupyter-widgets/controls",
          "model_name": "HTMLModel",
          "model_module_version": "1.5.0",
          "state": {
            "_dom_classes": [],
            "_model_module": "@jupyter-widgets/controls",
            "_model_module_version": "1.5.0",
            "_model_name": "HTMLModel",
            "_view_count": null,
            "_view_module": "@jupyter-widgets/controls",
            "_view_module_version": "1.5.0",
            "_view_name": "HTMLView",
            "description": "",
            "description_tooltip": null,
            "layout": "IPY_MODEL_99d0fa82c8f043039d878b70dfdc9d7c",
            "placeholder": "​",
            "style": "IPY_MODEL_618e408b51f8409389f9b445559ade8b",
            "value": " 545M/545M [00:03&lt;00:00, 178MB/s]"
          }
        },
        "28f2479052d74012a39f2ee526f549cc": {
          "model_module": "@jupyter-widgets/base",
          "model_name": "LayoutModel",
          "model_module_version": "1.2.0",
          "state": {
            "_model_module": "@jupyter-widgets/base",
            "_model_module_version": "1.2.0",
            "_model_name": "LayoutModel",
            "_view_count": null,
            "_view_module": "@jupyter-widgets/base",
            "_view_module_version": "1.2.0",
            "_view_name": "LayoutView",
            "align_content": null,
            "align_items": null,
            "align_self": null,
            "border": null,
            "bottom": null,
            "display": null,
            "flex": null,
            "flex_flow": null,
            "grid_area": null,
            "grid_auto_columns": null,
            "grid_auto_flow": null,
            "grid_auto_rows": null,
            "grid_column": null,
            "grid_gap": null,
            "grid_row": null,
            "grid_template_areas": null,
            "grid_template_columns": null,
            "grid_template_rows": null,
            "height": null,
            "justify_content": null,
            "justify_items": null,
            "left": null,
            "margin": null,
            "max_height": null,
            "max_width": null,
            "min_height": null,
            "min_width": null,
            "object_fit": null,
            "object_position": null,
            "order": null,
            "overflow": null,
            "overflow_x": null,
            "overflow_y": null,
            "padding": null,
            "right": null,
            "top": null,
            "visibility": null,
            "width": null
          }
        },
        "7fb62ae95a174b00b00aa603d3415ed4": {
          "model_module": "@jupyter-widgets/base",
          "model_name": "LayoutModel",
          "model_module_version": "1.2.0",
          "state": {
            "_model_module": "@jupyter-widgets/base",
            "_model_module_version": "1.2.0",
            "_model_name": "LayoutModel",
            "_view_count": null,
            "_view_module": "@jupyter-widgets/base",
            "_view_module_version": "1.2.0",
            "_view_name": "LayoutView",
            "align_content": null,
            "align_items": null,
            "align_self": null,
            "border": null,
            "bottom": null,
            "display": null,
            "flex": null,
            "flex_flow": null,
            "grid_area": null,
            "grid_auto_columns": null,
            "grid_auto_flow": null,
            "grid_auto_rows": null,
            "grid_column": null,
            "grid_gap": null,
            "grid_row": null,
            "grid_template_areas": null,
            "grid_template_columns": null,
            "grid_template_rows": null,
            "height": null,
            "justify_content": null,
            "justify_items": null,
            "left": null,
            "margin": null,
            "max_height": null,
            "max_width": null,
            "min_height": null,
            "min_width": null,
            "object_fit": null,
            "object_position": null,
            "order": null,
            "overflow": null,
            "overflow_x": null,
            "overflow_y": null,
            "padding": null,
            "right": null,
            "top": null,
            "visibility": null,
            "width": null
          }
        },
        "3509b93b92cd4aba833bffd3708a36f7": {
          "model_module": "@jupyter-widgets/controls",
          "model_name": "DescriptionStyleModel",
          "model_module_version": "1.5.0",
          "state": {
            "_model_module": "@jupyter-widgets/controls",
            "_model_module_version": "1.5.0",
            "_model_name": "DescriptionStyleModel",
            "_view_count": null,
            "_view_module": "@jupyter-widgets/base",
            "_view_module_version": "1.2.0",
            "_view_name": "StyleView",
            "description_width": ""
          }
        },
        "a981726599a24315b84fb1c54a47a197": {
          "model_module": "@jupyter-widgets/base",
          "model_name": "LayoutModel",
          "model_module_version": "1.2.0",
          "state": {
            "_model_module": "@jupyter-widgets/base",
            "_model_module_version": "1.2.0",
            "_model_name": "LayoutModel",
            "_view_count": null,
            "_view_module": "@jupyter-widgets/base",
            "_view_module_version": "1.2.0",
            "_view_name": "LayoutView",
            "align_content": null,
            "align_items": null,
            "align_self": null,
            "border": null,
            "bottom": null,
            "display": null,
            "flex": null,
            "flex_flow": null,
            "grid_area": null,
            "grid_auto_columns": null,
            "grid_auto_flow": null,
            "grid_auto_rows": null,
            "grid_column": null,
            "grid_gap": null,
            "grid_row": null,
            "grid_template_areas": null,
            "grid_template_columns": null,
            "grid_template_rows": null,
            "height": null,
            "justify_content": null,
            "justify_items": null,
            "left": null,
            "margin": null,
            "max_height": null,
            "max_width": null,
            "min_height": null,
            "min_width": null,
            "object_fit": null,
            "object_position": null,
            "order": null,
            "overflow": null,
            "overflow_x": null,
            "overflow_y": null,
            "padding": null,
            "right": null,
            "top": null,
            "visibility": null,
            "width": null
          }
        },
        "b3f3e3858711437691635635bc38d118": {
          "model_module": "@jupyter-widgets/controls",
          "model_name": "ProgressStyleModel",
          "model_module_version": "1.5.0",
          "state": {
            "_model_module": "@jupyter-widgets/controls",
            "_model_module_version": "1.5.0",
            "_model_name": "ProgressStyleModel",
            "_view_count": null,
            "_view_module": "@jupyter-widgets/base",
            "_view_module_version": "1.2.0",
            "_view_name": "StyleView",
            "bar_color": null,
            "description_width": ""
          }
        },
        "99d0fa82c8f043039d878b70dfdc9d7c": {
          "model_module": "@jupyter-widgets/base",
          "model_name": "LayoutModel",
          "model_module_version": "1.2.0",
          "state": {
            "_model_module": "@jupyter-widgets/base",
            "_model_module_version": "1.2.0",
            "_model_name": "LayoutModel",
            "_view_count": null,
            "_view_module": "@jupyter-widgets/base",
            "_view_module_version": "1.2.0",
            "_view_name": "LayoutView",
            "align_content": null,
            "align_items": null,
            "align_self": null,
            "border": null,
            "bottom": null,
            "display": null,
            "flex": null,
            "flex_flow": null,
            "grid_area": null,
            "grid_auto_columns": null,
            "grid_auto_flow": null,
            "grid_auto_rows": null,
            "grid_column": null,
            "grid_gap": null,
            "grid_row": null,
            "grid_template_areas": null,
            "grid_template_columns": null,
            "grid_template_rows": null,
            "height": null,
            "justify_content": null,
            "justify_items": null,
            "left": null,
            "margin": null,
            "max_height": null,
            "max_width": null,
            "min_height": null,
            "min_width": null,
            "object_fit": null,
            "object_position": null,
            "order": null,
            "overflow": null,
            "overflow_x": null,
            "overflow_y": null,
            "padding": null,
            "right": null,
            "top": null,
            "visibility": null,
            "width": null
          }
        },
        "618e408b51f8409389f9b445559ade8b": {
          "model_module": "@jupyter-widgets/controls",
          "model_name": "DescriptionStyleModel",
          "model_module_version": "1.5.0",
          "state": {
            "_model_module": "@jupyter-widgets/controls",
            "_model_module_version": "1.5.0",
            "_model_name": "DescriptionStyleModel",
            "_view_count": null,
            "_view_module": "@jupyter-widgets/base",
            "_view_module_version": "1.2.0",
            "_view_name": "StyleView",
            "description_width": ""
          }
        }
      }
    }
  },
  "nbformat": 4,
  "nbformat_minor": 0
}